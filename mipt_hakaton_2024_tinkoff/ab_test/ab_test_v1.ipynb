{
  "cells": [
    {
      "cell_type": "markdown",
      "metadata": {},
      "source": [
        "# Разработка дизайна AB теста"
      ]
    },
    {
      "cell_type": "code",
      "execution_count": 1,
      "metadata": {
        "id": "2JD8eg1vxx-g"
      },
      "outputs": [],
      "source": [
        "#  Импортируем необходимые библиотеки\n",
        "import pandas as pd\n",
        "import numpy as np\n",
        "import random\n",
        "import seaborn as sns\n",
        "import matplotlib.pyplot as plt\n",
        "\n",
        "import statsmodels.stats.power as smp\n",
        "from scipy.stats import mannwhitneyu"
      ]
    },
    {
      "cell_type": "markdown",
      "metadata": {
        "id": "eQxULIiCu2a9"
      },
      "source": [
        "## 0. Загружаем необходимые датафреймы"
      ]
    },
    {
      "cell_type": "code",
      "execution_count": null,
      "metadata": {
        "id": "QVvde1I3G7ca"
      },
      "outputs": [],
      "source": [
        "#датасет с коммуникациями\n",
        "df_emp_result = pd.read_csv('../data/src/communications.csv', sep=';')"
      ]
    },
    {
      "cell_type": "code",
      "execution_count": null,
      "metadata": {
        "colab": {
          "base_uri": "https://localhost:8080/",
          "height": 206
        },
        "id": "03DgzL_mHfmM",
        "outputId": "194b7683-d42e-4bed-d928-867b26dacd98"
      },
      "outputs": [
        {
          "data": {
            "application/vnd.google.colaboratory.intrinsic+json": {
              "type": "dataframe",
              "variable_name": "df_emp_result"
            },
            "text/html": [
              "\n",
              "  <div id=\"df-87c347b3-02aa-48df-9f96-dbb471921de8\" class=\"colab-df-container\">\n",
              "    <div>\n",
              "<style scoped>\n",
              "    .dataframe tbody tr th:only-of-type {\n",
              "        vertical-align: middle;\n",
              "    }\n",
              "\n",
              "    .dataframe tbody tr th {\n",
              "        vertical-align: top;\n",
              "    }\n",
              "\n",
              "    .dataframe thead th {\n",
              "        text-align: right;\n",
              "    }\n",
              "</style>\n",
              "<table border=\"1\" class=\"dataframe\">\n",
              "  <thead>\n",
              "    <tr style=\"text-align: right;\">\n",
              "      <th></th>\n",
              "      <th>communication_id</th>\n",
              "      <th>communication_dt</th>\n",
              "      <th>employee_id</th>\n",
              "      <th>communication_score</th>\n",
              "      <th>util_flg</th>\n",
              "    </tr>\n",
              "  </thead>\n",
              "  <tbody>\n",
              "    <tr>\n",
              "      <th>0</th>\n",
              "      <td>177074281189583840</td>\n",
              "      <td>2023-02-07 00:00:00</td>\n",
              "      <td>269d837a-fada-308d-d4ae-ab28ca2d57e4</td>\n",
              "      <td>85</td>\n",
              "      <td>0</td>\n",
              "    </tr>\n",
              "    <tr>\n",
              "      <th>1</th>\n",
              "      <td>189925315406757324</td>\n",
              "      <td>2023-07-29 00:00:00</td>\n",
              "      <td>e6384711-4917-13d2-9bc6-3fc5eeb5ba4f</td>\n",
              "      <td>100</td>\n",
              "      <td>0</td>\n",
              "    </tr>\n",
              "    <tr>\n",
              "      <th>2</th>\n",
              "      <td>321818238739717242</td>\n",
              "      <td>2023-09-06 00:00:00</td>\n",
              "      <td>ab541d87-4c7b-c19a-b776-42849e02b89f</td>\n",
              "      <td>43</td>\n",
              "      <td>1</td>\n",
              "    </tr>\n",
              "    <tr>\n",
              "      <th>3</th>\n",
              "      <td>192259329962028989</td>\n",
              "      <td>2023-06-19 00:00:00</td>\n",
              "      <td>0a0a0c8a-aa00-ade5-0f74-a3f0ca981ed7</td>\n",
              "      <td>100</td>\n",
              "      <td>1</td>\n",
              "    </tr>\n",
              "    <tr>\n",
              "      <th>4</th>\n",
              "      <td>705274671052151857</td>\n",
              "      <td>2023-08-11 00:00:00</td>\n",
              "      <td>f93882cb-d8fc-7fb7-94c1-011d63be6fb6</td>\n",
              "      <td>46</td>\n",
              "      <td>0</td>\n",
              "    </tr>\n",
              "  </tbody>\n",
              "</table>\n",
              "</div>\n",
              "    <div class=\"colab-df-buttons\">\n",
              "\n",
              "  <div class=\"colab-df-container\">\n",
              "    <button class=\"colab-df-convert\" onclick=\"convertToInteractive('df-87c347b3-02aa-48df-9f96-dbb471921de8')\"\n",
              "            title=\"Convert this dataframe to an interactive table.\"\n",
              "            style=\"display:none;\">\n",
              "\n",
              "  <svg xmlns=\"http://www.w3.org/2000/svg\" height=\"24px\" viewBox=\"0 -960 960 960\">\n",
              "    <path d=\"M120-120v-720h720v720H120Zm60-500h600v-160H180v160Zm220 220h160v-160H400v160Zm0 220h160v-160H400v160ZM180-400h160v-160H180v160Zm440 0h160v-160H620v160ZM180-180h160v-160H180v160Zm440 0h160v-160H620v160Z\"/>\n",
              "  </svg>\n",
              "    </button>\n",
              "\n",
              "  <style>\n",
              "    .colab-df-container {\n",
              "      display:flex;\n",
              "      gap: 12px;\n",
              "    }\n",
              "\n",
              "    .colab-df-convert {\n",
              "      background-color: #E8F0FE;\n",
              "      border: none;\n",
              "      border-radius: 50%;\n",
              "      cursor: pointer;\n",
              "      display: none;\n",
              "      fill: #1967D2;\n",
              "      height: 32px;\n",
              "      padding: 0 0 0 0;\n",
              "      width: 32px;\n",
              "    }\n",
              "\n",
              "    .colab-df-convert:hover {\n",
              "      background-color: #E2EBFA;\n",
              "      box-shadow: 0px 1px 2px rgba(60, 64, 67, 0.3), 0px 1px 3px 1px rgba(60, 64, 67, 0.15);\n",
              "      fill: #174EA6;\n",
              "    }\n",
              "\n",
              "    .colab-df-buttons div {\n",
              "      margin-bottom: 4px;\n",
              "    }\n",
              "\n",
              "    [theme=dark] .colab-df-convert {\n",
              "      background-color: #3B4455;\n",
              "      fill: #D2E3FC;\n",
              "    }\n",
              "\n",
              "    [theme=dark] .colab-df-convert:hover {\n",
              "      background-color: #434B5C;\n",
              "      box-shadow: 0px 1px 3px 1px rgba(0, 0, 0, 0.15);\n",
              "      filter: drop-shadow(0px 1px 2px rgba(0, 0, 0, 0.3));\n",
              "      fill: #FFFFFF;\n",
              "    }\n",
              "  </style>\n",
              "\n",
              "    <script>\n",
              "      const buttonEl =\n",
              "        document.querySelector('#df-87c347b3-02aa-48df-9f96-dbb471921de8 button.colab-df-convert');\n",
              "      buttonEl.style.display =\n",
              "        google.colab.kernel.accessAllowed ? 'block' : 'none';\n",
              "\n",
              "      async function convertToInteractive(key) {\n",
              "        const element = document.querySelector('#df-87c347b3-02aa-48df-9f96-dbb471921de8');\n",
              "        const dataTable =\n",
              "          await google.colab.kernel.invokeFunction('convertToInteractive',\n",
              "                                                    [key], {});\n",
              "        if (!dataTable) return;\n",
              "\n",
              "        const docLinkHtml = 'Like what you see? Visit the ' +\n",
              "          '<a target=\"_blank\" href=https://colab.research.google.com/notebooks/data_table.ipynb>data table notebook</a>'\n",
              "          + ' to learn more about interactive tables.';\n",
              "        element.innerHTML = '';\n",
              "        dataTable['output_type'] = 'display_data';\n",
              "        await google.colab.output.renderOutput(dataTable, element);\n",
              "        const docLink = document.createElement('div');\n",
              "        docLink.innerHTML = docLinkHtml;\n",
              "        element.appendChild(docLink);\n",
              "      }\n",
              "    </script>\n",
              "  </div>\n",
              "\n",
              "\n",
              "<div id=\"df-e90f4105-5abf-4705-8035-f5f43ae8f4d9\">\n",
              "  <button class=\"colab-df-quickchart\" onclick=\"quickchart('df-e90f4105-5abf-4705-8035-f5f43ae8f4d9')\"\n",
              "            title=\"Suggest charts\"\n",
              "            style=\"display:none;\">\n",
              "\n",
              "<svg xmlns=\"http://www.w3.org/2000/svg\" height=\"24px\"viewBox=\"0 0 24 24\"\n",
              "     width=\"24px\">\n",
              "    <g>\n",
              "        <path d=\"M19 3H5c-1.1 0-2 .9-2 2v14c0 1.1.9 2 2 2h14c1.1 0 2-.9 2-2V5c0-1.1-.9-2-2-2zM9 17H7v-7h2v7zm4 0h-2V7h2v10zm4 0h-2v-4h2v4z\"/>\n",
              "    </g>\n",
              "</svg>\n",
              "  </button>\n",
              "\n",
              "<style>\n",
              "  .colab-df-quickchart {\n",
              "      --bg-color: #E8F0FE;\n",
              "      --fill-color: #1967D2;\n",
              "      --hover-bg-color: #E2EBFA;\n",
              "      --hover-fill-color: #174EA6;\n",
              "      --disabled-fill-color: #AAA;\n",
              "      --disabled-bg-color: #DDD;\n",
              "  }\n",
              "\n",
              "  [theme=dark] .colab-df-quickchart {\n",
              "      --bg-color: #3B4455;\n",
              "      --fill-color: #D2E3FC;\n",
              "      --hover-bg-color: #434B5C;\n",
              "      --hover-fill-color: #FFFFFF;\n",
              "      --disabled-bg-color: #3B4455;\n",
              "      --disabled-fill-color: #666;\n",
              "  }\n",
              "\n",
              "  .colab-df-quickchart {\n",
              "    background-color: var(--bg-color);\n",
              "    border: none;\n",
              "    border-radius: 50%;\n",
              "    cursor: pointer;\n",
              "    display: none;\n",
              "    fill: var(--fill-color);\n",
              "    height: 32px;\n",
              "    padding: 0;\n",
              "    width: 32px;\n",
              "  }\n",
              "\n",
              "  .colab-df-quickchart:hover {\n",
              "    background-color: var(--hover-bg-color);\n",
              "    box-shadow: 0 1px 2px rgba(60, 64, 67, 0.3), 0 1px 3px 1px rgba(60, 64, 67, 0.15);\n",
              "    fill: var(--button-hover-fill-color);\n",
              "  }\n",
              "\n",
              "  .colab-df-quickchart-complete:disabled,\n",
              "  .colab-df-quickchart-complete:disabled:hover {\n",
              "    background-color: var(--disabled-bg-color);\n",
              "    fill: var(--disabled-fill-color);\n",
              "    box-shadow: none;\n",
              "  }\n",
              "\n",
              "  .colab-df-spinner {\n",
              "    border: 2px solid var(--fill-color);\n",
              "    border-color: transparent;\n",
              "    border-bottom-color: var(--fill-color);\n",
              "    animation:\n",
              "      spin 1s steps(1) infinite;\n",
              "  }\n",
              "\n",
              "  @keyframes spin {\n",
              "    0% {\n",
              "      border-color: transparent;\n",
              "      border-bottom-color: var(--fill-color);\n",
              "      border-left-color: var(--fill-color);\n",
              "    }\n",
              "    20% {\n",
              "      border-color: transparent;\n",
              "      border-left-color: var(--fill-color);\n",
              "      border-top-color: var(--fill-color);\n",
              "    }\n",
              "    30% {\n",
              "      border-color: transparent;\n",
              "      border-left-color: var(--fill-color);\n",
              "      border-top-color: var(--fill-color);\n",
              "      border-right-color: var(--fill-color);\n",
              "    }\n",
              "    40% {\n",
              "      border-color: transparent;\n",
              "      border-right-color: var(--fill-color);\n",
              "      border-top-color: var(--fill-color);\n",
              "    }\n",
              "    60% {\n",
              "      border-color: transparent;\n",
              "      border-right-color: var(--fill-color);\n",
              "    }\n",
              "    80% {\n",
              "      border-color: transparent;\n",
              "      border-right-color: var(--fill-color);\n",
              "      border-bottom-color: var(--fill-color);\n",
              "    }\n",
              "    90% {\n",
              "      border-color: transparent;\n",
              "      border-bottom-color: var(--fill-color);\n",
              "    }\n",
              "  }\n",
              "</style>\n",
              "\n",
              "  <script>\n",
              "    async function quickchart(key) {\n",
              "      const quickchartButtonEl =\n",
              "        document.querySelector('#' + key + ' button');\n",
              "      quickchartButtonEl.disabled = true;  // To prevent multiple clicks.\n",
              "      quickchartButtonEl.classList.add('colab-df-spinner');\n",
              "      try {\n",
              "        const charts = await google.colab.kernel.invokeFunction(\n",
              "            'suggestCharts', [key], {});\n",
              "      } catch (error) {\n",
              "        console.error('Error during call to suggestCharts:', error);\n",
              "      }\n",
              "      quickchartButtonEl.classList.remove('colab-df-spinner');\n",
              "      quickchartButtonEl.classList.add('colab-df-quickchart-complete');\n",
              "    }\n",
              "    (() => {\n",
              "      let quickchartButtonEl =\n",
              "        document.querySelector('#df-e90f4105-5abf-4705-8035-f5f43ae8f4d9 button');\n",
              "      quickchartButtonEl.style.display =\n",
              "        google.colab.kernel.accessAllowed ? 'block' : 'none';\n",
              "    })();\n",
              "  </script>\n",
              "</div>\n",
              "    </div>\n",
              "  </div>\n"
            ],
            "text/plain": [
              "     communication_id     communication_dt  \\\n",
              "0  177074281189583840  2023-02-07 00:00:00   \n",
              "1  189925315406757324  2023-07-29 00:00:00   \n",
              "2  321818238739717242  2023-09-06 00:00:00   \n",
              "3  192259329962028989  2023-06-19 00:00:00   \n",
              "4  705274671052151857  2023-08-11 00:00:00   \n",
              "\n",
              "                            employee_id  communication_score  util_flg  \n",
              "0  269d837a-fada-308d-d4ae-ab28ca2d57e4                   85         0  \n",
              "1  e6384711-4917-13d2-9bc6-3fc5eeb5ba4f                  100         0  \n",
              "2  ab541d87-4c7b-c19a-b776-42849e02b89f                   43         1  \n",
              "3  0a0a0c8a-aa00-ade5-0f74-a3f0ca981ed7                  100         1  \n",
              "4  f93882cb-d8fc-7fb7-94c1-011d63be6fb6                   46         0  "
            ]
          },
          "execution_count": 29,
          "metadata": {},
          "output_type": "execute_result"
        }
      ],
      "source": [
        "df_emp_result.head()"
      ]
    },
    {
      "cell_type": "code",
      "execution_count": null,
      "metadata": {
        "id": "aJhaesCgH4KQ"
      },
      "outputs": [],
      "source": [
        "#преобразуем столбец с датой\n",
        "df_emp_result['communication_dt'] = pd.to_datetime(df_emp_result['communication_dt'])"
      ]
    },
    {
      "cell_type": "code",
      "execution_count": null,
      "metadata": {
        "colab": {
          "base_uri": "https://localhost:8080/",
          "height": 455
        },
        "id": "f0PQ8VAeIQvc",
        "outputId": "9b24632f-4f4c-45b8-a080-1b6ed18bcfd4"
      },
      "outputs": [
        {
          "data": {
            "application/vnd.google.colaboratory.intrinsic+json": {
              "summary": "{\n  \"name\": \"df_emp_mean_result\",\n  \"rows\": 2381,\n  \"fields\": [\n    {\n      \"column\": \"employee_id\",\n      \"properties\": {\n        \"dtype\": \"string\",\n        \"num_unique_values\": 2381,\n        \"samples\": [\n          \"98d6f58a-b0da-fbb8-6b08-3a001561bb34\",\n          \"7437d136-770f-5b35-194c-b46c1653efaa\",\n          \"95151403-b0db-4f75-bfd8-da0b393af853\"\n        ],\n        \"semantic_type\": \"\",\n        \"description\": \"\"\n      }\n    },\n    {\n      \"column\": \"communication_score\",\n      \"properties\": {\n        \"dtype\": \"number\",\n        \"std\": 1.6963911793599407,\n        \"min\": 54.53803245436105,\n        \"max\": 66.9763481551561,\n        \"num_unique_values\": 2380,\n        \"samples\": [\n          56.5131914893617,\n          57.18244680851064,\n          58.627364716234055\n        ],\n        \"semantic_type\": \"\",\n        \"description\": \"\"\n      }\n    },\n    {\n      \"column\": \"util_flg\",\n      \"properties\": {\n        \"dtype\": \"number\",\n        \"std\": 0.017592327580844922,\n        \"min\": 0.6802519451648759,\n        \"max\": 0.8055678303137428,\n        \"num_unique_values\": 2342,\n        \"samples\": [\n          0.7779783393501805,\n          0.7401380670611439,\n          0.7526926263463132\n        ],\n        \"semantic_type\": \"\",\n        \"description\": \"\"\n      }\n    }\n  ]\n}",
              "type": "dataframe",
              "variable_name": "df_emp_mean_result"
            },
            "text/html": [
              "\n",
              "  <div id=\"df-f272c3da-b833-418a-b9a5-622f61b4a026\" class=\"colab-df-container\">\n",
              "    <div>\n",
              "<style scoped>\n",
              "    .dataframe tbody tr th:only-of-type {\n",
              "        vertical-align: middle;\n",
              "    }\n",
              "\n",
              "    .dataframe tbody tr th {\n",
              "        vertical-align: top;\n",
              "    }\n",
              "\n",
              "    .dataframe thead th {\n",
              "        text-align: right;\n",
              "    }\n",
              "</style>\n",
              "<table border=\"1\" class=\"dataframe\">\n",
              "  <thead>\n",
              "    <tr style=\"text-align: right;\">\n",
              "      <th></th>\n",
              "      <th>communication_score</th>\n",
              "      <th>util_flg</th>\n",
              "    </tr>\n",
              "    <tr>\n",
              "      <th>employee_id</th>\n",
              "      <th></th>\n",
              "      <th></th>\n",
              "    </tr>\n",
              "  </thead>\n",
              "  <tbody>\n",
              "    <tr>\n",
              "      <th>0004d0b5-9e19-461f-f126-e3a08a814c33</th>\n",
              "      <td>57.144464</td>\n",
              "      <td>0.746972</td>\n",
              "    </tr>\n",
              "    <tr>\n",
              "      <th>00411460-f7c9-2d21-24a6-7ea0f4cb5f85</th>\n",
              "      <td>57.152452</td>\n",
              "      <td>0.766525</td>\n",
              "    </tr>\n",
              "    <tr>\n",
              "      <th>006f52e9-102a-8d3b-e2fe-5614f42ba989</th>\n",
              "      <td>61.333500</td>\n",
              "      <td>0.763355</td>\n",
              "    </tr>\n",
              "    <tr>\n",
              "      <th>0070d23b-06b1-486a-538c-0eaa45dd167a</th>\n",
              "      <td>58.648239</td>\n",
              "      <td>0.758395</td>\n",
              "    </tr>\n",
              "    <tr>\n",
              "      <th>008bd5ad-93b7-54d5-0033-8c253d9c1770</th>\n",
              "      <td>56.645145</td>\n",
              "      <td>0.752252</td>\n",
              "    </tr>\n",
              "    <tr>\n",
              "      <th>...</th>\n",
              "      <td>...</td>\n",
              "      <td>...</td>\n",
              "    </tr>\n",
              "    <tr>\n",
              "      <th>fface838-5abb-f94b-4593-a0ed53a0c70f</th>\n",
              "      <td>58.311325</td>\n",
              "      <td>0.768909</td>\n",
              "    </tr>\n",
              "    <tr>\n",
              "      <th>ffd52f3c-7e12-435a-724a-8f30fddadd9c</th>\n",
              "      <td>57.732249</td>\n",
              "      <td>0.757890</td>\n",
              "    </tr>\n",
              "    <tr>\n",
              "      <th>ffeabd22-3de0-d4ea-cb9a-3e6e53e5448d</th>\n",
              "      <td>58.547652</td>\n",
              "      <td>0.712722</td>\n",
              "    </tr>\n",
              "    <tr>\n",
              "      <th>ffedf5be-3a86-e2ee-281d-54cdc97bc1cf</th>\n",
              "      <td>58.046512</td>\n",
              "      <td>0.761529</td>\n",
              "    </tr>\n",
              "    <tr>\n",
              "      <th>ffeed84c-7cb1-ae7b-f4ec-4bd78275bb98</th>\n",
              "      <td>61.766350</td>\n",
              "      <td>0.768347</td>\n",
              "    </tr>\n",
              "  </tbody>\n",
              "</table>\n",
              "<p>2381 rows × 2 columns</p>\n",
              "</div>\n",
              "    <div class=\"colab-df-buttons\">\n",
              "\n",
              "  <div class=\"colab-df-container\">\n",
              "    <button class=\"colab-df-convert\" onclick=\"convertToInteractive('df-f272c3da-b833-418a-b9a5-622f61b4a026')\"\n",
              "            title=\"Convert this dataframe to an interactive table.\"\n",
              "            style=\"display:none;\">\n",
              "\n",
              "  <svg xmlns=\"http://www.w3.org/2000/svg\" height=\"24px\" viewBox=\"0 -960 960 960\">\n",
              "    <path d=\"M120-120v-720h720v720H120Zm60-500h600v-160H180v160Zm220 220h160v-160H400v160Zm0 220h160v-160H400v160ZM180-400h160v-160H180v160Zm440 0h160v-160H620v160ZM180-180h160v-160H180v160Zm440 0h160v-160H620v160Z\"/>\n",
              "  </svg>\n",
              "    </button>\n",
              "\n",
              "  <style>\n",
              "    .colab-df-container {\n",
              "      display:flex;\n",
              "      gap: 12px;\n",
              "    }\n",
              "\n",
              "    .colab-df-convert {\n",
              "      background-color: #E8F0FE;\n",
              "      border: none;\n",
              "      border-radius: 50%;\n",
              "      cursor: pointer;\n",
              "      display: none;\n",
              "      fill: #1967D2;\n",
              "      height: 32px;\n",
              "      padding: 0 0 0 0;\n",
              "      width: 32px;\n",
              "    }\n",
              "\n",
              "    .colab-df-convert:hover {\n",
              "      background-color: #E2EBFA;\n",
              "      box-shadow: 0px 1px 2px rgba(60, 64, 67, 0.3), 0px 1px 3px 1px rgba(60, 64, 67, 0.15);\n",
              "      fill: #174EA6;\n",
              "    }\n",
              "\n",
              "    .colab-df-buttons div {\n",
              "      margin-bottom: 4px;\n",
              "    }\n",
              "\n",
              "    [theme=dark] .colab-df-convert {\n",
              "      background-color: #3B4455;\n",
              "      fill: #D2E3FC;\n",
              "    }\n",
              "\n",
              "    [theme=dark] .colab-df-convert:hover {\n",
              "      background-color: #434B5C;\n",
              "      box-shadow: 0px 1px 3px 1px rgba(0, 0, 0, 0.15);\n",
              "      filter: drop-shadow(0px 1px 2px rgba(0, 0, 0, 0.3));\n",
              "      fill: #FFFFFF;\n",
              "    }\n",
              "  </style>\n",
              "\n",
              "    <script>\n",
              "      const buttonEl =\n",
              "        document.querySelector('#df-f272c3da-b833-418a-b9a5-622f61b4a026 button.colab-df-convert');\n",
              "      buttonEl.style.display =\n",
              "        google.colab.kernel.accessAllowed ? 'block' : 'none';\n",
              "\n",
              "      async function convertToInteractive(key) {\n",
              "        const element = document.querySelector('#df-f272c3da-b833-418a-b9a5-622f61b4a026');\n",
              "        const dataTable =\n",
              "          await google.colab.kernel.invokeFunction('convertToInteractive',\n",
              "                                                    [key], {});\n",
              "        if (!dataTable) return;\n",
              "\n",
              "        const docLinkHtml = 'Like what you see? Visit the ' +\n",
              "          '<a target=\"_blank\" href=https://colab.research.google.com/notebooks/data_table.ipynb>data table notebook</a>'\n",
              "          + ' to learn more about interactive tables.';\n",
              "        element.innerHTML = '';\n",
              "        dataTable['output_type'] = 'display_data';\n",
              "        await google.colab.output.renderOutput(dataTable, element);\n",
              "        const docLink = document.createElement('div');\n",
              "        docLink.innerHTML = docLinkHtml;\n",
              "        element.appendChild(docLink);\n",
              "      }\n",
              "    </script>\n",
              "  </div>\n",
              "\n",
              "\n",
              "<div id=\"df-a85d7738-efc2-40ae-898d-766af063c6a1\">\n",
              "  <button class=\"colab-df-quickchart\" onclick=\"quickchart('df-a85d7738-efc2-40ae-898d-766af063c6a1')\"\n",
              "            title=\"Suggest charts\"\n",
              "            style=\"display:none;\">\n",
              "\n",
              "<svg xmlns=\"http://www.w3.org/2000/svg\" height=\"24px\"viewBox=\"0 0 24 24\"\n",
              "     width=\"24px\">\n",
              "    <g>\n",
              "        <path d=\"M19 3H5c-1.1 0-2 .9-2 2v14c0 1.1.9 2 2 2h14c1.1 0 2-.9 2-2V5c0-1.1-.9-2-2-2zM9 17H7v-7h2v7zm4 0h-2V7h2v10zm4 0h-2v-4h2v4z\"/>\n",
              "    </g>\n",
              "</svg>\n",
              "  </button>\n",
              "\n",
              "<style>\n",
              "  .colab-df-quickchart {\n",
              "      --bg-color: #E8F0FE;\n",
              "      --fill-color: #1967D2;\n",
              "      --hover-bg-color: #E2EBFA;\n",
              "      --hover-fill-color: #174EA6;\n",
              "      --disabled-fill-color: #AAA;\n",
              "      --disabled-bg-color: #DDD;\n",
              "  }\n",
              "\n",
              "  [theme=dark] .colab-df-quickchart {\n",
              "      --bg-color: #3B4455;\n",
              "      --fill-color: #D2E3FC;\n",
              "      --hover-bg-color: #434B5C;\n",
              "      --hover-fill-color: #FFFFFF;\n",
              "      --disabled-bg-color: #3B4455;\n",
              "      --disabled-fill-color: #666;\n",
              "  }\n",
              "\n",
              "  .colab-df-quickchart {\n",
              "    background-color: var(--bg-color);\n",
              "    border: none;\n",
              "    border-radius: 50%;\n",
              "    cursor: pointer;\n",
              "    display: none;\n",
              "    fill: var(--fill-color);\n",
              "    height: 32px;\n",
              "    padding: 0;\n",
              "    width: 32px;\n",
              "  }\n",
              "\n",
              "  .colab-df-quickchart:hover {\n",
              "    background-color: var(--hover-bg-color);\n",
              "    box-shadow: 0 1px 2px rgba(60, 64, 67, 0.3), 0 1px 3px 1px rgba(60, 64, 67, 0.15);\n",
              "    fill: var(--button-hover-fill-color);\n",
              "  }\n",
              "\n",
              "  .colab-df-quickchart-complete:disabled,\n",
              "  .colab-df-quickchart-complete:disabled:hover {\n",
              "    background-color: var(--disabled-bg-color);\n",
              "    fill: var(--disabled-fill-color);\n",
              "    box-shadow: none;\n",
              "  }\n",
              "\n",
              "  .colab-df-spinner {\n",
              "    border: 2px solid var(--fill-color);\n",
              "    border-color: transparent;\n",
              "    border-bottom-color: var(--fill-color);\n",
              "    animation:\n",
              "      spin 1s steps(1) infinite;\n",
              "  }\n",
              "\n",
              "  @keyframes spin {\n",
              "    0% {\n",
              "      border-color: transparent;\n",
              "      border-bottom-color: var(--fill-color);\n",
              "      border-left-color: var(--fill-color);\n",
              "    }\n",
              "    20% {\n",
              "      border-color: transparent;\n",
              "      border-left-color: var(--fill-color);\n",
              "      border-top-color: var(--fill-color);\n",
              "    }\n",
              "    30% {\n",
              "      border-color: transparent;\n",
              "      border-left-color: var(--fill-color);\n",
              "      border-top-color: var(--fill-color);\n",
              "      border-right-color: var(--fill-color);\n",
              "    }\n",
              "    40% {\n",
              "      border-color: transparent;\n",
              "      border-right-color: var(--fill-color);\n",
              "      border-top-color: var(--fill-color);\n",
              "    }\n",
              "    60% {\n",
              "      border-color: transparent;\n",
              "      border-right-color: var(--fill-color);\n",
              "    }\n",
              "    80% {\n",
              "      border-color: transparent;\n",
              "      border-right-color: var(--fill-color);\n",
              "      border-bottom-color: var(--fill-color);\n",
              "    }\n",
              "    90% {\n",
              "      border-color: transparent;\n",
              "      border-bottom-color: var(--fill-color);\n",
              "    }\n",
              "  }\n",
              "</style>\n",
              "\n",
              "  <script>\n",
              "    async function quickchart(key) {\n",
              "      const quickchartButtonEl =\n",
              "        document.querySelector('#' + key + ' button');\n",
              "      quickchartButtonEl.disabled = true;  // To prevent multiple clicks.\n",
              "      quickchartButtonEl.classList.add('colab-df-spinner');\n",
              "      try {\n",
              "        const charts = await google.colab.kernel.invokeFunction(\n",
              "            'suggestCharts', [key], {});\n",
              "      } catch (error) {\n",
              "        console.error('Error during call to suggestCharts:', error);\n",
              "      }\n",
              "      quickchartButtonEl.classList.remove('colab-df-spinner');\n",
              "      quickchartButtonEl.classList.add('colab-df-quickchart-complete');\n",
              "    }\n",
              "    (() => {\n",
              "      let quickchartButtonEl =\n",
              "        document.querySelector('#df-a85d7738-efc2-40ae-898d-766af063c6a1 button');\n",
              "      quickchartButtonEl.style.display =\n",
              "        google.colab.kernel.accessAllowed ? 'block' : 'none';\n",
              "    })();\n",
              "  </script>\n",
              "</div>\n",
              "    </div>\n",
              "  </div>\n"
            ],
            "text/plain": [
              "                                      communication_score  util_flg\n",
              "employee_id                                                        \n",
              "0004d0b5-9e19-461f-f126-e3a08a814c33            57.144464  0.746972\n",
              "00411460-f7c9-2d21-24a6-7ea0f4cb5f85            57.152452  0.766525\n",
              "006f52e9-102a-8d3b-e2fe-5614f42ba989            61.333500  0.763355\n",
              "0070d23b-06b1-486a-538c-0eaa45dd167a            58.648239  0.758395\n",
              "008bd5ad-93b7-54d5-0033-8c253d9c1770            56.645145  0.752252\n",
              "...                                                   ...       ...\n",
              "fface838-5abb-f94b-4593-a0ed53a0c70f            58.311325  0.768909\n",
              "ffd52f3c-7e12-435a-724a-8f30fddadd9c            57.732249  0.757890\n",
              "ffeabd22-3de0-d4ea-cb9a-3e6e53e5448d            58.547652  0.712722\n",
              "ffedf5be-3a86-e2ee-281d-54cdc97bc1cf            58.046512  0.761529\n",
              "ffeed84c-7cb1-ae7b-f4ec-4bd78275bb98            61.766350  0.768347\n",
              "\n",
              "[2381 rows x 2 columns]"
            ]
          },
          "execution_count": 31,
          "metadata": {},
          "output_type": "execute_result"
        }
      ],
      "source": [
        "#получим средний показатель каждого сотрудника по уровню коммуникаций и конверсии\n",
        "df_emp_mean_result = df_emp_result.groupby('employee_id')[['communication_score', 'util_flg']].mean()\n",
        "df_emp_mean_result"
      ]
    },
    {
      "cell_type": "code",
      "execution_count": null,
      "metadata": {
        "colab": {
          "base_uri": "https://localhost:8080/"
        },
        "id": "cKk1P3VHRnQG",
        "outputId": "c87bda5b-821c-4db1-f167-5b78dcf287e0"
      },
      "outputs": [
        {
          "data": {
            "text/plain": [
              "10"
            ]
          },
          "execution_count": 32,
          "metadata": {},
          "output_type": "execute_result"
        }
      ],
      "source": [
        "#получим количество наблюдений для каждого сотрудика\n",
        "df_emp_count_per_day_result = df_emp_result.groupby(['employee_id', 'communication_dt'])[['communication_score', 'util_flg']].count()\n",
        "#среднее число коммуникаций сотрудника за день\n",
        "nobs_per_emp = round(df_emp_count_per_day_result['communication_score'].mean())\n",
        "nobs_per_emp"
      ]
    },
    {
      "cell_type": "code",
      "execution_count": null,
      "metadata": {
        "colab": {
          "base_uri": "https://localhost:8080/",
          "height": 238
        },
        "id": "ueOppNTmInRG",
        "outputId": "dd75f406-2eb0-4e23-cee7-48f51c7b997f"
      },
      "outputs": [
        {
          "data": {
            "application/vnd.google.colaboratory.intrinsic+json": {
              "summary": "{\n  \"name\": \"df_emp_mean_result\",\n  \"rows\": 2381,\n  \"fields\": [\n    {\n      \"column\": \"employee_id\",\n      \"properties\": {\n        \"dtype\": \"string\",\n        \"num_unique_values\": 2381,\n        \"samples\": [\n          \"98d6f58a-b0da-fbb8-6b08-3a001561bb34\",\n          \"7437d136-770f-5b35-194c-b46c1653efaa\",\n          \"95151403-b0db-4f75-bfd8-da0b393af853\"\n        ],\n        \"semantic_type\": \"\",\n        \"description\": \"\"\n      }\n    },\n    {\n      \"column\": \"communication_score\",\n      \"properties\": {\n        \"dtype\": \"number\",\n        \"std\": 1.6963911793599407,\n        \"min\": 54.53803245436105,\n        \"max\": 66.9763481551561,\n        \"num_unique_values\": 2380,\n        \"samples\": [\n          56.5131914893617,\n          57.18244680851064,\n          58.627364716234055\n        ],\n        \"semantic_type\": \"\",\n        \"description\": \"\"\n      }\n    },\n    {\n      \"column\": \"util_flg\",\n      \"properties\": {\n        \"dtype\": \"number\",\n        \"std\": 0.017592327580844922,\n        \"min\": 0.6802519451648759,\n        \"max\": 0.8055678303137428,\n        \"num_unique_values\": 2342,\n        \"samples\": [\n          0.7779783393501805,\n          0.7401380670611439,\n          0.7526926263463132\n        ],\n        \"semantic_type\": \"\",\n        \"description\": \"\"\n      }\n    }\n  ]\n}",
              "type": "dataframe",
              "variable_name": "df_emp_mean_result"
            },
            "text/html": [
              "\n",
              "  <div id=\"df-4743b0d1-158c-450a-8522-c6a14cf0a03a\" class=\"colab-df-container\">\n",
              "    <div>\n",
              "<style scoped>\n",
              "    .dataframe tbody tr th:only-of-type {\n",
              "        vertical-align: middle;\n",
              "    }\n",
              "\n",
              "    .dataframe tbody tr th {\n",
              "        vertical-align: top;\n",
              "    }\n",
              "\n",
              "    .dataframe thead th {\n",
              "        text-align: right;\n",
              "    }\n",
              "</style>\n",
              "<table border=\"1\" class=\"dataframe\">\n",
              "  <thead>\n",
              "    <tr style=\"text-align: right;\">\n",
              "      <th></th>\n",
              "      <th>communication_score</th>\n",
              "      <th>util_flg</th>\n",
              "    </tr>\n",
              "    <tr>\n",
              "      <th>employee_id</th>\n",
              "      <th></th>\n",
              "      <th></th>\n",
              "    </tr>\n",
              "  </thead>\n",
              "  <tbody>\n",
              "    <tr>\n",
              "      <th>0004d0b5-9e19-461f-f126-e3a08a814c33</th>\n",
              "      <td>57.144464</td>\n",
              "      <td>0.746972</td>\n",
              "    </tr>\n",
              "    <tr>\n",
              "      <th>00411460-f7c9-2d21-24a6-7ea0f4cb5f85</th>\n",
              "      <td>57.152452</td>\n",
              "      <td>0.766525</td>\n",
              "    </tr>\n",
              "    <tr>\n",
              "      <th>006f52e9-102a-8d3b-e2fe-5614f42ba989</th>\n",
              "      <td>61.333500</td>\n",
              "      <td>0.763355</td>\n",
              "    </tr>\n",
              "    <tr>\n",
              "      <th>0070d23b-06b1-486a-538c-0eaa45dd167a</th>\n",
              "      <td>58.648239</td>\n",
              "      <td>0.758395</td>\n",
              "    </tr>\n",
              "    <tr>\n",
              "      <th>008bd5ad-93b7-54d5-0033-8c253d9c1770</th>\n",
              "      <td>56.645145</td>\n",
              "      <td>0.752252</td>\n",
              "    </tr>\n",
              "  </tbody>\n",
              "</table>\n",
              "</div>\n",
              "    <div class=\"colab-df-buttons\">\n",
              "\n",
              "  <div class=\"colab-df-container\">\n",
              "    <button class=\"colab-df-convert\" onclick=\"convertToInteractive('df-4743b0d1-158c-450a-8522-c6a14cf0a03a')\"\n",
              "            title=\"Convert this dataframe to an interactive table.\"\n",
              "            style=\"display:none;\">\n",
              "\n",
              "  <svg xmlns=\"http://www.w3.org/2000/svg\" height=\"24px\" viewBox=\"0 -960 960 960\">\n",
              "    <path d=\"M120-120v-720h720v720H120Zm60-500h600v-160H180v160Zm220 220h160v-160H400v160Zm0 220h160v-160H400v160ZM180-400h160v-160H180v160Zm440 0h160v-160H620v160ZM180-180h160v-160H180v160Zm440 0h160v-160H620v160Z\"/>\n",
              "  </svg>\n",
              "    </button>\n",
              "\n",
              "  <style>\n",
              "    .colab-df-container {\n",
              "      display:flex;\n",
              "      gap: 12px;\n",
              "    }\n",
              "\n",
              "    .colab-df-convert {\n",
              "      background-color: #E8F0FE;\n",
              "      border: none;\n",
              "      border-radius: 50%;\n",
              "      cursor: pointer;\n",
              "      display: none;\n",
              "      fill: #1967D2;\n",
              "      height: 32px;\n",
              "      padding: 0 0 0 0;\n",
              "      width: 32px;\n",
              "    }\n",
              "\n",
              "    .colab-df-convert:hover {\n",
              "      background-color: #E2EBFA;\n",
              "      box-shadow: 0px 1px 2px rgba(60, 64, 67, 0.3), 0px 1px 3px 1px rgba(60, 64, 67, 0.15);\n",
              "      fill: #174EA6;\n",
              "    }\n",
              "\n",
              "    .colab-df-buttons div {\n",
              "      margin-bottom: 4px;\n",
              "    }\n",
              "\n",
              "    [theme=dark] .colab-df-convert {\n",
              "      background-color: #3B4455;\n",
              "      fill: #D2E3FC;\n",
              "    }\n",
              "\n",
              "    [theme=dark] .colab-df-convert:hover {\n",
              "      background-color: #434B5C;\n",
              "      box-shadow: 0px 1px 3px 1px rgba(0, 0, 0, 0.15);\n",
              "      filter: drop-shadow(0px 1px 2px rgba(0, 0, 0, 0.3));\n",
              "      fill: #FFFFFF;\n",
              "    }\n",
              "  </style>\n",
              "\n",
              "    <script>\n",
              "      const buttonEl =\n",
              "        document.querySelector('#df-4743b0d1-158c-450a-8522-c6a14cf0a03a button.colab-df-convert');\n",
              "      buttonEl.style.display =\n",
              "        google.colab.kernel.accessAllowed ? 'block' : 'none';\n",
              "\n",
              "      async function convertToInteractive(key) {\n",
              "        const element = document.querySelector('#df-4743b0d1-158c-450a-8522-c6a14cf0a03a');\n",
              "        const dataTable =\n",
              "          await google.colab.kernel.invokeFunction('convertToInteractive',\n",
              "                                                    [key], {});\n",
              "        if (!dataTable) return;\n",
              "\n",
              "        const docLinkHtml = 'Like what you see? Visit the ' +\n",
              "          '<a target=\"_blank\" href=https://colab.research.google.com/notebooks/data_table.ipynb>data table notebook</a>'\n",
              "          + ' to learn more about interactive tables.';\n",
              "        element.innerHTML = '';\n",
              "        dataTable['output_type'] = 'display_data';\n",
              "        await google.colab.output.renderOutput(dataTable, element);\n",
              "        const docLink = document.createElement('div');\n",
              "        docLink.innerHTML = docLinkHtml;\n",
              "        element.appendChild(docLink);\n",
              "      }\n",
              "    </script>\n",
              "  </div>\n",
              "\n",
              "\n",
              "<div id=\"df-525cf6bb-e748-41cc-9f26-1bcdc1fc4102\">\n",
              "  <button class=\"colab-df-quickchart\" onclick=\"quickchart('df-525cf6bb-e748-41cc-9f26-1bcdc1fc4102')\"\n",
              "            title=\"Suggest charts\"\n",
              "            style=\"display:none;\">\n",
              "\n",
              "<svg xmlns=\"http://www.w3.org/2000/svg\" height=\"24px\"viewBox=\"0 0 24 24\"\n",
              "     width=\"24px\">\n",
              "    <g>\n",
              "        <path d=\"M19 3H5c-1.1 0-2 .9-2 2v14c0 1.1.9 2 2 2h14c1.1 0 2-.9 2-2V5c0-1.1-.9-2-2-2zM9 17H7v-7h2v7zm4 0h-2V7h2v10zm4 0h-2v-4h2v4z\"/>\n",
              "    </g>\n",
              "</svg>\n",
              "  </button>\n",
              "\n",
              "<style>\n",
              "  .colab-df-quickchart {\n",
              "      --bg-color: #E8F0FE;\n",
              "      --fill-color: #1967D2;\n",
              "      --hover-bg-color: #E2EBFA;\n",
              "      --hover-fill-color: #174EA6;\n",
              "      --disabled-fill-color: #AAA;\n",
              "      --disabled-bg-color: #DDD;\n",
              "  }\n",
              "\n",
              "  [theme=dark] .colab-df-quickchart {\n",
              "      --bg-color: #3B4455;\n",
              "      --fill-color: #D2E3FC;\n",
              "      --hover-bg-color: #434B5C;\n",
              "      --hover-fill-color: #FFFFFF;\n",
              "      --disabled-bg-color: #3B4455;\n",
              "      --disabled-fill-color: #666;\n",
              "  }\n",
              "\n",
              "  .colab-df-quickchart {\n",
              "    background-color: var(--bg-color);\n",
              "    border: none;\n",
              "    border-radius: 50%;\n",
              "    cursor: pointer;\n",
              "    display: none;\n",
              "    fill: var(--fill-color);\n",
              "    height: 32px;\n",
              "    padding: 0;\n",
              "    width: 32px;\n",
              "  }\n",
              "\n",
              "  .colab-df-quickchart:hover {\n",
              "    background-color: var(--hover-bg-color);\n",
              "    box-shadow: 0 1px 2px rgba(60, 64, 67, 0.3), 0 1px 3px 1px rgba(60, 64, 67, 0.15);\n",
              "    fill: var(--button-hover-fill-color);\n",
              "  }\n",
              "\n",
              "  .colab-df-quickchart-complete:disabled,\n",
              "  .colab-df-quickchart-complete:disabled:hover {\n",
              "    background-color: var(--disabled-bg-color);\n",
              "    fill: var(--disabled-fill-color);\n",
              "    box-shadow: none;\n",
              "  }\n",
              "\n",
              "  .colab-df-spinner {\n",
              "    border: 2px solid var(--fill-color);\n",
              "    border-color: transparent;\n",
              "    border-bottom-color: var(--fill-color);\n",
              "    animation:\n",
              "      spin 1s steps(1) infinite;\n",
              "  }\n",
              "\n",
              "  @keyframes spin {\n",
              "    0% {\n",
              "      border-color: transparent;\n",
              "      border-bottom-color: var(--fill-color);\n",
              "      border-left-color: var(--fill-color);\n",
              "    }\n",
              "    20% {\n",
              "      border-color: transparent;\n",
              "      border-left-color: var(--fill-color);\n",
              "      border-top-color: var(--fill-color);\n",
              "    }\n",
              "    30% {\n",
              "      border-color: transparent;\n",
              "      border-left-color: var(--fill-color);\n",
              "      border-top-color: var(--fill-color);\n",
              "      border-right-color: var(--fill-color);\n",
              "    }\n",
              "    40% {\n",
              "      border-color: transparent;\n",
              "      border-right-color: var(--fill-color);\n",
              "      border-top-color: var(--fill-color);\n",
              "    }\n",
              "    60% {\n",
              "      border-color: transparent;\n",
              "      border-right-color: var(--fill-color);\n",
              "    }\n",
              "    80% {\n",
              "      border-color: transparent;\n",
              "      border-right-color: var(--fill-color);\n",
              "      border-bottom-color: var(--fill-color);\n",
              "    }\n",
              "    90% {\n",
              "      border-color: transparent;\n",
              "      border-bottom-color: var(--fill-color);\n",
              "    }\n",
              "  }\n",
              "</style>\n",
              "\n",
              "  <script>\n",
              "    async function quickchart(key) {\n",
              "      const quickchartButtonEl =\n",
              "        document.querySelector('#' + key + ' button');\n",
              "      quickchartButtonEl.disabled = true;  // To prevent multiple clicks.\n",
              "      quickchartButtonEl.classList.add('colab-df-spinner');\n",
              "      try {\n",
              "        const charts = await google.colab.kernel.invokeFunction(\n",
              "            'suggestCharts', [key], {});\n",
              "      } catch (error) {\n",
              "        console.error('Error during call to suggestCharts:', error);\n",
              "      }\n",
              "      quickchartButtonEl.classList.remove('colab-df-spinner');\n",
              "      quickchartButtonEl.classList.add('colab-df-quickchart-complete');\n",
              "    }\n",
              "    (() => {\n",
              "      let quickchartButtonEl =\n",
              "        document.querySelector('#df-525cf6bb-e748-41cc-9f26-1bcdc1fc4102 button');\n",
              "      quickchartButtonEl.style.display =\n",
              "        google.colab.kernel.accessAllowed ? 'block' : 'none';\n",
              "    })();\n",
              "  </script>\n",
              "</div>\n",
              "    </div>\n",
              "  </div>\n"
            ],
            "text/plain": [
              "                                      communication_score  util_flg\n",
              "employee_id                                                        \n",
              "0004d0b5-9e19-461f-f126-e3a08a814c33            57.144464  0.746972\n",
              "00411460-f7c9-2d21-24a6-7ea0f4cb5f85            57.152452  0.766525\n",
              "006f52e9-102a-8d3b-e2fe-5614f42ba989            61.333500  0.763355\n",
              "0070d23b-06b1-486a-538c-0eaa45dd167a            58.648239  0.758395\n",
              "008bd5ad-93b7-54d5-0033-8c253d9c1770            56.645145  0.752252"
            ]
          },
          "execution_count": 33,
          "metadata": {},
          "output_type": "execute_result"
        }
      ],
      "source": [
        "#средние показатели сотрудников за все время наблюдений\n",
        "df_emp_mean_result.head()"
      ]
    },
    {
      "cell_type": "code",
      "execution_count": null,
      "metadata": {
        "colab": {
          "base_uri": "https://localhost:8080/",
          "height": 238
        },
        "id": "EZE97o7Pyj-z",
        "outputId": "16f065b4-f473-40bc-b003-bcf8b6072089"
      },
      "outputs": [
        {
          "data": {
            "application/vnd.google.colaboratory.intrinsic+json": {
              "summary": "{\n  \"name\": \"df_empoyees\",\n  \"rows\": 2381,\n  \"fields\": [\n    {\n      \"column\": \"employee_id\",\n      \"properties\": {\n        \"dtype\": \"string\",\n        \"num_unique_values\": 2381,\n        \"samples\": [\n          \"80a8155e-b153-025e-a1d5-13d0b2c4b675\",\n          \"93279690-53c0-068d-d9e0-7c529866b94d\",\n          \"b706835d-e79a-2b4e-8050-6f582af3676a\"\n        ],\n        \"semantic_type\": \"\",\n        \"description\": \"\"\n      }\n    },\n    {\n      \"column\": \"sex\",\n      \"properties\": {\n        \"dtype\": \"category\",\n        \"num_unique_values\": 2,\n        \"samples\": [\n          \"F\",\n          \"M\"\n        ],\n        \"semantic_type\": \"\",\n        \"description\": \"\"\n      }\n    },\n    {\n      \"column\": \"region\",\n      \"properties\": {\n        \"dtype\": \"number\",\n        \"std\": 2,\n        \"min\": 0,\n        \"max\": 7,\n        \"num_unique_values\": 8,\n        \"samples\": [\n          5,\n          3\n        ],\n        \"semantic_type\": \"\",\n        \"description\": \"\"\n      }\n    },\n    {\n      \"column\": \"age\",\n      \"properties\": {\n        \"dtype\": \"number\",\n        \"std\": 6,\n        \"min\": 19,\n        \"max\": 60,\n        \"num_unique_values\": 41,\n        \"samples\": [\n          44,\n          26\n        ],\n        \"semantic_type\": \"\",\n        \"description\": \"\"\n      }\n    },\n    {\n      \"column\": \"head_employee_id\",\n      \"properties\": {\n        \"dtype\": \"category\",\n        \"num_unique_values\": 132,\n        \"samples\": [\n          \"ec895663-7a99-787b-d197-eacd77acce5e\",\n          \"b53b3a3d-6ab9-0ce0-2682-29151c9bde11\"\n        ],\n        \"semantic_type\": \"\",\n        \"description\": \"\"\n      }\n    },\n    {\n      \"column\": \"exp_days\",\n      \"properties\": {\n        \"dtype\": \"number\",\n        \"std\": 374,\n        \"min\": 0,\n        \"max\": 2424,\n        \"num_unique_values\": 1005,\n        \"samples\": [\n          529,\n          1531\n        ],\n        \"semantic_type\": \"\",\n        \"description\": \"\"\n      }\n    },\n    {\n      \"column\": \"edu_degree\",\n      \"properties\": {\n        \"dtype\": \"number\",\n        \"std\": 0,\n        \"min\": 0,\n        \"max\": 2,\n        \"num_unique_values\": 3,\n        \"samples\": [\n          0,\n          1\n        ],\n        \"semantic_type\": \"\",\n        \"description\": \"\"\n      }\n    },\n    {\n      \"column\": \"department_id\",\n      \"properties\": {\n        \"dtype\": \"number\",\n        \"std\": 0,\n        \"min\": 0,\n        \"max\": 2,\n        \"num_unique_values\": 3,\n        \"samples\": [\n          2,\n          0\n        ],\n        \"semantic_type\": \"\",\n        \"description\": \"\"\n      }\n    },\n    {\n      \"column\": \"work_online_flg\",\n      \"properties\": {\n        \"dtype\": \"number\",\n        \"std\": 0,\n        \"min\": 0,\n        \"max\": 1,\n        \"num_unique_values\": 2,\n        \"samples\": [\n          0,\n          1\n        ],\n        \"semantic_type\": \"\",\n        \"description\": \"\"\n      }\n    }\n  ]\n}",
              "type": "dataframe",
              "variable_name": "df_empoyees"
            },
            "text/html": [
              "\n",
              "  <div id=\"df-19b9cff2-193e-4727-a848-c30867e176f0\" class=\"colab-df-container\">\n",
              "    <div>\n",
              "<style scoped>\n",
              "    .dataframe tbody tr th:only-of-type {\n",
              "        vertical-align: middle;\n",
              "    }\n",
              "\n",
              "    .dataframe tbody tr th {\n",
              "        vertical-align: top;\n",
              "    }\n",
              "\n",
              "    .dataframe thead th {\n",
              "        text-align: right;\n",
              "    }\n",
              "</style>\n",
              "<table border=\"1\" class=\"dataframe\">\n",
              "  <thead>\n",
              "    <tr style=\"text-align: right;\">\n",
              "      <th></th>\n",
              "      <th>sex</th>\n",
              "      <th>region</th>\n",
              "      <th>age</th>\n",
              "      <th>head_employee_id</th>\n",
              "      <th>exp_days</th>\n",
              "      <th>edu_degree</th>\n",
              "      <th>department_id</th>\n",
              "      <th>work_online_flg</th>\n",
              "    </tr>\n",
              "    <tr>\n",
              "      <th>employee_id</th>\n",
              "      <th></th>\n",
              "      <th></th>\n",
              "      <th></th>\n",
              "      <th></th>\n",
              "      <th></th>\n",
              "      <th></th>\n",
              "      <th></th>\n",
              "      <th></th>\n",
              "    </tr>\n",
              "  </thead>\n",
              "  <tbody>\n",
              "    <tr>\n",
              "      <th>0f840be9-b8db-4d3f-bd5b-a2ce59211f55</th>\n",
              "      <td>M</td>\n",
              "      <td>4</td>\n",
              "      <td>36</td>\n",
              "      <td>c81e728d-9d4c-2f63-6f06-7f89cc14862c</td>\n",
              "      <td>734</td>\n",
              "      <td>0</td>\n",
              "      <td>2</td>\n",
              "      <td>1</td>\n",
              "    </tr>\n",
              "    <tr>\n",
              "      <th>ac1dd209-cbcc-5e5d-1c6e-28598e8cbbe8</th>\n",
              "      <td>M</td>\n",
              "      <td>4</td>\n",
              "      <td>32</td>\n",
              "      <td>93db85ed-909c-1383-8ff9-5ccfa94cebd9</td>\n",
              "      <td>654</td>\n",
              "      <td>0</td>\n",
              "      <td>2</td>\n",
              "      <td>1</td>\n",
              "    </tr>\n",
              "    <tr>\n",
              "      <th>a8c88a00-55f6-36e4-a163-a5e3d16adab7</th>\n",
              "      <td>F</td>\n",
              "      <td>5</td>\n",
              "      <td>34</td>\n",
              "      <td>9a115815-4dfa-42ca-ddbd-0694a4e9bdc8</td>\n",
              "      <td>276</td>\n",
              "      <td>1</td>\n",
              "      <td>2</td>\n",
              "      <td>1</td>\n",
              "    </tr>\n",
              "    <tr>\n",
              "      <th>c91591a8-d461-c286-9b9f-535ded3e213e</th>\n",
              "      <td>F</td>\n",
              "      <td>4</td>\n",
              "      <td>33</td>\n",
              "      <td>9f61408e-3afb-633e-50cd-f1b20de6f466</td>\n",
              "      <td>50</td>\n",
              "      <td>2</td>\n",
              "      <td>0</td>\n",
              "      <td>1</td>\n",
              "    </tr>\n",
              "    <tr>\n",
              "      <th>bc731692-9fe1-545b-f0b9-8d114ee3ecb8</th>\n",
              "      <td>M</td>\n",
              "      <td>0</td>\n",
              "      <td>33</td>\n",
              "      <td>a97da629-b098-b75c-294d-ffdc3e463904</td>\n",
              "      <td>274</td>\n",
              "      <td>1</td>\n",
              "      <td>2</td>\n",
              "      <td>1</td>\n",
              "    </tr>\n",
              "  </tbody>\n",
              "</table>\n",
              "</div>\n",
              "    <div class=\"colab-df-buttons\">\n",
              "\n",
              "  <div class=\"colab-df-container\">\n",
              "    <button class=\"colab-df-convert\" onclick=\"convertToInteractive('df-19b9cff2-193e-4727-a848-c30867e176f0')\"\n",
              "            title=\"Convert this dataframe to an interactive table.\"\n",
              "            style=\"display:none;\">\n",
              "\n",
              "  <svg xmlns=\"http://www.w3.org/2000/svg\" height=\"24px\" viewBox=\"0 -960 960 960\">\n",
              "    <path d=\"M120-120v-720h720v720H120Zm60-500h600v-160H180v160Zm220 220h160v-160H400v160Zm0 220h160v-160H400v160ZM180-400h160v-160H180v160Zm440 0h160v-160H620v160ZM180-180h160v-160H180v160Zm440 0h160v-160H620v160Z\"/>\n",
              "  </svg>\n",
              "    </button>\n",
              "\n",
              "  <style>\n",
              "    .colab-df-container {\n",
              "      display:flex;\n",
              "      gap: 12px;\n",
              "    }\n",
              "\n",
              "    .colab-df-convert {\n",
              "      background-color: #E8F0FE;\n",
              "      border: none;\n",
              "      border-radius: 50%;\n",
              "      cursor: pointer;\n",
              "      display: none;\n",
              "      fill: #1967D2;\n",
              "      height: 32px;\n",
              "      padding: 0 0 0 0;\n",
              "      width: 32px;\n",
              "    }\n",
              "\n",
              "    .colab-df-convert:hover {\n",
              "      background-color: #E2EBFA;\n",
              "      box-shadow: 0px 1px 2px rgba(60, 64, 67, 0.3), 0px 1px 3px 1px rgba(60, 64, 67, 0.15);\n",
              "      fill: #174EA6;\n",
              "    }\n",
              "\n",
              "    .colab-df-buttons div {\n",
              "      margin-bottom: 4px;\n",
              "    }\n",
              "\n",
              "    [theme=dark] .colab-df-convert {\n",
              "      background-color: #3B4455;\n",
              "      fill: #D2E3FC;\n",
              "    }\n",
              "\n",
              "    [theme=dark] .colab-df-convert:hover {\n",
              "      background-color: #434B5C;\n",
              "      box-shadow: 0px 1px 3px 1px rgba(0, 0, 0, 0.15);\n",
              "      filter: drop-shadow(0px 1px 2px rgba(0, 0, 0, 0.3));\n",
              "      fill: #FFFFFF;\n",
              "    }\n",
              "  </style>\n",
              "\n",
              "    <script>\n",
              "      const buttonEl =\n",
              "        document.querySelector('#df-19b9cff2-193e-4727-a848-c30867e176f0 button.colab-df-convert');\n",
              "      buttonEl.style.display =\n",
              "        google.colab.kernel.accessAllowed ? 'block' : 'none';\n",
              "\n",
              "      async function convertToInteractive(key) {\n",
              "        const element = document.querySelector('#df-19b9cff2-193e-4727-a848-c30867e176f0');\n",
              "        const dataTable =\n",
              "          await google.colab.kernel.invokeFunction('convertToInteractive',\n",
              "                                                    [key], {});\n",
              "        if (!dataTable) return;\n",
              "\n",
              "        const docLinkHtml = 'Like what you see? Visit the ' +\n",
              "          '<a target=\"_blank\" href=https://colab.research.google.com/notebooks/data_table.ipynb>data table notebook</a>'\n",
              "          + ' to learn more about interactive tables.';\n",
              "        element.innerHTML = '';\n",
              "        dataTable['output_type'] = 'display_data';\n",
              "        await google.colab.output.renderOutput(dataTable, element);\n",
              "        const docLink = document.createElement('div');\n",
              "        docLink.innerHTML = docLinkHtml;\n",
              "        element.appendChild(docLink);\n",
              "      }\n",
              "    </script>\n",
              "  </div>\n",
              "\n",
              "\n",
              "<div id=\"df-020005fc-c627-4c4b-aec6-900075674b6e\">\n",
              "  <button class=\"colab-df-quickchart\" onclick=\"quickchart('df-020005fc-c627-4c4b-aec6-900075674b6e')\"\n",
              "            title=\"Suggest charts\"\n",
              "            style=\"display:none;\">\n",
              "\n",
              "<svg xmlns=\"http://www.w3.org/2000/svg\" height=\"24px\"viewBox=\"0 0 24 24\"\n",
              "     width=\"24px\">\n",
              "    <g>\n",
              "        <path d=\"M19 3H5c-1.1 0-2 .9-2 2v14c0 1.1.9 2 2 2h14c1.1 0 2-.9 2-2V5c0-1.1-.9-2-2-2zM9 17H7v-7h2v7zm4 0h-2V7h2v10zm4 0h-2v-4h2v4z\"/>\n",
              "    </g>\n",
              "</svg>\n",
              "  </button>\n",
              "\n",
              "<style>\n",
              "  .colab-df-quickchart {\n",
              "      --bg-color: #E8F0FE;\n",
              "      --fill-color: #1967D2;\n",
              "      --hover-bg-color: #E2EBFA;\n",
              "      --hover-fill-color: #174EA6;\n",
              "      --disabled-fill-color: #AAA;\n",
              "      --disabled-bg-color: #DDD;\n",
              "  }\n",
              "\n",
              "  [theme=dark] .colab-df-quickchart {\n",
              "      --bg-color: #3B4455;\n",
              "      --fill-color: #D2E3FC;\n",
              "      --hover-bg-color: #434B5C;\n",
              "      --hover-fill-color: #FFFFFF;\n",
              "      --disabled-bg-color: #3B4455;\n",
              "      --disabled-fill-color: #666;\n",
              "  }\n",
              "\n",
              "  .colab-df-quickchart {\n",
              "    background-color: var(--bg-color);\n",
              "    border: none;\n",
              "    border-radius: 50%;\n",
              "    cursor: pointer;\n",
              "    display: none;\n",
              "    fill: var(--fill-color);\n",
              "    height: 32px;\n",
              "    padding: 0;\n",
              "    width: 32px;\n",
              "  }\n",
              "\n",
              "  .colab-df-quickchart:hover {\n",
              "    background-color: var(--hover-bg-color);\n",
              "    box-shadow: 0 1px 2px rgba(60, 64, 67, 0.3), 0 1px 3px 1px rgba(60, 64, 67, 0.15);\n",
              "    fill: var(--button-hover-fill-color);\n",
              "  }\n",
              "\n",
              "  .colab-df-quickchart-complete:disabled,\n",
              "  .colab-df-quickchart-complete:disabled:hover {\n",
              "    background-color: var(--disabled-bg-color);\n",
              "    fill: var(--disabled-fill-color);\n",
              "    box-shadow: none;\n",
              "  }\n",
              "\n",
              "  .colab-df-spinner {\n",
              "    border: 2px solid var(--fill-color);\n",
              "    border-color: transparent;\n",
              "    border-bottom-color: var(--fill-color);\n",
              "    animation:\n",
              "      spin 1s steps(1) infinite;\n",
              "  }\n",
              "\n",
              "  @keyframes spin {\n",
              "    0% {\n",
              "      border-color: transparent;\n",
              "      border-bottom-color: var(--fill-color);\n",
              "      border-left-color: var(--fill-color);\n",
              "    }\n",
              "    20% {\n",
              "      border-color: transparent;\n",
              "      border-left-color: var(--fill-color);\n",
              "      border-top-color: var(--fill-color);\n",
              "    }\n",
              "    30% {\n",
              "      border-color: transparent;\n",
              "      border-left-color: var(--fill-color);\n",
              "      border-top-color: var(--fill-color);\n",
              "      border-right-color: var(--fill-color);\n",
              "    }\n",
              "    40% {\n",
              "      border-color: transparent;\n",
              "      border-right-color: var(--fill-color);\n",
              "      border-top-color: var(--fill-color);\n",
              "    }\n",
              "    60% {\n",
              "      border-color: transparent;\n",
              "      border-right-color: var(--fill-color);\n",
              "    }\n",
              "    80% {\n",
              "      border-color: transparent;\n",
              "      border-right-color: var(--fill-color);\n",
              "      border-bottom-color: var(--fill-color);\n",
              "    }\n",
              "    90% {\n",
              "      border-color: transparent;\n",
              "      border-bottom-color: var(--fill-color);\n",
              "    }\n",
              "  }\n",
              "</style>\n",
              "\n",
              "  <script>\n",
              "    async function quickchart(key) {\n",
              "      const quickchartButtonEl =\n",
              "        document.querySelector('#' + key + ' button');\n",
              "      quickchartButtonEl.disabled = true;  // To prevent multiple clicks.\n",
              "      quickchartButtonEl.classList.add('colab-df-spinner');\n",
              "      try {\n",
              "        const charts = await google.colab.kernel.invokeFunction(\n",
              "            'suggestCharts', [key], {});\n",
              "      } catch (error) {\n",
              "        console.error('Error during call to suggestCharts:', error);\n",
              "      }\n",
              "      quickchartButtonEl.classList.remove('colab-df-spinner');\n",
              "      quickchartButtonEl.classList.add('colab-df-quickchart-complete');\n",
              "    }\n",
              "    (() => {\n",
              "      let quickchartButtonEl =\n",
              "        document.querySelector('#df-020005fc-c627-4c4b-aec6-900075674b6e button');\n",
              "      quickchartButtonEl.style.display =\n",
              "        google.colab.kernel.accessAllowed ? 'block' : 'none';\n",
              "    })();\n",
              "  </script>\n",
              "</div>\n",
              "    </div>\n",
              "  </div>\n"
            ],
            "text/plain": [
              "                                     sex  region  age  \\\n",
              "employee_id                                             \n",
              "0f840be9-b8db-4d3f-bd5b-a2ce59211f55   M       4   36   \n",
              "ac1dd209-cbcc-5e5d-1c6e-28598e8cbbe8   M       4   32   \n",
              "a8c88a00-55f6-36e4-a163-a5e3d16adab7   F       5   34   \n",
              "c91591a8-d461-c286-9b9f-535ded3e213e   F       4   33   \n",
              "bc731692-9fe1-545b-f0b9-8d114ee3ecb8   M       0   33   \n",
              "\n",
              "                                                          head_employee_id  \\\n",
              "employee_id                                                                  \n",
              "0f840be9-b8db-4d3f-bd5b-a2ce59211f55  c81e728d-9d4c-2f63-6f06-7f89cc14862c   \n",
              "ac1dd209-cbcc-5e5d-1c6e-28598e8cbbe8  93db85ed-909c-1383-8ff9-5ccfa94cebd9   \n",
              "a8c88a00-55f6-36e4-a163-a5e3d16adab7  9a115815-4dfa-42ca-ddbd-0694a4e9bdc8   \n",
              "c91591a8-d461-c286-9b9f-535ded3e213e  9f61408e-3afb-633e-50cd-f1b20de6f466   \n",
              "bc731692-9fe1-545b-f0b9-8d114ee3ecb8  a97da629-b098-b75c-294d-ffdc3e463904   \n",
              "\n",
              "                                      exp_days  edu_degree  department_id  \\\n",
              "employee_id                                                                 \n",
              "0f840be9-b8db-4d3f-bd5b-a2ce59211f55       734           0              2   \n",
              "ac1dd209-cbcc-5e5d-1c6e-28598e8cbbe8       654           0              2   \n",
              "a8c88a00-55f6-36e4-a163-a5e3d16adab7       276           1              2   \n",
              "c91591a8-d461-c286-9b9f-535ded3e213e        50           2              0   \n",
              "bc731692-9fe1-545b-f0b9-8d114ee3ecb8       274           1              2   \n",
              "\n",
              "                                      work_online_flg  \n",
              "employee_id                                            \n",
              "0f840be9-b8db-4d3f-bd5b-a2ce59211f55                1  \n",
              "ac1dd209-cbcc-5e5d-1c6e-28598e8cbbe8                1  \n",
              "a8c88a00-55f6-36e4-a163-a5e3d16adab7                1  \n",
              "c91591a8-d461-c286-9b9f-535ded3e213e                1  \n",
              "bc731692-9fe1-545b-f0b9-8d114ee3ecb8                1  "
            ]
          },
          "execution_count": 34,
          "metadata": {},
          "output_type": "execute_result"
        }
      ],
      "source": [
        "#Соц_дем сотрудников\n",
        "#датасет с соц_демом\n",
        "df_empoyees = pd.read_csv('../data/src/employees.csv', sep=';').set_index('employee_id')\n",
        "df_empoyees.head()"
      ]
    },
    {
      "cell_type": "code",
      "execution_count": null,
      "metadata": {
        "colab": {
          "base_uri": "https://localhost:8080/"
        },
        "id": "XI1XH0yJy7Vj",
        "outputId": "53bbc06b-4627-450e-ea05-bbb77eb3a53f"
      },
      "outputs": [
        {
          "data": {
            "text/plain": [
              "2381"
            ]
          },
          "execution_count": 35,
          "metadata": {},
          "output_type": "execute_result"
        }
      ],
      "source": [
        "#Общее число сотрудников\n",
        "emp_count = len(df_empoyees)\n",
        "emp_count"
      ]
    },
    {
      "cell_type": "code",
      "execution_count": null,
      "metadata": {
        "id": "MCZ9mJbGPWln"
      },
      "outputs": [],
      "source": [
        "#объединими таблицы средних показателей работников с их соц демом\n",
        "df_emp_with_mean_results = pd.merge(df_emp_mean_result, df_empoyees, left_index=True, right_index=True)"
      ]
    },
    {
      "cell_type": "code",
      "execution_count": null,
      "metadata": {
        "id": "mpXjFXvePoNu"
      },
      "outputs": [],
      "source": [
        "#переимменуем столбцы\n",
        "df_emp_with_mean_results.columns = pd.Index(['communication_score_mean', 'util_flg_mean', 'sex', 'region', 'age',\n",
        "       'head_employee_id', 'exp_days', 'edu_degree', 'department_id',\n",
        "       'work_online_flg'],\n",
        "      dtype='object')"
      ]
    },
    {
      "cell_type": "code",
      "execution_count": null,
      "metadata": {
        "colab": {
          "base_uri": "https://localhost:8080/",
          "height": 238
        },
        "id": "wIENXHdPQGZu",
        "outputId": "e0159ffd-dd01-4d55-dc59-cb7adeeb5156"
      },
      "outputs": [
        {
          "data": {
            "application/vnd.google.colaboratory.intrinsic+json": {
              "summary": "{\n  \"name\": \"df_emp_with_mean_results\",\n  \"rows\": 2381,\n  \"fields\": [\n    {\n      \"column\": \"employee_id\",\n      \"properties\": {\n        \"dtype\": \"string\",\n        \"num_unique_values\": 2381,\n        \"samples\": [\n          \"98d6f58a-b0da-fbb8-6b08-3a001561bb34\",\n          \"7437d136-770f-5b35-194c-b46c1653efaa\",\n          \"95151403-b0db-4f75-bfd8-da0b393af853\"\n        ],\n        \"semantic_type\": \"\",\n        \"description\": \"\"\n      }\n    },\n    {\n      \"column\": \"communication_score_mean\",\n      \"properties\": {\n        \"dtype\": \"number\",\n        \"std\": 1.6963911793599407,\n        \"min\": 54.53803245436105,\n        \"max\": 66.9763481551561,\n        \"num_unique_values\": 2380,\n        \"samples\": [\n          56.5131914893617,\n          57.18244680851064,\n          58.627364716234055\n        ],\n        \"semantic_type\": \"\",\n        \"description\": \"\"\n      }\n    },\n    {\n      \"column\": \"util_flg_mean\",\n      \"properties\": {\n        \"dtype\": \"number\",\n        \"std\": 0.017592327580844922,\n        \"min\": 0.6802519451648759,\n        \"max\": 0.8055678303137428,\n        \"num_unique_values\": 2342,\n        \"samples\": [\n          0.7779783393501805,\n          0.7401380670611439,\n          0.7526926263463132\n        ],\n        \"semantic_type\": \"\",\n        \"description\": \"\"\n      }\n    },\n    {\n      \"column\": \"sex\",\n      \"properties\": {\n        \"dtype\": \"category\",\n        \"num_unique_values\": 2,\n        \"samples\": [\n          \"F\",\n          \"M\"\n        ],\n        \"semantic_type\": \"\",\n        \"description\": \"\"\n      }\n    },\n    {\n      \"column\": \"region\",\n      \"properties\": {\n        \"dtype\": \"number\",\n        \"std\": 2,\n        \"min\": 0,\n        \"max\": 7,\n        \"num_unique_values\": 8,\n        \"samples\": [\n          3,\n          6\n        ],\n        \"semantic_type\": \"\",\n        \"description\": \"\"\n      }\n    },\n    {\n      \"column\": \"age\",\n      \"properties\": {\n        \"dtype\": \"number\",\n        \"std\": 6,\n        \"min\": 19,\n        \"max\": 60,\n        \"num_unique_values\": 41,\n        \"samples\": [\n          22,\n          39\n        ],\n        \"semantic_type\": \"\",\n        \"description\": \"\"\n      }\n    },\n    {\n      \"column\": \"head_employee_id\",\n      \"properties\": {\n        \"dtype\": \"category\",\n        \"num_unique_values\": 132,\n        \"samples\": [\n          \"1c383cd3-0b7c-298a-b502-93adfecb7b18\",\n          \"8f14e45f-ceea-167a-5a36-dedd4bea2543\"\n        ],\n        \"semantic_type\": \"\",\n        \"description\": \"\"\n      }\n    },\n    {\n      \"column\": \"exp_days\",\n      \"properties\": {\n        \"dtype\": \"number\",\n        \"std\": 374,\n        \"min\": 0,\n        \"max\": 2424,\n        \"num_unique_values\": 1005,\n        \"samples\": [\n          314,\n          17\n        ],\n        \"semantic_type\": \"\",\n        \"description\": \"\"\n      }\n    },\n    {\n      \"column\": \"edu_degree\",\n      \"properties\": {\n        \"dtype\": \"number\",\n        \"std\": 0,\n        \"min\": 0,\n        \"max\": 2,\n        \"num_unique_values\": 3,\n        \"samples\": [\n          2,\n          1\n        ],\n        \"semantic_type\": \"\",\n        \"description\": \"\"\n      }\n    },\n    {\n      \"column\": \"department_id\",\n      \"properties\": {\n        \"dtype\": \"number\",\n        \"std\": 0,\n        \"min\": 0,\n        \"max\": 2,\n        \"num_unique_values\": 3,\n        \"samples\": [\n          2,\n          1\n        ],\n        \"semantic_type\": \"\",\n        \"description\": \"\"\n      }\n    },\n    {\n      \"column\": \"work_online_flg\",\n      \"properties\": {\n        \"dtype\": \"number\",\n        \"std\": 0,\n        \"min\": 0,\n        \"max\": 1,\n        \"num_unique_values\": 2,\n        \"samples\": [\n          1,\n          0\n        ],\n        \"semantic_type\": \"\",\n        \"description\": \"\"\n      }\n    }\n  ]\n}",
              "type": "dataframe",
              "variable_name": "df_emp_with_mean_results"
            },
            "text/html": [
              "\n",
              "  <div id=\"df-a232aead-fdab-41de-8b76-a8c0f140e113\" class=\"colab-df-container\">\n",
              "    <div>\n",
              "<style scoped>\n",
              "    .dataframe tbody tr th:only-of-type {\n",
              "        vertical-align: middle;\n",
              "    }\n",
              "\n",
              "    .dataframe tbody tr th {\n",
              "        vertical-align: top;\n",
              "    }\n",
              "\n",
              "    .dataframe thead th {\n",
              "        text-align: right;\n",
              "    }\n",
              "</style>\n",
              "<table border=\"1\" class=\"dataframe\">\n",
              "  <thead>\n",
              "    <tr style=\"text-align: right;\">\n",
              "      <th></th>\n",
              "      <th>communication_score_mean</th>\n",
              "      <th>util_flg_mean</th>\n",
              "      <th>sex</th>\n",
              "      <th>region</th>\n",
              "      <th>age</th>\n",
              "      <th>head_employee_id</th>\n",
              "      <th>exp_days</th>\n",
              "      <th>edu_degree</th>\n",
              "      <th>department_id</th>\n",
              "      <th>work_online_flg</th>\n",
              "    </tr>\n",
              "    <tr>\n",
              "      <th>employee_id</th>\n",
              "      <th></th>\n",
              "      <th></th>\n",
              "      <th></th>\n",
              "      <th></th>\n",
              "      <th></th>\n",
              "      <th></th>\n",
              "      <th></th>\n",
              "      <th></th>\n",
              "      <th></th>\n",
              "      <th></th>\n",
              "    </tr>\n",
              "  </thead>\n",
              "  <tbody>\n",
              "    <tr>\n",
              "      <th>0004d0b5-9e19-461f-f126-e3a08a814c33</th>\n",
              "      <td>57.144464</td>\n",
              "      <td>0.746972</td>\n",
              "      <td>M</td>\n",
              "      <td>0</td>\n",
              "      <td>28</td>\n",
              "      <td>17e62166-fc85-86df-a4d1-bc0e1742c08b</td>\n",
              "      <td>140</td>\n",
              "      <td>2</td>\n",
              "      <td>2</td>\n",
              "      <td>0</td>\n",
              "    </tr>\n",
              "    <tr>\n",
              "      <th>00411460-f7c9-2d21-24a6-7ea0f4cb5f85</th>\n",
              "      <td>57.152452</td>\n",
              "      <td>0.766525</td>\n",
              "      <td>F</td>\n",
              "      <td>3</td>\n",
              "      <td>29</td>\n",
              "      <td>3c59dc04-8e88-5024-3be8-079a5c74d079</td>\n",
              "      <td>378</td>\n",
              "      <td>1</td>\n",
              "      <td>1</td>\n",
              "      <td>1</td>\n",
              "    </tr>\n",
              "    <tr>\n",
              "      <th>006f52e9-102a-8d3b-e2fe-5614f42ba989</th>\n",
              "      <td>61.333500</td>\n",
              "      <td>0.763355</td>\n",
              "      <td>F</td>\n",
              "      <td>0</td>\n",
              "      <td>24</td>\n",
              "      <td>182be0c5-cdcd-5072-bb18-64cdee4d3d6e</td>\n",
              "      <td>452</td>\n",
              "      <td>2</td>\n",
              "      <td>2</td>\n",
              "      <td>1</td>\n",
              "    </tr>\n",
              "    <tr>\n",
              "      <th>0070d23b-06b1-486a-538c-0eaa45dd167a</th>\n",
              "      <td>58.648239</td>\n",
              "      <td>0.758395</td>\n",
              "      <td>M</td>\n",
              "      <td>0</td>\n",
              "      <td>30</td>\n",
              "      <td>44f683a8-4163-b352-3afe-57c2e008bc8c</td>\n",
              "      <td>163</td>\n",
              "      <td>1</td>\n",
              "      <td>2</td>\n",
              "      <td>1</td>\n",
              "    </tr>\n",
              "    <tr>\n",
              "      <th>008bd5ad-93b7-54d5-0033-8c253d9c1770</th>\n",
              "      <td>56.645145</td>\n",
              "      <td>0.752252</td>\n",
              "      <td>M</td>\n",
              "      <td>4</td>\n",
              "      <td>34</td>\n",
              "      <td>a0a080f4-2e6f-13b3-a2df-133f073095dd</td>\n",
              "      <td>46</td>\n",
              "      <td>1</td>\n",
              "      <td>1</td>\n",
              "      <td>0</td>\n",
              "    </tr>\n",
              "  </tbody>\n",
              "</table>\n",
              "</div>\n",
              "    <div class=\"colab-df-buttons\">\n",
              "\n",
              "  <div class=\"colab-df-container\">\n",
              "    <button class=\"colab-df-convert\" onclick=\"convertToInteractive('df-a232aead-fdab-41de-8b76-a8c0f140e113')\"\n",
              "            title=\"Convert this dataframe to an interactive table.\"\n",
              "            style=\"display:none;\">\n",
              "\n",
              "  <svg xmlns=\"http://www.w3.org/2000/svg\" height=\"24px\" viewBox=\"0 -960 960 960\">\n",
              "    <path d=\"M120-120v-720h720v720H120Zm60-500h600v-160H180v160Zm220 220h160v-160H400v160Zm0 220h160v-160H400v160ZM180-400h160v-160H180v160Zm440 0h160v-160H620v160ZM180-180h160v-160H180v160Zm440 0h160v-160H620v160Z\"/>\n",
              "  </svg>\n",
              "    </button>\n",
              "\n",
              "  <style>\n",
              "    .colab-df-container {\n",
              "      display:flex;\n",
              "      gap: 12px;\n",
              "    }\n",
              "\n",
              "    .colab-df-convert {\n",
              "      background-color: #E8F0FE;\n",
              "      border: none;\n",
              "      border-radius: 50%;\n",
              "      cursor: pointer;\n",
              "      display: none;\n",
              "      fill: #1967D2;\n",
              "      height: 32px;\n",
              "      padding: 0 0 0 0;\n",
              "      width: 32px;\n",
              "    }\n",
              "\n",
              "    .colab-df-convert:hover {\n",
              "      background-color: #E2EBFA;\n",
              "      box-shadow: 0px 1px 2px rgba(60, 64, 67, 0.3), 0px 1px 3px 1px rgba(60, 64, 67, 0.15);\n",
              "      fill: #174EA6;\n",
              "    }\n",
              "\n",
              "    .colab-df-buttons div {\n",
              "      margin-bottom: 4px;\n",
              "    }\n",
              "\n",
              "    [theme=dark] .colab-df-convert {\n",
              "      background-color: #3B4455;\n",
              "      fill: #D2E3FC;\n",
              "    }\n",
              "\n",
              "    [theme=dark] .colab-df-convert:hover {\n",
              "      background-color: #434B5C;\n",
              "      box-shadow: 0px 1px 3px 1px rgba(0, 0, 0, 0.15);\n",
              "      filter: drop-shadow(0px 1px 2px rgba(0, 0, 0, 0.3));\n",
              "      fill: #FFFFFF;\n",
              "    }\n",
              "  </style>\n",
              "\n",
              "    <script>\n",
              "      const buttonEl =\n",
              "        document.querySelector('#df-a232aead-fdab-41de-8b76-a8c0f140e113 button.colab-df-convert');\n",
              "      buttonEl.style.display =\n",
              "        google.colab.kernel.accessAllowed ? 'block' : 'none';\n",
              "\n",
              "      async function convertToInteractive(key) {\n",
              "        const element = document.querySelector('#df-a232aead-fdab-41de-8b76-a8c0f140e113');\n",
              "        const dataTable =\n",
              "          await google.colab.kernel.invokeFunction('convertToInteractive',\n",
              "                                                    [key], {});\n",
              "        if (!dataTable) return;\n",
              "\n",
              "        const docLinkHtml = 'Like what you see? Visit the ' +\n",
              "          '<a target=\"_blank\" href=https://colab.research.google.com/notebooks/data_table.ipynb>data table notebook</a>'\n",
              "          + ' to learn more about interactive tables.';\n",
              "        element.innerHTML = '';\n",
              "        dataTable['output_type'] = 'display_data';\n",
              "        await google.colab.output.renderOutput(dataTable, element);\n",
              "        const docLink = document.createElement('div');\n",
              "        docLink.innerHTML = docLinkHtml;\n",
              "        element.appendChild(docLink);\n",
              "      }\n",
              "    </script>\n",
              "  </div>\n",
              "\n",
              "\n",
              "<div id=\"df-e9f89a6c-4747-4b3f-bd43-12c86d2039d7\">\n",
              "  <button class=\"colab-df-quickchart\" onclick=\"quickchart('df-e9f89a6c-4747-4b3f-bd43-12c86d2039d7')\"\n",
              "            title=\"Suggest charts\"\n",
              "            style=\"display:none;\">\n",
              "\n",
              "<svg xmlns=\"http://www.w3.org/2000/svg\" height=\"24px\"viewBox=\"0 0 24 24\"\n",
              "     width=\"24px\">\n",
              "    <g>\n",
              "        <path d=\"M19 3H5c-1.1 0-2 .9-2 2v14c0 1.1.9 2 2 2h14c1.1 0 2-.9 2-2V5c0-1.1-.9-2-2-2zM9 17H7v-7h2v7zm4 0h-2V7h2v10zm4 0h-2v-4h2v4z\"/>\n",
              "    </g>\n",
              "</svg>\n",
              "  </button>\n",
              "\n",
              "<style>\n",
              "  .colab-df-quickchart {\n",
              "      --bg-color: #E8F0FE;\n",
              "      --fill-color: #1967D2;\n",
              "      --hover-bg-color: #E2EBFA;\n",
              "      --hover-fill-color: #174EA6;\n",
              "      --disabled-fill-color: #AAA;\n",
              "      --disabled-bg-color: #DDD;\n",
              "  }\n",
              "\n",
              "  [theme=dark] .colab-df-quickchart {\n",
              "      --bg-color: #3B4455;\n",
              "      --fill-color: #D2E3FC;\n",
              "      --hover-bg-color: #434B5C;\n",
              "      --hover-fill-color: #FFFFFF;\n",
              "      --disabled-bg-color: #3B4455;\n",
              "      --disabled-fill-color: #666;\n",
              "  }\n",
              "\n",
              "  .colab-df-quickchart {\n",
              "    background-color: var(--bg-color);\n",
              "    border: none;\n",
              "    border-radius: 50%;\n",
              "    cursor: pointer;\n",
              "    display: none;\n",
              "    fill: var(--fill-color);\n",
              "    height: 32px;\n",
              "    padding: 0;\n",
              "    width: 32px;\n",
              "  }\n",
              "\n",
              "  .colab-df-quickchart:hover {\n",
              "    background-color: var(--hover-bg-color);\n",
              "    box-shadow: 0 1px 2px rgba(60, 64, 67, 0.3), 0 1px 3px 1px rgba(60, 64, 67, 0.15);\n",
              "    fill: var(--button-hover-fill-color);\n",
              "  }\n",
              "\n",
              "  .colab-df-quickchart-complete:disabled,\n",
              "  .colab-df-quickchart-complete:disabled:hover {\n",
              "    background-color: var(--disabled-bg-color);\n",
              "    fill: var(--disabled-fill-color);\n",
              "    box-shadow: none;\n",
              "  }\n",
              "\n",
              "  .colab-df-spinner {\n",
              "    border: 2px solid var(--fill-color);\n",
              "    border-color: transparent;\n",
              "    border-bottom-color: var(--fill-color);\n",
              "    animation:\n",
              "      spin 1s steps(1) infinite;\n",
              "  }\n",
              "\n",
              "  @keyframes spin {\n",
              "    0% {\n",
              "      border-color: transparent;\n",
              "      border-bottom-color: var(--fill-color);\n",
              "      border-left-color: var(--fill-color);\n",
              "    }\n",
              "    20% {\n",
              "      border-color: transparent;\n",
              "      border-left-color: var(--fill-color);\n",
              "      border-top-color: var(--fill-color);\n",
              "    }\n",
              "    30% {\n",
              "      border-color: transparent;\n",
              "      border-left-color: var(--fill-color);\n",
              "      border-top-color: var(--fill-color);\n",
              "      border-right-color: var(--fill-color);\n",
              "    }\n",
              "    40% {\n",
              "      border-color: transparent;\n",
              "      border-right-color: var(--fill-color);\n",
              "      border-top-color: var(--fill-color);\n",
              "    }\n",
              "    60% {\n",
              "      border-color: transparent;\n",
              "      border-right-color: var(--fill-color);\n",
              "    }\n",
              "    80% {\n",
              "      border-color: transparent;\n",
              "      border-right-color: var(--fill-color);\n",
              "      border-bottom-color: var(--fill-color);\n",
              "    }\n",
              "    90% {\n",
              "      border-color: transparent;\n",
              "      border-bottom-color: var(--fill-color);\n",
              "    }\n",
              "  }\n",
              "</style>\n",
              "\n",
              "  <script>\n",
              "    async function quickchart(key) {\n",
              "      const quickchartButtonEl =\n",
              "        document.querySelector('#' + key + ' button');\n",
              "      quickchartButtonEl.disabled = true;  // To prevent multiple clicks.\n",
              "      quickchartButtonEl.classList.add('colab-df-spinner');\n",
              "      try {\n",
              "        const charts = await google.colab.kernel.invokeFunction(\n",
              "            'suggestCharts', [key], {});\n",
              "      } catch (error) {\n",
              "        console.error('Error during call to suggestCharts:', error);\n",
              "      }\n",
              "      quickchartButtonEl.classList.remove('colab-df-spinner');\n",
              "      quickchartButtonEl.classList.add('colab-df-quickchart-complete');\n",
              "    }\n",
              "    (() => {\n",
              "      let quickchartButtonEl =\n",
              "        document.querySelector('#df-e9f89a6c-4747-4b3f-bd43-12c86d2039d7 button');\n",
              "      quickchartButtonEl.style.display =\n",
              "        google.colab.kernel.accessAllowed ? 'block' : 'none';\n",
              "    })();\n",
              "  </script>\n",
              "</div>\n",
              "    </div>\n",
              "  </div>\n"
            ],
            "text/plain": [
              "                                      communication_score_mean  util_flg_mean  \\\n",
              "employee_id                                                                     \n",
              "0004d0b5-9e19-461f-f126-e3a08a814c33                 57.144464       0.746972   \n",
              "00411460-f7c9-2d21-24a6-7ea0f4cb5f85                 57.152452       0.766525   \n",
              "006f52e9-102a-8d3b-e2fe-5614f42ba989                 61.333500       0.763355   \n",
              "0070d23b-06b1-486a-538c-0eaa45dd167a                 58.648239       0.758395   \n",
              "008bd5ad-93b7-54d5-0033-8c253d9c1770                 56.645145       0.752252   \n",
              "\n",
              "                                     sex  region  age  \\\n",
              "employee_id                                             \n",
              "0004d0b5-9e19-461f-f126-e3a08a814c33   M       0   28   \n",
              "00411460-f7c9-2d21-24a6-7ea0f4cb5f85   F       3   29   \n",
              "006f52e9-102a-8d3b-e2fe-5614f42ba989   F       0   24   \n",
              "0070d23b-06b1-486a-538c-0eaa45dd167a   M       0   30   \n",
              "008bd5ad-93b7-54d5-0033-8c253d9c1770   M       4   34   \n",
              "\n",
              "                                                          head_employee_id  \\\n",
              "employee_id                                                                  \n",
              "0004d0b5-9e19-461f-f126-e3a08a814c33  17e62166-fc85-86df-a4d1-bc0e1742c08b   \n",
              "00411460-f7c9-2d21-24a6-7ea0f4cb5f85  3c59dc04-8e88-5024-3be8-079a5c74d079   \n",
              "006f52e9-102a-8d3b-e2fe-5614f42ba989  182be0c5-cdcd-5072-bb18-64cdee4d3d6e   \n",
              "0070d23b-06b1-486a-538c-0eaa45dd167a  44f683a8-4163-b352-3afe-57c2e008bc8c   \n",
              "008bd5ad-93b7-54d5-0033-8c253d9c1770  a0a080f4-2e6f-13b3-a2df-133f073095dd   \n",
              "\n",
              "                                      exp_days  edu_degree  department_id  \\\n",
              "employee_id                                                                 \n",
              "0004d0b5-9e19-461f-f126-e3a08a814c33       140           2              2   \n",
              "00411460-f7c9-2d21-24a6-7ea0f4cb5f85       378           1              1   \n",
              "006f52e9-102a-8d3b-e2fe-5614f42ba989       452           2              2   \n",
              "0070d23b-06b1-486a-538c-0eaa45dd167a       163           1              2   \n",
              "008bd5ad-93b7-54d5-0033-8c253d9c1770        46           1              1   \n",
              "\n",
              "                                      work_online_flg  \n",
              "employee_id                                            \n",
              "0004d0b5-9e19-461f-f126-e3a08a814c33                0  \n",
              "00411460-f7c9-2d21-24a6-7ea0f4cb5f85                1  \n",
              "006f52e9-102a-8d3b-e2fe-5614f42ba989                1  \n",
              "0070d23b-06b1-486a-538c-0eaa45dd167a                1  \n",
              "008bd5ad-93b7-54d5-0033-8c253d9c1770                0  "
            ]
          },
          "execution_count": 38,
          "metadata": {},
          "output_type": "execute_result"
        }
      ],
      "source": [
        "#результат добавления средних показателей работы в таблицу с соцдемом сотрудников\n",
        "df_emp_with_mean_results.head()"
      ]
    },
    {
      "cell_type": "code",
      "execution_count": null,
      "metadata": {
        "id": "mv2ovOdtVqLO"
      },
      "outputs": [],
      "source": [
        "# число сотрудников для эксперимента\n",
        "statistical_sample = 2380"
      ]
    },
    {
      "cell_type": "code",
      "execution_count": null,
      "metadata": {
        "id": "0kjbSjac534c"
      },
      "outputs": [],
      "source": [
        "#формируем датафрейм двойной выборки\n",
        "df_empoyees_agg = df_emp_with_mean_results.sample(n=statistical_sample, replace=False, random_state=42, axis=0, ignore_index=False)"
      ]
    },
    {
      "cell_type": "code",
      "execution_count": null,
      "metadata": {
        "colab": {
          "base_uri": "https://localhost:8080/",
          "height": 238
        },
        "id": "YZVOWJ-s71rX",
        "outputId": "3340652c-4852-4422-c50f-bcacdeeb5198"
      },
      "outputs": [
        {
          "data": {
            "application/vnd.google.colaboratory.intrinsic+json": {
              "summary": "{\n  \"name\": \"df_empoyees_agg\",\n  \"rows\": 2380,\n  \"fields\": [\n    {\n      \"column\": \"employee_id\",\n      \"properties\": {\n        \"dtype\": \"string\",\n        \"num_unique_values\": 2380,\n        \"samples\": [\n          \"aa942ab2-bfa6-ebda-4840-e7360ce6e7ef\",\n          \"285ab944-8d27-51ee-57ec-e7f762c39095\",\n          \"d860bd12-ce9c-0268-14bb-dfc1c573f0f5\"\n        ],\n        \"semantic_type\": \"\",\n        \"description\": \"\"\n      }\n    },\n    {\n      \"column\": \"communication_score_mean\",\n      \"properties\": {\n        \"dtype\": \"number\",\n        \"std\": 1.6965209632889016,\n        \"min\": 54.53803245436105,\n        \"max\": 66.9763481551561,\n        \"num_unique_values\": 2379,\n        \"samples\": [\n          58.00549682875264,\n          58.7007299270073,\n          59.46395250212044\n        ],\n        \"semantic_type\": \"\",\n        \"description\": \"\"\n      }\n    },\n    {\n      \"column\": \"util_flg_mean\",\n      \"properties\": {\n        \"dtype\": \"number\",\n        \"std\": 0.017595440276108345,\n        \"min\": 0.6802519451648759,\n        \"max\": 0.8055678303137428,\n        \"num_unique_values\": 2341,\n        \"samples\": [\n          0.747852233676976,\n          0.7652057245080501,\n          0.7577916295636687\n        ],\n        \"semantic_type\": \"\",\n        \"description\": \"\"\n      }\n    },\n    {\n      \"column\": \"sex\",\n      \"properties\": {\n        \"dtype\": \"category\",\n        \"num_unique_values\": 2,\n        \"samples\": [\n          \"F\",\n          \"M\"\n        ],\n        \"semantic_type\": \"\",\n        \"description\": \"\"\n      }\n    },\n    {\n      \"column\": \"region\",\n      \"properties\": {\n        \"dtype\": \"number\",\n        \"std\": 2,\n        \"min\": 0,\n        \"max\": 7,\n        \"num_unique_values\": 8,\n        \"samples\": [\n          5,\n          3\n        ],\n        \"semantic_type\": \"\",\n        \"description\": \"\"\n      }\n    },\n    {\n      \"column\": \"age\",\n      \"properties\": {\n        \"dtype\": \"number\",\n        \"std\": 6,\n        \"min\": 19,\n        \"max\": 60,\n        \"num_unique_values\": 41,\n        \"samples\": [\n          22,\n          38\n        ],\n        \"semantic_type\": \"\",\n        \"description\": \"\"\n      }\n    },\n    {\n      \"column\": \"head_employee_id\",\n      \"properties\": {\n        \"dtype\": \"category\",\n        \"num_unique_values\": 132,\n        \"samples\": [\n          \"93db85ed-909c-1383-8ff9-5ccfa94cebd9\",\n          \"ec5decca-5ed3-d6b8-079e-2e7e7bacc9f2\"\n        ],\n        \"semantic_type\": \"\",\n        \"description\": \"\"\n      }\n    },\n    {\n      \"column\": \"exp_days\",\n      \"properties\": {\n        \"dtype\": \"number\",\n        \"std\": 374,\n        \"min\": 0,\n        \"max\": 2424,\n        \"num_unique_values\": 1005,\n        \"samples\": [\n          474,\n          200\n        ],\n        \"semantic_type\": \"\",\n        \"description\": \"\"\n      }\n    },\n    {\n      \"column\": \"edu_degree\",\n      \"properties\": {\n        \"dtype\": \"number\",\n        \"std\": 0,\n        \"min\": 0,\n        \"max\": 2,\n        \"num_unique_values\": 3,\n        \"samples\": [\n          2,\n          1\n        ],\n        \"semantic_type\": \"\",\n        \"description\": \"\"\n      }\n    },\n    {\n      \"column\": \"department_id\",\n      \"properties\": {\n        \"dtype\": \"number\",\n        \"std\": 0,\n        \"min\": 0,\n        \"max\": 2,\n        \"num_unique_values\": 3,\n        \"samples\": [\n          1,\n          2\n        ],\n        \"semantic_type\": \"\",\n        \"description\": \"\"\n      }\n    },\n    {\n      \"column\": \"work_online_flg\",\n      \"properties\": {\n        \"dtype\": \"number\",\n        \"std\": 0,\n        \"min\": 0,\n        \"max\": 1,\n        \"num_unique_values\": 2,\n        \"samples\": [\n          0,\n          1\n        ],\n        \"semantic_type\": \"\",\n        \"description\": \"\"\n      }\n    }\n  ]\n}",
              "type": "dataframe",
              "variable_name": "df_empoyees_agg"
            },
            "text/html": [
              "\n",
              "  <div id=\"df-7caa08cb-ce7f-4c41-9f83-ddc30d2fe54f\" class=\"colab-df-container\">\n",
              "    <div>\n",
              "<style scoped>\n",
              "    .dataframe tbody tr th:only-of-type {\n",
              "        vertical-align: middle;\n",
              "    }\n",
              "\n",
              "    .dataframe tbody tr th {\n",
              "        vertical-align: top;\n",
              "    }\n",
              "\n",
              "    .dataframe thead th {\n",
              "        text-align: right;\n",
              "    }\n",
              "</style>\n",
              "<table border=\"1\" class=\"dataframe\">\n",
              "  <thead>\n",
              "    <tr style=\"text-align: right;\">\n",
              "      <th></th>\n",
              "      <th>communication_score_mean</th>\n",
              "      <th>util_flg_mean</th>\n",
              "      <th>sex</th>\n",
              "      <th>region</th>\n",
              "      <th>age</th>\n",
              "      <th>head_employee_id</th>\n",
              "      <th>exp_days</th>\n",
              "      <th>edu_degree</th>\n",
              "      <th>department_id</th>\n",
              "      <th>work_online_flg</th>\n",
              "    </tr>\n",
              "    <tr>\n",
              "      <th>employee_id</th>\n",
              "      <th></th>\n",
              "      <th></th>\n",
              "      <th></th>\n",
              "      <th></th>\n",
              "      <th></th>\n",
              "      <th></th>\n",
              "      <th></th>\n",
              "      <th></th>\n",
              "      <th></th>\n",
              "      <th></th>\n",
              "    </tr>\n",
              "  </thead>\n",
              "  <tbody>\n",
              "    <tr>\n",
              "      <th>98d6f58a-b0da-fbb8-6b08-3a001561bb34</th>\n",
              "      <td>58.015216</td>\n",
              "      <td>0.747253</td>\n",
              "      <td>M</td>\n",
              "      <td>2</td>\n",
              "      <td>36</td>\n",
              "      <td>698d51a1-9d8a-121c-e581-499d7b701668</td>\n",
              "      <td>1235</td>\n",
              "      <td>2</td>\n",
              "      <td>1</td>\n",
              "      <td>1</td>\n",
              "    </tr>\n",
              "    <tr>\n",
              "      <th>7437d136-770f-5b35-194c-b46c1653efaa</th>\n",
              "      <td>59.159186</td>\n",
              "      <td>0.767745</td>\n",
              "      <td>M</td>\n",
              "      <td>5</td>\n",
              "      <td>35</td>\n",
              "      <td>6f4922f4-5568-161a-8cdf-4ad2299f6d23</td>\n",
              "      <td>283</td>\n",
              "      <td>2</td>\n",
              "      <td>2</td>\n",
              "      <td>0</td>\n",
              "    </tr>\n",
              "    <tr>\n",
              "      <th>95151403-b0db-4f75-bfd8-da0b393af853</th>\n",
              "      <td>60.420846</td>\n",
              "      <td>0.781219</td>\n",
              "      <td>F</td>\n",
              "      <td>4</td>\n",
              "      <td>29</td>\n",
              "      <td>e4da3b7f-bbce-2345-d777-2b0674a318d5</td>\n",
              "      <td>233</td>\n",
              "      <td>2</td>\n",
              "      <td>1</td>\n",
              "      <td>1</td>\n",
              "    </tr>\n",
              "    <tr>\n",
              "      <th>d8d31bd7-78da-8bdd-5361-87c36e48892b</th>\n",
              "      <td>58.365013</td>\n",
              "      <td>0.755091</td>\n",
              "      <td>F</td>\n",
              "      <td>5</td>\n",
              "      <td>33</td>\n",
              "      <td>28dd2c79-55ce-9264-5624-0b2ff0100bde</td>\n",
              "      <td>955</td>\n",
              "      <td>2</td>\n",
              "      <td>0</td>\n",
              "      <td>0</td>\n",
              "    </tr>\n",
              "    <tr>\n",
              "      <th>7895fc13-088e-e37f-5119-13bac71fa66f</th>\n",
              "      <td>57.968012</td>\n",
              "      <td>0.750984</td>\n",
              "      <td>F</td>\n",
              "      <td>0</td>\n",
              "      <td>33</td>\n",
              "      <td>d09bf415-44a3-365a-46c9-077ebb5e35c3</td>\n",
              "      <td>181</td>\n",
              "      <td>2</td>\n",
              "      <td>2</td>\n",
              "      <td>0</td>\n",
              "    </tr>\n",
              "  </tbody>\n",
              "</table>\n",
              "</div>\n",
              "    <div class=\"colab-df-buttons\">\n",
              "\n",
              "  <div class=\"colab-df-container\">\n",
              "    <button class=\"colab-df-convert\" onclick=\"convertToInteractive('df-7caa08cb-ce7f-4c41-9f83-ddc30d2fe54f')\"\n",
              "            title=\"Convert this dataframe to an interactive table.\"\n",
              "            style=\"display:none;\">\n",
              "\n",
              "  <svg xmlns=\"http://www.w3.org/2000/svg\" height=\"24px\" viewBox=\"0 -960 960 960\">\n",
              "    <path d=\"M120-120v-720h720v720H120Zm60-500h600v-160H180v160Zm220 220h160v-160H400v160Zm0 220h160v-160H400v160ZM180-400h160v-160H180v160Zm440 0h160v-160H620v160ZM180-180h160v-160H180v160Zm440 0h160v-160H620v160Z\"/>\n",
              "  </svg>\n",
              "    </button>\n",
              "\n",
              "  <style>\n",
              "    .colab-df-container {\n",
              "      display:flex;\n",
              "      gap: 12px;\n",
              "    }\n",
              "\n",
              "    .colab-df-convert {\n",
              "      background-color: #E8F0FE;\n",
              "      border: none;\n",
              "      border-radius: 50%;\n",
              "      cursor: pointer;\n",
              "      display: none;\n",
              "      fill: #1967D2;\n",
              "      height: 32px;\n",
              "      padding: 0 0 0 0;\n",
              "      width: 32px;\n",
              "    }\n",
              "\n",
              "    .colab-df-convert:hover {\n",
              "      background-color: #E2EBFA;\n",
              "      box-shadow: 0px 1px 2px rgba(60, 64, 67, 0.3), 0px 1px 3px 1px rgba(60, 64, 67, 0.15);\n",
              "      fill: #174EA6;\n",
              "    }\n",
              "\n",
              "    .colab-df-buttons div {\n",
              "      margin-bottom: 4px;\n",
              "    }\n",
              "\n",
              "    [theme=dark] .colab-df-convert {\n",
              "      background-color: #3B4455;\n",
              "      fill: #D2E3FC;\n",
              "    }\n",
              "\n",
              "    [theme=dark] .colab-df-convert:hover {\n",
              "      background-color: #434B5C;\n",
              "      box-shadow: 0px 1px 3px 1px rgba(0, 0, 0, 0.15);\n",
              "      filter: drop-shadow(0px 1px 2px rgba(0, 0, 0, 0.3));\n",
              "      fill: #FFFFFF;\n",
              "    }\n",
              "  </style>\n",
              "\n",
              "    <script>\n",
              "      const buttonEl =\n",
              "        document.querySelector('#df-7caa08cb-ce7f-4c41-9f83-ddc30d2fe54f button.colab-df-convert');\n",
              "      buttonEl.style.display =\n",
              "        google.colab.kernel.accessAllowed ? 'block' : 'none';\n",
              "\n",
              "      async function convertToInteractive(key) {\n",
              "        const element = document.querySelector('#df-7caa08cb-ce7f-4c41-9f83-ddc30d2fe54f');\n",
              "        const dataTable =\n",
              "          await google.colab.kernel.invokeFunction('convertToInteractive',\n",
              "                                                    [key], {});\n",
              "        if (!dataTable) return;\n",
              "\n",
              "        const docLinkHtml = 'Like what you see? Visit the ' +\n",
              "          '<a target=\"_blank\" href=https://colab.research.google.com/notebooks/data_table.ipynb>data table notebook</a>'\n",
              "          + ' to learn more about interactive tables.';\n",
              "        element.innerHTML = '';\n",
              "        dataTable['output_type'] = 'display_data';\n",
              "        await google.colab.output.renderOutput(dataTable, element);\n",
              "        const docLink = document.createElement('div');\n",
              "        docLink.innerHTML = docLinkHtml;\n",
              "        element.appendChild(docLink);\n",
              "      }\n",
              "    </script>\n",
              "  </div>\n",
              "\n",
              "\n",
              "<div id=\"df-cf22491f-5cdf-40e2-ba69-2c04be12ab06\">\n",
              "  <button class=\"colab-df-quickchart\" onclick=\"quickchart('df-cf22491f-5cdf-40e2-ba69-2c04be12ab06')\"\n",
              "            title=\"Suggest charts\"\n",
              "            style=\"display:none;\">\n",
              "\n",
              "<svg xmlns=\"http://www.w3.org/2000/svg\" height=\"24px\"viewBox=\"0 0 24 24\"\n",
              "     width=\"24px\">\n",
              "    <g>\n",
              "        <path d=\"M19 3H5c-1.1 0-2 .9-2 2v14c0 1.1.9 2 2 2h14c1.1 0 2-.9 2-2V5c0-1.1-.9-2-2-2zM9 17H7v-7h2v7zm4 0h-2V7h2v10zm4 0h-2v-4h2v4z\"/>\n",
              "    </g>\n",
              "</svg>\n",
              "  </button>\n",
              "\n",
              "<style>\n",
              "  .colab-df-quickchart {\n",
              "      --bg-color: #E8F0FE;\n",
              "      --fill-color: #1967D2;\n",
              "      --hover-bg-color: #E2EBFA;\n",
              "      --hover-fill-color: #174EA6;\n",
              "      --disabled-fill-color: #AAA;\n",
              "      --disabled-bg-color: #DDD;\n",
              "  }\n",
              "\n",
              "  [theme=dark] .colab-df-quickchart {\n",
              "      --bg-color: #3B4455;\n",
              "      --fill-color: #D2E3FC;\n",
              "      --hover-bg-color: #434B5C;\n",
              "      --hover-fill-color: #FFFFFF;\n",
              "      --disabled-bg-color: #3B4455;\n",
              "      --disabled-fill-color: #666;\n",
              "  }\n",
              "\n",
              "  .colab-df-quickchart {\n",
              "    background-color: var(--bg-color);\n",
              "    border: none;\n",
              "    border-radius: 50%;\n",
              "    cursor: pointer;\n",
              "    display: none;\n",
              "    fill: var(--fill-color);\n",
              "    height: 32px;\n",
              "    padding: 0;\n",
              "    width: 32px;\n",
              "  }\n",
              "\n",
              "  .colab-df-quickchart:hover {\n",
              "    background-color: var(--hover-bg-color);\n",
              "    box-shadow: 0 1px 2px rgba(60, 64, 67, 0.3), 0 1px 3px 1px rgba(60, 64, 67, 0.15);\n",
              "    fill: var(--button-hover-fill-color);\n",
              "  }\n",
              "\n",
              "  .colab-df-quickchart-complete:disabled,\n",
              "  .colab-df-quickchart-complete:disabled:hover {\n",
              "    background-color: var(--disabled-bg-color);\n",
              "    fill: var(--disabled-fill-color);\n",
              "    box-shadow: none;\n",
              "  }\n",
              "\n",
              "  .colab-df-spinner {\n",
              "    border: 2px solid var(--fill-color);\n",
              "    border-color: transparent;\n",
              "    border-bottom-color: var(--fill-color);\n",
              "    animation:\n",
              "      spin 1s steps(1) infinite;\n",
              "  }\n",
              "\n",
              "  @keyframes spin {\n",
              "    0% {\n",
              "      border-color: transparent;\n",
              "      border-bottom-color: var(--fill-color);\n",
              "      border-left-color: var(--fill-color);\n",
              "    }\n",
              "    20% {\n",
              "      border-color: transparent;\n",
              "      border-left-color: var(--fill-color);\n",
              "      border-top-color: var(--fill-color);\n",
              "    }\n",
              "    30% {\n",
              "      border-color: transparent;\n",
              "      border-left-color: var(--fill-color);\n",
              "      border-top-color: var(--fill-color);\n",
              "      border-right-color: var(--fill-color);\n",
              "    }\n",
              "    40% {\n",
              "      border-color: transparent;\n",
              "      border-right-color: var(--fill-color);\n",
              "      border-top-color: var(--fill-color);\n",
              "    }\n",
              "    60% {\n",
              "      border-color: transparent;\n",
              "      border-right-color: var(--fill-color);\n",
              "    }\n",
              "    80% {\n",
              "      border-color: transparent;\n",
              "      border-right-color: var(--fill-color);\n",
              "      border-bottom-color: var(--fill-color);\n",
              "    }\n",
              "    90% {\n",
              "      border-color: transparent;\n",
              "      border-bottom-color: var(--fill-color);\n",
              "    }\n",
              "  }\n",
              "</style>\n",
              "\n",
              "  <script>\n",
              "    async function quickchart(key) {\n",
              "      const quickchartButtonEl =\n",
              "        document.querySelector('#' + key + ' button');\n",
              "      quickchartButtonEl.disabled = true;  // To prevent multiple clicks.\n",
              "      quickchartButtonEl.classList.add('colab-df-spinner');\n",
              "      try {\n",
              "        const charts = await google.colab.kernel.invokeFunction(\n",
              "            'suggestCharts', [key], {});\n",
              "      } catch (error) {\n",
              "        console.error('Error during call to suggestCharts:', error);\n",
              "      }\n",
              "      quickchartButtonEl.classList.remove('colab-df-spinner');\n",
              "      quickchartButtonEl.classList.add('colab-df-quickchart-complete');\n",
              "    }\n",
              "    (() => {\n",
              "      let quickchartButtonEl =\n",
              "        document.querySelector('#df-cf22491f-5cdf-40e2-ba69-2c04be12ab06 button');\n",
              "      quickchartButtonEl.style.display =\n",
              "        google.colab.kernel.accessAllowed ? 'block' : 'none';\n",
              "    })();\n",
              "  </script>\n",
              "</div>\n",
              "    </div>\n",
              "  </div>\n"
            ],
            "text/plain": [
              "                                      communication_score_mean  util_flg_mean  \\\n",
              "employee_id                                                                     \n",
              "98d6f58a-b0da-fbb8-6b08-3a001561bb34                 58.015216       0.747253   \n",
              "7437d136-770f-5b35-194c-b46c1653efaa                 59.159186       0.767745   \n",
              "95151403-b0db-4f75-bfd8-da0b393af853                 60.420846       0.781219   \n",
              "d8d31bd7-78da-8bdd-5361-87c36e48892b                 58.365013       0.755091   \n",
              "7895fc13-088e-e37f-5119-13bac71fa66f                 57.968012       0.750984   \n",
              "\n",
              "                                     sex  region  age  \\\n",
              "employee_id                                             \n",
              "98d6f58a-b0da-fbb8-6b08-3a001561bb34   M       2   36   \n",
              "7437d136-770f-5b35-194c-b46c1653efaa   M       5   35   \n",
              "95151403-b0db-4f75-bfd8-da0b393af853   F       4   29   \n",
              "d8d31bd7-78da-8bdd-5361-87c36e48892b   F       5   33   \n",
              "7895fc13-088e-e37f-5119-13bac71fa66f   F       0   33   \n",
              "\n",
              "                                                          head_employee_id  \\\n",
              "employee_id                                                                  \n",
              "98d6f58a-b0da-fbb8-6b08-3a001561bb34  698d51a1-9d8a-121c-e581-499d7b701668   \n",
              "7437d136-770f-5b35-194c-b46c1653efaa  6f4922f4-5568-161a-8cdf-4ad2299f6d23   \n",
              "95151403-b0db-4f75-bfd8-da0b393af853  e4da3b7f-bbce-2345-d777-2b0674a318d5   \n",
              "d8d31bd7-78da-8bdd-5361-87c36e48892b  28dd2c79-55ce-9264-5624-0b2ff0100bde   \n",
              "7895fc13-088e-e37f-5119-13bac71fa66f  d09bf415-44a3-365a-46c9-077ebb5e35c3   \n",
              "\n",
              "                                      exp_days  edu_degree  department_id  \\\n",
              "employee_id                                                                 \n",
              "98d6f58a-b0da-fbb8-6b08-3a001561bb34      1235           2              1   \n",
              "7437d136-770f-5b35-194c-b46c1653efaa       283           2              2   \n",
              "95151403-b0db-4f75-bfd8-da0b393af853       233           2              1   \n",
              "d8d31bd7-78da-8bdd-5361-87c36e48892b       955           2              0   \n",
              "7895fc13-088e-e37f-5119-13bac71fa66f       181           2              2   \n",
              "\n",
              "                                      work_online_flg  \n",
              "employee_id                                            \n",
              "98d6f58a-b0da-fbb8-6b08-3a001561bb34                1  \n",
              "7437d136-770f-5b35-194c-b46c1653efaa                0  \n",
              "95151403-b0db-4f75-bfd8-da0b393af853                1  \n",
              "d8d31bd7-78da-8bdd-5361-87c36e48892b                0  \n",
              "7895fc13-088e-e37f-5119-13bac71fa66f                0  "
            ]
          },
          "execution_count": 42,
          "metadata": {},
          "output_type": "execute_result"
        }
      ],
      "source": [
        "df_empoyees_agg.head()"
      ]
    },
    {
      "cell_type": "code",
      "execution_count": null,
      "metadata": {
        "colab": {
          "base_uri": "https://localhost:8080/"
        },
        "id": "zoZ9RYgG80S5",
        "outputId": "1ad3fa51-de29-4f47-b157-291f7ec3e0b5"
      },
      "outputs": [
        {
          "data": {
            "text/plain": [
              "True"
            ]
          },
          "execution_count": 43,
          "metadata": {},
          "output_type": "execute_result"
        }
      ],
      "source": [
        "# проверяем, что сотрудники уникальные\n",
        "df_empoyees_agg.index.is_unique"
      ]
    },
    {
      "cell_type": "code",
      "execution_count": null,
      "metadata": {
        "id": "O4eZ2_349wZA"
      },
      "outputs": [],
      "source": [
        "#разбиваем датафрйем двойной выборки на 2 части\n",
        "#формируем группу А и группу Б\n",
        "np.random.seed(0)\n",
        "df_empoyees_agg['group'] = np.random.choice(['A', 'B'], statistical_sample, replace=True,  p=[0.5, 0.5])"
      ]
    },
    {
      "cell_type": "code",
      "execution_count": null,
      "metadata": {
        "colab": {
          "base_uri": "https://localhost:8080/",
          "height": 238
        },
        "id": "dWvku-rPBsbb",
        "outputId": "e37de547-0674-4c77-aa6f-f747765b305b"
      },
      "outputs": [
        {
          "data": {
            "application/vnd.google.colaboratory.intrinsic+json": {
              "summary": "{\n  \"name\": \"df_empoyees_agg\",\n  \"rows\": 2380,\n  \"fields\": [\n    {\n      \"column\": \"employee_id\",\n      \"properties\": {\n        \"dtype\": \"string\",\n        \"num_unique_values\": 2380,\n        \"samples\": [\n          \"aa942ab2-bfa6-ebda-4840-e7360ce6e7ef\",\n          \"285ab944-8d27-51ee-57ec-e7f762c39095\",\n          \"d860bd12-ce9c-0268-14bb-dfc1c573f0f5\"\n        ],\n        \"semantic_type\": \"\",\n        \"description\": \"\"\n      }\n    },\n    {\n      \"column\": \"communication_score_mean\",\n      \"properties\": {\n        \"dtype\": \"number\",\n        \"std\": 1.6965209632889016,\n        \"min\": 54.53803245436105,\n        \"max\": 66.9763481551561,\n        \"num_unique_values\": 2379,\n        \"samples\": [\n          58.00549682875264,\n          58.7007299270073,\n          59.46395250212044\n        ],\n        \"semantic_type\": \"\",\n        \"description\": \"\"\n      }\n    },\n    {\n      \"column\": \"util_flg_mean\",\n      \"properties\": {\n        \"dtype\": \"number\",\n        \"std\": 0.017595440276108345,\n        \"min\": 0.6802519451648759,\n        \"max\": 0.8055678303137428,\n        \"num_unique_values\": 2341,\n        \"samples\": [\n          0.747852233676976,\n          0.7652057245080501,\n          0.7577916295636687\n        ],\n        \"semantic_type\": \"\",\n        \"description\": \"\"\n      }\n    },\n    {\n      \"column\": \"sex\",\n      \"properties\": {\n        \"dtype\": \"category\",\n        \"num_unique_values\": 2,\n        \"samples\": [\n          \"F\",\n          \"M\"\n        ],\n        \"semantic_type\": \"\",\n        \"description\": \"\"\n      }\n    },\n    {\n      \"column\": \"region\",\n      \"properties\": {\n        \"dtype\": \"number\",\n        \"std\": 2,\n        \"min\": 0,\n        \"max\": 7,\n        \"num_unique_values\": 8,\n        \"samples\": [\n          5,\n          3\n        ],\n        \"semantic_type\": \"\",\n        \"description\": \"\"\n      }\n    },\n    {\n      \"column\": \"age\",\n      \"properties\": {\n        \"dtype\": \"number\",\n        \"std\": 6,\n        \"min\": 19,\n        \"max\": 60,\n        \"num_unique_values\": 41,\n        \"samples\": [\n          22,\n          38\n        ],\n        \"semantic_type\": \"\",\n        \"description\": \"\"\n      }\n    },\n    {\n      \"column\": \"head_employee_id\",\n      \"properties\": {\n        \"dtype\": \"category\",\n        \"num_unique_values\": 132,\n        \"samples\": [\n          \"93db85ed-909c-1383-8ff9-5ccfa94cebd9\",\n          \"ec5decca-5ed3-d6b8-079e-2e7e7bacc9f2\"\n        ],\n        \"semantic_type\": \"\",\n        \"description\": \"\"\n      }\n    },\n    {\n      \"column\": \"exp_days\",\n      \"properties\": {\n        \"dtype\": \"number\",\n        \"std\": 374,\n        \"min\": 0,\n        \"max\": 2424,\n        \"num_unique_values\": 1005,\n        \"samples\": [\n          474,\n          200\n        ],\n        \"semantic_type\": \"\",\n        \"description\": \"\"\n      }\n    },\n    {\n      \"column\": \"edu_degree\",\n      \"properties\": {\n        \"dtype\": \"number\",\n        \"std\": 0,\n        \"min\": 0,\n        \"max\": 2,\n        \"num_unique_values\": 3,\n        \"samples\": [\n          2,\n          1\n        ],\n        \"semantic_type\": \"\",\n        \"description\": \"\"\n      }\n    },\n    {\n      \"column\": \"department_id\",\n      \"properties\": {\n        \"dtype\": \"number\",\n        \"std\": 0,\n        \"min\": 0,\n        \"max\": 2,\n        \"num_unique_values\": 3,\n        \"samples\": [\n          1,\n          2\n        ],\n        \"semantic_type\": \"\",\n        \"description\": \"\"\n      }\n    },\n    {\n      \"column\": \"work_online_flg\",\n      \"properties\": {\n        \"dtype\": \"number\",\n        \"std\": 0,\n        \"min\": 0,\n        \"max\": 1,\n        \"num_unique_values\": 2,\n        \"samples\": [\n          0,\n          1\n        ],\n        \"semantic_type\": \"\",\n        \"description\": \"\"\n      }\n    },\n    {\n      \"column\": \"group\",\n      \"properties\": {\n        \"dtype\": \"category\",\n        \"num_unique_values\": 2,\n        \"samples\": [\n          \"A\",\n          \"B\"\n        ],\n        \"semantic_type\": \"\",\n        \"description\": \"\"\n      }\n    }\n  ]\n}",
              "type": "dataframe",
              "variable_name": "df_empoyees_agg"
            },
            "text/html": [
              "\n",
              "  <div id=\"df-b6123fac-551c-4fda-a5bc-c2771a84f071\" class=\"colab-df-container\">\n",
              "    <div>\n",
              "<style scoped>\n",
              "    .dataframe tbody tr th:only-of-type {\n",
              "        vertical-align: middle;\n",
              "    }\n",
              "\n",
              "    .dataframe tbody tr th {\n",
              "        vertical-align: top;\n",
              "    }\n",
              "\n",
              "    .dataframe thead th {\n",
              "        text-align: right;\n",
              "    }\n",
              "</style>\n",
              "<table border=\"1\" class=\"dataframe\">\n",
              "  <thead>\n",
              "    <tr style=\"text-align: right;\">\n",
              "      <th></th>\n",
              "      <th>communication_score_mean</th>\n",
              "      <th>util_flg_mean</th>\n",
              "      <th>sex</th>\n",
              "      <th>region</th>\n",
              "      <th>age</th>\n",
              "      <th>head_employee_id</th>\n",
              "      <th>exp_days</th>\n",
              "      <th>edu_degree</th>\n",
              "      <th>department_id</th>\n",
              "      <th>work_online_flg</th>\n",
              "      <th>group</th>\n",
              "    </tr>\n",
              "    <tr>\n",
              "      <th>employee_id</th>\n",
              "      <th></th>\n",
              "      <th></th>\n",
              "      <th></th>\n",
              "      <th></th>\n",
              "      <th></th>\n",
              "      <th></th>\n",
              "      <th></th>\n",
              "      <th></th>\n",
              "      <th></th>\n",
              "      <th></th>\n",
              "      <th></th>\n",
              "    </tr>\n",
              "  </thead>\n",
              "  <tbody>\n",
              "    <tr>\n",
              "      <th>98d6f58a-b0da-fbb8-6b08-3a001561bb34</th>\n",
              "      <td>58.015216</td>\n",
              "      <td>0.747253</td>\n",
              "      <td>M</td>\n",
              "      <td>2</td>\n",
              "      <td>36</td>\n",
              "      <td>698d51a1-9d8a-121c-e581-499d7b701668</td>\n",
              "      <td>1235</td>\n",
              "      <td>2</td>\n",
              "      <td>1</td>\n",
              "      <td>1</td>\n",
              "      <td>B</td>\n",
              "    </tr>\n",
              "    <tr>\n",
              "      <th>7437d136-770f-5b35-194c-b46c1653efaa</th>\n",
              "      <td>59.159186</td>\n",
              "      <td>0.767745</td>\n",
              "      <td>M</td>\n",
              "      <td>5</td>\n",
              "      <td>35</td>\n",
              "      <td>6f4922f4-5568-161a-8cdf-4ad2299f6d23</td>\n",
              "      <td>283</td>\n",
              "      <td>2</td>\n",
              "      <td>2</td>\n",
              "      <td>0</td>\n",
              "      <td>B</td>\n",
              "    </tr>\n",
              "    <tr>\n",
              "      <th>95151403-b0db-4f75-bfd8-da0b393af853</th>\n",
              "      <td>60.420846</td>\n",
              "      <td>0.781219</td>\n",
              "      <td>F</td>\n",
              "      <td>4</td>\n",
              "      <td>29</td>\n",
              "      <td>e4da3b7f-bbce-2345-d777-2b0674a318d5</td>\n",
              "      <td>233</td>\n",
              "      <td>2</td>\n",
              "      <td>1</td>\n",
              "      <td>1</td>\n",
              "      <td>B</td>\n",
              "    </tr>\n",
              "    <tr>\n",
              "      <th>d8d31bd7-78da-8bdd-5361-87c36e48892b</th>\n",
              "      <td>58.365013</td>\n",
              "      <td>0.755091</td>\n",
              "      <td>F</td>\n",
              "      <td>5</td>\n",
              "      <td>33</td>\n",
              "      <td>28dd2c79-55ce-9264-5624-0b2ff0100bde</td>\n",
              "      <td>955</td>\n",
              "      <td>2</td>\n",
              "      <td>0</td>\n",
              "      <td>0</td>\n",
              "      <td>B</td>\n",
              "    </tr>\n",
              "    <tr>\n",
              "      <th>7895fc13-088e-e37f-5119-13bac71fa66f</th>\n",
              "      <td>57.968012</td>\n",
              "      <td>0.750984</td>\n",
              "      <td>F</td>\n",
              "      <td>0</td>\n",
              "      <td>33</td>\n",
              "      <td>d09bf415-44a3-365a-46c9-077ebb5e35c3</td>\n",
              "      <td>181</td>\n",
              "      <td>2</td>\n",
              "      <td>2</td>\n",
              "      <td>0</td>\n",
              "      <td>A</td>\n",
              "    </tr>\n",
              "  </tbody>\n",
              "</table>\n",
              "</div>\n",
              "    <div class=\"colab-df-buttons\">\n",
              "\n",
              "  <div class=\"colab-df-container\">\n",
              "    <button class=\"colab-df-convert\" onclick=\"convertToInteractive('df-b6123fac-551c-4fda-a5bc-c2771a84f071')\"\n",
              "            title=\"Convert this dataframe to an interactive table.\"\n",
              "            style=\"display:none;\">\n",
              "\n",
              "  <svg xmlns=\"http://www.w3.org/2000/svg\" height=\"24px\" viewBox=\"0 -960 960 960\">\n",
              "    <path d=\"M120-120v-720h720v720H120Zm60-500h600v-160H180v160Zm220 220h160v-160H400v160Zm0 220h160v-160H400v160ZM180-400h160v-160H180v160Zm440 0h160v-160H620v160ZM180-180h160v-160H180v160Zm440 0h160v-160H620v160Z\"/>\n",
              "  </svg>\n",
              "    </button>\n",
              "\n",
              "  <style>\n",
              "    .colab-df-container {\n",
              "      display:flex;\n",
              "      gap: 12px;\n",
              "    }\n",
              "\n",
              "    .colab-df-convert {\n",
              "      background-color: #E8F0FE;\n",
              "      border: none;\n",
              "      border-radius: 50%;\n",
              "      cursor: pointer;\n",
              "      display: none;\n",
              "      fill: #1967D2;\n",
              "      height: 32px;\n",
              "      padding: 0 0 0 0;\n",
              "      width: 32px;\n",
              "    }\n",
              "\n",
              "    .colab-df-convert:hover {\n",
              "      background-color: #E2EBFA;\n",
              "      box-shadow: 0px 1px 2px rgba(60, 64, 67, 0.3), 0px 1px 3px 1px rgba(60, 64, 67, 0.15);\n",
              "      fill: #174EA6;\n",
              "    }\n",
              "\n",
              "    .colab-df-buttons div {\n",
              "      margin-bottom: 4px;\n",
              "    }\n",
              "\n",
              "    [theme=dark] .colab-df-convert {\n",
              "      background-color: #3B4455;\n",
              "      fill: #D2E3FC;\n",
              "    }\n",
              "\n",
              "    [theme=dark] .colab-df-convert:hover {\n",
              "      background-color: #434B5C;\n",
              "      box-shadow: 0px 1px 3px 1px rgba(0, 0, 0, 0.15);\n",
              "      filter: drop-shadow(0px 1px 2px rgba(0, 0, 0, 0.3));\n",
              "      fill: #FFFFFF;\n",
              "    }\n",
              "  </style>\n",
              "\n",
              "    <script>\n",
              "      const buttonEl =\n",
              "        document.querySelector('#df-b6123fac-551c-4fda-a5bc-c2771a84f071 button.colab-df-convert');\n",
              "      buttonEl.style.display =\n",
              "        google.colab.kernel.accessAllowed ? 'block' : 'none';\n",
              "\n",
              "      async function convertToInteractive(key) {\n",
              "        const element = document.querySelector('#df-b6123fac-551c-4fda-a5bc-c2771a84f071');\n",
              "        const dataTable =\n",
              "          await google.colab.kernel.invokeFunction('convertToInteractive',\n",
              "                                                    [key], {});\n",
              "        if (!dataTable) return;\n",
              "\n",
              "        const docLinkHtml = 'Like what you see? Visit the ' +\n",
              "          '<a target=\"_blank\" href=https://colab.research.google.com/notebooks/data_table.ipynb>data table notebook</a>'\n",
              "          + ' to learn more about interactive tables.';\n",
              "        element.innerHTML = '';\n",
              "        dataTable['output_type'] = 'display_data';\n",
              "        await google.colab.output.renderOutput(dataTable, element);\n",
              "        const docLink = document.createElement('div');\n",
              "        docLink.innerHTML = docLinkHtml;\n",
              "        element.appendChild(docLink);\n",
              "      }\n",
              "    </script>\n",
              "  </div>\n",
              "\n",
              "\n",
              "<div id=\"df-175b545b-8305-4d95-a5e8-b1773a252ef6\">\n",
              "  <button class=\"colab-df-quickchart\" onclick=\"quickchart('df-175b545b-8305-4d95-a5e8-b1773a252ef6')\"\n",
              "            title=\"Suggest charts\"\n",
              "            style=\"display:none;\">\n",
              "\n",
              "<svg xmlns=\"http://www.w3.org/2000/svg\" height=\"24px\"viewBox=\"0 0 24 24\"\n",
              "     width=\"24px\">\n",
              "    <g>\n",
              "        <path d=\"M19 3H5c-1.1 0-2 .9-2 2v14c0 1.1.9 2 2 2h14c1.1 0 2-.9 2-2V5c0-1.1-.9-2-2-2zM9 17H7v-7h2v7zm4 0h-2V7h2v10zm4 0h-2v-4h2v4z\"/>\n",
              "    </g>\n",
              "</svg>\n",
              "  </button>\n",
              "\n",
              "<style>\n",
              "  .colab-df-quickchart {\n",
              "      --bg-color: #E8F0FE;\n",
              "      --fill-color: #1967D2;\n",
              "      --hover-bg-color: #E2EBFA;\n",
              "      --hover-fill-color: #174EA6;\n",
              "      --disabled-fill-color: #AAA;\n",
              "      --disabled-bg-color: #DDD;\n",
              "  }\n",
              "\n",
              "  [theme=dark] .colab-df-quickchart {\n",
              "      --bg-color: #3B4455;\n",
              "      --fill-color: #D2E3FC;\n",
              "      --hover-bg-color: #434B5C;\n",
              "      --hover-fill-color: #FFFFFF;\n",
              "      --disabled-bg-color: #3B4455;\n",
              "      --disabled-fill-color: #666;\n",
              "  }\n",
              "\n",
              "  .colab-df-quickchart {\n",
              "    background-color: var(--bg-color);\n",
              "    border: none;\n",
              "    border-radius: 50%;\n",
              "    cursor: pointer;\n",
              "    display: none;\n",
              "    fill: var(--fill-color);\n",
              "    height: 32px;\n",
              "    padding: 0;\n",
              "    width: 32px;\n",
              "  }\n",
              "\n",
              "  .colab-df-quickchart:hover {\n",
              "    background-color: var(--hover-bg-color);\n",
              "    box-shadow: 0 1px 2px rgba(60, 64, 67, 0.3), 0 1px 3px 1px rgba(60, 64, 67, 0.15);\n",
              "    fill: var(--button-hover-fill-color);\n",
              "  }\n",
              "\n",
              "  .colab-df-quickchart-complete:disabled,\n",
              "  .colab-df-quickchart-complete:disabled:hover {\n",
              "    background-color: var(--disabled-bg-color);\n",
              "    fill: var(--disabled-fill-color);\n",
              "    box-shadow: none;\n",
              "  }\n",
              "\n",
              "  .colab-df-spinner {\n",
              "    border: 2px solid var(--fill-color);\n",
              "    border-color: transparent;\n",
              "    border-bottom-color: var(--fill-color);\n",
              "    animation:\n",
              "      spin 1s steps(1) infinite;\n",
              "  }\n",
              "\n",
              "  @keyframes spin {\n",
              "    0% {\n",
              "      border-color: transparent;\n",
              "      border-bottom-color: var(--fill-color);\n",
              "      border-left-color: var(--fill-color);\n",
              "    }\n",
              "    20% {\n",
              "      border-color: transparent;\n",
              "      border-left-color: var(--fill-color);\n",
              "      border-top-color: var(--fill-color);\n",
              "    }\n",
              "    30% {\n",
              "      border-color: transparent;\n",
              "      border-left-color: var(--fill-color);\n",
              "      border-top-color: var(--fill-color);\n",
              "      border-right-color: var(--fill-color);\n",
              "    }\n",
              "    40% {\n",
              "      border-color: transparent;\n",
              "      border-right-color: var(--fill-color);\n",
              "      border-top-color: var(--fill-color);\n",
              "    }\n",
              "    60% {\n",
              "      border-color: transparent;\n",
              "      border-right-color: var(--fill-color);\n",
              "    }\n",
              "    80% {\n",
              "      border-color: transparent;\n",
              "      border-right-color: var(--fill-color);\n",
              "      border-bottom-color: var(--fill-color);\n",
              "    }\n",
              "    90% {\n",
              "      border-color: transparent;\n",
              "      border-bottom-color: var(--fill-color);\n",
              "    }\n",
              "  }\n",
              "</style>\n",
              "\n",
              "  <script>\n",
              "    async function quickchart(key) {\n",
              "      const quickchartButtonEl =\n",
              "        document.querySelector('#' + key + ' button');\n",
              "      quickchartButtonEl.disabled = true;  // To prevent multiple clicks.\n",
              "      quickchartButtonEl.classList.add('colab-df-spinner');\n",
              "      try {\n",
              "        const charts = await google.colab.kernel.invokeFunction(\n",
              "            'suggestCharts', [key], {});\n",
              "      } catch (error) {\n",
              "        console.error('Error during call to suggestCharts:', error);\n",
              "      }\n",
              "      quickchartButtonEl.classList.remove('colab-df-spinner');\n",
              "      quickchartButtonEl.classList.add('colab-df-quickchart-complete');\n",
              "    }\n",
              "    (() => {\n",
              "      let quickchartButtonEl =\n",
              "        document.querySelector('#df-175b545b-8305-4d95-a5e8-b1773a252ef6 button');\n",
              "      quickchartButtonEl.style.display =\n",
              "        google.colab.kernel.accessAllowed ? 'block' : 'none';\n",
              "    })();\n",
              "  </script>\n",
              "</div>\n",
              "    </div>\n",
              "  </div>\n"
            ],
            "text/plain": [
              "                                      communication_score_mean  util_flg_mean  \\\n",
              "employee_id                                                                     \n",
              "98d6f58a-b0da-fbb8-6b08-3a001561bb34                 58.015216       0.747253   \n",
              "7437d136-770f-5b35-194c-b46c1653efaa                 59.159186       0.767745   \n",
              "95151403-b0db-4f75-bfd8-da0b393af853                 60.420846       0.781219   \n",
              "d8d31bd7-78da-8bdd-5361-87c36e48892b                 58.365013       0.755091   \n",
              "7895fc13-088e-e37f-5119-13bac71fa66f                 57.968012       0.750984   \n",
              "\n",
              "                                     sex  region  age  \\\n",
              "employee_id                                             \n",
              "98d6f58a-b0da-fbb8-6b08-3a001561bb34   M       2   36   \n",
              "7437d136-770f-5b35-194c-b46c1653efaa   M       5   35   \n",
              "95151403-b0db-4f75-bfd8-da0b393af853   F       4   29   \n",
              "d8d31bd7-78da-8bdd-5361-87c36e48892b   F       5   33   \n",
              "7895fc13-088e-e37f-5119-13bac71fa66f   F       0   33   \n",
              "\n",
              "                                                          head_employee_id  \\\n",
              "employee_id                                                                  \n",
              "98d6f58a-b0da-fbb8-6b08-3a001561bb34  698d51a1-9d8a-121c-e581-499d7b701668   \n",
              "7437d136-770f-5b35-194c-b46c1653efaa  6f4922f4-5568-161a-8cdf-4ad2299f6d23   \n",
              "95151403-b0db-4f75-bfd8-da0b393af853  e4da3b7f-bbce-2345-d777-2b0674a318d5   \n",
              "d8d31bd7-78da-8bdd-5361-87c36e48892b  28dd2c79-55ce-9264-5624-0b2ff0100bde   \n",
              "7895fc13-088e-e37f-5119-13bac71fa66f  d09bf415-44a3-365a-46c9-077ebb5e35c3   \n",
              "\n",
              "                                      exp_days  edu_degree  department_id  \\\n",
              "employee_id                                                                 \n",
              "98d6f58a-b0da-fbb8-6b08-3a001561bb34      1235           2              1   \n",
              "7437d136-770f-5b35-194c-b46c1653efaa       283           2              2   \n",
              "95151403-b0db-4f75-bfd8-da0b393af853       233           2              1   \n",
              "d8d31bd7-78da-8bdd-5361-87c36e48892b       955           2              0   \n",
              "7895fc13-088e-e37f-5119-13bac71fa66f       181           2              2   \n",
              "\n",
              "                                      work_online_flg group  \n",
              "employee_id                                                  \n",
              "98d6f58a-b0da-fbb8-6b08-3a001561bb34                1     B  \n",
              "7437d136-770f-5b35-194c-b46c1653efaa                0     B  \n",
              "95151403-b0db-4f75-bfd8-da0b393af853                1     B  \n",
              "d8d31bd7-78da-8bdd-5361-87c36e48892b                0     B  \n",
              "7895fc13-088e-e37f-5119-13bac71fa66f                0     A  "
            ]
          },
          "execution_count": 46,
          "metadata": {},
          "output_type": "execute_result"
        }
      ],
      "source": [
        "df_empoyees_agg.head()"
      ]
    },
    {
      "cell_type": "code",
      "execution_count": null,
      "metadata": {
        "colab": {
          "base_uri": "https://localhost:8080/"
        },
        "id": "B9nyy0u-aiJV",
        "outputId": "fc2b1ee2-ed27-402f-deb5-38c94f420cac"
      },
      "outputs": [
        {
          "data": {
            "text/plain": [
              "group\n",
              "B    1196\n",
              "A    1184\n",
              "Name: count, dtype: int64"
            ]
          },
          "execution_count": 47,
          "metadata": {},
          "output_type": "execute_result"
        }
      ],
      "source": [
        "#проверим разбиение групп\n",
        "df_empoyees_agg['group'].value_counts()"
      ]
    },
    {
      "cell_type": "code",
      "execution_count": null,
      "metadata": {
        "colab": {
          "base_uri": "https://localhost:8080/",
          "height": 143
        },
        "id": "9DncD3EFQ-5x",
        "outputId": "d379a351-647d-4813-874a-48dff6bd6c40"
      },
      "outputs": [
        {
          "data": {
            "application/vnd.google.colaboratory.intrinsic+json": {
              "summary": "{\n  \"name\": \"group_mean_result_aggregate\",\n  \"rows\": 2,\n  \"fields\": [\n    {\n      \"column\": \"group\",\n      \"properties\": {\n        \"dtype\": \"string\",\n        \"num_unique_values\": 2,\n        \"samples\": [\n          \"B\",\n          \"A\"\n        ],\n        \"semantic_type\": \"\",\n        \"description\": \"\"\n      }\n    },\n    {\n      \"column\": \"communication_score_mean\",\n      \"properties\": {\n        \"dtype\": \"number\",\n        \"std\": 0.047476123615549516,\n        \"min\": 58.515679446640966,\n        \"max\": 58.58282082454698,\n        \"num_unique_values\": 2,\n        \"samples\": [\n          58.58282082454698,\n          58.515679446640966\n        ],\n        \"semantic_type\": \"\",\n        \"description\": \"\"\n      }\n    },\n    {\n      \"column\": \"util_flg_mean\",\n      \"properties\": {\n        \"dtype\": \"number\",\n        \"std\": 0.011277197779361769,\n        \"min\": 75.23148964795735,\n        \"max\": 75.24743801400248,\n        \"num_unique_values\": 2,\n        \"samples\": [\n          75.24743801400248,\n          75.23148964795735\n        ],\n        \"semantic_type\": \"\",\n        \"description\": \"\"\n      }\n    }\n  ]\n}",
              "type": "dataframe",
              "variable_name": "group_mean_result_aggregate"
            },
            "text/html": [
              "\n",
              "  <div id=\"df-94072f4b-2051-48df-a031-b712caeffdf8\" class=\"colab-df-container\">\n",
              "    <div>\n",
              "<style scoped>\n",
              "    .dataframe tbody tr th:only-of-type {\n",
              "        vertical-align: middle;\n",
              "    }\n",
              "\n",
              "    .dataframe tbody tr th {\n",
              "        vertical-align: top;\n",
              "    }\n",
              "\n",
              "    .dataframe thead th {\n",
              "        text-align: right;\n",
              "    }\n",
              "</style>\n",
              "<table border=\"1\" class=\"dataframe\">\n",
              "  <thead>\n",
              "    <tr style=\"text-align: right;\">\n",
              "      <th></th>\n",
              "      <th>communication_score_mean</th>\n",
              "      <th>util_flg_mean</th>\n",
              "    </tr>\n",
              "    <tr>\n",
              "      <th>group</th>\n",
              "      <th></th>\n",
              "      <th></th>\n",
              "    </tr>\n",
              "  </thead>\n",
              "  <tbody>\n",
              "    <tr>\n",
              "      <th>A</th>\n",
              "      <td>58.515679</td>\n",
              "      <td>75.231490</td>\n",
              "    </tr>\n",
              "    <tr>\n",
              "      <th>B</th>\n",
              "      <td>58.582821</td>\n",
              "      <td>75.247438</td>\n",
              "    </tr>\n",
              "  </tbody>\n",
              "</table>\n",
              "</div>\n",
              "    <div class=\"colab-df-buttons\">\n",
              "\n",
              "  <div class=\"colab-df-container\">\n",
              "    <button class=\"colab-df-convert\" onclick=\"convertToInteractive('df-94072f4b-2051-48df-a031-b712caeffdf8')\"\n",
              "            title=\"Convert this dataframe to an interactive table.\"\n",
              "            style=\"display:none;\">\n",
              "\n",
              "  <svg xmlns=\"http://www.w3.org/2000/svg\" height=\"24px\" viewBox=\"0 -960 960 960\">\n",
              "    <path d=\"M120-120v-720h720v720H120Zm60-500h600v-160H180v160Zm220 220h160v-160H400v160Zm0 220h160v-160H400v160ZM180-400h160v-160H180v160Zm440 0h160v-160H620v160ZM180-180h160v-160H180v160Zm440 0h160v-160H620v160Z\"/>\n",
              "  </svg>\n",
              "    </button>\n",
              "\n",
              "  <style>\n",
              "    .colab-df-container {\n",
              "      display:flex;\n",
              "      gap: 12px;\n",
              "    }\n",
              "\n",
              "    .colab-df-convert {\n",
              "      background-color: #E8F0FE;\n",
              "      border: none;\n",
              "      border-radius: 50%;\n",
              "      cursor: pointer;\n",
              "      display: none;\n",
              "      fill: #1967D2;\n",
              "      height: 32px;\n",
              "      padding: 0 0 0 0;\n",
              "      width: 32px;\n",
              "    }\n",
              "\n",
              "    .colab-df-convert:hover {\n",
              "      background-color: #E2EBFA;\n",
              "      box-shadow: 0px 1px 2px rgba(60, 64, 67, 0.3), 0px 1px 3px 1px rgba(60, 64, 67, 0.15);\n",
              "      fill: #174EA6;\n",
              "    }\n",
              "\n",
              "    .colab-df-buttons div {\n",
              "      margin-bottom: 4px;\n",
              "    }\n",
              "\n",
              "    [theme=dark] .colab-df-convert {\n",
              "      background-color: #3B4455;\n",
              "      fill: #D2E3FC;\n",
              "    }\n",
              "\n",
              "    [theme=dark] .colab-df-convert:hover {\n",
              "      background-color: #434B5C;\n",
              "      box-shadow: 0px 1px 3px 1px rgba(0, 0, 0, 0.15);\n",
              "      filter: drop-shadow(0px 1px 2px rgba(0, 0, 0, 0.3));\n",
              "      fill: #FFFFFF;\n",
              "    }\n",
              "  </style>\n",
              "\n",
              "    <script>\n",
              "      const buttonEl =\n",
              "        document.querySelector('#df-94072f4b-2051-48df-a031-b712caeffdf8 button.colab-df-convert');\n",
              "      buttonEl.style.display =\n",
              "        google.colab.kernel.accessAllowed ? 'block' : 'none';\n",
              "\n",
              "      async function convertToInteractive(key) {\n",
              "        const element = document.querySelector('#df-94072f4b-2051-48df-a031-b712caeffdf8');\n",
              "        const dataTable =\n",
              "          await google.colab.kernel.invokeFunction('convertToInteractive',\n",
              "                                                    [key], {});\n",
              "        if (!dataTable) return;\n",
              "\n",
              "        const docLinkHtml = 'Like what you see? Visit the ' +\n",
              "          '<a target=\"_blank\" href=https://colab.research.google.com/notebooks/data_table.ipynb>data table notebook</a>'\n",
              "          + ' to learn more about interactive tables.';\n",
              "        element.innerHTML = '';\n",
              "        dataTable['output_type'] = 'display_data';\n",
              "        await google.colab.output.renderOutput(dataTable, element);\n",
              "        const docLink = document.createElement('div');\n",
              "        docLink.innerHTML = docLinkHtml;\n",
              "        element.appendChild(docLink);\n",
              "      }\n",
              "    </script>\n",
              "  </div>\n",
              "\n",
              "\n",
              "<div id=\"df-867777d7-9484-428b-980a-7c88fedaf4f0\">\n",
              "  <button class=\"colab-df-quickchart\" onclick=\"quickchart('df-867777d7-9484-428b-980a-7c88fedaf4f0')\"\n",
              "            title=\"Suggest charts\"\n",
              "            style=\"display:none;\">\n",
              "\n",
              "<svg xmlns=\"http://www.w3.org/2000/svg\" height=\"24px\"viewBox=\"0 0 24 24\"\n",
              "     width=\"24px\">\n",
              "    <g>\n",
              "        <path d=\"M19 3H5c-1.1 0-2 .9-2 2v14c0 1.1.9 2 2 2h14c1.1 0 2-.9 2-2V5c0-1.1-.9-2-2-2zM9 17H7v-7h2v7zm4 0h-2V7h2v10zm4 0h-2v-4h2v4z\"/>\n",
              "    </g>\n",
              "</svg>\n",
              "  </button>\n",
              "\n",
              "<style>\n",
              "  .colab-df-quickchart {\n",
              "      --bg-color: #E8F0FE;\n",
              "      --fill-color: #1967D2;\n",
              "      --hover-bg-color: #E2EBFA;\n",
              "      --hover-fill-color: #174EA6;\n",
              "      --disabled-fill-color: #AAA;\n",
              "      --disabled-bg-color: #DDD;\n",
              "  }\n",
              "\n",
              "  [theme=dark] .colab-df-quickchart {\n",
              "      --bg-color: #3B4455;\n",
              "      --fill-color: #D2E3FC;\n",
              "      --hover-bg-color: #434B5C;\n",
              "      --hover-fill-color: #FFFFFF;\n",
              "      --disabled-bg-color: #3B4455;\n",
              "      --disabled-fill-color: #666;\n",
              "  }\n",
              "\n",
              "  .colab-df-quickchart {\n",
              "    background-color: var(--bg-color);\n",
              "    border: none;\n",
              "    border-radius: 50%;\n",
              "    cursor: pointer;\n",
              "    display: none;\n",
              "    fill: var(--fill-color);\n",
              "    height: 32px;\n",
              "    padding: 0;\n",
              "    width: 32px;\n",
              "  }\n",
              "\n",
              "  .colab-df-quickchart:hover {\n",
              "    background-color: var(--hover-bg-color);\n",
              "    box-shadow: 0 1px 2px rgba(60, 64, 67, 0.3), 0 1px 3px 1px rgba(60, 64, 67, 0.15);\n",
              "    fill: var(--button-hover-fill-color);\n",
              "  }\n",
              "\n",
              "  .colab-df-quickchart-complete:disabled,\n",
              "  .colab-df-quickchart-complete:disabled:hover {\n",
              "    background-color: var(--disabled-bg-color);\n",
              "    fill: var(--disabled-fill-color);\n",
              "    box-shadow: none;\n",
              "  }\n",
              "\n",
              "  .colab-df-spinner {\n",
              "    border: 2px solid var(--fill-color);\n",
              "    border-color: transparent;\n",
              "    border-bottom-color: var(--fill-color);\n",
              "    animation:\n",
              "      spin 1s steps(1) infinite;\n",
              "  }\n",
              "\n",
              "  @keyframes spin {\n",
              "    0% {\n",
              "      border-color: transparent;\n",
              "      border-bottom-color: var(--fill-color);\n",
              "      border-left-color: var(--fill-color);\n",
              "    }\n",
              "    20% {\n",
              "      border-color: transparent;\n",
              "      border-left-color: var(--fill-color);\n",
              "      border-top-color: var(--fill-color);\n",
              "    }\n",
              "    30% {\n",
              "      border-color: transparent;\n",
              "      border-left-color: var(--fill-color);\n",
              "      border-top-color: var(--fill-color);\n",
              "      border-right-color: var(--fill-color);\n",
              "    }\n",
              "    40% {\n",
              "      border-color: transparent;\n",
              "      border-right-color: var(--fill-color);\n",
              "      border-top-color: var(--fill-color);\n",
              "    }\n",
              "    60% {\n",
              "      border-color: transparent;\n",
              "      border-right-color: var(--fill-color);\n",
              "    }\n",
              "    80% {\n",
              "      border-color: transparent;\n",
              "      border-right-color: var(--fill-color);\n",
              "      border-bottom-color: var(--fill-color);\n",
              "    }\n",
              "    90% {\n",
              "      border-color: transparent;\n",
              "      border-bottom-color: var(--fill-color);\n",
              "    }\n",
              "  }\n",
              "</style>\n",
              "\n",
              "  <script>\n",
              "    async function quickchart(key) {\n",
              "      const quickchartButtonEl =\n",
              "        document.querySelector('#' + key + ' button');\n",
              "      quickchartButtonEl.disabled = true;  // To prevent multiple clicks.\n",
              "      quickchartButtonEl.classList.add('colab-df-spinner');\n",
              "      try {\n",
              "        const charts = await google.colab.kernel.invokeFunction(\n",
              "            'suggestCharts', [key], {});\n",
              "      } catch (error) {\n",
              "        console.error('Error during call to suggestCharts:', error);\n",
              "      }\n",
              "      quickchartButtonEl.classList.remove('colab-df-spinner');\n",
              "      quickchartButtonEl.classList.add('colab-df-quickchart-complete');\n",
              "    }\n",
              "    (() => {\n",
              "      let quickchartButtonEl =\n",
              "        document.querySelector('#df-867777d7-9484-428b-980a-7c88fedaf4f0 button');\n",
              "      quickchartButtonEl.style.display =\n",
              "        google.colab.kernel.accessAllowed ? 'block' : 'none';\n",
              "    })();\n",
              "  </script>\n",
              "</div>\n",
              "    </div>\n",
              "  </div>\n"
            ],
            "text/plain": [
              "       communication_score_mean  util_flg_mean\n",
              "group                                         \n",
              "A                     58.515679      75.231490\n",
              "B                     58.582821      75.247438"
            ]
          },
          "execution_count": 48,
          "metadata": {},
          "output_type": "execute_result"
        }
      ],
      "source": [
        "#средняя эффективность работников по группам А и B\n",
        "group_mean_result_aggregate = df_empoyees_agg.groupby('group')[['communication_score_mean', 'util_flg_mean']].mean()\n",
        "#приведем метрики к одному масштабу\n",
        "group_mean_result_aggregate['util_flg_mean'] = group_mean_result_aggregate['util_flg_mean'] * 100\n",
        "group_mean_result_aggregate"
      ]
    },
    {
      "cell_type": "markdown",
      "metadata": {},
      "source": [
        "## 1. Формулируем гипотезу\n",
        "### В основе любого A/B теста лежит проблема (ситуация), которую нам надо решить (разрешить) или некое поведение пользователя, которое нам нужно изменить или, наоборот, закрепить. Выявив проблему, продакт менеджер формулирует гипотезу — предположение, которое либо подтверждается, либо опровергается в результате эксперимента.\n",
        "\n",
        "### Для правильной оценки результатов выделяют два типа гипотез:\n",
        "\n",
        "### Нулевая. Изменения ни к чему не приведут, конверсия остается прежней (задача — опровергнуть гипотезу).\n",
        "\n",
        "### Альтернативная. Изменения приведут к повышению метрики конверсии на 5% или более или качеству общения с клиентами на 5% или более.\n",
        "\n",
        "![Разделение выборки](../others/расчет_выборки.jpg)"
      ]
    },
    {
      "cell_type": "markdown",
      "metadata": {
        "id": "x1RwZ56wUARJ"
      },
      "source": [
        "## 2. Выбираем целевую, прокси и контр-метрики.\n",
        "### - Целевая метрика - конверсия.\n",
        "###### Целевая метрика — метрика, на которую вы намерены позитивно повлиять.\n",
        "### - Прокси метрика - качество разговоров.\n",
        "##### Прокси метрика — это косвенная мера целевой метрики, с которой она сильно коррелирует.\n",
        "### - Контр метрики - количество рабочих часов сотрудников для работы с клиентами, а также количество времени, потраченное на одного клиента.\n",
        "##### Контр метрики — те метрики, которые вы можете подвергнуть падению в вашем АВ тесте."
      ]
    },
    {
      "cell_type": "markdown",
      "metadata": {
        "id": "rpj_S8Irbxe9"
      },
      "source": [
        "## 3. Способ тестирования гипотезы.\n",
        "### Сотрудники из выборки А обучаются в прежнем режиме, сотрудники из выборки Б проходят курсы с соответствие с новой системой рекомендаций."
      ]
    },
    {
      "cell_type": "markdown",
      "metadata": {
        "id": "yGeGwguOeZg-"
      },
      "source": [
        "## 4. Определяем допустимый уровень значимости\n",
        "### Допустимый уровень значимости (α - Альфа) - это вероятность того, что мы ошибочно отклоняем нулевую гипотезу, то есть гипотезу о том, что между двумя группами не существует статистически значимых различий. Обычно допустимый уровень значимости для А/В тестирования составляет 0,05 (или 5%). Это означает, что если у нас есть статистически значимый результат с уровнем значимости 0,05, то вероятность того, что мы сделали ошибку и нулевая гипотеза на самом деле верна, составляет 5%."
      ]
    },
    {
      "cell_type": "markdown",
      "metadata": {
        "id": "ycC_CFYXfCLC"
      },
      "source": [
        "## 5.Считаем Minimum Detectable Effect\n",
        "### MDE (Minimum Detectable Effect) - это минимальный обнаруживаемый эффект, т.е. минимальное изменение метрики, которое вы сможете обнаружить с заданной вероятностью и статистической значимостью в А/В тесте.\n",
        "\n",
        "## При текущем размере выборки - 2381 человек - минимально обнаруживаемый эффект составляет около 5%. Расчет можно произвести в онлайн калькуляторе ниже. В противном случае резко возрастает продолжительность АБ теста."
      ]
    },
    {
      "cell_type": "code",
      "execution_count": null,
      "metadata": {
        "colab": {
          "base_uri": "https://localhost:8080/",
          "height": 35
        },
        "id": "qqe4Iap_jAO3",
        "outputId": "2d584f67-615b-4455-9c81-15d7ae7edb84"
      },
      "outputs": [
        {
          "data": {
            "application/vnd.google.colaboratory.intrinsic+json": {
              "type": "string"
            },
            "text/plain": [
              "'https://www.evanmiller.org/ab-testing/sample-size.html'"
            ]
          },
          "execution_count": 49,
          "metadata": {},
          "output_type": "execute_result"
        }
      ],
      "source": [
        "#Сайт для расчета выборки\n",
        "'https://www.evanmiller.org/ab-testing/sample-size.html'"
      ]
    },
    {
      "cell_type": "markdown",
      "metadata": {
        "id": "ZOpTZzaiiG_N"
      },
      "source": [
        "## Примем мощность АB теста 0.8 (вероятность увидеть различия там, где они действительно есть), p_value 0.05 и исходя их этого вычислим минимальное количество наблюдений для теста по методу Хи квадрат."
      ]
    },
    {
      "cell_type": "code",
      "execution_count": null,
      "metadata": {
        "id": "1GStHDu6FNmu"
      },
      "outputs": [],
      "source": [
        "#параментры расчета продолжительности теста\n",
        "power = 0.8\n",
        "pval = 0.05\n",
        "group_count = 1180"
      ]
    },
    {
      "cell_type": "code",
      "execution_count": null,
      "metadata": {
        "id": "gwi4xrnaFm-K"
      },
      "outputs": [],
      "source": [
        "#Воспользуемся критирием Хи квадрат\n",
        "chipower = smp.GofChisquarePower()"
      ]
    },
    {
      "cell_type": "code",
      "execution_count": null,
      "metadata": {
        "id": "VDYF_XzXUygH"
      },
      "outputs": [],
      "source": [
        "#ф-ция расчета параметра effect_size для ф-ции chipower.solve_power(), где p0 - метрика контрольной группы, а р1 - тестовой\n",
        "def chi2_effect_size(p0:float, p1:float):\n",
        "    return np.sqrt((p0 - p1)**2/p0)"
      ]
    },
    {
      "cell_type": "code",
      "execution_count": null,
      "metadata": {
        "id": "_jWBnSHNWjE2"
      },
      "outputs": [],
      "source": [
        "# средние метрики по коммуникации\n",
        "p0_communication_score_mean, p1_communication_score_mean = group_mean_result_aggregate['communication_score_mean'].values\n",
        "# средние метрики по коммуникации\n",
        "p0_util_flg_mean, p1_util_flg_mean = group_mean_result_aggregate['util_flg_mean'].values"
      ]
    },
    {
      "cell_type": "code",
      "execution_count": null,
      "metadata": {
        "colab": {
          "base_uri": "https://localhost:8080/"
        },
        "id": "_N_hGAAwGMZL",
        "outputId": "7c1c4898-04c2-4779-a890-3b11cbbc9ff4"
      },
      "outputs": [
        {
          "data": {
            "text/plain": [
              "101882"
            ]
          },
          "execution_count": 54,
          "metadata": {},
          "output_type": "execute_result"
        }
      ],
      "source": [
        "# найдем число наблюдений для определения изменения уровня коммуникации\n",
        "count_nobs_for_communication = round(chipower.solve_power(effect_size =chi2_effect_size(p0_communication_score_mean, p1_communication_score_mean), nobs=None, alpha = pval, power=power))\n",
        "count_nobs_for_communication"
      ]
    },
    {
      "cell_type": "code",
      "execution_count": null,
      "metadata": {
        "colab": {
          "base_uri": "https://localhost:8080/"
        },
        "id": "8L3koVOyX19V",
        "outputId": "21ac0f8c-a916-44b7-9c51-cd73cb77828f"
      },
      "outputs": [
        {
          "data": {
            "text/plain": [
              "2321528"
            ]
          },
          "execution_count": 55,
          "metadata": {},
          "output_type": "execute_result"
        }
      ],
      "source": [
        "# найдем число наблюдений для определения изменения уровня конверсии\n",
        "count_nob_sutil_flg_mean = round(chipower.solve_power(effect_size =chi2_effect_size(p0_util_flg_mean, p1_util_flg_mean), nobs=None, alpha = pval, power=power))\n",
        "count_nob_sutil_flg_mean"
      ]
    },
    {
      "cell_type": "markdown",
      "metadata": {
        "id": "OKoBU5r5TrNE"
      },
      "source": [
        "### Т.к. среднее количество коммуникаций за день на сотрудника - 10, в группах по 1180 человек, то исходя из расчитанных параметров count_nobs_for_communication (число наблюдений по коммуникациям) и count_nob_sutil_flg_mean (числов наблюдений для конверции) получаем:"
      ]
    },
    {
      "cell_type": "code",
      "execution_count": null,
      "metadata": {
        "colab": {
          "base_uri": "https://localhost:8080/"
        },
        "id": "zSMThWSDaCxn",
        "outputId": "cfde95e1-ba52-4c2f-a0ef-1e5aadac28da"
      },
      "outputs": [
        {
          "data": {
            "text/plain": [
              "17"
            ]
          },
          "execution_count": 56,
          "metadata": {},
          "output_type": "execute_result"
        }
      ],
      "source": [
        "#минимальное число дней для АБ теста по уровню коммуникаций\n",
        "AB_test_days_for_communication = round(count_nobs_for_communication*2/group_count/nobs_per_emp)\n",
        "# т.к. групп 2, умножаем число наблюдений на 2 выше\n",
        "AB_test_days_for_communication"
      ]
    },
    {
      "cell_type": "code",
      "execution_count": null,
      "metadata": {
        "colab": {
          "base_uri": "https://localhost:8080/"
        },
        "id": "IO68kgc4ayGi",
        "outputId": "32947331-a970-4dbf-ff7d-3f86950cac66"
      },
      "outputs": [
        {
          "data": {
            "text/plain": [
              "393"
            ]
          },
          "execution_count": 57,
          "metadata": {},
          "output_type": "execute_result"
        }
      ],
      "source": [
        "#минимальное число дней для АБ теста по уровню конверсии\n",
        "AB_test_days_for_util_flg_mean = round(count_nob_sutil_flg_mean*2/group_count/nobs_per_emp)\n",
        "# т.к. групп 2, умножаем число наблюдений на 2 выше\n",
        "AB_test_days_for_util_flg_mean"
      ]
    },
    {
      "cell_type": "markdown",
      "metadata": {
        "id": "DVy5CNt3gyTp"
      },
      "source": [
        "## 6.Определяем продолжительность тестирования.\n",
        "## Для получения достоверных результатов по уровню коммуникации рекомендуется проводить тестирование минимум 17 дней, для определения уровня разности по конверсии - 393 дня."
      ]
    },
    {
      "cell_type": "markdown",
      "metadata": {
        "id": "WAdw4wkkT2nF"
      },
      "source": [
        "## 7. Определяем сегмент АВ теста"
      ]
    },
    {
      "cell_type": "markdown",
      "metadata": {
        "id": "OxFNYC4rVVm0"
      },
      "source": [
        "## В нашем исследовании принимают участие 2381 сотрудник."
      ]
    },
    {
      "cell_type": "markdown",
      "metadata": {
        "id": "E0Y6fpvaiQth"
      },
      "source": [
        "## Пусть А - контрольная группа, B - тестовая группа."
      ]
    },
    {
      "cell_type": "markdown",
      "metadata": {
        "id": "uZTFxMzx-9j7"
      },
      "source": [
        "## Проверим распределения группы А и группы Б."
      ]
    },
    {
      "cell_type": "markdown",
      "metadata": {
        "id": "VFgxb3WliAzP"
      },
      "source": [
        "## Сравним выборки по возрасту"
      ]
    },
    {
      "cell_type": "code",
      "execution_count": null,
      "metadata": {
        "colab": {
          "base_uri": "https://localhost:8080/",
          "height": 450
        },
        "id": "RkAuWsc2EoJY",
        "outputId": "02260681-f49c-4ed4-a708-ae7ca49401d4"
      },
      "outputs": [
        {
          "data": {
            "text/plain": [
              "Text(0.5, 1.0, 'Boxplot: возраст в группах А и Б')"
            ]
          },
          "execution_count": 58,
          "metadata": {},
          "output_type": "execute_result"
        },
        {
          "data": {
            "image/png": "[encoded data removed]",
            "text/plain": [
              "<Figure size 640x480 with 1 Axes>"
            ]
          },
          "metadata": {},
          "output_type": "display_data"
        }
      ],
      "source": [
        "sns.boxplot(data=df_empoyees_agg, hue='group', y='age');\n",
        "plt.title(\"Boxplot: возраст в группах А и Б\")"
      ]
    },
    {
      "cell_type": "code",
      "execution_count": null,
      "metadata": {
        "colab": {
          "base_uri": "https://localhost:8080/",
          "height": 472
        },
        "id": "2PCkyoZwiSwY",
        "outputId": "aecec2c1-9821-4191-cda2-66fc658800ac"
      },
      "outputs": [
        {
          "data": {
            "image/png": "[encoded data removed]",
            "text/plain": [
              "<Figure size 640x480 with 1 Axes>"
            ]
          },
          "metadata": {},
          "output_type": "display_data"
        }
      ],
      "source": [
        "sns.histplot(data=df_empoyees_agg, hue='group', x='age', bins=50);\n",
        "plt.title(\"Гистограмма - возраст в группах А и Б\");"
      ]
    },
    {
      "cell_type": "code",
      "execution_count": null,
      "metadata": {
        "colab": {
          "base_uri": "https://localhost:8080/",
          "height": 472
        },
        "id": "2i3g0Htxj_eV",
        "outputId": "5d7c9604-e5f9-4bdc-f8cc-047ed4747c1e"
      },
      "outputs": [
        {
          "data": {
            "image/png": "[encoded data removed]",
            "text/plain": [
              "<Figure size 640x480 with 1 Axes>"
            ]
          },
          "metadata": {},
          "output_type": "display_data"
        }
      ],
      "source": [
        "sns.kdeplot(x='age', data=df_empoyees_agg, hue='group', common_norm=False);\n",
        "plt.title(\"Kernel Density Function - возраст в группах А и Б\");"
      ]
    },
    {
      "cell_type": "markdown",
      "metadata": {
        "id": "Dn2PesIMjS5n"
      },
      "source": [
        "## Сравним выборки по опыту работы"
      ]
    },
    {
      "cell_type": "code",
      "execution_count": null,
      "metadata": {
        "colab": {
          "base_uri": "https://localhost:8080/",
          "height": 450
        },
        "id": "-tVrN1ymFZIA",
        "outputId": "83bed38d-3227-49b4-9791-b3c1625d6737"
      },
      "outputs": [
        {
          "data": {
            "text/plain": [
              "Text(0.5, 1.0, 'Boxplot: опыт в группах А и Б')"
            ]
          },
          "execution_count": 61,
          "metadata": {},
          "output_type": "execute_result"
        },
        {
          "data": {
            "image/png": "[encoded data removed]",
            "text/plain": [
              "<Figure size 640x480 with 1 Axes>"
            ]
          },
          "metadata": {},
          "output_type": "display_data"
        }
      ],
      "source": [
        "sns.boxplot(data=df_empoyees_agg, hue='group', y='exp_days');\n",
        "plt.title(\"Boxplot: опыт в группах А и Б\")"
      ]
    },
    {
      "cell_type": "code",
      "execution_count": null,
      "metadata": {
        "colab": {
          "base_uri": "https://localhost:8080/",
          "height": 472
        },
        "id": "HOXcb9l1FjCC",
        "outputId": "bdc0e59e-9778-46e4-be88-aed712e90e36"
      },
      "outputs": [
        {
          "data": {
            "image/png": "[encoded data removed]",
            "text/plain": [
              "<Figure size 640x480 with 1 Axes>"
            ]
          },
          "metadata": {},
          "output_type": "display_data"
        }
      ],
      "source": [
        "sns.histplot(data=df_empoyees_agg, hue='group', x='exp_days', bins=50);\n",
        "plt.title(\"Гистограмма - возраст в группах А и Б\");"
      ]
    },
    {
      "cell_type": "code",
      "execution_count": null,
      "metadata": {
        "colab": {
          "base_uri": "https://localhost:8080/",
          "height": 472
        },
        "id": "rDXiQKJekhOE",
        "outputId": "155115fb-8e82-43a0-d373-7f9f5ac17477"
      },
      "outputs": [
        {
          "data": {
            "image/png": "[encoded data removed]",
            "text/plain": [
              "<Figure size 640x480 with 1 Axes>"
            ]
          },
          "metadata": {},
          "output_type": "display_data"
        }
      ],
      "source": [
        "sns.kdeplot(x='exp_days', data=df_empoyees_agg, hue='group', common_norm=False);\n",
        "plt.title(\"Kernel Density Function - возраст в группах А и Б\");"
      ]
    },
    {
      "cell_type": "markdown",
      "metadata": {
        "id": "3DgEJjnwlP_d"
      },
      "source": [
        "## Сравним распределение выборок А и Б по полу"
      ]
    },
    {
      "cell_type": "code",
      "execution_count": null,
      "metadata": {
        "colab": {
          "base_uri": "https://localhost:8080/",
          "height": 466
        },
        "id": "YJPZwIrRlZMn",
        "outputId": "79578fd7-2963-4956-d37d-6697ffbc411a"
      },
      "outputs": [
        {
          "data": {
            "text/plain": [
              "<Axes: xlabel='sex', ylabel='count'>"
            ]
          },
          "execution_count": 64,
          "metadata": {},
          "output_type": "execute_result"
        },
        {
          "data": {
            "image/png": "[encoded data removed]",
            "text/plain": [
              "<Figure size 640x480 with 1 Axes>"
            ]
          },
          "metadata": {},
          "output_type": "display_data"
        }
      ],
      "source": [
        "sns.countplot(x ='sex', data=df_empoyees_agg, hue='group')"
      ]
    },
    {
      "cell_type": "markdown",
      "metadata": {
        "id": "4qkCflPRpYBF"
      },
      "source": [
        "## Сравним распределение выборок А и Б по региону"
      ]
    },
    {
      "cell_type": "code",
      "execution_count": null,
      "metadata": {
        "colab": {
          "base_uri": "https://localhost:8080/",
          "height": 466
        },
        "id": "N60HAsfYpg_y",
        "outputId": "fad5ae17-86c7-447b-aa23-534eae932c09"
      },
      "outputs": [
        {
          "data": {
            "text/plain": [
              "<Axes: xlabel='region', ylabel='count'>"
            ]
          },
          "execution_count": 65,
          "metadata": {},
          "output_type": "execute_result"
        },
        {
          "data": {
            "image/png": "[encoded data removed]",
            "text/plain": [
              "<Figure size 640x480 with 1 Axes>"
            ]
          },
          "metadata": {},
          "output_type": "display_data"
        }
      ],
      "source": [
        "sns.countplot(x ='region', data=df_empoyees_agg, hue='group')"
      ]
    },
    {
      "cell_type": "markdown",
      "metadata": {
        "id": "2OjQdI-qp7O1"
      },
      "source": [
        "## Сравним распределение выборок А и Б по департаменту"
      ]
    },
    {
      "cell_type": "code",
      "execution_count": null,
      "metadata": {
        "colab": {
          "base_uri": "https://localhost:8080/",
          "height": 467
        },
        "id": "7IHH7MN7qCdB",
        "outputId": "d9f4d794-0d4d-41a7-cba2-d7d2ded06b69"
      },
      "outputs": [
        {
          "data": {
            "text/plain": [
              "<Axes: xlabel='department_id', ylabel='count'>"
            ]
          },
          "execution_count": 66,
          "metadata": {},
          "output_type": "execute_result"
        },
        {
          "data": {
            "image/png": "[encoded data removed]",
            "text/plain": [
              "<Figure size 640x480 with 1 Axes>"
            ]
          },
          "metadata": {},
          "output_type": "display_data"
        }
      ],
      "source": [
        "sns.countplot(x ='department_id', data=df_empoyees_agg, hue='group')"
      ]
    },
    {
      "cell_type": "markdown",
      "metadata": {
        "id": "DAxv1RvAqL--"
      },
      "source": [
        "## Сравним распределение выборок А и Б по образованию"
      ]
    },
    {
      "cell_type": "code",
      "execution_count": null,
      "metadata": {
        "colab": {
          "base_uri": "https://localhost:8080/",
          "height": 467
        },
        "id": "G5BmOX8VqPkI",
        "outputId": "595f5040-9648-4bce-cdf2-aa00ba5c8959"
      },
      "outputs": [
        {
          "data": {
            "text/plain": [
              "<Axes: xlabel='edu_degree', ylabel='count'>"
            ]
          },
          "execution_count": 67,
          "metadata": {},
          "output_type": "execute_result"
        },
        {
          "data": {
            "image/png": "[encoded data removed]",
            "text/plain": [
              "<Figure size 640x480 with 1 Axes>"
            ]
          },
          "metadata": {},
          "output_type": "display_data"
        }
      ],
      "source": [
        "sns.countplot(x ='edu_degree', data=df_empoyees_agg, hue='group')"
      ]
    },
    {
      "cell_type": "markdown",
      "metadata": {
        "id": "Ny78o6Boq0nC"
      },
      "source": [
        "## Сравним распределение выборок А и Б по форматы работы: (офис, удаленно)"
      ]
    },
    {
      "cell_type": "code",
      "execution_count": null,
      "metadata": {
        "colab": {
          "base_uri": "https://localhost:8080/",
          "height": 467
        },
        "id": "UwilTzqLq7DO",
        "outputId": "cb8d2161-6cdb-4678-bcbe-201625a06ac4"
      },
      "outputs": [
        {
          "data": {
            "text/plain": [
              "<Axes: xlabel='work_online_flg', ylabel='count'>"
            ]
          },
          "execution_count": 68,
          "metadata": {},
          "output_type": "execute_result"
        },
        {
          "data": {
            "image/png": "[encoded data removed]",
            "text/plain": [
              "<Figure size 640x480 with 1 Axes>"
            ]
          },
          "metadata": {},
          "output_type": "display_data"
        }
      ],
      "source": [
        "sns.countplot(x ='work_online_flg', data=df_empoyees_agg, hue='group')"
      ]
    },
    {
      "cell_type": "markdown",
      "metadata": {
        "id": "zbrISk9nwZoA"
      },
      "source": [
        "## U-критерий Манна — Уитни\n",
        "U-критерий Манна — Уитни, который сравнивает медиану двух распределений. В частности, нулевая гипотеза для этого теста состоит в том, что две группы имеют одинаковое распределение, тогда как альтернативная гипотеза — в том, что одна группа имеет большие (или меньшие) значения, чем другая.\n",
        "U-критерий Манна — Уитни не зависит от выбросов и концентрируется на центре распределения.\n",
        "\n",
        "И вот процедура расчёта критерия:\n",
        "\n",
        "Объедините все точки данных и ранжируйте их в порядке возрастания или убывания.\n",
        "\n",
        "Вычислите U₁ = R₁ − n₁(n₁ + 1)/2, где R₁ — сумма рангов точек данных в первой группе, а n₁ — количество точек в первой группе.\n",
        "\n",
        "Аналогично вычислите U₂ для второй группы.\n",
        "\n",
        "Тестовая статистика рассчитывается как stat = min(U₁, U₂).\n",
        "\n",
        "При нулевой гипотезе об отсутствии систематических ранговых различий между двумя распределениями (т. е. об одинаковой медиане) тестовая статистика имеет асимптотическое нормальное распределение с известным средним значением и дисперсией.\n",
        "\n",
        "Логика за вычислением R и U такова: если все значения в первой выборке больше, чем значения во второй выборке, то R₁ = n₁(n₁ + 1)/2 и, как следствие, U₁ будет тогда равным нулю (минимально достижимое значение). В противном случае, если бы две выборки были похожи, U₁ и U₂ были бы очень близки к n₁ n₂/2 (максимально достижимое значение).\n",
        "\n",
        "Мы проводим тест при помощи mannwhitneyu из scipy:"
      ]
    },
    {
      "cell_type": "markdown",
      "metadata": {
        "id": "huabtOo_xdJS"
      },
      "source": [
        "## U-критерий Манна — Уитни: возраст групп А и Б"
      ]
    },
    {
      "cell_type": "code",
      "execution_count": null,
      "metadata": {
        "colab": {
          "base_uri": "https://localhost:8080/"
        },
        "id": "tS6OtW_Fw5yg",
        "outputId": "d047b114-40cb-479e-e402-8e7fda6c9714"
      },
      "outputs": [
        {
          "name": "stdout",
          "output_type": "stream",
          "text": [
            " Mann–Whitney U Test: statistic=717361.5000, p-value=0.5774\n"
          ]
        }
      ],
      "source": [
        "age_A = df_empoyees_agg['age'].loc[df_empoyees_agg['group'] == 'A']\n",
        "age_B = df_empoyees_agg['age'].loc[df_empoyees_agg['group'] == 'B']\n",
        "stat, p_value = mannwhitneyu(age_A, age_B)\n",
        "\n",
        "print(f\" Mann–Whitney U Test: statistic={stat:.4f}, p-value={p_value:.4f}\")"
      ]
    },
    {
      "cell_type": "markdown",
      "metadata": {
        "id": "e2eUtJNGxTlX"
      },
      "source": [
        "### p-значение составляет 0.58, поэтому не отвергаем нулевую гипотезу об отсутствии различий в средних значениях в обеих группах."
      ]
    },
    {
      "cell_type": "markdown",
      "metadata": {
        "id": "T0UblXQhxjXm"
      },
      "source": [
        "## U-критерий Манна — Уитни: опыт работы групп А и Б"
      ]
    },
    {
      "cell_type": "code",
      "execution_count": null,
      "metadata": {
        "colab": {
          "base_uri": "https://localhost:8080/"
        },
        "id": "dSgLGcIxxqvR",
        "outputId": "f674856f-86a0-44e1-bcb4-c03a5441ba45"
      },
      "outputs": [
        {
          "name": "stdout",
          "output_type": "stream",
          "text": [
            " Mann–Whitney U Test: statistic=719101.5000, p-value=0.5090\n"
          ]
        }
      ],
      "source": [
        "exp_A = df_empoyees_agg['exp_days'].loc[df_empoyees_agg['group'] == 'A']\n",
        "exp_B = df_empoyees_agg['exp_days'].loc[df_empoyees_agg['group'] == 'B']\n",
        "stat, p_value = mannwhitneyu(exp_A, exp_B)\n",
        "\n",
        "print(f\" Mann–Whitney U Test: statistic={stat:.4f}, p-value={p_value:.4f}\")"
      ]
    },
    {
      "cell_type": "markdown",
      "metadata": {
        "id": "5mfhReWfx2WB"
      },
      "source": [
        "### p-значение составляет 0.51, поэтому не отвергаем нулевую гипотезу об отсутствии различий в средних значениях в обеих группах."
      ]
    },
    {
      "cell_type": "markdown",
      "metadata": {
        "id": "NT0mm9597k2N"
      },
      "source": [
        "## Для определения гомогенности категориальных переменных групп А и B используем тест Хи Квадрат"
      ]
    },
    {
      "cell_type": "markdown",
      "metadata": {
        "id": "u1MjjjVX-0dL"
      },
      "source": [
        "### Тест на гомогенность (test of homogeneity, он же goodness of fit) — непараметрический, одновыборочный тест, который проверяет соответствие наблюдаемого распределения категориальной случайной величины некоторому эталонному распределению. В Python реализован функцией scipy.stats.chisquare."
      ]
    },
    {
      "cell_type": "markdown",
      "metadata": {
        "id": "x1kvivwd-FzF"
      },
      "source": [
        "## Хи Квадрат: гендерный состав групп А и B"
      ]
    },
    {
      "cell_type": "markdown",
      "metadata": {
        "id": "y-ALNgiDKmaq"
      },
      "source": [
        "### Гендерный состав группы А и генеральной совокупности"
      ]
    },
    {
      "cell_type": "code",
      "execution_count": null,
      "metadata": {
        "colab": {
          "base_uri": "https://localhost:8080/"
        },
        "id": "7dk9xi3p70KM",
        "outputId": "487022d2-6077-4565-e21f-28dd0b7657ad"
      },
      "outputs": [
        {
          "name": "stdout",
          "output_type": "stream",
          "text": [
            "Chi-squared Test: statistic=0.0000, p-value=0.9978\n"
          ]
        }
      ],
      "source": [
        "sex_A = df_empoyees_agg['sex'].loc[df_empoyees_agg['group'] == 'A'].value_counts(normalize=True)\n",
        "sex_gen = df_empoyees_agg['sex'].value_counts(normalize=True)\n",
        "\n",
        "stat, p_value = chisquare(sex_A, sex_gen)\n",
        "print(f\"Chi-squared Test: statistic={stat:.4f}, p-value={p_value:.4f}\")"
      ]
    },
    {
      "cell_type": "markdown",
      "metadata": {
        "id": "ayJrCgJK-QB5"
      },
      "source": [
        "### p-значение составляет 0.99, поэтому не отвергаем нулевую гипотезу об отсутствии различий в средних значениях в группе А и генеральной совокупности."
      ]
    },
    {
      "cell_type": "markdown",
      "metadata": {
        "id": "-XcSFVPmKxCb"
      },
      "source": [
        "### Гендерный состав группы B и генеральной совокупности\n",
        "\n"
      ]
    },
    {
      "cell_type": "code",
      "execution_count": null,
      "metadata": {
        "colab": {
          "base_uri": "https://localhost:8080/"
        },
        "id": "RYWSnVvgLBAA",
        "outputId": "830d9190-dbd6-4322-cf75-c0a806ae7811"
      },
      "outputs": [
        {
          "name": "stdout",
          "output_type": "stream",
          "text": [
            "Chi-squared Test: statistic=0.0000, p-value=0.9978\n"
          ]
        }
      ],
      "source": [
        "sex_B = df_empoyees_agg['sex'].loc[df_empoyees_agg['group'] == 'B'].value_counts(normalize=True)\n",
        "sex_gen = df_empoyees_agg['sex'].value_counts(normalize=True)\n",
        "\n",
        "stat, p_value = chisquare(sex_B, sex_gen)\n",
        "print(f\"Chi-squared Test: statistic={stat:.4f}, p-value={p_value:.4f}\")"
      ]
    },
    {
      "cell_type": "markdown",
      "metadata": {
        "id": "OP7ipcboLT85"
      },
      "source": [
        "### p-значение составляет 0.99, поэтому не отвергаем нулевую гипотезу об отсутствии различий в средних значениях в группе А и генеральной совокупности."
      ]
    },
    {
      "cell_type": "markdown",
      "metadata": {
        "id": "L0hQ-bfHKbyD"
      },
      "source": [
        "## Хи Квадрат: региональный состав групп А и B"
      ]
    },
    {
      "cell_type": "markdown",
      "metadata": {
        "id": "3NyK-4abLrxr"
      },
      "source": [
        "### Региональный состав группы А и генеральной совокупности"
      ]
    },
    {
      "cell_type": "code",
      "execution_count": null,
      "metadata": {
        "colab": {
          "base_uri": "https://localhost:8080/"
        },
        "id": "G274cHNjLbHN",
        "outputId": "a22f776d-6abf-43f5-c40d-ba8ac9b93fd9"
      },
      "outputs": [
        {
          "name": "stdout",
          "output_type": "stream",
          "text": [
            "Chi-squared Test: statistic=0.0050, p-value=1.0000\n"
          ]
        }
      ],
      "source": [
        "region_A = df_empoyees_agg['region'].loc[df_empoyees_agg['group'] == 'A'].value_counts(normalize=True)\n",
        "region_gen = df_empoyees_agg['region'].value_counts(normalize=True)\n",
        "\n",
        "stat, p_value = chisquare(region_A, region_gen)\n",
        "print(f\"Chi-squared Test: statistic={stat:.4f}, p-value={p_value:.4f}\")"
      ]
    },
    {
      "cell_type": "markdown",
      "metadata": {
        "id": "nQxJXpzaLjwf"
      },
      "source": [
        "### p-значение составляет 1, поэтому не отвергаем нулевую гипотезу об отсутствии различий в средних значениях в группе А и генеральной совокупности."
      ]
    },
    {
      "cell_type": "markdown",
      "metadata": {
        "id": "IXR2ccx1LxBj"
      },
      "source": [
        "### Региональный состав группы B и генеральной совокупности\n",
        "\n",
        "\n"
      ]
    },
    {
      "cell_type": "code",
      "execution_count": null,
      "metadata": {
        "colab": {
          "base_uri": "https://localhost:8080/"
        },
        "id": "g5O2EkDELbI8",
        "outputId": "0ad26782-bb88-4283-9940-5d78f3fb8395"
      },
      "outputs": [
        {
          "name": "stdout",
          "output_type": "stream",
          "text": [
            "Chi-squared Test: statistic=0.0038, p-value=1.0000\n"
          ]
        }
      ],
      "source": [
        "region_B = df_empoyees_agg['region'].loc[df_empoyees_agg['group'] == 'B'].value_counts(normalize=True)\n",
        "region_gen = df_empoyees_agg['region'].value_counts(normalize=True)\n",
        "\n",
        "stat, p_value = chisquare(region_B, region_gen)\n",
        "print(f\"Chi-squared Test: statistic={stat:.4f}, p-value={p_value:.4f}\")"
      ]
    },
    {
      "cell_type": "markdown",
      "metadata": {
        "id": "6WDXsxdxMH3s"
      },
      "source": [
        "### p-значение составляет 1, поэтому не отвергаем нулевую гипотезу об отсутствии различий в средних значениях в группе B и генеральной совокупности."
      ]
    },
    {
      "cell_type": "markdown",
      "metadata": {
        "id": "K30Ml-kQMbF0"
      },
      "source": [
        "## Хи Квадрат: уровень образования групп А и B"
      ]
    },
    {
      "cell_type": "markdown",
      "metadata": {
        "id": "P4P6ORCMMprd"
      },
      "source": [
        "### Уровень образования группы А и генеральной совокупности"
      ]
    },
    {
      "cell_type": "code",
      "execution_count": null,
      "metadata": {
        "colab": {
          "base_uri": "https://localhost:8080/"
        },
        "id": "aLDePq6wMveN",
        "outputId": "cff52318-7e7c-48e9-9160-a4f452ca852c"
      },
      "outputs": [
        {
          "name": "stdout",
          "output_type": "stream",
          "text": [
            "Chi-squared Test: statistic=0.0003, p-value=0.9998\n"
          ]
        }
      ],
      "source": [
        "edu_A = df_empoyees_agg['edu_degree'].loc[df_empoyees_agg['group'] == 'A'].value_counts(normalize=True)\n",
        "edu_gen = df_empoyees_agg['edu_degree'].value_counts(normalize=True)\n",
        "\n",
        "stat, p_value = chisquare(edu_A, edu_gen)\n",
        "print(f\"Chi-squared Test: statistic={stat:.4f}, p-value={p_value:.4f}\")"
      ]
    },
    {
      "cell_type": "markdown",
      "metadata": {
        "id": "M_o_WKY4NeAW"
      },
      "source": [
        "### p-значение составляет 0.99, поэтому не отвергаем нулевую гипотезу об отсутствии различий в средних значениях в группе A и генеральной совокупности."
      ]
    },
    {
      "cell_type": "markdown",
      "metadata": {
        "id": "Q7D3OT2PNoAe"
      },
      "source": [
        "### Уровень образования группы B и генеральной совокупности"
      ]
    },
    {
      "cell_type": "code",
      "execution_count": null,
      "metadata": {
        "colab": {
          "base_uri": "https://localhost:8080/"
        },
        "id": "0mnrHtRYNsRt",
        "outputId": "1ef905f2-44ca-4df4-bc4e-d2d2d472fa8f"
      },
      "outputs": [
        {
          "name": "stdout",
          "output_type": "stream",
          "text": [
            "Chi-squared Test: statistic=0.0003, p-value=0.9998\n"
          ]
        }
      ],
      "source": [
        "edu_B = df_empoyees_agg['edu_degree'].loc[df_empoyees_agg['group'] == 'B'].value_counts(normalize=True)\n",
        "edu_gen = df_empoyees_agg['edu_degree'].value_counts(normalize=True)\n",
        "\n",
        "stat, p_value = chisquare(edu_B, edu_gen)\n",
        "print(f\"Chi-squared Test: statistic={stat:.4f}, p-value={p_value:.4f}\")"
      ]
    },
    {
      "cell_type": "markdown",
      "metadata": {
        "id": "dH5xNt-XN5Nv"
      },
      "source": [
        "### p-значение составляет 0.99, поэтому не отвергаем нулевую гипотезу об отсутствии различий в средних значениях в группе B и генеральной совокупности."
      ]
    },
    {
      "cell_type": "markdown",
      "metadata": {
        "id": "FoT7dpbYOHwe"
      },
      "source": [
        "## Хи Квадрат: департаменты групп А и B"
      ]
    },
    {
      "cell_type": "markdown",
      "metadata": {
        "id": "XU81gy7zOTR-"
      },
      "source": [
        "### Распределение департаментов группы А и генеральной совокупности"
      ]
    },
    {
      "cell_type": "code",
      "execution_count": null,
      "metadata": {
        "colab": {
          "base_uri": "https://localhost:8080/"
        },
        "id": "LameX6QGObyb",
        "outputId": "4c4a545d-b90b-4d5a-e6ca-4013377ec1fc"
      },
      "outputs": [
        {
          "name": "stdout",
          "output_type": "stream",
          "text": [
            "Chi-squared Test: statistic=0.0020, p-value=0.9990\n"
          ]
        }
      ],
      "source": [
        "dep_A = df_empoyees_agg['department_id'].loc[df_empoyees_agg['group'] == 'A'].value_counts(normalize=True)\n",
        "dep_gen = df_empoyees_agg['department_id'].value_counts(normalize=True)\n",
        "\n",
        "stat, p_value = chisquare(dep_A, dep_gen)\n",
        "print(f\"Chi-squared Test: statistic={stat:.4f}, p-value={p_value:.4f}\")"
      ]
    },
    {
      "cell_type": "markdown",
      "metadata": {
        "id": "_pi69TrnOy9f"
      },
      "source": [
        "### p-значение составляет 0.99, поэтому не отвергаем нулевую гипотезу об отсутствии различий в средних значениях в группе A и генеральной совокупности.\n",
        "\n",
        "\n",
        "\n"
      ]
    },
    {
      "cell_type": "markdown",
      "metadata": {
        "id": "VOCXhPsQPAdf"
      },
      "source": [
        "### Распределение департаментов группы B и генеральной совокупности"
      ]
    },
    {
      "cell_type": "code",
      "execution_count": null,
      "metadata": {
        "colab": {
          "base_uri": "https://localhost:8080/"
        },
        "id": "ROyiUN-XPE7I",
        "outputId": "4a419817-c97b-4cd6-ad90-5b3f0ed6bf7b"
      },
      "outputs": [
        {
          "name": "stdout",
          "output_type": "stream",
          "text": [
            "Chi-squared Test: statistic=0.0019, p-value=0.9990\n"
          ]
        }
      ],
      "source": [
        "dep_B = df_empoyees_agg['department_id'].loc[df_empoyees_agg['group'] == 'B'].value_counts(normalize=True)\n",
        "dep_gen = df_empoyees_agg['department_id'].value_counts(normalize=True)\n",
        "\n",
        "stat, p_value = chisquare(dep_B, dep_gen)\n",
        "print(f\"Chi-squared Test: statistic={stat:.4f}, p-value={p_value:.4f}\")"
      ]
    },
    {
      "cell_type": "markdown",
      "metadata": {
        "id": "APIn1QmNPNio"
      },
      "source": [
        "### p-значение составляет 0.99, поэтому не отвергаем нулевую гипотезу об отсутствии различий в средних значениях в группе B и генеральной совокупности.\n",
        "\n",
        "\n",
        "\n"
      ]
    },
    {
      "cell_type": "markdown",
      "metadata": {
        "id": "AbcxfQD8PUt3"
      },
      "source": [
        "## Хи Квадрат: режим работы групп А и B"
      ]
    },
    {
      "cell_type": "markdown",
      "metadata": {
        "id": "AV-XOpgdP-Mj"
      },
      "source": [
        "### Распределение режима работы группы А и генеральной совокупности"
      ]
    },
    {
      "cell_type": "code",
      "execution_count": null,
      "metadata": {
        "colab": {
          "base_uri": "https://localhost:8080/"
        },
        "id": "OChE2YxWPc00",
        "outputId": "bfbd81be-b0e6-4e91-89df-c1ea423a8b49"
      },
      "outputs": [
        {
          "name": "stdout",
          "output_type": "stream",
          "text": [
            "Chi-squared Test: statistic=0.0013, p-value=0.9709\n"
          ]
        }
      ],
      "source": [
        "work_online_flg_A = df_empoyees_agg['work_online_flg'].loc[df_empoyees_agg['group'] == 'A'].value_counts(normalize=True)\n",
        "work_online_flg_gen = df_empoyees_agg['work_online_flg'].value_counts(normalize=True)\n",
        "\n",
        "stat, p_value = chisquare(work_online_flg_A, work_online_flg_gen)\n",
        "print(f\"Chi-squared Test: statistic={stat:.4f}, p-value={p_value:.4f}\")"
      ]
    },
    {
      "cell_type": "markdown",
      "metadata": {
        "id": "TFn7vlmVPxaV"
      },
      "source": [
        "### p-значение составляет 0.97, поэтому не отвергаем нулевую гипотезу об отсутствии различий в средних значениях в группе А и генеральной совокупности.\n",
        "\n",
        "\n",
        "\n"
      ]
    },
    {
      "cell_type": "markdown",
      "metadata": {
        "id": "ofH51ESUQRzh"
      },
      "source": [
        "### Распределение режима работы группы B и генеральной совокупности\n",
        "\n",
        "---\n",
        "\n"
      ]
    },
    {
      "cell_type": "code",
      "execution_count": null,
      "metadata": {
        "colab": {
          "base_uri": "https://localhost:8080/"
        },
        "id": "ckM5KWXcQU8u",
        "outputId": "21a8a3f4-f929-4846-fac3-f5991ab8e5c1"
      },
      "outputs": [
        {
          "name": "stdout",
          "output_type": "stream",
          "text": [
            "Chi-squared Test: statistic=0.0013, p-value=0.9712\n"
          ]
        }
      ],
      "source": [
        "work_online_flg_B = df_empoyees_agg['work_online_flg'].loc[df_empoyees_agg['group'] == 'B'].value_counts(normalize=True)\n",
        "work_online_flg_gen = df_empoyees_agg['work_online_flg'].value_counts(normalize=True)\n",
        "\n",
        "stat, p_value = chisquare(work_online_flg_B, work_online_flg_gen)\n",
        "print(f\"Chi-squared Test: statistic={stat:.4f}, p-value={p_value:.4f}\")"
      ]
    },
    {
      "cell_type": "markdown",
      "metadata": {
        "id": "JitaHWZxQbSK"
      },
      "source": [
        "### p-значение составляет 0.97, поэтому не отвергаем нулевую гипотезу об отсутствии различий в средних значениях в группе А и генеральной совокупности.\n",
        "\n",
        "\n",
        "\n"
      ]
    },
    {
      "cell_type": "markdown",
      "metadata": {
        "id": "Ek5gFY9zWpin"
      },
      "source": [
        "# Проверка результатов эксперимента"
      ]
    },
    {
      "cell_type": "markdown",
      "metadata": {
        "id": "8nOIh7-BW3MV"
      },
      "source": [
        "### Для проверки метрик после окончания эксперимента можно проверить статистическое различие в медианах 2 групп черех U-критерий Манна — Уитни (пример проверки выше), различие в частотах распределения метрики через Тест хи-квадрат (пример проверки выше), сравнить кумулятивные распределения двух групп через тест Колмагорова - Смирнова, дисперсию в двух группах (провести дисперсионный анализ) через F тест.\n",
        "\n",
        "Одно из применений критерия хи-квадрат — проверка сходства между двумя распределениями. Идея здесь — объединить наблюдения двух групп. Если бы два распределения были одинаковыми, можно было бы ожидать одинаковую частоту наблюдений в каждом бине. Важно отметить: чтобы тест был действительным, в каждом бине необходимо достаточное количество наблюдений."
      ]
    },
    {
      "cell_type": "markdown",
      "metadata": {
        "id": "pLlsQvzM8xsY"
      },
      "source": [
        "## В качестве альтернативы можно использовать Bootstrap на 10000 итераций, т.е. сравнить насколько разница данных в группах теста отличается от разницы между группами случайно семплированными 10 000 раз."
      ]
    }
  ],
  "metadata": {
    "colab": {
      "provenance": []
    },
    "kernelspec": {
      "display_name": "Python 3",
      "name": "python3"
    },
    "language_info": {
      "codemirror_mode": {
        "name": "ipython",
        "version": 3
      },
      "file_extension": ".py",
      "mimetype": "text/x-python",
      "name": "python",
      "nbconvert_exporter": "python",
      "pygments_lexer": "ipython3",
      "version": "3.9.12"
    }
  },
  "nbformat": 4,
  "nbformat_minor": 0
}
