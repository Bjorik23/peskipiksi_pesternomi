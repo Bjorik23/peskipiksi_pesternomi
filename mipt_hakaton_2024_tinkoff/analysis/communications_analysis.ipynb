{
 "cells": [
  {
   "cell_type": "markdown",
   "metadata": {},
   "source": [
    "# **Анализ данных**\n",
    "\n",
    "##### Задача\n",
    "В группе компаний Тинькофф есть команда edTech, создающая платформу для обучающих курсов.\n",
    "У команды edTech возникает вопрос, а какие курсы сильнее всего влияют на рабочие показатели сотрудников в колл-центре. \n",
    "Помогите составить рекомендации, какие обучающие курсы стоит проходить сотрудникам, а какие курсы стоит убрать с edTech платформы.\n",
    "Решение может быть как рекомендательной моделью для каждого из сотрудников, так и основано на бизнес-правилах и статистическом анализе (например, выделить для каждого департамента полезные курсы).\n",
    "\n",
    "##### Потенциальное решение\n",
    "Предполагается, что решение будет выполнено на Python, будет итоговая презентация. Решение может содержать блоки: эксплораторный анализ, Causal Inference методы, рекомендательную модель.\n",
    "Ограничений на подход к решению нет, но для определения важности курсов советуем использовать методы анализа причинности. Подробнее можно почитать о них [здесь,](https://koch-kir.medium.com/causal-inference-from-observational-data-%D0%B8%D0%BB%D0%B8-%D0%BA%D0%B0%D0%BA-%D0%BF%D1%80%D0%BE%D0%B2%D0%B5%D1%81%D1%82%D0%B8-%D0%B0-%D0%B2-%D1%82%D0%B5%D1%81%D1%82-%D0%B1%D0%B5%D0%B7-%D0%B0-%D0%B2-%D1%82%D0%B5%D1%81%D1%82%D0%B0-afb84f2579f2) а также возможна консультация со стороны организаторов.\n",
    "\n",
    "##### Описание таблиц\n",
    "###### employees\n",
    "Информация о сотрудниках колл-центра\n",
    "Поля:\n",
    "- employee_id - идентификатор сотрудника\n",
    "- sex – пол\n",
    "- region - идентификатор федерального округа\n",
    "- age – возраст\n",
    "- head_employee_id – идентификатор руководителя\n",
    "- exp_days – опыт в днях\n",
    "- edu_degree – уровень образования\n",
    "- department_id – индентификатор департамента, в котором работает сотрудник\n",
    "- work_online_flg – флаг работы на удалённом режиме\n",
    "\n",
    "###### communications\n",
    "Информация о рабочих показателях сотрудников. Рассматривались рабочие коммункации операторов колл-центра\n",
    "Поля:\n",
    "- communication_id – идентификатор коммуникации\n",
    "- communication_dt – дата коммуникации\n",
    "- employee_id - идентификатор сотрудника\n",
    "- communication_score – оценка качества коммуникации\n",
    "- util_flg – флаг того, что клиент воспользовался банковским продуктом в течение 2 недель\n",
    "\n",
    "###### courses_passing\n",
    "Статиситка прохождения обучающих курсов сотрудниками\n",
    "- course_id – идентификатор курса\n",
    "- employee_id - идентификатор сотрудника\n",
    "- pass_frac – доля прохождения курса\n",
    "- start_dt – дата начала прохождения\n",
    "- last_activity_dt – последняя активность сотрудника в обучающем курсе\n",
    "- end_dt – дата окончания обучения. Если обучение пройдено не полностью, то NaN\n",
    "- educ_duration_days – длительность полного обучения в днях. Если обучение пройдено не полностью, то NaN\n",
    "\n",
    "###### courses_info \n",
    "Информация о курсах\n",
    "- course_id – идентификатор курса\n",
    "- course_nm – название курса\n",
    "\n",
    "###### course_employee_sms \n",
    "Сводная таблица с нотификациями сотрудникам с предложением пройти обучение. Нотификации рассылались случайным образом\n",
    "Поля:\n",
    "- employee_id - идентификатор сотрудника\n",
    "- course_i – флаг наличия нотификации"
   ]
  },
  {
   "cell_type": "markdown",
   "metadata": {
    "tags": []
   },
   "source": [
    "### **Откроем файл с данными и изучим общую информацию**"
   ]
  },
  {
   "cell_type": "code",
   "execution_count": null,
   "metadata": {},
   "outputs": [],
   "source": [
    "# импортируем библиотеки для обработки данных\n",
    "import pandas as pd\n",
    "import numpy as np\n",
    "\n",
    "import plotly.express as px\n",
    "import plotly.graph_objects as go\n",
    "from plotly.subplots import make_subplots\n",
    "\n",
    "from sklearn.cluster import KMeans\n",
    "from sklearn.preprocessing import StandardScaler\n",
    "\n",
    "# импортируем другие библиотеки\n",
    "import warnings"
   ]
  },
  {
   "cell_type": "code",
   "execution_count": null,
   "metadata": {},
   "outputs": [],
   "source": [
    "warnings.filterwarnings('ignore')"
   ]
  },
  {
   "cell_type": "code",
   "execution_count": null,
   "metadata": {},
   "outputs": [],
   "source": [
    "# Установка максимального количества отображаемых строк равным None\n",
    "pd.set_option('display.max_rows', 10)"
   ]
  },
  {
   "cell_type": "markdown",
   "metadata": {},
   "source": [
    "Попробуем открыть все мастер каталоги и объединить их в отдельный датафрейм"
   ]
  },
  {
   "cell_type": "code",
   "execution_count": null,
   "metadata": {},
   "outputs": [],
   "source": [
    "# Загрузка каждого датасета в отдельный датафрейм\n",
    "communications_df = pd.read_csv('data\\communications.csv', sep=';')\n",
    "courses_info_df = pd.read_csv('data\\courses_info.csv', sep=';')\n",
    "courses_passing_df = pd.read_csv('data\\courses_passing.csv', sep=';')\n",
    "course_employee_sms_df = pd.read_csv('data\\course_employee_sms.csv', sep=';')\n",
    "employees_df = pd.read_csv('data\\employees.csv', sep=';')"
   ]
  },
  {
   "cell_type": "code",
   "execution_count": null,
   "metadata": {},
   "outputs": [],
   "source": [
    "# Расмотрим загруженные данные\n",
    "communications_df.head()"
   ]
  },
  {
   "cell_type": "code",
   "execution_count": null,
   "metadata": {},
   "outputs": [],
   "source": [
    "# Расмотрим информацию о данных\n",
    "communications_df.info()"
   ]
  },
  {
   "cell_type": "markdown",
   "metadata": {},
   "source": [
    "Проверим на пропуски:"
   ]
  },
  {
   "cell_type": "code",
   "execution_count": null,
   "metadata": {},
   "outputs": [],
   "source": [
    "# Проверка наличия пропущенных значений в каждом столбце\n",
    "communications_df.isnull().sum()"
   ]
  },
  {
   "cell_type": "code",
   "execution_count": null,
   "metadata": {},
   "outputs": [],
   "source": [
    "# Посмотрим количество работников\n",
    "len(communications_df['employee_id'].unique())"
   ]
  },
  {
   "cell_type": "markdown",
   "metadata": {},
   "source": [
    "### Анализ эффективности коммуникаций"
   ]
  },
  {
   "cell_type": "code",
   "execution_count": null,
   "metadata": {},
   "outputs": [],
   "source": [
    "# Распределение оценок коммуникации\n",
    "fig_hist = px.histogram(communications_df, x='communication_score', nbins=20, marginal='box',\n",
    "                        title='Распределение оценок качества коммуникаций')\n",
    "fig_hist.update_layout(xaxis_title='Оценка коммуникации', yaxis_title='Количество',\n",
    "                       height=500)\n",
    "fig_hist.show()"
   ]
  },
  {
   "cell_type": "code",
   "execution_count": null,
   "metadata": {},
   "outputs": [],
   "source": [
    "# Диаграммма средних оценок коммуникации в зависимости от использования продукта\n",
    "mean_scores = communications_df.groupby('util_flg', as_index=False)['communication_score'].mean()\n",
    "fig_bar = px.bar(mean_scores, x='util_flg', y='communication_score', text='communication_score',\n",
    "                 title='Средняя оценка коммуникации по использованию продукта')\n",
    "fig_bar.update_traces(texttemplate='%{text:.2f}', textposition='outside')\n",
    "fig_bar.update_layout(xaxis_title='Использование продукта (0 - нет, 1 - да)',\n",
    "                      yaxis_title='Средняя оценка коммуникации',\n",
    "                      xaxis_tickmode='array',\n",
    "                      xaxis_tickvals=[0, 1],\n",
    "                      xaxis_ticktext=['Не использовали', 'Использовали'],\n",
    "                      height=600)\n",
    "fig_bar.show()"
   ]
  },
  {
   "cell_type": "code",
   "execution_count": null,
   "metadata": {},
   "outputs": [],
   "source": [
    "# Считаем корреляцию\n",
    "correlation_matrix = communications_df[['communication_score', 'util_flg']].corr()\n",
    "\n",
    "# Создаем тепловую карту\n",
    "fig_heatmap = go.Figure(data=go.Heatmap(\n",
    "                   z=correlation_matrix.values,\n",
    "                   x=correlation_matrix.columns,\n",
    "                   y=correlation_matrix.columns,\n",
    "                   hoverongaps=False, colorscale='Viridis'))\n",
    "\n",
    "# Добавляем аннотации с значениями\n",
    "annotations = []\n",
    "for i, row in enumerate(correlation_matrix.values):\n",
    "    for j, value in enumerate(row):\n",
    "        annotations.append(go.layout.Annotation(text=str(round(value, 2)), x=correlation_matrix.columns[j], y=correlation_matrix.columns[i],\n",
    "                                                xref='x1', yref='y1', showarrow=False, font=dict(color=\"white\")))\n",
    "\n",
    "fig_heatmap.update_layout(annotations=annotations, title='Корреляционная матрица', xaxis_title='', yaxis_title='',\n",
    "                          height=600)\n",
    "\n",
    "fig_heatmap.show()"
   ]
  },
  {
   "cell_type": "markdown",
   "metadata": {},
   "source": [
    "### Временной анализ"
   ]
  },
  {
   "cell_type": "code",
   "execution_count": null,
   "metadata": {},
   "outputs": [],
   "source": [
    "# Преобразование типа данных даты и сортировка\n",
    "communications_df['communication_dt'] = pd.to_datetime(communications_df['communication_dt'])\n",
    "communications_df.sort_values('communication_dt', inplace=True)\n",
    "\n",
    "# Расчет средней оценки коммуникации и доли успешных взаимодействий по датам\n",
    "daily_avg_score = communications_df.groupby('communication_dt')['communication_score'].mean()\n",
    "daily_util_rate = communications_df.groupby('communication_dt')['util_flg'].mean()\n",
    "\n",
    "# Создание графиков\n",
    "fig = make_subplots(specs=[[{\"secondary_y\": True}]])\n",
    "\n",
    "# График средней оценки коммуникации\n",
    "fig.add_trace(go.Scatter(x=daily_avg_score.index, y=daily_avg_score, name='Средняя оценка коммуникации',\n",
    "                         line=dict(color='blue', width=2)), secondary_y=False)\n",
    "\n",
    "# График доли успешных взаимодействий\n",
    "fig.add_trace(go.Scatter(x=daily_util_rate.index, y=daily_util_rate, name='Доля успешных взаимодействий',\n",
    "                         line=dict(color='red', width=2, dash='dot')), secondary_y=True)\n",
    "\n",
    "# Настройка графика\n",
    "fig.update_layout(title_text='Временной анализ качества коммуникаций и успешности взаимодействий',\n",
    "                  xaxis_title='Дата',\n",
    "                  yaxis_title='Средняя оценка коммуникации',\n",
    "                  template='plotly_white',\n",
    "                  height=600)\n",
    "\n",
    "fig.update_yaxes(title_text='Средняя оценка коммуникации', secondary_y=False)\n",
    "fig.update_yaxes(title_text='Доля успешных взаимодействий', secondary_y=True)\n",
    "\n",
    "fig.show()"
   ]
  },
  {
   "cell_type": "markdown",
   "metadata": {},
   "source": [
    "### Сегментация сотрудников"
   ]
  },
  {
   "cell_type": "code",
   "execution_count": null,
   "metadata": {},
   "outputs": [],
   "source": [
    "# Рассчитываем среднюю оценку коммуникации и долю успешных взаимодействий для каждого сотрудника\n",
    "employee_metrics = communications_df.groupby('employee_id').agg(\n",
    "    avg_communication_score=('communication_score', 'mean'),\n",
    "    success_rate=('util_flg', 'mean')\n",
    ")"
   ]
  },
  {
   "cell_type": "code",
   "execution_count": null,
   "metadata": {},
   "outputs": [],
   "source": [
    "# Нормализация данных\n",
    "scaler = StandardScaler()\n",
    "scaled_features = scaler.fit_transform(employee_metrics)"
   ]
  },
  {
   "cell_type": "code",
   "execution_count": null,
   "metadata": {},
   "outputs": [],
   "source": [
    "# Применение K-Means для кластеризации\n",
    "kmeans = KMeans(n_clusters=3, random_state=12345)\n",
    "employee_metrics['Cluster'] = kmeans.fit_predict(scaled_features)"
   ]
  },
  {
   "cell_type": "code",
   "execution_count": null,
   "metadata": {},
   "outputs": [],
   "source": [
    "# Визуализация результатов кластеризации\n",
    "fig = go.Figure()\n",
    "\n",
    "for cluster in employee_metrics['Cluster'].unique():\n",
    "    cluster_data = employee_metrics[employee_metrics['Cluster'] == cluster]\n",
    "    fig.add_trace(go.Scatter(x=cluster_data['avg_communication_score'], y=cluster_data['success_rate'],\n",
    "                             mode='markers', name=f'Кластер {cluster}',\n",
    "                             marker=dict(size=10, line=dict(width=2))))\n",
    "\n",
    "fig.update_layout(title='Сегментация сотрудников по качеству коммуникаций и успешности взаимодействий',\n",
    "                  xaxis_title='Средняя оценка коммуникации',\n",
    "                  yaxis_title='Доля успешных взаимодействий',\n",
    "                  template='plotly_white')\n",
    "\n",
    "fig.show()"
   ]
  }
 ],
 "metadata": {
  "kernelspec": {
   "display_name": "Python 3 (ipykernel)",
   "language": "python",
   "name": "python3"
  },
  "language_info": {
   "codemirror_mode": {
    "name": "ipython",
    "version": 3
   },
   "file_extension": ".py",
   "mimetype": "text/x-python",
   "name": "python",
   "nbconvert_exporter": "python",
   "pygments_lexer": "ipython3",
   "version": "3.9.12"
  },
  "toc": {
   "base_numbering": 1,
   "nav_menu": {},
   "number_sections": true,
   "sideBar": true,
   "skip_h1_title": true,
   "title_cell": "Table of Contents",
   "title_sidebar": "Contents",
   "toc_cell": false,
   "toc_position": {},
   "toc_section_display": true,
   "toc_window_display": false
  }
 },
 "nbformat": 4,
 "nbformat_minor": 4
}
