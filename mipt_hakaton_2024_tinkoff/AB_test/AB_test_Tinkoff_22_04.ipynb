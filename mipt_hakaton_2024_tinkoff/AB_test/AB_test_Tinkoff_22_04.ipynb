{
  "cells": [
    {
      "cell_type": "code",
      "execution_count": null,
      "metadata": {
        "id": "2JD8eg1vxx-g"
      },
      "outputs": [],
      "source": [
        "#  Импортируем неоьходимые библиотеки\n",
        "import pandas as pd\n",
        "import numpy as np\n",
        "import random\n",
        "import seaborn as sns\n",
        "import matplotlib.pyplot as plt"
      ]
    },
    {
      "cell_type": "markdown",
      "metadata": {
        "id": "eQxULIiCu2a9"
      },
      "source": [
        "## 0.Загружаем необходимые датафреймы"
      ]
    },
    {
      "cell_type": "code",
      "execution_count": null,
      "metadata": {
        "id": "QVvde1I3G7ca"
      },
      "outputs": [],
      "source": [
        "#датасет с коммуникациями\n",
        "df_emp_result = pd.read_csv('../data/src/communications.csv', sep=';')"
      ]
    },
    {
      "cell_type": "code",
      "execution_count": null,
      "metadata": {
        "colab": {
          "base_uri": "https://localhost:8080/",
          "height": 206
        },
        "id": "03DgzL_mHfmM",
        "outputId": "194b7683-d42e-4bed-d928-867b26dacd98"
      },
      "outputs": [
        {
          "data": {
            "application/vnd.google.colaboratory.intrinsic+json": {
              "type": "dataframe",
              "variable_name": "df_emp_result"
            },
            "text/html": [
              "\n",
              "  <div id=\"df-87c347b3-02aa-48df-9f96-dbb471921de8\" class=\"colab-df-container\">\n",
              "    <div>\n",
              "<style scoped>\n",
              "    .dataframe tbody tr th:only-of-type {\n",
              "        vertical-align: middle;\n",
              "    }\n",
              "\n",
              "    .dataframe tbody tr th {\n",
              "        vertical-align: top;\n",
              "    }\n",
              "\n",
              "    .dataframe thead th {\n",
              "        text-align: right;\n",
              "    }\n",
              "</style>\n",
              "<table border=\"1\" class=\"dataframe\">\n",
              "  <thead>\n",
              "    <tr style=\"text-align: right;\">\n",
              "      <th></th>\n",
              "      <th>communication_id</th>\n",
              "      <th>communication_dt</th>\n",
              "      <th>employee_id</th>\n",
              "      <th>communication_score</th>\n",
              "      <th>util_flg</th>\n",
              "    </tr>\n",
              "  </thead>\n",
              "  <tbody>\n",
              "    <tr>\n",
              "      <th>0</th>\n",
              "      <td>177074281189583840</td>\n",
              "      <td>2023-02-07 00:00:00</td>\n",
              "      <td>269d837a-fada-308d-d4ae-ab28ca2d57e4</td>\n",
              "      <td>85</td>\n",
              "      <td>0</td>\n",
              "    </tr>\n",
              "    <tr>\n",
              "      <th>1</th>\n",
              "      <td>189925315406757324</td>\n",
              "      <td>2023-07-29 00:00:00</td>\n",
              "      <td>e6384711-4917-13d2-9bc6-3fc5eeb5ba4f</td>\n",
              "      <td>100</td>\n",
              "      <td>0</td>\n",
              "    </tr>\n",
              "    <tr>\n",
              "      <th>2</th>\n",
              "      <td>321818238739717242</td>\n",
              "      <td>2023-09-06 00:00:00</td>\n",
              "      <td>ab541d87-4c7b-c19a-b776-42849e02b89f</td>\n",
              "      <td>43</td>\n",
              "      <td>1</td>\n",
              "    </tr>\n",
              "    <tr>\n",
              "      <th>3</th>\n",
              "      <td>192259329962028989</td>\n",
              "      <td>2023-06-19 00:00:00</td>\n",
              "      <td>0a0a0c8a-aa00-ade5-0f74-a3f0ca981ed7</td>\n",
              "      <td>100</td>\n",
              "      <td>1</td>\n",
              "    </tr>\n",
              "    <tr>\n",
              "      <th>4</th>\n",
              "      <td>705274671052151857</td>\n",
              "      <td>2023-08-11 00:00:00</td>\n",
              "      <td>f93882cb-d8fc-7fb7-94c1-011d63be6fb6</td>\n",
              "      <td>46</td>\n",
              "      <td>0</td>\n",
              "    </tr>\n",
              "  </tbody>\n",
              "</table>\n",
              "</div>\n",
              "    <div class=\"colab-df-buttons\">\n",
              "\n",
              "  <div class=\"colab-df-container\">\n",
              "    <button class=\"colab-df-convert\" onclick=\"convertToInteractive('df-87c347b3-02aa-48df-9f96-dbb471921de8')\"\n",
              "            title=\"Convert this dataframe to an interactive table.\"\n",
              "            style=\"display:none;\">\n",
              "\n",
              "  <svg xmlns=\"http://www.w3.org/2000/svg\" height=\"24px\" viewBox=\"0 -960 960 960\">\n",
              "    <path d=\"M120-120v-720h720v720H120Zm60-500h600v-160H180v160Zm220 220h160v-160H400v160Zm0 220h160v-160H400v160ZM180-400h160v-160H180v160Zm440 0h160v-160H620v160ZM180-180h160v-160H180v160Zm440 0h160v-160H620v160Z\"/>\n",
              "  </svg>\n",
              "    </button>\n",
              "\n",
              "  <style>\n",
              "    .colab-df-container {\n",
              "      display:flex;\n",
              "      gap: 12px;\n",
              "    }\n",
              "\n",
              "    .colab-df-convert {\n",
              "      background-color: #E8F0FE;\n",
              "      border: none;\n",
              "      border-radius: 50%;\n",
              "      cursor: pointer;\n",
              "      display: none;\n",
              "      fill: #1967D2;\n",
              "      height: 32px;\n",
              "      padding: 0 0 0 0;\n",
              "      width: 32px;\n",
              "    }\n",
              "\n",
              "    .colab-df-convert:hover {\n",
              "      background-color: #E2EBFA;\n",
              "      box-shadow: 0px 1px 2px rgba(60, 64, 67, 0.3), 0px 1px 3px 1px rgba(60, 64, 67, 0.15);\n",
              "      fill: #174EA6;\n",
              "    }\n",
              "\n",
              "    .colab-df-buttons div {\n",
              "      margin-bottom: 4px;\n",
              "    }\n",
              "\n",
              "    [theme=dark] .colab-df-convert {\n",
              "      background-color: #3B4455;\n",
              "      fill: #D2E3FC;\n",
              "    }\n",
              "\n",
              "    [theme=dark] .colab-df-convert:hover {\n",
              "      background-color: #434B5C;\n",
              "      box-shadow: 0px 1px 3px 1px rgba(0, 0, 0, 0.15);\n",
              "      filter: drop-shadow(0px 1px 2px rgba(0, 0, 0, 0.3));\n",
              "      fill: #FFFFFF;\n",
              "    }\n",
              "  </style>\n",
              "\n",
              "    <script>\n",
              "      const buttonEl =\n",
              "        document.querySelector('#df-87c347b3-02aa-48df-9f96-dbb471921de8 button.colab-df-convert');\n",
              "      buttonEl.style.display =\n",
              "        google.colab.kernel.accessAllowed ? 'block' : 'none';\n",
              "\n",
              "      async function convertToInteractive(key) {\n",
              "        const element = document.querySelector('#df-87c347b3-02aa-48df-9f96-dbb471921de8');\n",
              "        const dataTable =\n",
              "          await google.colab.kernel.invokeFunction('convertToInteractive',\n",
              "                                                    [key], {});\n",
              "        if (!dataTable) return;\n",
              "\n",
              "        const docLinkHtml = 'Like what you see? Visit the ' +\n",
              "          '<a target=\"_blank\" href=https://colab.research.google.com/notebooks/data_table.ipynb>data table notebook</a>'\n",
              "          + ' to learn more about interactive tables.';\n",
              "        element.innerHTML = '';\n",
              "        dataTable['output_type'] = 'display_data';\n",
              "        await google.colab.output.renderOutput(dataTable, element);\n",
              "        const docLink = document.createElement('div');\n",
              "        docLink.innerHTML = docLinkHtml;\n",
              "        element.appendChild(docLink);\n",
              "      }\n",
              "    </script>\n",
              "  </div>\n",
              "\n",
              "\n",
              "<div id=\"df-e90f4105-5abf-4705-8035-f5f43ae8f4d9\">\n",
              "  <button class=\"colab-df-quickchart\" onclick=\"quickchart('df-e90f4105-5abf-4705-8035-f5f43ae8f4d9')\"\n",
              "            title=\"Suggest charts\"\n",
              "            style=\"display:none;\">\n",
              "\n",
              "<svg xmlns=\"http://www.w3.org/2000/svg\" height=\"24px\"viewBox=\"0 0 24 24\"\n",
              "     width=\"24px\">\n",
              "    <g>\n",
              "        <path d=\"M19 3H5c-1.1 0-2 .9-2 2v14c0 1.1.9 2 2 2h14c1.1 0 2-.9 2-2V5c0-1.1-.9-2-2-2zM9 17H7v-7h2v7zm4 0h-2V7h2v10zm4 0h-2v-4h2v4z\"/>\n",
              "    </g>\n",
              "</svg>\n",
              "  </button>\n",
              "\n",
              "<style>\n",
              "  .colab-df-quickchart {\n",
              "      --bg-color: #E8F0FE;\n",
              "      --fill-color: #1967D2;\n",
              "      --hover-bg-color: #E2EBFA;\n",
              "      --hover-fill-color: #174EA6;\n",
              "      --disabled-fill-color: #AAA;\n",
              "      --disabled-bg-color: #DDD;\n",
              "  }\n",
              "\n",
              "  [theme=dark] .colab-df-quickchart {\n",
              "      --bg-color: #3B4455;\n",
              "      --fill-color: #D2E3FC;\n",
              "      --hover-bg-color: #434B5C;\n",
              "      --hover-fill-color: #FFFFFF;\n",
              "      --disabled-bg-color: #3B4455;\n",
              "      --disabled-fill-color: #666;\n",
              "  }\n",
              "\n",
              "  .colab-df-quickchart {\n",
              "    background-color: var(--bg-color);\n",
              "    border: none;\n",
              "    border-radius: 50%;\n",
              "    cursor: pointer;\n",
              "    display: none;\n",
              "    fill: var(--fill-color);\n",
              "    height: 32px;\n",
              "    padding: 0;\n",
              "    width: 32px;\n",
              "  }\n",
              "\n",
              "  .colab-df-quickchart:hover {\n",
              "    background-color: var(--hover-bg-color);\n",
              "    box-shadow: 0 1px 2px rgba(60, 64, 67, 0.3), 0 1px 3px 1px rgba(60, 64, 67, 0.15);\n",
              "    fill: var(--button-hover-fill-color);\n",
              "  }\n",
              "\n",
              "  .colab-df-quickchart-complete:disabled,\n",
              "  .colab-df-quickchart-complete:disabled:hover {\n",
              "    background-color: var(--disabled-bg-color);\n",
              "    fill: var(--disabled-fill-color);\n",
              "    box-shadow: none;\n",
              "  }\n",
              "\n",
              "  .colab-df-spinner {\n",
              "    border: 2px solid var(--fill-color);\n",
              "    border-color: transparent;\n",
              "    border-bottom-color: var(--fill-color);\n",
              "    animation:\n",
              "      spin 1s steps(1) infinite;\n",
              "  }\n",
              "\n",
              "  @keyframes spin {\n",
              "    0% {\n",
              "      border-color: transparent;\n",
              "      border-bottom-color: var(--fill-color);\n",
              "      border-left-color: var(--fill-color);\n",
              "    }\n",
              "    20% {\n",
              "      border-color: transparent;\n",
              "      border-left-color: var(--fill-color);\n",
              "      border-top-color: var(--fill-color);\n",
              "    }\n",
              "    30% {\n",
              "      border-color: transparent;\n",
              "      border-left-color: var(--fill-color);\n",
              "      border-top-color: var(--fill-color);\n",
              "      border-right-color: var(--fill-color);\n",
              "    }\n",
              "    40% {\n",
              "      border-color: transparent;\n",
              "      border-right-color: var(--fill-color);\n",
              "      border-top-color: var(--fill-color);\n",
              "    }\n",
              "    60% {\n",
              "      border-color: transparent;\n",
              "      border-right-color: var(--fill-color);\n",
              "    }\n",
              "    80% {\n",
              "      border-color: transparent;\n",
              "      border-right-color: var(--fill-color);\n",
              "      border-bottom-color: var(--fill-color);\n",
              "    }\n",
              "    90% {\n",
              "      border-color: transparent;\n",
              "      border-bottom-color: var(--fill-color);\n",
              "    }\n",
              "  }\n",
              "</style>\n",
              "\n",
              "  <script>\n",
              "    async function quickchart(key) {\n",
              "      const quickchartButtonEl =\n",
              "        document.querySelector('#' + key + ' button');\n",
              "      quickchartButtonEl.disabled = true;  // To prevent multiple clicks.\n",
              "      quickchartButtonEl.classList.add('colab-df-spinner');\n",
              "      try {\n",
              "        const charts = await google.colab.kernel.invokeFunction(\n",
              "            'suggestCharts', [key], {});\n",
              "      } catch (error) {\n",
              "        console.error('Error during call to suggestCharts:', error);\n",
              "      }\n",
              "      quickchartButtonEl.classList.remove('colab-df-spinner');\n",
              "      quickchartButtonEl.classList.add('colab-df-quickchart-complete');\n",
              "    }\n",
              "    (() => {\n",
              "      let quickchartButtonEl =\n",
              "        document.querySelector('#df-e90f4105-5abf-4705-8035-f5f43ae8f4d9 button');\n",
              "      quickchartButtonEl.style.display =\n",
              "        google.colab.kernel.accessAllowed ? 'block' : 'none';\n",
              "    })();\n",
              "  </script>\n",
              "</div>\n",
              "    </div>\n",
              "  </div>\n"
            ],
            "text/plain": [
              "     communication_id     communication_dt  \\\n",
              "0  177074281189583840  2023-02-07 00:00:00   \n",
              "1  189925315406757324  2023-07-29 00:00:00   \n",
              "2  321818238739717242  2023-09-06 00:00:00   \n",
              "3  192259329962028989  2023-06-19 00:00:00   \n",
              "4  705274671052151857  2023-08-11 00:00:00   \n",
              "\n",
              "                            employee_id  communication_score  util_flg  \n",
              "0  269d837a-fada-308d-d4ae-ab28ca2d57e4                   85         0  \n",
              "1  e6384711-4917-13d2-9bc6-3fc5eeb5ba4f                  100         0  \n",
              "2  ab541d87-4c7b-c19a-b776-42849e02b89f                   43         1  \n",
              "3  0a0a0c8a-aa00-ade5-0f74-a3f0ca981ed7                  100         1  \n",
              "4  f93882cb-d8fc-7fb7-94c1-011d63be6fb6                   46         0  "
            ]
          },
          "execution_count": 29,
          "metadata": {},
          "output_type": "execute_result"
        }
      ],
      "source": [
        "df_emp_result.head()"
      ]
    },
    {
      "cell_type": "code",
      "execution_count": null,
      "metadata": {
        "id": "aJhaesCgH4KQ"
      },
      "outputs": [],
      "source": [
        "#преобразуем столбец с датой\n",
        "df_emp_result['communication_dt'] = pd.to_datetime(df_emp_result['communication_dt'])"
      ]
    },
    {
      "cell_type": "code",
      "execution_count": null,
      "metadata": {
        "colab": {
          "base_uri": "https://localhost:8080/",
          "height": 455
        },
        "id": "f0PQ8VAeIQvc",
        "outputId": "9b24632f-4f4c-45b8-a080-1b6ed18bcfd4"
      },
      "outputs": [
        {
          "data": {
            "application/vnd.google.colaboratory.intrinsic+json": {
              "summary": "{\n  \"name\": \"df_emp_mean_result\",\n  \"rows\": 2381,\n  \"fields\": [\n    {\n      \"column\": \"employee_id\",\n      \"properties\": {\n        \"dtype\": \"string\",\n        \"num_unique_values\": 2381,\n        \"samples\": [\n          \"98d6f58a-b0da-fbb8-6b08-3a001561bb34\",\n          \"7437d136-770f-5b35-194c-b46c1653efaa\",\n          \"95151403-b0db-4f75-bfd8-da0b393af853\"\n        ],\n        \"semantic_type\": \"\",\n        \"description\": \"\"\n      }\n    },\n    {\n      \"column\": \"communication_score\",\n      \"properties\": {\n        \"dtype\": \"number\",\n        \"std\": 1.6963911793599407,\n        \"min\": 54.53803245436105,\n        \"max\": 66.9763481551561,\n        \"num_unique_values\": 2380,\n        \"samples\": [\n          56.5131914893617,\n          57.18244680851064,\n          58.627364716234055\n        ],\n        \"semantic_type\": \"\",\n        \"description\": \"\"\n      }\n    },\n    {\n      \"column\": \"util_flg\",\n      \"properties\": {\n        \"dtype\": \"number\",\n        \"std\": 0.017592327580844922,\n        \"min\": 0.6802519451648759,\n        \"max\": 0.8055678303137428,\n        \"num_unique_values\": 2342,\n        \"samples\": [\n          0.7779783393501805,\n          0.7401380670611439,\n          0.7526926263463132\n        ],\n        \"semantic_type\": \"\",\n        \"description\": \"\"\n      }\n    }\n  ]\n}",
              "type": "dataframe",
              "variable_name": "df_emp_mean_result"
            },
            "text/html": [
              "\n",
              "  <div id=\"df-f272c3da-b833-418a-b9a5-622f61b4a026\" class=\"colab-df-container\">\n",
              "    <div>\n",
              "<style scoped>\n",
              "    .dataframe tbody tr th:only-of-type {\n",
              "        vertical-align: middle;\n",
              "    }\n",
              "\n",
              "    .dataframe tbody tr th {\n",
              "        vertical-align: top;\n",
              "    }\n",
              "\n",
              "    .dataframe thead th {\n",
              "        text-align: right;\n",
              "    }\n",
              "</style>\n",
              "<table border=\"1\" class=\"dataframe\">\n",
              "  <thead>\n",
              "    <tr style=\"text-align: right;\">\n",
              "      <th></th>\n",
              "      <th>communication_score</th>\n",
              "      <th>util_flg</th>\n",
              "    </tr>\n",
              "    <tr>\n",
              "      <th>employee_id</th>\n",
              "      <th></th>\n",
              "      <th></th>\n",
              "    </tr>\n",
              "  </thead>\n",
              "  <tbody>\n",
              "    <tr>\n",
              "      <th>0004d0b5-9e19-461f-f126-e3a08a814c33</th>\n",
              "      <td>57.144464</td>\n",
              "      <td>0.746972</td>\n",
              "    </tr>\n",
              "    <tr>\n",
              "      <th>00411460-f7c9-2d21-24a6-7ea0f4cb5f85</th>\n",
              "      <td>57.152452</td>\n",
              "      <td>0.766525</td>\n",
              "    </tr>\n",
              "    <tr>\n",
              "      <th>006f52e9-102a-8d3b-e2fe-5614f42ba989</th>\n",
              "      <td>61.333500</td>\n",
              "      <td>0.763355</td>\n",
              "    </tr>\n",
              "    <tr>\n",
              "      <th>0070d23b-06b1-486a-538c-0eaa45dd167a</th>\n",
              "      <td>58.648239</td>\n",
              "      <td>0.758395</td>\n",
              "    </tr>\n",
              "    <tr>\n",
              "      <th>008bd5ad-93b7-54d5-0033-8c253d9c1770</th>\n",
              "      <td>56.645145</td>\n",
              "      <td>0.752252</td>\n",
              "    </tr>\n",
              "    <tr>\n",
              "      <th>...</th>\n",
              "      <td>...</td>\n",
              "      <td>...</td>\n",
              "    </tr>\n",
              "    <tr>\n",
              "      <th>fface838-5abb-f94b-4593-a0ed53a0c70f</th>\n",
              "      <td>58.311325</td>\n",
              "      <td>0.768909</td>\n",
              "    </tr>\n",
              "    <tr>\n",
              "      <th>ffd52f3c-7e12-435a-724a-8f30fddadd9c</th>\n",
              "      <td>57.732249</td>\n",
              "      <td>0.757890</td>\n",
              "    </tr>\n",
              "    <tr>\n",
              "      <th>ffeabd22-3de0-d4ea-cb9a-3e6e53e5448d</th>\n",
              "      <td>58.547652</td>\n",
              "      <td>0.712722</td>\n",
              "    </tr>\n",
              "    <tr>\n",
              "      <th>ffedf5be-3a86-e2ee-281d-54cdc97bc1cf</th>\n",
              "      <td>58.046512</td>\n",
              "      <td>0.761529</td>\n",
              "    </tr>\n",
              "    <tr>\n",
              "      <th>ffeed84c-7cb1-ae7b-f4ec-4bd78275bb98</th>\n",
              "      <td>61.766350</td>\n",
              "      <td>0.768347</td>\n",
              "    </tr>\n",
              "  </tbody>\n",
              "</table>\n",
              "<p>2381 rows × 2 columns</p>\n",
              "</div>\n",
              "    <div class=\"colab-df-buttons\">\n",
              "\n",
              "  <div class=\"colab-df-container\">\n",
              "    <button class=\"colab-df-convert\" onclick=\"convertToInteractive('df-f272c3da-b833-418a-b9a5-622f61b4a026')\"\n",
              "            title=\"Convert this dataframe to an interactive table.\"\n",
              "            style=\"display:none;\">\n",
              "\n",
              "  <svg xmlns=\"http://www.w3.org/2000/svg\" height=\"24px\" viewBox=\"0 -960 960 960\">\n",
              "    <path d=\"M120-120v-720h720v720H120Zm60-500h600v-160H180v160Zm220 220h160v-160H400v160Zm0 220h160v-160H400v160ZM180-400h160v-160H180v160Zm440 0h160v-160H620v160ZM180-180h160v-160H180v160Zm440 0h160v-160H620v160Z\"/>\n",
              "  </svg>\n",
              "    </button>\n",
              "\n",
              "  <style>\n",
              "    .colab-df-container {\n",
              "      display:flex;\n",
              "      gap: 12px;\n",
              "    }\n",
              "\n",
              "    .colab-df-convert {\n",
              "      background-color: #E8F0FE;\n",
              "      border: none;\n",
              "      border-radius: 50%;\n",
              "      cursor: pointer;\n",
              "      display: none;\n",
              "      fill: #1967D2;\n",
              "      height: 32px;\n",
              "      padding: 0 0 0 0;\n",
              "      width: 32px;\n",
              "    }\n",
              "\n",
              "    .colab-df-convert:hover {\n",
              "      background-color: #E2EBFA;\n",
              "      box-shadow: 0px 1px 2px rgba(60, 64, 67, 0.3), 0px 1px 3px 1px rgba(60, 64, 67, 0.15);\n",
              "      fill: #174EA6;\n",
              "    }\n",
              "\n",
              "    .colab-df-buttons div {\n",
              "      margin-bottom: 4px;\n",
              "    }\n",
              "\n",
              "    [theme=dark] .colab-df-convert {\n",
              "      background-color: #3B4455;\n",
              "      fill: #D2E3FC;\n",
              "    }\n",
              "\n",
              "    [theme=dark] .colab-df-convert:hover {\n",
              "      background-color: #434B5C;\n",
              "      box-shadow: 0px 1px 3px 1px rgba(0, 0, 0, 0.15);\n",
              "      filter: drop-shadow(0px 1px 2px rgba(0, 0, 0, 0.3));\n",
              "      fill: #FFFFFF;\n",
              "    }\n",
              "  </style>\n",
              "\n",
              "    <script>\n",
              "      const buttonEl =\n",
              "        document.querySelector('#df-f272c3da-b833-418a-b9a5-622f61b4a026 button.colab-df-convert');\n",
              "      buttonEl.style.display =\n",
              "        google.colab.kernel.accessAllowed ? 'block' : 'none';\n",
              "\n",
              "      async function convertToInteractive(key) {\n",
              "        const element = document.querySelector('#df-f272c3da-b833-418a-b9a5-622f61b4a026');\n",
              "        const dataTable =\n",
              "          await google.colab.kernel.invokeFunction('convertToInteractive',\n",
              "                                                    [key], {});\n",
              "        if (!dataTable) return;\n",
              "\n",
              "        const docLinkHtml = 'Like what you see? Visit the ' +\n",
              "          '<a target=\"_blank\" href=https://colab.research.google.com/notebooks/data_table.ipynb>data table notebook</a>'\n",
              "          + ' to learn more about interactive tables.';\n",
              "        element.innerHTML = '';\n",
              "        dataTable['output_type'] = 'display_data';\n",
              "        await google.colab.output.renderOutput(dataTable, element);\n",
              "        const docLink = document.createElement('div');\n",
              "        docLink.innerHTML = docLinkHtml;\n",
              "        element.appendChild(docLink);\n",
              "      }\n",
              "    </script>\n",
              "  </div>\n",
              "\n",
              "\n",
              "<div id=\"df-a85d7738-efc2-40ae-898d-766af063c6a1\">\n",
              "  <button class=\"colab-df-quickchart\" onclick=\"quickchart('df-a85d7738-efc2-40ae-898d-766af063c6a1')\"\n",
              "            title=\"Suggest charts\"\n",
              "            style=\"display:none;\">\n",
              "\n",
              "<svg xmlns=\"http://www.w3.org/2000/svg\" height=\"24px\"viewBox=\"0 0 24 24\"\n",
              "     width=\"24px\">\n",
              "    <g>\n",
              "        <path d=\"M19 3H5c-1.1 0-2 .9-2 2v14c0 1.1.9 2 2 2h14c1.1 0 2-.9 2-2V5c0-1.1-.9-2-2-2zM9 17H7v-7h2v7zm4 0h-2V7h2v10zm4 0h-2v-4h2v4z\"/>\n",
              "    </g>\n",
              "</svg>\n",
              "  </button>\n",
              "\n",
              "<style>\n",
              "  .colab-df-quickchart {\n",
              "      --bg-color: #E8F0FE;\n",
              "      --fill-color: #1967D2;\n",
              "      --hover-bg-color: #E2EBFA;\n",
              "      --hover-fill-color: #174EA6;\n",
              "      --disabled-fill-color: #AAA;\n",
              "      --disabled-bg-color: #DDD;\n",
              "  }\n",
              "\n",
              "  [theme=dark] .colab-df-quickchart {\n",
              "      --bg-color: #3B4455;\n",
              "      --fill-color: #D2E3FC;\n",
              "      --hover-bg-color: #434B5C;\n",
              "      --hover-fill-color: #FFFFFF;\n",
              "      --disabled-bg-color: #3B4455;\n",
              "      --disabled-fill-color: #666;\n",
              "  }\n",
              "\n",
              "  .colab-df-quickchart {\n",
              "    background-color: var(--bg-color);\n",
              "    border: none;\n",
              "    border-radius: 50%;\n",
              "    cursor: pointer;\n",
              "    display: none;\n",
              "    fill: var(--fill-color);\n",
              "    height: 32px;\n",
              "    padding: 0;\n",
              "    width: 32px;\n",
              "  }\n",
              "\n",
              "  .colab-df-quickchart:hover {\n",
              "    background-color: var(--hover-bg-color);\n",
              "    box-shadow: 0 1px 2px rgba(60, 64, 67, 0.3), 0 1px 3px 1px rgba(60, 64, 67, 0.15);\n",
              "    fill: var(--button-hover-fill-color);\n",
              "  }\n",
              "\n",
              "  .colab-df-quickchart-complete:disabled,\n",
              "  .colab-df-quickchart-complete:disabled:hover {\n",
              "    background-color: var(--disabled-bg-color);\n",
              "    fill: var(--disabled-fill-color);\n",
              "    box-shadow: none;\n",
              "  }\n",
              "\n",
              "  .colab-df-spinner {\n",
              "    border: 2px solid var(--fill-color);\n",
              "    border-color: transparent;\n",
              "    border-bottom-color: var(--fill-color);\n",
              "    animation:\n",
              "      spin 1s steps(1) infinite;\n",
              "  }\n",
              "\n",
              "  @keyframes spin {\n",
              "    0% {\n",
              "      border-color: transparent;\n",
              "      border-bottom-color: var(--fill-color);\n",
              "      border-left-color: var(--fill-color);\n",
              "    }\n",
              "    20% {\n",
              "      border-color: transparent;\n",
              "      border-left-color: var(--fill-color);\n",
              "      border-top-color: var(--fill-color);\n",
              "    }\n",
              "    30% {\n",
              "      border-color: transparent;\n",
              "      border-left-color: var(--fill-color);\n",
              "      border-top-color: var(--fill-color);\n",
              "      border-right-color: var(--fill-color);\n",
              "    }\n",
              "    40% {\n",
              "      border-color: transparent;\n",
              "      border-right-color: var(--fill-color);\n",
              "      border-top-color: var(--fill-color);\n",
              "    }\n",
              "    60% {\n",
              "      border-color: transparent;\n",
              "      border-right-color: var(--fill-color);\n",
              "    }\n",
              "    80% {\n",
              "      border-color: transparent;\n",
              "      border-right-color: var(--fill-color);\n",
              "      border-bottom-color: var(--fill-color);\n",
              "    }\n",
              "    90% {\n",
              "      border-color: transparent;\n",
              "      border-bottom-color: var(--fill-color);\n",
              "    }\n",
              "  }\n",
              "</style>\n",
              "\n",
              "  <script>\n",
              "    async function quickchart(key) {\n",
              "      const quickchartButtonEl =\n",
              "        document.querySelector('#' + key + ' button');\n",
              "      quickchartButtonEl.disabled = true;  // To prevent multiple clicks.\n",
              "      quickchartButtonEl.classList.add('colab-df-spinner');\n",
              "      try {\n",
              "        const charts = await google.colab.kernel.invokeFunction(\n",
              "            'suggestCharts', [key], {});\n",
              "      } catch (error) {\n",
              "        console.error('Error during call to suggestCharts:', error);\n",
              "      }\n",
              "      quickchartButtonEl.classList.remove('colab-df-spinner');\n",
              "      quickchartButtonEl.classList.add('colab-df-quickchart-complete');\n",
              "    }\n",
              "    (() => {\n",
              "      let quickchartButtonEl =\n",
              "        document.querySelector('#df-a85d7738-efc2-40ae-898d-766af063c6a1 button');\n",
              "      quickchartButtonEl.style.display =\n",
              "        google.colab.kernel.accessAllowed ? 'block' : 'none';\n",
              "    })();\n",
              "  </script>\n",
              "</div>\n",
              "    </div>\n",
              "  </div>\n"
            ],
            "text/plain": [
              "                                      communication_score  util_flg\n",
              "employee_id                                                        \n",
              "0004d0b5-9e19-461f-f126-e3a08a814c33            57.144464  0.746972\n",
              "00411460-f7c9-2d21-24a6-7ea0f4cb5f85            57.152452  0.766525\n",
              "006f52e9-102a-8d3b-e2fe-5614f42ba989            61.333500  0.763355\n",
              "0070d23b-06b1-486a-538c-0eaa45dd167a            58.648239  0.758395\n",
              "008bd5ad-93b7-54d5-0033-8c253d9c1770            56.645145  0.752252\n",
              "...                                                   ...       ...\n",
              "fface838-5abb-f94b-4593-a0ed53a0c70f            58.311325  0.768909\n",
              "ffd52f3c-7e12-435a-724a-8f30fddadd9c            57.732249  0.757890\n",
              "ffeabd22-3de0-d4ea-cb9a-3e6e53e5448d            58.547652  0.712722\n",
              "ffedf5be-3a86-e2ee-281d-54cdc97bc1cf            58.046512  0.761529\n",
              "ffeed84c-7cb1-ae7b-f4ec-4bd78275bb98            61.766350  0.768347\n",
              "\n",
              "[2381 rows x 2 columns]"
            ]
          },
          "execution_count": 31,
          "metadata": {},
          "output_type": "execute_result"
        }
      ],
      "source": [
        "#получим средний показатель каждого сотрудника по уровню коммуникаций и конверсии\n",
        "df_emp_mean_result = df_emp_result.groupby('employee_id')[['communication_score', 'util_flg']].mean()\n",
        "df_emp_mean_result"
      ]
    },
    {
      "cell_type": "code",
      "execution_count": null,
      "metadata": {
        "colab": {
          "base_uri": "https://localhost:8080/"
        },
        "id": "cKk1P3VHRnQG",
        "outputId": "c87bda5b-821c-4db1-f167-5b78dcf287e0"
      },
      "outputs": [
        {
          "data": {
            "text/plain": [
              "10"
            ]
          },
          "execution_count": 32,
          "metadata": {},
          "output_type": "execute_result"
        }
      ],
      "source": [
        "#получим количество наблюдений для каждого сотрудика\n",
        "df_emp_count_per_day_result = df_emp_result.groupby(['employee_id', 'communication_dt'])[['communication_score', 'util_flg']].count()\n",
        "#среднее число коммуникаций сотрудника за день\n",
        "nobs_per_emp = round(df_emp_count_per_day_result['communication_score'].mean())\n",
        "nobs_per_emp"
      ]
    },
    {
      "cell_type": "code",
      "execution_count": null,
      "metadata": {
        "colab": {
          "base_uri": "https://localhost:8080/",
          "height": 238
        },
        "id": "ueOppNTmInRG",
        "outputId": "dd75f406-2eb0-4e23-cee7-48f51c7b997f"
      },
      "outputs": [
        {
          "data": {
            "application/vnd.google.colaboratory.intrinsic+json": {
              "summary": "{\n  \"name\": \"df_emp_mean_result\",\n  \"rows\": 2381,\n  \"fields\": [\n    {\n      \"column\": \"employee_id\",\n      \"properties\": {\n        \"dtype\": \"string\",\n        \"num_unique_values\": 2381,\n        \"samples\": [\n          \"98d6f58a-b0da-fbb8-6b08-3a001561bb34\",\n          \"7437d136-770f-5b35-194c-b46c1653efaa\",\n          \"95151403-b0db-4f75-bfd8-da0b393af853\"\n        ],\n        \"semantic_type\": \"\",\n        \"description\": \"\"\n      }\n    },\n    {\n      \"column\": \"communication_score\",\n      \"properties\": {\n        \"dtype\": \"number\",\n        \"std\": 1.6963911793599407,\n        \"min\": 54.53803245436105,\n        \"max\": 66.9763481551561,\n        \"num_unique_values\": 2380,\n        \"samples\": [\n          56.5131914893617,\n          57.18244680851064,\n          58.627364716234055\n        ],\n        \"semantic_type\": \"\",\n        \"description\": \"\"\n      }\n    },\n    {\n      \"column\": \"util_flg\",\n      \"properties\": {\n        \"dtype\": \"number\",\n        \"std\": 0.017592327580844922,\n        \"min\": 0.6802519451648759,\n        \"max\": 0.8055678303137428,\n        \"num_unique_values\": 2342,\n        \"samples\": [\n          0.7779783393501805,\n          0.7401380670611439,\n          0.7526926263463132\n        ],\n        \"semantic_type\": \"\",\n        \"description\": \"\"\n      }\n    }\n  ]\n}",
              "type": "dataframe",
              "variable_name": "df_emp_mean_result"
            },
            "text/html": [
              "\n",
              "  <div id=\"df-4743b0d1-158c-450a-8522-c6a14cf0a03a\" class=\"colab-df-container\">\n",
              "    <div>\n",
              "<style scoped>\n",
              "    .dataframe tbody tr th:only-of-type {\n",
              "        vertical-align: middle;\n",
              "    }\n",
              "\n",
              "    .dataframe tbody tr th {\n",
              "        vertical-align: top;\n",
              "    }\n",
              "\n",
              "    .dataframe thead th {\n",
              "        text-align: right;\n",
              "    }\n",
              "</style>\n",
              "<table border=\"1\" class=\"dataframe\">\n",
              "  <thead>\n",
              "    <tr style=\"text-align: right;\">\n",
              "      <th></th>\n",
              "      <th>communication_score</th>\n",
              "      <th>util_flg</th>\n",
              "    </tr>\n",
              "    <tr>\n",
              "      <th>employee_id</th>\n",
              "      <th></th>\n",
              "      <th></th>\n",
              "    </tr>\n",
              "  </thead>\n",
              "  <tbody>\n",
              "    <tr>\n",
              "      <th>0004d0b5-9e19-461f-f126-e3a08a814c33</th>\n",
              "      <td>57.144464</td>\n",
              "      <td>0.746972</td>\n",
              "    </tr>\n",
              "    <tr>\n",
              "      <th>00411460-f7c9-2d21-24a6-7ea0f4cb5f85</th>\n",
              "      <td>57.152452</td>\n",
              "      <td>0.766525</td>\n",
              "    </tr>\n",
              "    <tr>\n",
              "      <th>006f52e9-102a-8d3b-e2fe-5614f42ba989</th>\n",
              "      <td>61.333500</td>\n",
              "      <td>0.763355</td>\n",
              "    </tr>\n",
              "    <tr>\n",
              "      <th>0070d23b-06b1-486a-538c-0eaa45dd167a</th>\n",
              "      <td>58.648239</td>\n",
              "      <td>0.758395</td>\n",
              "    </tr>\n",
              "    <tr>\n",
              "      <th>008bd5ad-93b7-54d5-0033-8c253d9c1770</th>\n",
              "      <td>56.645145</td>\n",
              "      <td>0.752252</td>\n",
              "    </tr>\n",
              "  </tbody>\n",
              "</table>\n",
              "</div>\n",
              "    <div class=\"colab-df-buttons\">\n",
              "\n",
              "  <div class=\"colab-df-container\">\n",
              "    <button class=\"colab-df-convert\" onclick=\"convertToInteractive('df-4743b0d1-158c-450a-8522-c6a14cf0a03a')\"\n",
              "            title=\"Convert this dataframe to an interactive table.\"\n",
              "            style=\"display:none;\">\n",
              "\n",
              "  <svg xmlns=\"http://www.w3.org/2000/svg\" height=\"24px\" viewBox=\"0 -960 960 960\">\n",
              "    <path d=\"M120-120v-720h720v720H120Zm60-500h600v-160H180v160Zm220 220h160v-160H400v160Zm0 220h160v-160H400v160ZM180-400h160v-160H180v160Zm440 0h160v-160H620v160ZM180-180h160v-160H180v160Zm440 0h160v-160H620v160Z\"/>\n",
              "  </svg>\n",
              "    </button>\n",
              "\n",
              "  <style>\n",
              "    .colab-df-container {\n",
              "      display:flex;\n",
              "      gap: 12px;\n",
              "    }\n",
              "\n",
              "    .colab-df-convert {\n",
              "      background-color: #E8F0FE;\n",
              "      border: none;\n",
              "      border-radius: 50%;\n",
              "      cursor: pointer;\n",
              "      display: none;\n",
              "      fill: #1967D2;\n",
              "      height: 32px;\n",
              "      padding: 0 0 0 0;\n",
              "      width: 32px;\n",
              "    }\n",
              "\n",
              "    .colab-df-convert:hover {\n",
              "      background-color: #E2EBFA;\n",
              "      box-shadow: 0px 1px 2px rgba(60, 64, 67, 0.3), 0px 1px 3px 1px rgba(60, 64, 67, 0.15);\n",
              "      fill: #174EA6;\n",
              "    }\n",
              "\n",
              "    .colab-df-buttons div {\n",
              "      margin-bottom: 4px;\n",
              "    }\n",
              "\n",
              "    [theme=dark] .colab-df-convert {\n",
              "      background-color: #3B4455;\n",
              "      fill: #D2E3FC;\n",
              "    }\n",
              "\n",
              "    [theme=dark] .colab-df-convert:hover {\n",
              "      background-color: #434B5C;\n",
              "      box-shadow: 0px 1px 3px 1px rgba(0, 0, 0, 0.15);\n",
              "      filter: drop-shadow(0px 1px 2px rgba(0, 0, 0, 0.3));\n",
              "      fill: #FFFFFF;\n",
              "    }\n",
              "  </style>\n",
              "\n",
              "    <script>\n",
              "      const buttonEl =\n",
              "        document.querySelector('#df-4743b0d1-158c-450a-8522-c6a14cf0a03a button.colab-df-convert');\n",
              "      buttonEl.style.display =\n",
              "        google.colab.kernel.accessAllowed ? 'block' : 'none';\n",
              "\n",
              "      async function convertToInteractive(key) {\n",
              "        const element = document.querySelector('#df-4743b0d1-158c-450a-8522-c6a14cf0a03a');\n",
              "        const dataTable =\n",
              "          await google.colab.kernel.invokeFunction('convertToInteractive',\n",
              "                                                    [key], {});\n",
              "        if (!dataTable) return;\n",
              "\n",
              "        const docLinkHtml = 'Like what you see? Visit the ' +\n",
              "          '<a target=\"_blank\" href=https://colab.research.google.com/notebooks/data_table.ipynb>data table notebook</a>'\n",
              "          + ' to learn more about interactive tables.';\n",
              "        element.innerHTML = '';\n",
              "        dataTable['output_type'] = 'display_data';\n",
              "        await google.colab.output.renderOutput(dataTable, element);\n",
              "        const docLink = document.createElement('div');\n",
              "        docLink.innerHTML = docLinkHtml;\n",
              "        element.appendChild(docLink);\n",
              "      }\n",
              "    </script>\n",
              "  </div>\n",
              "\n",
              "\n",
              "<div id=\"df-525cf6bb-e748-41cc-9f26-1bcdc1fc4102\">\n",
              "  <button class=\"colab-df-quickchart\" onclick=\"quickchart('df-525cf6bb-e748-41cc-9f26-1bcdc1fc4102')\"\n",
              "            title=\"Suggest charts\"\n",
              "            style=\"display:none;\">\n",
              "\n",
              "<svg xmlns=\"http://www.w3.org/2000/svg\" height=\"24px\"viewBox=\"0 0 24 24\"\n",
              "     width=\"24px\">\n",
              "    <g>\n",
              "        <path d=\"M19 3H5c-1.1 0-2 .9-2 2v14c0 1.1.9 2 2 2h14c1.1 0 2-.9 2-2V5c0-1.1-.9-2-2-2zM9 17H7v-7h2v7zm4 0h-2V7h2v10zm4 0h-2v-4h2v4z\"/>\n",
              "    </g>\n",
              "</svg>\n",
              "  </button>\n",
              "\n",
              "<style>\n",
              "  .colab-df-quickchart {\n",
              "      --bg-color: #E8F0FE;\n",
              "      --fill-color: #1967D2;\n",
              "      --hover-bg-color: #E2EBFA;\n",
              "      --hover-fill-color: #174EA6;\n",
              "      --disabled-fill-color: #AAA;\n",
              "      --disabled-bg-color: #DDD;\n",
              "  }\n",
              "\n",
              "  [theme=dark] .colab-df-quickchart {\n",
              "      --bg-color: #3B4455;\n",
              "      --fill-color: #D2E3FC;\n",
              "      --hover-bg-color: #434B5C;\n",
              "      --hover-fill-color: #FFFFFF;\n",
              "      --disabled-bg-color: #3B4455;\n",
              "      --disabled-fill-color: #666;\n",
              "  }\n",
              "\n",
              "  .colab-df-quickchart {\n",
              "    background-color: var(--bg-color);\n",
              "    border: none;\n",
              "    border-radius: 50%;\n",
              "    cursor: pointer;\n",
              "    display: none;\n",
              "    fill: var(--fill-color);\n",
              "    height: 32px;\n",
              "    padding: 0;\n",
              "    width: 32px;\n",
              "  }\n",
              "\n",
              "  .colab-df-quickchart:hover {\n",
              "    background-color: var(--hover-bg-color);\n",
              "    box-shadow: 0 1px 2px rgba(60, 64, 67, 0.3), 0 1px 3px 1px rgba(60, 64, 67, 0.15);\n",
              "    fill: var(--button-hover-fill-color);\n",
              "  }\n",
              "\n",
              "  .colab-df-quickchart-complete:disabled,\n",
              "  .colab-df-quickchart-complete:disabled:hover {\n",
              "    background-color: var(--disabled-bg-color);\n",
              "    fill: var(--disabled-fill-color);\n",
              "    box-shadow: none;\n",
              "  }\n",
              "\n",
              "  .colab-df-spinner {\n",
              "    border: 2px solid var(--fill-color);\n",
              "    border-color: transparent;\n",
              "    border-bottom-color: var(--fill-color);\n",
              "    animation:\n",
              "      spin 1s steps(1) infinite;\n",
              "  }\n",
              "\n",
              "  @keyframes spin {\n",
              "    0% {\n",
              "      border-color: transparent;\n",
              "      border-bottom-color: var(--fill-color);\n",
              "      border-left-color: var(--fill-color);\n",
              "    }\n",
              "    20% {\n",
              "      border-color: transparent;\n",
              "      border-left-color: var(--fill-color);\n",
              "      border-top-color: var(--fill-color);\n",
              "    }\n",
              "    30% {\n",
              "      border-color: transparent;\n",
              "      border-left-color: var(--fill-color);\n",
              "      border-top-color: var(--fill-color);\n",
              "      border-right-color: var(--fill-color);\n",
              "    }\n",
              "    40% {\n",
              "      border-color: transparent;\n",
              "      border-right-color: var(--fill-color);\n",
              "      border-top-color: var(--fill-color);\n",
              "    }\n",
              "    60% {\n",
              "      border-color: transparent;\n",
              "      border-right-color: var(--fill-color);\n",
              "    }\n",
              "    80% {\n",
              "      border-color: transparent;\n",
              "      border-right-color: var(--fill-color);\n",
              "      border-bottom-color: var(--fill-color);\n",
              "    }\n",
              "    90% {\n",
              "      border-color: transparent;\n",
              "      border-bottom-color: var(--fill-color);\n",
              "    }\n",
              "  }\n",
              "</style>\n",
              "\n",
              "  <script>\n",
              "    async function quickchart(key) {\n",
              "      const quickchartButtonEl =\n",
              "        document.querySelector('#' + key + ' button');\n",
              "      quickchartButtonEl.disabled = true;  // To prevent multiple clicks.\n",
              "      quickchartButtonEl.classList.add('colab-df-spinner');\n",
              "      try {\n",
              "        const charts = await google.colab.kernel.invokeFunction(\n",
              "            'suggestCharts', [key], {});\n",
              "      } catch (error) {\n",
              "        console.error('Error during call to suggestCharts:', error);\n",
              "      }\n",
              "      quickchartButtonEl.classList.remove('colab-df-spinner');\n",
              "      quickchartButtonEl.classList.add('colab-df-quickchart-complete');\n",
              "    }\n",
              "    (() => {\n",
              "      let quickchartButtonEl =\n",
              "        document.querySelector('#df-525cf6bb-e748-41cc-9f26-1bcdc1fc4102 button');\n",
              "      quickchartButtonEl.style.display =\n",
              "        google.colab.kernel.accessAllowed ? 'block' : 'none';\n",
              "    })();\n",
              "  </script>\n",
              "</div>\n",
              "    </div>\n",
              "  </div>\n"
            ],
            "text/plain": [
              "                                      communication_score  util_flg\n",
              "employee_id                                                        \n",
              "0004d0b5-9e19-461f-f126-e3a08a814c33            57.144464  0.746972\n",
              "00411460-f7c9-2d21-24a6-7ea0f4cb5f85            57.152452  0.766525\n",
              "006f52e9-102a-8d3b-e2fe-5614f42ba989            61.333500  0.763355\n",
              "0070d23b-06b1-486a-538c-0eaa45dd167a            58.648239  0.758395\n",
              "008bd5ad-93b7-54d5-0033-8c253d9c1770            56.645145  0.752252"
            ]
          },
          "execution_count": 33,
          "metadata": {},
          "output_type": "execute_result"
        }
      ],
      "source": [
        "#средние показатели сотрудников за все время наблюдений\n",
        "df_emp_mean_result.head()"
      ]
    },
    {
      "cell_type": "code",
      "execution_count": null,
      "metadata": {
        "colab": {
          "base_uri": "https://localhost:8080/",
          "height": 238
        },
        "id": "EZE97o7Pyj-z",
        "outputId": "16f065b4-f473-40bc-b003-bcf8b6072089"
      },
      "outputs": [
        {
          "data": {
            "application/vnd.google.colaboratory.intrinsic+json": {
              "summary": "{\n  \"name\": \"df_empoyees\",\n  \"rows\": 2381,\n  \"fields\": [\n    {\n      \"column\": \"employee_id\",\n      \"properties\": {\n        \"dtype\": \"string\",\n        \"num_unique_values\": 2381,\n        \"samples\": [\n          \"80a8155e-b153-025e-a1d5-13d0b2c4b675\",\n          \"93279690-53c0-068d-d9e0-7c529866b94d\",\n          \"b706835d-e79a-2b4e-8050-6f582af3676a\"\n        ],\n        \"semantic_type\": \"\",\n        \"description\": \"\"\n      }\n    },\n    {\n      \"column\": \"sex\",\n      \"properties\": {\n        \"dtype\": \"category\",\n        \"num_unique_values\": 2,\n        \"samples\": [\n          \"F\",\n          \"M\"\n        ],\n        \"semantic_type\": \"\",\n        \"description\": \"\"\n      }\n    },\n    {\n      \"column\": \"region\",\n      \"properties\": {\n        \"dtype\": \"number\",\n        \"std\": 2,\n        \"min\": 0,\n        \"max\": 7,\n        \"num_unique_values\": 8,\n        \"samples\": [\n          5,\n          3\n        ],\n        \"semantic_type\": \"\",\n        \"description\": \"\"\n      }\n    },\n    {\n      \"column\": \"age\",\n      \"properties\": {\n        \"dtype\": \"number\",\n        \"std\": 6,\n        \"min\": 19,\n        \"max\": 60,\n        \"num_unique_values\": 41,\n        \"samples\": [\n          44,\n          26\n        ],\n        \"semantic_type\": \"\",\n        \"description\": \"\"\n      }\n    },\n    {\n      \"column\": \"head_employee_id\",\n      \"properties\": {\n        \"dtype\": \"category\",\n        \"num_unique_values\": 132,\n        \"samples\": [\n          \"ec895663-7a99-787b-d197-eacd77acce5e\",\n          \"b53b3a3d-6ab9-0ce0-2682-29151c9bde11\"\n        ],\n        \"semantic_type\": \"\",\n        \"description\": \"\"\n      }\n    },\n    {\n      \"column\": \"exp_days\",\n      \"properties\": {\n        \"dtype\": \"number\",\n        \"std\": 374,\n        \"min\": 0,\n        \"max\": 2424,\n        \"num_unique_values\": 1005,\n        \"samples\": [\n          529,\n          1531\n        ],\n        \"semantic_type\": \"\",\n        \"description\": \"\"\n      }\n    },\n    {\n      \"column\": \"edu_degree\",\n      \"properties\": {\n        \"dtype\": \"number\",\n        \"std\": 0,\n        \"min\": 0,\n        \"max\": 2,\n        \"num_unique_values\": 3,\n        \"samples\": [\n          0,\n          1\n        ],\n        \"semantic_type\": \"\",\n        \"description\": \"\"\n      }\n    },\n    {\n      \"column\": \"department_id\",\n      \"properties\": {\n        \"dtype\": \"number\",\n        \"std\": 0,\n        \"min\": 0,\n        \"max\": 2,\n        \"num_unique_values\": 3,\n        \"samples\": [\n          2,\n          0\n        ],\n        \"semantic_type\": \"\",\n        \"description\": \"\"\n      }\n    },\n    {\n      \"column\": \"work_online_flg\",\n      \"properties\": {\n        \"dtype\": \"number\",\n        \"std\": 0,\n        \"min\": 0,\n        \"max\": 1,\n        \"num_unique_values\": 2,\n        \"samples\": [\n          0,\n          1\n        ],\n        \"semantic_type\": \"\",\n        \"description\": \"\"\n      }\n    }\n  ]\n}",
              "type": "dataframe",
              "variable_name": "df_empoyees"
            },
            "text/html": [
              "\n",
              "  <div id=\"df-19b9cff2-193e-4727-a848-c30867e176f0\" class=\"colab-df-container\">\n",
              "    <div>\n",
              "<style scoped>\n",
              "    .dataframe tbody tr th:only-of-type {\n",
              "        vertical-align: middle;\n",
              "    }\n",
              "\n",
              "    .dataframe tbody tr th {\n",
              "        vertical-align: top;\n",
              "    }\n",
              "\n",
              "    .dataframe thead th {\n",
              "        text-align: right;\n",
              "    }\n",
              "</style>\n",
              "<table border=\"1\" class=\"dataframe\">\n",
              "  <thead>\n",
              "    <tr style=\"text-align: right;\">\n",
              "      <th></th>\n",
              "      <th>sex</th>\n",
              "      <th>region</th>\n",
              "      <th>age</th>\n",
              "      <th>head_employee_id</th>\n",
              "      <th>exp_days</th>\n",
              "      <th>edu_degree</th>\n",
              "      <th>department_id</th>\n",
              "      <th>work_online_flg</th>\n",
              "    </tr>\n",
              "    <tr>\n",
              "      <th>employee_id</th>\n",
              "      <th></th>\n",
              "      <th></th>\n",
              "      <th></th>\n",
              "      <th></th>\n",
              "      <th></th>\n",
              "      <th></th>\n",
              "      <th></th>\n",
              "      <th></th>\n",
              "    </tr>\n",
              "  </thead>\n",
              "  <tbody>\n",
              "    <tr>\n",
              "      <th>0f840be9-b8db-4d3f-bd5b-a2ce59211f55</th>\n",
              "      <td>M</td>\n",
              "      <td>4</td>\n",
              "      <td>36</td>\n",
              "      <td>c81e728d-9d4c-2f63-6f06-7f89cc14862c</td>\n",
              "      <td>734</td>\n",
              "      <td>0</td>\n",
              "      <td>2</td>\n",
              "      <td>1</td>\n",
              "    </tr>\n",
              "    <tr>\n",
              "      <th>ac1dd209-cbcc-5e5d-1c6e-28598e8cbbe8</th>\n",
              "      <td>M</td>\n",
              "      <td>4</td>\n",
              "      <td>32</td>\n",
              "      <td>93db85ed-909c-1383-8ff9-5ccfa94cebd9</td>\n",
              "      <td>654</td>\n",
              "      <td>0</td>\n",
              "      <td>2</td>\n",
              "      <td>1</td>\n",
              "    </tr>\n",
              "    <tr>\n",
              "      <th>a8c88a00-55f6-36e4-a163-a5e3d16adab7</th>\n",
              "      <td>F</td>\n",
              "      <td>5</td>\n",
              "      <td>34</td>\n",
              "      <td>9a115815-4dfa-42ca-ddbd-0694a4e9bdc8</td>\n",
              "      <td>276</td>\n",
              "      <td>1</td>\n",
              "      <td>2</td>\n",
              "      <td>1</td>\n",
              "    </tr>\n",
              "    <tr>\n",
              "      <th>c91591a8-d461-c286-9b9f-535ded3e213e</th>\n",
              "      <td>F</td>\n",
              "      <td>4</td>\n",
              "      <td>33</td>\n",
              "      <td>9f61408e-3afb-633e-50cd-f1b20de6f466</td>\n",
              "      <td>50</td>\n",
              "      <td>2</td>\n",
              "      <td>0</td>\n",
              "      <td>1</td>\n",
              "    </tr>\n",
              "    <tr>\n",
              "      <th>bc731692-9fe1-545b-f0b9-8d114ee3ecb8</th>\n",
              "      <td>M</td>\n",
              "      <td>0</td>\n",
              "      <td>33</td>\n",
              "      <td>a97da629-b098-b75c-294d-ffdc3e463904</td>\n",
              "      <td>274</td>\n",
              "      <td>1</td>\n",
              "      <td>2</td>\n",
              "      <td>1</td>\n",
              "    </tr>\n",
              "  </tbody>\n",
              "</table>\n",
              "</div>\n",
              "    <div class=\"colab-df-buttons\">\n",
              "\n",
              "  <div class=\"colab-df-container\">\n",
              "    <button class=\"colab-df-convert\" onclick=\"convertToInteractive('df-19b9cff2-193e-4727-a848-c30867e176f0')\"\n",
              "            title=\"Convert this dataframe to an interactive table.\"\n",
              "            style=\"display:none;\">\n",
              "\n",
              "  <svg xmlns=\"http://www.w3.org/2000/svg\" height=\"24px\" viewBox=\"0 -960 960 960\">\n",
              "    <path d=\"M120-120v-720h720v720H120Zm60-500h600v-160H180v160Zm220 220h160v-160H400v160Zm0 220h160v-160H400v160ZM180-400h160v-160H180v160Zm440 0h160v-160H620v160ZM180-180h160v-160H180v160Zm440 0h160v-160H620v160Z\"/>\n",
              "  </svg>\n",
              "    </button>\n",
              "\n",
              "  <style>\n",
              "    .colab-df-container {\n",
              "      display:flex;\n",
              "      gap: 12px;\n",
              "    }\n",
              "\n",
              "    .colab-df-convert {\n",
              "      background-color: #E8F0FE;\n",
              "      border: none;\n",
              "      border-radius: 50%;\n",
              "      cursor: pointer;\n",
              "      display: none;\n",
              "      fill: #1967D2;\n",
              "      height: 32px;\n",
              "      padding: 0 0 0 0;\n",
              "      width: 32px;\n",
              "    }\n",
              "\n",
              "    .colab-df-convert:hover {\n",
              "      background-color: #E2EBFA;\n",
              "      box-shadow: 0px 1px 2px rgba(60, 64, 67, 0.3), 0px 1px 3px 1px rgba(60, 64, 67, 0.15);\n",
              "      fill: #174EA6;\n",
              "    }\n",
              "\n",
              "    .colab-df-buttons div {\n",
              "      margin-bottom: 4px;\n",
              "    }\n",
              "\n",
              "    [theme=dark] .colab-df-convert {\n",
              "      background-color: #3B4455;\n",
              "      fill: #D2E3FC;\n",
              "    }\n",
              "\n",
              "    [theme=dark] .colab-df-convert:hover {\n",
              "      background-color: #434B5C;\n",
              "      box-shadow: 0px 1px 3px 1px rgba(0, 0, 0, 0.15);\n",
              "      filter: drop-shadow(0px 1px 2px rgba(0, 0, 0, 0.3));\n",
              "      fill: #FFFFFF;\n",
              "    }\n",
              "  </style>\n",
              "\n",
              "    <script>\n",
              "      const buttonEl =\n",
              "        document.querySelector('#df-19b9cff2-193e-4727-a848-c30867e176f0 button.colab-df-convert');\n",
              "      buttonEl.style.display =\n",
              "        google.colab.kernel.accessAllowed ? 'block' : 'none';\n",
              "\n",
              "      async function convertToInteractive(key) {\n",
              "        const element = document.querySelector('#df-19b9cff2-193e-4727-a848-c30867e176f0');\n",
              "        const dataTable =\n",
              "          await google.colab.kernel.invokeFunction('convertToInteractive',\n",
              "                                                    [key], {});\n",
              "        if (!dataTable) return;\n",
              "\n",
              "        const docLinkHtml = 'Like what you see? Visit the ' +\n",
              "          '<a target=\"_blank\" href=https://colab.research.google.com/notebooks/data_table.ipynb>data table notebook</a>'\n",
              "          + ' to learn more about interactive tables.';\n",
              "        element.innerHTML = '';\n",
              "        dataTable['output_type'] = 'display_data';\n",
              "        await google.colab.output.renderOutput(dataTable, element);\n",
              "        const docLink = document.createElement('div');\n",
              "        docLink.innerHTML = docLinkHtml;\n",
              "        element.appendChild(docLink);\n",
              "      }\n",
              "    </script>\n",
              "  </div>\n",
              "\n",
              "\n",
              "<div id=\"df-020005fc-c627-4c4b-aec6-900075674b6e\">\n",
              "  <button class=\"colab-df-quickchart\" onclick=\"quickchart('df-020005fc-c627-4c4b-aec6-900075674b6e')\"\n",
              "            title=\"Suggest charts\"\n",
              "            style=\"display:none;\">\n",
              "\n",
              "<svg xmlns=\"http://www.w3.org/2000/svg\" height=\"24px\"viewBox=\"0 0 24 24\"\n",
              "     width=\"24px\">\n",
              "    <g>\n",
              "        <path d=\"M19 3H5c-1.1 0-2 .9-2 2v14c0 1.1.9 2 2 2h14c1.1 0 2-.9 2-2V5c0-1.1-.9-2-2-2zM9 17H7v-7h2v7zm4 0h-2V7h2v10zm4 0h-2v-4h2v4z\"/>\n",
              "    </g>\n",
              "</svg>\n",
              "  </button>\n",
              "\n",
              "<style>\n",
              "  .colab-df-quickchart {\n",
              "      --bg-color: #E8F0FE;\n",
              "      --fill-color: #1967D2;\n",
              "      --hover-bg-color: #E2EBFA;\n",
              "      --hover-fill-color: #174EA6;\n",
              "      --disabled-fill-color: #AAA;\n",
              "      --disabled-bg-color: #DDD;\n",
              "  }\n",
              "\n",
              "  [theme=dark] .colab-df-quickchart {\n",
              "      --bg-color: #3B4455;\n",
              "      --fill-color: #D2E3FC;\n",
              "      --hover-bg-color: #434B5C;\n",
              "      --hover-fill-color: #FFFFFF;\n",
              "      --disabled-bg-color: #3B4455;\n",
              "      --disabled-fill-color: #666;\n",
              "  }\n",
              "\n",
              "  .colab-df-quickchart {\n",
              "    background-color: var(--bg-color);\n",
              "    border: none;\n",
              "    border-radius: 50%;\n",
              "    cursor: pointer;\n",
              "    display: none;\n",
              "    fill: var(--fill-color);\n",
              "    height: 32px;\n",
              "    padding: 0;\n",
              "    width: 32px;\n",
              "  }\n",
              "\n",
              "  .colab-df-quickchart:hover {\n",
              "    background-color: var(--hover-bg-color);\n",
              "    box-shadow: 0 1px 2px rgba(60, 64, 67, 0.3), 0 1px 3px 1px rgba(60, 64, 67, 0.15);\n",
              "    fill: var(--button-hover-fill-color);\n",
              "  }\n",
              "\n",
              "  .colab-df-quickchart-complete:disabled,\n",
              "  .colab-df-quickchart-complete:disabled:hover {\n",
              "    background-color: var(--disabled-bg-color);\n",
              "    fill: var(--disabled-fill-color);\n",
              "    box-shadow: none;\n",
              "  }\n",
              "\n",
              "  .colab-df-spinner {\n",
              "    border: 2px solid var(--fill-color);\n",
              "    border-color: transparent;\n",
              "    border-bottom-color: var(--fill-color);\n",
              "    animation:\n",
              "      spin 1s steps(1) infinite;\n",
              "  }\n",
              "\n",
              "  @keyframes spin {\n",
              "    0% {\n",
              "      border-color: transparent;\n",
              "      border-bottom-color: var(--fill-color);\n",
              "      border-left-color: var(--fill-color);\n",
              "    }\n",
              "    20% {\n",
              "      border-color: transparent;\n",
              "      border-left-color: var(--fill-color);\n",
              "      border-top-color: var(--fill-color);\n",
              "    }\n",
              "    30% {\n",
              "      border-color: transparent;\n",
              "      border-left-color: var(--fill-color);\n",
              "      border-top-color: var(--fill-color);\n",
              "      border-right-color: var(--fill-color);\n",
              "    }\n",
              "    40% {\n",
              "      border-color: transparent;\n",
              "      border-right-color: var(--fill-color);\n",
              "      border-top-color: var(--fill-color);\n",
              "    }\n",
              "    60% {\n",
              "      border-color: transparent;\n",
              "      border-right-color: var(--fill-color);\n",
              "    }\n",
              "    80% {\n",
              "      border-color: transparent;\n",
              "      border-right-color: var(--fill-color);\n",
              "      border-bottom-color: var(--fill-color);\n",
              "    }\n",
              "    90% {\n",
              "      border-color: transparent;\n",
              "      border-bottom-color: var(--fill-color);\n",
              "    }\n",
              "  }\n",
              "</style>\n",
              "\n",
              "  <script>\n",
              "    async function quickchart(key) {\n",
              "      const quickchartButtonEl =\n",
              "        document.querySelector('#' + key + ' button');\n",
              "      quickchartButtonEl.disabled = true;  // To prevent multiple clicks.\n",
              "      quickchartButtonEl.classList.add('colab-df-spinner');\n",
              "      try {\n",
              "        const charts = await google.colab.kernel.invokeFunction(\n",
              "            'suggestCharts', [key], {});\n",
              "      } catch (error) {\n",
              "        console.error('Error during call to suggestCharts:', error);\n",
              "      }\n",
              "      quickchartButtonEl.classList.remove('colab-df-spinner');\n",
              "      quickchartButtonEl.classList.add('colab-df-quickchart-complete');\n",
              "    }\n",
              "    (() => {\n",
              "      let quickchartButtonEl =\n",
              "        document.querySelector('#df-020005fc-c627-4c4b-aec6-900075674b6e button');\n",
              "      quickchartButtonEl.style.display =\n",
              "        google.colab.kernel.accessAllowed ? 'block' : 'none';\n",
              "    })();\n",
              "  </script>\n",
              "</div>\n",
              "    </div>\n",
              "  </div>\n"
            ],
            "text/plain": [
              "                                     sex  region  age  \\\n",
              "employee_id                                             \n",
              "0f840be9-b8db-4d3f-bd5b-a2ce59211f55   M       4   36   \n",
              "ac1dd209-cbcc-5e5d-1c6e-28598e8cbbe8   M       4   32   \n",
              "a8c88a00-55f6-36e4-a163-a5e3d16adab7   F       5   34   \n",
              "c91591a8-d461-c286-9b9f-535ded3e213e   F       4   33   \n",
              "bc731692-9fe1-545b-f0b9-8d114ee3ecb8   M       0   33   \n",
              "\n",
              "                                                          head_employee_id  \\\n",
              "employee_id                                                                  \n",
              "0f840be9-b8db-4d3f-bd5b-a2ce59211f55  c81e728d-9d4c-2f63-6f06-7f89cc14862c   \n",
              "ac1dd209-cbcc-5e5d-1c6e-28598e8cbbe8  93db85ed-909c-1383-8ff9-5ccfa94cebd9   \n",
              "a8c88a00-55f6-36e4-a163-a5e3d16adab7  9a115815-4dfa-42ca-ddbd-0694a4e9bdc8   \n",
              "c91591a8-d461-c286-9b9f-535ded3e213e  9f61408e-3afb-633e-50cd-f1b20de6f466   \n",
              "bc731692-9fe1-545b-f0b9-8d114ee3ecb8  a97da629-b098-b75c-294d-ffdc3e463904   \n",
              "\n",
              "                                      exp_days  edu_degree  department_id  \\\n",
              "employee_id                                                                 \n",
              "0f840be9-b8db-4d3f-bd5b-a2ce59211f55       734           0              2   \n",
              "ac1dd209-cbcc-5e5d-1c6e-28598e8cbbe8       654           0              2   \n",
              "a8c88a00-55f6-36e4-a163-a5e3d16adab7       276           1              2   \n",
              "c91591a8-d461-c286-9b9f-535ded3e213e        50           2              0   \n",
              "bc731692-9fe1-545b-f0b9-8d114ee3ecb8       274           1              2   \n",
              "\n",
              "                                      work_online_flg  \n",
              "employee_id                                            \n",
              "0f840be9-b8db-4d3f-bd5b-a2ce59211f55                1  \n",
              "ac1dd209-cbcc-5e5d-1c6e-28598e8cbbe8                1  \n",
              "a8c88a00-55f6-36e4-a163-a5e3d16adab7                1  \n",
              "c91591a8-d461-c286-9b9f-535ded3e213e                1  \n",
              "bc731692-9fe1-545b-f0b9-8d114ee3ecb8                1  "
            ]
          },
          "execution_count": 34,
          "metadata": {},
          "output_type": "execute_result"
        }
      ],
      "source": [
        "#Соц_дем сотрудников\n",
        "#датасет с соц_демом\n",
        "df_empoyees = pd.read_csv('../data/src/employees.csv', sep=';').set_index('employee_id')\n",
        "df_empoyees.head()"
      ]
    },
    {
      "cell_type": "code",
      "execution_count": null,
      "metadata": {
        "colab": {
          "base_uri": "https://localhost:8080/"
        },
        "id": "XI1XH0yJy7Vj",
        "outputId": "53bbc06b-4627-450e-ea05-bbb77eb3a53f"
      },
      "outputs": [
        {
          "data": {
            "text/plain": [
              "2381"
            ]
          },
          "execution_count": 35,
          "metadata": {},
          "output_type": "execute_result"
        }
      ],
      "source": [
        "#Общее число сотрудников\n",
        "emp_count = len(df_empoyees)\n",
        "emp_count"
      ]
    },
    {
      "cell_type": "code",
      "execution_count": null,
      "metadata": {
        "id": "MCZ9mJbGPWln"
      },
      "outputs": [],
      "source": [
        "#объединими таблицы средних показателей работников с их соц демом\n",
        "df_emp_with_mean_results = pd.merge(df_emp_mean_result, df_empoyees, left_index=True, right_index=True)"
      ]
    },
    {
      "cell_type": "code",
      "execution_count": null,
      "metadata": {
        "id": "mpXjFXvePoNu"
      },
      "outputs": [],
      "source": [
        "#переимменуем столбцы\n",
        "df_emp_with_mean_results.columns = pd.Index(['communication_score_mean', 'util_flg_mean', 'sex', 'region', 'age',\n",
        "       'head_employee_id', 'exp_days', 'edu_degree', 'department_id',\n",
        "       'work_online_flg'],\n",
        "      dtype='object')"
      ]
    },
    {
      "cell_type": "code",
      "execution_count": null,
      "metadata": {
        "colab": {
          "base_uri": "https://localhost:8080/",
          "height": 238
        },
        "id": "wIENXHdPQGZu",
        "outputId": "e0159ffd-dd01-4d55-dc59-cb7adeeb5156"
      },
      "outputs": [
        {
          "data": {
            "application/vnd.google.colaboratory.intrinsic+json": {
              "summary": "{\n  \"name\": \"df_emp_with_mean_results\",\n  \"rows\": 2381,\n  \"fields\": [\n    {\n      \"column\": \"employee_id\",\n      \"properties\": {\n        \"dtype\": \"string\",\n        \"num_unique_values\": 2381,\n        \"samples\": [\n          \"98d6f58a-b0da-fbb8-6b08-3a001561bb34\",\n          \"7437d136-770f-5b35-194c-b46c1653efaa\",\n          \"95151403-b0db-4f75-bfd8-da0b393af853\"\n        ],\n        \"semantic_type\": \"\",\n        \"description\": \"\"\n      }\n    },\n    {\n      \"column\": \"communication_score_mean\",\n      \"properties\": {\n        \"dtype\": \"number\",\n        \"std\": 1.6963911793599407,\n        \"min\": 54.53803245436105,\n        \"max\": 66.9763481551561,\n        \"num_unique_values\": 2380,\n        \"samples\": [\n          56.5131914893617,\n          57.18244680851064,\n          58.627364716234055\n        ],\n        \"semantic_type\": \"\",\n        \"description\": \"\"\n      }\n    },\n    {\n      \"column\": \"util_flg_mean\",\n      \"properties\": {\n        \"dtype\": \"number\",\n        \"std\": 0.017592327580844922,\n        \"min\": 0.6802519451648759,\n        \"max\": 0.8055678303137428,\n        \"num_unique_values\": 2342,\n        \"samples\": [\n          0.7779783393501805,\n          0.7401380670611439,\n          0.7526926263463132\n        ],\n        \"semantic_type\": \"\",\n        \"description\": \"\"\n      }\n    },\n    {\n      \"column\": \"sex\",\n      \"properties\": {\n        \"dtype\": \"category\",\n        \"num_unique_values\": 2,\n        \"samples\": [\n          \"F\",\n          \"M\"\n        ],\n        \"semantic_type\": \"\",\n        \"description\": \"\"\n      }\n    },\n    {\n      \"column\": \"region\",\n      \"properties\": {\n        \"dtype\": \"number\",\n        \"std\": 2,\n        \"min\": 0,\n        \"max\": 7,\n        \"num_unique_values\": 8,\n        \"samples\": [\n          3,\n          6\n        ],\n        \"semantic_type\": \"\",\n        \"description\": \"\"\n      }\n    },\n    {\n      \"column\": \"age\",\n      \"properties\": {\n        \"dtype\": \"number\",\n        \"std\": 6,\n        \"min\": 19,\n        \"max\": 60,\n        \"num_unique_values\": 41,\n        \"samples\": [\n          22,\n          39\n        ],\n        \"semantic_type\": \"\",\n        \"description\": \"\"\n      }\n    },\n    {\n      \"column\": \"head_employee_id\",\n      \"properties\": {\n        \"dtype\": \"category\",\n        \"num_unique_values\": 132,\n        \"samples\": [\n          \"1c383cd3-0b7c-298a-b502-93adfecb7b18\",\n          \"8f14e45f-ceea-167a-5a36-dedd4bea2543\"\n        ],\n        \"semantic_type\": \"\",\n        \"description\": \"\"\n      }\n    },\n    {\n      \"column\": \"exp_days\",\n      \"properties\": {\n        \"dtype\": \"number\",\n        \"std\": 374,\n        \"min\": 0,\n        \"max\": 2424,\n        \"num_unique_values\": 1005,\n        \"samples\": [\n          314,\n          17\n        ],\n        \"semantic_type\": \"\",\n        \"description\": \"\"\n      }\n    },\n    {\n      \"column\": \"edu_degree\",\n      \"properties\": {\n        \"dtype\": \"number\",\n        \"std\": 0,\n        \"min\": 0,\n        \"max\": 2,\n        \"num_unique_values\": 3,\n        \"samples\": [\n          2,\n          1\n        ],\n        \"semantic_type\": \"\",\n        \"description\": \"\"\n      }\n    },\n    {\n      \"column\": \"department_id\",\n      \"properties\": {\n        \"dtype\": \"number\",\n        \"std\": 0,\n        \"min\": 0,\n        \"max\": 2,\n        \"num_unique_values\": 3,\n        \"samples\": [\n          2,\n          1\n        ],\n        \"semantic_type\": \"\",\n        \"description\": \"\"\n      }\n    },\n    {\n      \"column\": \"work_online_flg\",\n      \"properties\": {\n        \"dtype\": \"number\",\n        \"std\": 0,\n        \"min\": 0,\n        \"max\": 1,\n        \"num_unique_values\": 2,\n        \"samples\": [\n          1,\n          0\n        ],\n        \"semantic_type\": \"\",\n        \"description\": \"\"\n      }\n    }\n  ]\n}",
              "type": "dataframe",
              "variable_name": "df_emp_with_mean_results"
            },
            "text/html": [
              "\n",
              "  <div id=\"df-a232aead-fdab-41de-8b76-a8c0f140e113\" class=\"colab-df-container\">\n",
              "    <div>\n",
              "<style scoped>\n",
              "    .dataframe tbody tr th:only-of-type {\n",
              "        vertical-align: middle;\n",
              "    }\n",
              "\n",
              "    .dataframe tbody tr th {\n",
              "        vertical-align: top;\n",
              "    }\n",
              "\n",
              "    .dataframe thead th {\n",
              "        text-align: right;\n",
              "    }\n",
              "</style>\n",
              "<table border=\"1\" class=\"dataframe\">\n",
              "  <thead>\n",
              "    <tr style=\"text-align: right;\">\n",
              "      <th></th>\n",
              "      <th>communication_score_mean</th>\n",
              "      <th>util_flg_mean</th>\n",
              "      <th>sex</th>\n",
              "      <th>region</th>\n",
              "      <th>age</th>\n",
              "      <th>head_employee_id</th>\n",
              "      <th>exp_days</th>\n",
              "      <th>edu_degree</th>\n",
              "      <th>department_id</th>\n",
              "      <th>work_online_flg</th>\n",
              "    </tr>\n",
              "    <tr>\n",
              "      <th>employee_id</th>\n",
              "      <th></th>\n",
              "      <th></th>\n",
              "      <th></th>\n",
              "      <th></th>\n",
              "      <th></th>\n",
              "      <th></th>\n",
              "      <th></th>\n",
              "      <th></th>\n",
              "      <th></th>\n",
              "      <th></th>\n",
              "    </tr>\n",
              "  </thead>\n",
              "  <tbody>\n",
              "    <tr>\n",
              "      <th>0004d0b5-9e19-461f-f126-e3a08a814c33</th>\n",
              "      <td>57.144464</td>\n",
              "      <td>0.746972</td>\n",
              "      <td>M</td>\n",
              "      <td>0</td>\n",
              "      <td>28</td>\n",
              "      <td>17e62166-fc85-86df-a4d1-bc0e1742c08b</td>\n",
              "      <td>140</td>\n",
              "      <td>2</td>\n",
              "      <td>2</td>\n",
              "      <td>0</td>\n",
              "    </tr>\n",
              "    <tr>\n",
              "      <th>00411460-f7c9-2d21-24a6-7ea0f4cb5f85</th>\n",
              "      <td>57.152452</td>\n",
              "      <td>0.766525</td>\n",
              "      <td>F</td>\n",
              "      <td>3</td>\n",
              "      <td>29</td>\n",
              "      <td>3c59dc04-8e88-5024-3be8-079a5c74d079</td>\n",
              "      <td>378</td>\n",
              "      <td>1</td>\n",
              "      <td>1</td>\n",
              "      <td>1</td>\n",
              "    </tr>\n",
              "    <tr>\n",
              "      <th>006f52e9-102a-8d3b-e2fe-5614f42ba989</th>\n",
              "      <td>61.333500</td>\n",
              "      <td>0.763355</td>\n",
              "      <td>F</td>\n",
              "      <td>0</td>\n",
              "      <td>24</td>\n",
              "      <td>182be0c5-cdcd-5072-bb18-64cdee4d3d6e</td>\n",
              "      <td>452</td>\n",
              "      <td>2</td>\n",
              "      <td>2</td>\n",
              "      <td>1</td>\n",
              "    </tr>\n",
              "    <tr>\n",
              "      <th>0070d23b-06b1-486a-538c-0eaa45dd167a</th>\n",
              "      <td>58.648239</td>\n",
              "      <td>0.758395</td>\n",
              "      <td>M</td>\n",
              "      <td>0</td>\n",
              "      <td>30</td>\n",
              "      <td>44f683a8-4163-b352-3afe-57c2e008bc8c</td>\n",
              "      <td>163</td>\n",
              "      <td>1</td>\n",
              "      <td>2</td>\n",
              "      <td>1</td>\n",
              "    </tr>\n",
              "    <tr>\n",
              "      <th>008bd5ad-93b7-54d5-0033-8c253d9c1770</th>\n",
              "      <td>56.645145</td>\n",
              "      <td>0.752252</td>\n",
              "      <td>M</td>\n",
              "      <td>4</td>\n",
              "      <td>34</td>\n",
              "      <td>a0a080f4-2e6f-13b3-a2df-133f073095dd</td>\n",
              "      <td>46</td>\n",
              "      <td>1</td>\n",
              "      <td>1</td>\n",
              "      <td>0</td>\n",
              "    </tr>\n",
              "  </tbody>\n",
              "</table>\n",
              "</div>\n",
              "    <div class=\"colab-df-buttons\">\n",
              "\n",
              "  <div class=\"colab-df-container\">\n",
              "    <button class=\"colab-df-convert\" onclick=\"convertToInteractive('df-a232aead-fdab-41de-8b76-a8c0f140e113')\"\n",
              "            title=\"Convert this dataframe to an interactive table.\"\n",
              "            style=\"display:none;\">\n",
              "\n",
              "  <svg xmlns=\"http://www.w3.org/2000/svg\" height=\"24px\" viewBox=\"0 -960 960 960\">\n",
              "    <path d=\"M120-120v-720h720v720H120Zm60-500h600v-160H180v160Zm220 220h160v-160H400v160Zm0 220h160v-160H400v160ZM180-400h160v-160H180v160Zm440 0h160v-160H620v160ZM180-180h160v-160H180v160Zm440 0h160v-160H620v160Z\"/>\n",
              "  </svg>\n",
              "    </button>\n",
              "\n",
              "  <style>\n",
              "    .colab-df-container {\n",
              "      display:flex;\n",
              "      gap: 12px;\n",
              "    }\n",
              "\n",
              "    .colab-df-convert {\n",
              "      background-color: #E8F0FE;\n",
              "      border: none;\n",
              "      border-radius: 50%;\n",
              "      cursor: pointer;\n",
              "      display: none;\n",
              "      fill: #1967D2;\n",
              "      height: 32px;\n",
              "      padding: 0 0 0 0;\n",
              "      width: 32px;\n",
              "    }\n",
              "\n",
              "    .colab-df-convert:hover {\n",
              "      background-color: #E2EBFA;\n",
              "      box-shadow: 0px 1px 2px rgba(60, 64, 67, 0.3), 0px 1px 3px 1px rgba(60, 64, 67, 0.15);\n",
              "      fill: #174EA6;\n",
              "    }\n",
              "\n",
              "    .colab-df-buttons div {\n",
              "      margin-bottom: 4px;\n",
              "    }\n",
              "\n",
              "    [theme=dark] .colab-df-convert {\n",
              "      background-color: #3B4455;\n",
              "      fill: #D2E3FC;\n",
              "    }\n",
              "\n",
              "    [theme=dark] .colab-df-convert:hover {\n",
              "      background-color: #434B5C;\n",
              "      box-shadow: 0px 1px 3px 1px rgba(0, 0, 0, 0.15);\n",
              "      filter: drop-shadow(0px 1px 2px rgba(0, 0, 0, 0.3));\n",
              "      fill: #FFFFFF;\n",
              "    }\n",
              "  </style>\n",
              "\n",
              "    <script>\n",
              "      const buttonEl =\n",
              "        document.querySelector('#df-a232aead-fdab-41de-8b76-a8c0f140e113 button.colab-df-convert');\n",
              "      buttonEl.style.display =\n",
              "        google.colab.kernel.accessAllowed ? 'block' : 'none';\n",
              "\n",
              "      async function convertToInteractive(key) {\n",
              "        const element = document.querySelector('#df-a232aead-fdab-41de-8b76-a8c0f140e113');\n",
              "        const dataTable =\n",
              "          await google.colab.kernel.invokeFunction('convertToInteractive',\n",
              "                                                    [key], {});\n",
              "        if (!dataTable) return;\n",
              "\n",
              "        const docLinkHtml = 'Like what you see? Visit the ' +\n",
              "          '<a target=\"_blank\" href=https://colab.research.google.com/notebooks/data_table.ipynb>data table notebook</a>'\n",
              "          + ' to learn more about interactive tables.';\n",
              "        element.innerHTML = '';\n",
              "        dataTable['output_type'] = 'display_data';\n",
              "        await google.colab.output.renderOutput(dataTable, element);\n",
              "        const docLink = document.createElement('div');\n",
              "        docLink.innerHTML = docLinkHtml;\n",
              "        element.appendChild(docLink);\n",
              "      }\n",
              "    </script>\n",
              "  </div>\n",
              "\n",
              "\n",
              "<div id=\"df-e9f89a6c-4747-4b3f-bd43-12c86d2039d7\">\n",
              "  <button class=\"colab-df-quickchart\" onclick=\"quickchart('df-e9f89a6c-4747-4b3f-bd43-12c86d2039d7')\"\n",
              "            title=\"Suggest charts\"\n",
              "            style=\"display:none;\">\n",
              "\n",
              "<svg xmlns=\"http://www.w3.org/2000/svg\" height=\"24px\"viewBox=\"0 0 24 24\"\n",
              "     width=\"24px\">\n",
              "    <g>\n",
              "        <path d=\"M19 3H5c-1.1 0-2 .9-2 2v14c0 1.1.9 2 2 2h14c1.1 0 2-.9 2-2V5c0-1.1-.9-2-2-2zM9 17H7v-7h2v7zm4 0h-2V7h2v10zm4 0h-2v-4h2v4z\"/>\n",
              "    </g>\n",
              "</svg>\n",
              "  </button>\n",
              "\n",
              "<style>\n",
              "  .colab-df-quickchart {\n",
              "      --bg-color: #E8F0FE;\n",
              "      --fill-color: #1967D2;\n",
              "      --hover-bg-color: #E2EBFA;\n",
              "      --hover-fill-color: #174EA6;\n",
              "      --disabled-fill-color: #AAA;\n",
              "      --disabled-bg-color: #DDD;\n",
              "  }\n",
              "\n",
              "  [theme=dark] .colab-df-quickchart {\n",
              "      --bg-color: #3B4455;\n",
              "      --fill-color: #D2E3FC;\n",
              "      --hover-bg-color: #434B5C;\n",
              "      --hover-fill-color: #FFFFFF;\n",
              "      --disabled-bg-color: #3B4455;\n",
              "      --disabled-fill-color: #666;\n",
              "  }\n",
              "\n",
              "  .colab-df-quickchart {\n",
              "    background-color: var(--bg-color);\n",
              "    border: none;\n",
              "    border-radius: 50%;\n",
              "    cursor: pointer;\n",
              "    display: none;\n",
              "    fill: var(--fill-color);\n",
              "    height: 32px;\n",
              "    padding: 0;\n",
              "    width: 32px;\n",
              "  }\n",
              "\n",
              "  .colab-df-quickchart:hover {\n",
              "    background-color: var(--hover-bg-color);\n",
              "    box-shadow: 0 1px 2px rgba(60, 64, 67, 0.3), 0 1px 3px 1px rgba(60, 64, 67, 0.15);\n",
              "    fill: var(--button-hover-fill-color);\n",
              "  }\n",
              "\n",
              "  .colab-df-quickchart-complete:disabled,\n",
              "  .colab-df-quickchart-complete:disabled:hover {\n",
              "    background-color: var(--disabled-bg-color);\n",
              "    fill: var(--disabled-fill-color);\n",
              "    box-shadow: none;\n",
              "  }\n",
              "\n",
              "  .colab-df-spinner {\n",
              "    border: 2px solid var(--fill-color);\n",
              "    border-color: transparent;\n",
              "    border-bottom-color: var(--fill-color);\n",
              "    animation:\n",
              "      spin 1s steps(1) infinite;\n",
              "  }\n",
              "\n",
              "  @keyframes spin {\n",
              "    0% {\n",
              "      border-color: transparent;\n",
              "      border-bottom-color: var(--fill-color);\n",
              "      border-left-color: var(--fill-color);\n",
              "    }\n",
              "    20% {\n",
              "      border-color: transparent;\n",
              "      border-left-color: var(--fill-color);\n",
              "      border-top-color: var(--fill-color);\n",
              "    }\n",
              "    30% {\n",
              "      border-color: transparent;\n",
              "      border-left-color: var(--fill-color);\n",
              "      border-top-color: var(--fill-color);\n",
              "      border-right-color: var(--fill-color);\n",
              "    }\n",
              "    40% {\n",
              "      border-color: transparent;\n",
              "      border-right-color: var(--fill-color);\n",
              "      border-top-color: var(--fill-color);\n",
              "    }\n",
              "    60% {\n",
              "      border-color: transparent;\n",
              "      border-right-color: var(--fill-color);\n",
              "    }\n",
              "    80% {\n",
              "      border-color: transparent;\n",
              "      border-right-color: var(--fill-color);\n",
              "      border-bottom-color: var(--fill-color);\n",
              "    }\n",
              "    90% {\n",
              "      border-color: transparent;\n",
              "      border-bottom-color: var(--fill-color);\n",
              "    }\n",
              "  }\n",
              "</style>\n",
              "\n",
              "  <script>\n",
              "    async function quickchart(key) {\n",
              "      const quickchartButtonEl =\n",
              "        document.querySelector('#' + key + ' button');\n",
              "      quickchartButtonEl.disabled = true;  // To prevent multiple clicks.\n",
              "      quickchartButtonEl.classList.add('colab-df-spinner');\n",
              "      try {\n",
              "        const charts = await google.colab.kernel.invokeFunction(\n",
              "            'suggestCharts', [key], {});\n",
              "      } catch (error) {\n",
              "        console.error('Error during call to suggestCharts:', error);\n",
              "      }\n",
              "      quickchartButtonEl.classList.remove('colab-df-spinner');\n",
              "      quickchartButtonEl.classList.add('colab-df-quickchart-complete');\n",
              "    }\n",
              "    (() => {\n",
              "      let quickchartButtonEl =\n",
              "        document.querySelector('#df-e9f89a6c-4747-4b3f-bd43-12c86d2039d7 button');\n",
              "      quickchartButtonEl.style.display =\n",
              "        google.colab.kernel.accessAllowed ? 'block' : 'none';\n",
              "    })();\n",
              "  </script>\n",
              "</div>\n",
              "    </div>\n",
              "  </div>\n"
            ],
            "text/plain": [
              "                                      communication_score_mean  util_flg_mean  \\\n",
              "employee_id                                                                     \n",
              "0004d0b5-9e19-461f-f126-e3a08a814c33                 57.144464       0.746972   \n",
              "00411460-f7c9-2d21-24a6-7ea0f4cb5f85                 57.152452       0.766525   \n",
              "006f52e9-102a-8d3b-e2fe-5614f42ba989                 61.333500       0.763355   \n",
              "0070d23b-06b1-486a-538c-0eaa45dd167a                 58.648239       0.758395   \n",
              "008bd5ad-93b7-54d5-0033-8c253d9c1770                 56.645145       0.752252   \n",
              "\n",
              "                                     sex  region  age  \\\n",
              "employee_id                                             \n",
              "0004d0b5-9e19-461f-f126-e3a08a814c33   M       0   28   \n",
              "00411460-f7c9-2d21-24a6-7ea0f4cb5f85   F       3   29   \n",
              "006f52e9-102a-8d3b-e2fe-5614f42ba989   F       0   24   \n",
              "0070d23b-06b1-486a-538c-0eaa45dd167a   M       0   30   \n",
              "008bd5ad-93b7-54d5-0033-8c253d9c1770   M       4   34   \n",
              "\n",
              "                                                          head_employee_id  \\\n",
              "employee_id                                                                  \n",
              "0004d0b5-9e19-461f-f126-e3a08a814c33  17e62166-fc85-86df-a4d1-bc0e1742c08b   \n",
              "00411460-f7c9-2d21-24a6-7ea0f4cb5f85  3c59dc04-8e88-5024-3be8-079a5c74d079   \n",
              "006f52e9-102a-8d3b-e2fe-5614f42ba989  182be0c5-cdcd-5072-bb18-64cdee4d3d6e   \n",
              "0070d23b-06b1-486a-538c-0eaa45dd167a  44f683a8-4163-b352-3afe-57c2e008bc8c   \n",
              "008bd5ad-93b7-54d5-0033-8c253d9c1770  a0a080f4-2e6f-13b3-a2df-133f073095dd   \n",
              "\n",
              "                                      exp_days  edu_degree  department_id  \\\n",
              "employee_id                                                                 \n",
              "0004d0b5-9e19-461f-f126-e3a08a814c33       140           2              2   \n",
              "00411460-f7c9-2d21-24a6-7ea0f4cb5f85       378           1              1   \n",
              "006f52e9-102a-8d3b-e2fe-5614f42ba989       452           2              2   \n",
              "0070d23b-06b1-486a-538c-0eaa45dd167a       163           1              2   \n",
              "008bd5ad-93b7-54d5-0033-8c253d9c1770        46           1              1   \n",
              "\n",
              "                                      work_online_flg  \n",
              "employee_id                                            \n",
              "0004d0b5-9e19-461f-f126-e3a08a814c33                0  \n",
              "00411460-f7c9-2d21-24a6-7ea0f4cb5f85                1  \n",
              "006f52e9-102a-8d3b-e2fe-5614f42ba989                1  \n",
              "0070d23b-06b1-486a-538c-0eaa45dd167a                1  \n",
              "008bd5ad-93b7-54d5-0033-8c253d9c1770                0  "
            ]
          },
          "execution_count": 38,
          "metadata": {},
          "output_type": "execute_result"
        }
      ],
      "source": [
        "#результат добавления средних показателей работы в таблицу с соцдемом сотрудников\n",
        "df_emp_with_mean_results.head()"
      ]
    },
    {
      "cell_type": "code",
      "execution_count": null,
      "metadata": {
        "id": "mv2ovOdtVqLO"
      },
      "outputs": [],
      "source": [
        "# число сотрудников для эксперимента\n",
        "statistical_sample = 2380"
      ]
    },
    {
      "cell_type": "code",
      "execution_count": null,
      "metadata": {
        "id": "0kjbSjac534c"
      },
      "outputs": [],
      "source": [
        "#формируем датафрейм двойной выборки\n",
        "df_empoyees_agg = df_emp_with_mean_results.sample(n=statistical_sample, replace=False, random_state=42, axis=0, ignore_index=False)"
      ]
    },
    {
      "cell_type": "code",
      "execution_count": null,
      "metadata": {
        "colab": {
          "base_uri": "https://localhost:8080/",
          "height": 238
        },
        "id": "YZVOWJ-s71rX",
        "outputId": "3340652c-4852-4422-c50f-bcacdeeb5198"
      },
      "outputs": [
        {
          "data": {
            "application/vnd.google.colaboratory.intrinsic+json": {
              "summary": "{\n  \"name\": \"df_empoyees_agg\",\n  \"rows\": 2380,\n  \"fields\": [\n    {\n      \"column\": \"employee_id\",\n      \"properties\": {\n        \"dtype\": \"string\",\n        \"num_unique_values\": 2380,\n        \"samples\": [\n          \"aa942ab2-bfa6-ebda-4840-e7360ce6e7ef\",\n          \"285ab944-8d27-51ee-57ec-e7f762c39095\",\n          \"d860bd12-ce9c-0268-14bb-dfc1c573f0f5\"\n        ],\n        \"semantic_type\": \"\",\n        \"description\": \"\"\n      }\n    },\n    {\n      \"column\": \"communication_score_mean\",\n      \"properties\": {\n        \"dtype\": \"number\",\n        \"std\": 1.6965209632889016,\n        \"min\": 54.53803245436105,\n        \"max\": 66.9763481551561,\n        \"num_unique_values\": 2379,\n        \"samples\": [\n          58.00549682875264,\n          58.7007299270073,\n          59.46395250212044\n        ],\n        \"semantic_type\": \"\",\n        \"description\": \"\"\n      }\n    },\n    {\n      \"column\": \"util_flg_mean\",\n      \"properties\": {\n        \"dtype\": \"number\",\n        \"std\": 0.017595440276108345,\n        \"min\": 0.6802519451648759,\n        \"max\": 0.8055678303137428,\n        \"num_unique_values\": 2341,\n        \"samples\": [\n          0.747852233676976,\n          0.7652057245080501,\n          0.7577916295636687\n        ],\n        \"semantic_type\": \"\",\n        \"description\": \"\"\n      }\n    },\n    {\n      \"column\": \"sex\",\n      \"properties\": {\n        \"dtype\": \"category\",\n        \"num_unique_values\": 2,\n        \"samples\": [\n          \"F\",\n          \"M\"\n        ],\n        \"semantic_type\": \"\",\n        \"description\": \"\"\n      }\n    },\n    {\n      \"column\": \"region\",\n      \"properties\": {\n        \"dtype\": \"number\",\n        \"std\": 2,\n        \"min\": 0,\n        \"max\": 7,\n        \"num_unique_values\": 8,\n        \"samples\": [\n          5,\n          3\n        ],\n        \"semantic_type\": \"\",\n        \"description\": \"\"\n      }\n    },\n    {\n      \"column\": \"age\",\n      \"properties\": {\n        \"dtype\": \"number\",\n        \"std\": 6,\n        \"min\": 19,\n        \"max\": 60,\n        \"num_unique_values\": 41,\n        \"samples\": [\n          22,\n          38\n        ],\n        \"semantic_type\": \"\",\n        \"description\": \"\"\n      }\n    },\n    {\n      \"column\": \"head_employee_id\",\n      \"properties\": {\n        \"dtype\": \"category\",\n        \"num_unique_values\": 132,\n        \"samples\": [\n          \"93db85ed-909c-1383-8ff9-5ccfa94cebd9\",\n          \"ec5decca-5ed3-d6b8-079e-2e7e7bacc9f2\"\n        ],\n        \"semantic_type\": \"\",\n        \"description\": \"\"\n      }\n    },\n    {\n      \"column\": \"exp_days\",\n      \"properties\": {\n        \"dtype\": \"number\",\n        \"std\": 374,\n        \"min\": 0,\n        \"max\": 2424,\n        \"num_unique_values\": 1005,\n        \"samples\": [\n          474,\n          200\n        ],\n        \"semantic_type\": \"\",\n        \"description\": \"\"\n      }\n    },\n    {\n      \"column\": \"edu_degree\",\n      \"properties\": {\n        \"dtype\": \"number\",\n        \"std\": 0,\n        \"min\": 0,\n        \"max\": 2,\n        \"num_unique_values\": 3,\n        \"samples\": [\n          2,\n          1\n        ],\n        \"semantic_type\": \"\",\n        \"description\": \"\"\n      }\n    },\n    {\n      \"column\": \"department_id\",\n      \"properties\": {\n        \"dtype\": \"number\",\n        \"std\": 0,\n        \"min\": 0,\n        \"max\": 2,\n        \"num_unique_values\": 3,\n        \"samples\": [\n          1,\n          2\n        ],\n        \"semantic_type\": \"\",\n        \"description\": \"\"\n      }\n    },\n    {\n      \"column\": \"work_online_flg\",\n      \"properties\": {\n        \"dtype\": \"number\",\n        \"std\": 0,\n        \"min\": 0,\n        \"max\": 1,\n        \"num_unique_values\": 2,\n        \"samples\": [\n          0,\n          1\n        ],\n        \"semantic_type\": \"\",\n        \"description\": \"\"\n      }\n    }\n  ]\n}",
              "type": "dataframe",
              "variable_name": "df_empoyees_agg"
            },
            "text/html": [
              "\n",
              "  <div id=\"df-7caa08cb-ce7f-4c41-9f83-ddc30d2fe54f\" class=\"colab-df-container\">\n",
              "    <div>\n",
              "<style scoped>\n",
              "    .dataframe tbody tr th:only-of-type {\n",
              "        vertical-align: middle;\n",
              "    }\n",
              "\n",
              "    .dataframe tbody tr th {\n",
              "        vertical-align: top;\n",
              "    }\n",
              "\n",
              "    .dataframe thead th {\n",
              "        text-align: right;\n",
              "    }\n",
              "</style>\n",
              "<table border=\"1\" class=\"dataframe\">\n",
              "  <thead>\n",
              "    <tr style=\"text-align: right;\">\n",
              "      <th></th>\n",
              "      <th>communication_score_mean</th>\n",
              "      <th>util_flg_mean</th>\n",
              "      <th>sex</th>\n",
              "      <th>region</th>\n",
              "      <th>age</th>\n",
              "      <th>head_employee_id</th>\n",
              "      <th>exp_days</th>\n",
              "      <th>edu_degree</th>\n",
              "      <th>department_id</th>\n",
              "      <th>work_online_flg</th>\n",
              "    </tr>\n",
              "    <tr>\n",
              "      <th>employee_id</th>\n",
              "      <th></th>\n",
              "      <th></th>\n",
              "      <th></th>\n",
              "      <th></th>\n",
              "      <th></th>\n",
              "      <th></th>\n",
              "      <th></th>\n",
              "      <th></th>\n",
              "      <th></th>\n",
              "      <th></th>\n",
              "    </tr>\n",
              "  </thead>\n",
              "  <tbody>\n",
              "    <tr>\n",
              "      <th>98d6f58a-b0da-fbb8-6b08-3a001561bb34</th>\n",
              "      <td>58.015216</td>\n",
              "      <td>0.747253</td>\n",
              "      <td>M</td>\n",
              "      <td>2</td>\n",
              "      <td>36</td>\n",
              "      <td>698d51a1-9d8a-121c-e581-499d7b701668</td>\n",
              "      <td>1235</td>\n",
              "      <td>2</td>\n",
              "      <td>1</td>\n",
              "      <td>1</td>\n",
              "    </tr>\n",
              "    <tr>\n",
              "      <th>7437d136-770f-5b35-194c-b46c1653efaa</th>\n",
              "      <td>59.159186</td>\n",
              "      <td>0.767745</td>\n",
              "      <td>M</td>\n",
              "      <td>5</td>\n",
              "      <td>35</td>\n",
              "      <td>6f4922f4-5568-161a-8cdf-4ad2299f6d23</td>\n",
              "      <td>283</td>\n",
              "      <td>2</td>\n",
              "      <td>2</td>\n",
              "      <td>0</td>\n",
              "    </tr>\n",
              "    <tr>\n",
              "      <th>95151403-b0db-4f75-bfd8-da0b393af853</th>\n",
              "      <td>60.420846</td>\n",
              "      <td>0.781219</td>\n",
              "      <td>F</td>\n",
              "      <td>4</td>\n",
              "      <td>29</td>\n",
              "      <td>e4da3b7f-bbce-2345-d777-2b0674a318d5</td>\n",
              "      <td>233</td>\n",
              "      <td>2</td>\n",
              "      <td>1</td>\n",
              "      <td>1</td>\n",
              "    </tr>\n",
              "    <tr>\n",
              "      <th>d8d31bd7-78da-8bdd-5361-87c36e48892b</th>\n",
              "      <td>58.365013</td>\n",
              "      <td>0.755091</td>\n",
              "      <td>F</td>\n",
              "      <td>5</td>\n",
              "      <td>33</td>\n",
              "      <td>28dd2c79-55ce-9264-5624-0b2ff0100bde</td>\n",
              "      <td>955</td>\n",
              "      <td>2</td>\n",
              "      <td>0</td>\n",
              "      <td>0</td>\n",
              "    </tr>\n",
              "    <tr>\n",
              "      <th>7895fc13-088e-e37f-5119-13bac71fa66f</th>\n",
              "      <td>57.968012</td>\n",
              "      <td>0.750984</td>\n",
              "      <td>F</td>\n",
              "      <td>0</td>\n",
              "      <td>33</td>\n",
              "      <td>d09bf415-44a3-365a-46c9-077ebb5e35c3</td>\n",
              "      <td>181</td>\n",
              "      <td>2</td>\n",
              "      <td>2</td>\n",
              "      <td>0</td>\n",
              "    </tr>\n",
              "  </tbody>\n",
              "</table>\n",
              "</div>\n",
              "    <div class=\"colab-df-buttons\">\n",
              "\n",
              "  <div class=\"colab-df-container\">\n",
              "    <button class=\"colab-df-convert\" onclick=\"convertToInteractive('df-7caa08cb-ce7f-4c41-9f83-ddc30d2fe54f')\"\n",
              "            title=\"Convert this dataframe to an interactive table.\"\n",
              "            style=\"display:none;\">\n",
              "\n",
              "  <svg xmlns=\"http://www.w3.org/2000/svg\" height=\"24px\" viewBox=\"0 -960 960 960\">\n",
              "    <path d=\"M120-120v-720h720v720H120Zm60-500h600v-160H180v160Zm220 220h160v-160H400v160Zm0 220h160v-160H400v160ZM180-400h160v-160H180v160Zm440 0h160v-160H620v160ZM180-180h160v-160H180v160Zm440 0h160v-160H620v160Z\"/>\n",
              "  </svg>\n",
              "    </button>\n",
              "\n",
              "  <style>\n",
              "    .colab-df-container {\n",
              "      display:flex;\n",
              "      gap: 12px;\n",
              "    }\n",
              "\n",
              "    .colab-df-convert {\n",
              "      background-color: #E8F0FE;\n",
              "      border: none;\n",
              "      border-radius: 50%;\n",
              "      cursor: pointer;\n",
              "      display: none;\n",
              "      fill: #1967D2;\n",
              "      height: 32px;\n",
              "      padding: 0 0 0 0;\n",
              "      width: 32px;\n",
              "    }\n",
              "\n",
              "    .colab-df-convert:hover {\n",
              "      background-color: #E2EBFA;\n",
              "      box-shadow: 0px 1px 2px rgba(60, 64, 67, 0.3), 0px 1px 3px 1px rgba(60, 64, 67, 0.15);\n",
              "      fill: #174EA6;\n",
              "    }\n",
              "\n",
              "    .colab-df-buttons div {\n",
              "      margin-bottom: 4px;\n",
              "    }\n",
              "\n",
              "    [theme=dark] .colab-df-convert {\n",
              "      background-color: #3B4455;\n",
              "      fill: #D2E3FC;\n",
              "    }\n",
              "\n",
              "    [theme=dark] .colab-df-convert:hover {\n",
              "      background-color: #434B5C;\n",
              "      box-shadow: 0px 1px 3px 1px rgba(0, 0, 0, 0.15);\n",
              "      filter: drop-shadow(0px 1px 2px rgba(0, 0, 0, 0.3));\n",
              "      fill: #FFFFFF;\n",
              "    }\n",
              "  </style>\n",
              "\n",
              "    <script>\n",
              "      const buttonEl =\n",
              "        document.querySelector('#df-7caa08cb-ce7f-4c41-9f83-ddc30d2fe54f button.colab-df-convert');\n",
              "      buttonEl.style.display =\n",
              "        google.colab.kernel.accessAllowed ? 'block' : 'none';\n",
              "\n",
              "      async function convertToInteractive(key) {\n",
              "        const element = document.querySelector('#df-7caa08cb-ce7f-4c41-9f83-ddc30d2fe54f');\n",
              "        const dataTable =\n",
              "          await google.colab.kernel.invokeFunction('convertToInteractive',\n",
              "                                                    [key], {});\n",
              "        if (!dataTable) return;\n",
              "\n",
              "        const docLinkHtml = 'Like what you see? Visit the ' +\n",
              "          '<a target=\"_blank\" href=https://colab.research.google.com/notebooks/data_table.ipynb>data table notebook</a>'\n",
              "          + ' to learn more about interactive tables.';\n",
              "        element.innerHTML = '';\n",
              "        dataTable['output_type'] = 'display_data';\n",
              "        await google.colab.output.renderOutput(dataTable, element);\n",
              "        const docLink = document.createElement('div');\n",
              "        docLink.innerHTML = docLinkHtml;\n",
              "        element.appendChild(docLink);\n",
              "      }\n",
              "    </script>\n",
              "  </div>\n",
              "\n",
              "\n",
              "<div id=\"df-cf22491f-5cdf-40e2-ba69-2c04be12ab06\">\n",
              "  <button class=\"colab-df-quickchart\" onclick=\"quickchart('df-cf22491f-5cdf-40e2-ba69-2c04be12ab06')\"\n",
              "            title=\"Suggest charts\"\n",
              "            style=\"display:none;\">\n",
              "\n",
              "<svg xmlns=\"http://www.w3.org/2000/svg\" height=\"24px\"viewBox=\"0 0 24 24\"\n",
              "     width=\"24px\">\n",
              "    <g>\n",
              "        <path d=\"M19 3H5c-1.1 0-2 .9-2 2v14c0 1.1.9 2 2 2h14c1.1 0 2-.9 2-2V5c0-1.1-.9-2-2-2zM9 17H7v-7h2v7zm4 0h-2V7h2v10zm4 0h-2v-4h2v4z\"/>\n",
              "    </g>\n",
              "</svg>\n",
              "  </button>\n",
              "\n",
              "<style>\n",
              "  .colab-df-quickchart {\n",
              "      --bg-color: #E8F0FE;\n",
              "      --fill-color: #1967D2;\n",
              "      --hover-bg-color: #E2EBFA;\n",
              "      --hover-fill-color: #174EA6;\n",
              "      --disabled-fill-color: #AAA;\n",
              "      --disabled-bg-color: #DDD;\n",
              "  }\n",
              "\n",
              "  [theme=dark] .colab-df-quickchart {\n",
              "      --bg-color: #3B4455;\n",
              "      --fill-color: #D2E3FC;\n",
              "      --hover-bg-color: #434B5C;\n",
              "      --hover-fill-color: #FFFFFF;\n",
              "      --disabled-bg-color: #3B4455;\n",
              "      --disabled-fill-color: #666;\n",
              "  }\n",
              "\n",
              "  .colab-df-quickchart {\n",
              "    background-color: var(--bg-color);\n",
              "    border: none;\n",
              "    border-radius: 50%;\n",
              "    cursor: pointer;\n",
              "    display: none;\n",
              "    fill: var(--fill-color);\n",
              "    height: 32px;\n",
              "    padding: 0;\n",
              "    width: 32px;\n",
              "  }\n",
              "\n",
              "  .colab-df-quickchart:hover {\n",
              "    background-color: var(--hover-bg-color);\n",
              "    box-shadow: 0 1px 2px rgba(60, 64, 67, 0.3), 0 1px 3px 1px rgba(60, 64, 67, 0.15);\n",
              "    fill: var(--button-hover-fill-color);\n",
              "  }\n",
              "\n",
              "  .colab-df-quickchart-complete:disabled,\n",
              "  .colab-df-quickchart-complete:disabled:hover {\n",
              "    background-color: var(--disabled-bg-color);\n",
              "    fill: var(--disabled-fill-color);\n",
              "    box-shadow: none;\n",
              "  }\n",
              "\n",
              "  .colab-df-spinner {\n",
              "    border: 2px solid var(--fill-color);\n",
              "    border-color: transparent;\n",
              "    border-bottom-color: var(--fill-color);\n",
              "    animation:\n",
              "      spin 1s steps(1) infinite;\n",
              "  }\n",
              "\n",
              "  @keyframes spin {\n",
              "    0% {\n",
              "      border-color: transparent;\n",
              "      border-bottom-color: var(--fill-color);\n",
              "      border-left-color: var(--fill-color);\n",
              "    }\n",
              "    20% {\n",
              "      border-color: transparent;\n",
              "      border-left-color: var(--fill-color);\n",
              "      border-top-color: var(--fill-color);\n",
              "    }\n",
              "    30% {\n",
              "      border-color: transparent;\n",
              "      border-left-color: var(--fill-color);\n",
              "      border-top-color: var(--fill-color);\n",
              "      border-right-color: var(--fill-color);\n",
              "    }\n",
              "    40% {\n",
              "      border-color: transparent;\n",
              "      border-right-color: var(--fill-color);\n",
              "      border-top-color: var(--fill-color);\n",
              "    }\n",
              "    60% {\n",
              "      border-color: transparent;\n",
              "      border-right-color: var(--fill-color);\n",
              "    }\n",
              "    80% {\n",
              "      border-color: transparent;\n",
              "      border-right-color: var(--fill-color);\n",
              "      border-bottom-color: var(--fill-color);\n",
              "    }\n",
              "    90% {\n",
              "      border-color: transparent;\n",
              "      border-bottom-color: var(--fill-color);\n",
              "    }\n",
              "  }\n",
              "</style>\n",
              "\n",
              "  <script>\n",
              "    async function quickchart(key) {\n",
              "      const quickchartButtonEl =\n",
              "        document.querySelector('#' + key + ' button');\n",
              "      quickchartButtonEl.disabled = true;  // To prevent multiple clicks.\n",
              "      quickchartButtonEl.classList.add('colab-df-spinner');\n",
              "      try {\n",
              "        const charts = await google.colab.kernel.invokeFunction(\n",
              "            'suggestCharts', [key], {});\n",
              "      } catch (error) {\n",
              "        console.error('Error during call to suggestCharts:', error);\n",
              "      }\n",
              "      quickchartButtonEl.classList.remove('colab-df-spinner');\n",
              "      quickchartButtonEl.classList.add('colab-df-quickchart-complete');\n",
              "    }\n",
              "    (() => {\n",
              "      let quickchartButtonEl =\n",
              "        document.querySelector('#df-cf22491f-5cdf-40e2-ba69-2c04be12ab06 button');\n",
              "      quickchartButtonEl.style.display =\n",
              "        google.colab.kernel.accessAllowed ? 'block' : 'none';\n",
              "    })();\n",
              "  </script>\n",
              "</div>\n",
              "    </div>\n",
              "  </div>\n"
            ],
            "text/plain": [
              "                                      communication_score_mean  util_flg_mean  \\\n",
              "employee_id                                                                     \n",
              "98d6f58a-b0da-fbb8-6b08-3a001561bb34                 58.015216       0.747253   \n",
              "7437d136-770f-5b35-194c-b46c1653efaa                 59.159186       0.767745   \n",
              "95151403-b0db-4f75-bfd8-da0b393af853                 60.420846       0.781219   \n",
              "d8d31bd7-78da-8bdd-5361-87c36e48892b                 58.365013       0.755091   \n",
              "7895fc13-088e-e37f-5119-13bac71fa66f                 57.968012       0.750984   \n",
              "\n",
              "                                     sex  region  age  \\\n",
              "employee_id                                             \n",
              "98d6f58a-b0da-fbb8-6b08-3a001561bb34   M       2   36   \n",
              "7437d136-770f-5b35-194c-b46c1653efaa   M       5   35   \n",
              "95151403-b0db-4f75-bfd8-da0b393af853   F       4   29   \n",
              "d8d31bd7-78da-8bdd-5361-87c36e48892b   F       5   33   \n",
              "7895fc13-088e-e37f-5119-13bac71fa66f   F       0   33   \n",
              "\n",
              "                                                          head_employee_id  \\\n",
              "employee_id                                                                  \n",
              "98d6f58a-b0da-fbb8-6b08-3a001561bb34  698d51a1-9d8a-121c-e581-499d7b701668   \n",
              "7437d136-770f-5b35-194c-b46c1653efaa  6f4922f4-5568-161a-8cdf-4ad2299f6d23   \n",
              "95151403-b0db-4f75-bfd8-da0b393af853  e4da3b7f-bbce-2345-d777-2b0674a318d5   \n",
              "d8d31bd7-78da-8bdd-5361-87c36e48892b  28dd2c79-55ce-9264-5624-0b2ff0100bde   \n",
              "7895fc13-088e-e37f-5119-13bac71fa66f  d09bf415-44a3-365a-46c9-077ebb5e35c3   \n",
              "\n",
              "                                      exp_days  edu_degree  department_id  \\\n",
              "employee_id                                                                 \n",
              "98d6f58a-b0da-fbb8-6b08-3a001561bb34      1235           2              1   \n",
              "7437d136-770f-5b35-194c-b46c1653efaa       283           2              2   \n",
              "95151403-b0db-4f75-bfd8-da0b393af853       233           2              1   \n",
              "d8d31bd7-78da-8bdd-5361-87c36e48892b       955           2              0   \n",
              "7895fc13-088e-e37f-5119-13bac71fa66f       181           2              2   \n",
              "\n",
              "                                      work_online_flg  \n",
              "employee_id                                            \n",
              "98d6f58a-b0da-fbb8-6b08-3a001561bb34                1  \n",
              "7437d136-770f-5b35-194c-b46c1653efaa                0  \n",
              "95151403-b0db-4f75-bfd8-da0b393af853                1  \n",
              "d8d31bd7-78da-8bdd-5361-87c36e48892b                0  \n",
              "7895fc13-088e-e37f-5119-13bac71fa66f                0  "
            ]
          },
          "execution_count": 42,
          "metadata": {},
          "output_type": "execute_result"
        }
      ],
      "source": [
        "df_empoyees_agg.head()"
      ]
    },
    {
      "cell_type": "code",
      "execution_count": null,
      "metadata": {
        "colab": {
          "base_uri": "https://localhost:8080/"
        },
        "id": "zoZ9RYgG80S5",
        "outputId": "1ad3fa51-de29-4f47-b157-291f7ec3e0b5"
      },
      "outputs": [
        {
          "data": {
            "text/plain": [
              "True"
            ]
          },
          "execution_count": 43,
          "metadata": {},
          "output_type": "execute_result"
        }
      ],
      "source": [
        "# проверяем, что сотрудники уникальные\n",
        "df_empoyees_agg.index.is_unique"
      ]
    },
    {
      "cell_type": "code",
      "execution_count": null,
      "metadata": {
        "id": "O4eZ2_349wZA"
      },
      "outputs": [],
      "source": [
        "#разбиваем датафрйем двойной выборки на 2 части\n",
        "#формируем группу А и группу Б\n",
        "np.random.seed(0)\n",
        "df_empoyees_agg['group'] = np.random.choice(['A', 'B'], statistical_sample, replace=True,  p=[0.5, 0.5])"
      ]
    },
    {
      "cell_type": "code",
      "execution_count": null,
      "metadata": {
        "colab": {
          "base_uri": "https://localhost:8080/",
          "height": 238
        },
        "id": "dWvku-rPBsbb",
        "outputId": "e37de547-0674-4c77-aa6f-f747765b305b"
      },
      "outputs": [
        {
          "data": {
            "application/vnd.google.colaboratory.intrinsic+json": {
              "summary": "{\n  \"name\": \"df_empoyees_agg\",\n  \"rows\": 2380,\n  \"fields\": [\n    {\n      \"column\": \"employee_id\",\n      \"properties\": {\n        \"dtype\": \"string\",\n        \"num_unique_values\": 2380,\n        \"samples\": [\n          \"aa942ab2-bfa6-ebda-4840-e7360ce6e7ef\",\n          \"285ab944-8d27-51ee-57ec-e7f762c39095\",\n          \"d860bd12-ce9c-0268-14bb-dfc1c573f0f5\"\n        ],\n        \"semantic_type\": \"\",\n        \"description\": \"\"\n      }\n    },\n    {\n      \"column\": \"communication_score_mean\",\n      \"properties\": {\n        \"dtype\": \"number\",\n        \"std\": 1.6965209632889016,\n        \"min\": 54.53803245436105,\n        \"max\": 66.9763481551561,\n        \"num_unique_values\": 2379,\n        \"samples\": [\n          58.00549682875264,\n          58.7007299270073,\n          59.46395250212044\n        ],\n        \"semantic_type\": \"\",\n        \"description\": \"\"\n      }\n    },\n    {\n      \"column\": \"util_flg_mean\",\n      \"properties\": {\n        \"dtype\": \"number\",\n        \"std\": 0.017595440276108345,\n        \"min\": 0.6802519451648759,\n        \"max\": 0.8055678303137428,\n        \"num_unique_values\": 2341,\n        \"samples\": [\n          0.747852233676976,\n          0.7652057245080501,\n          0.7577916295636687\n        ],\n        \"semantic_type\": \"\",\n        \"description\": \"\"\n      }\n    },\n    {\n      \"column\": \"sex\",\n      \"properties\": {\n        \"dtype\": \"category\",\n        \"num_unique_values\": 2,\n        \"samples\": [\n          \"F\",\n          \"M\"\n        ],\n        \"semantic_type\": \"\",\n        \"description\": \"\"\n      }\n    },\n    {\n      \"column\": \"region\",\n      \"properties\": {\n        \"dtype\": \"number\",\n        \"std\": 2,\n        \"min\": 0,\n        \"max\": 7,\n        \"num_unique_values\": 8,\n        \"samples\": [\n          5,\n          3\n        ],\n        \"semantic_type\": \"\",\n        \"description\": \"\"\n      }\n    },\n    {\n      \"column\": \"age\",\n      \"properties\": {\n        \"dtype\": \"number\",\n        \"std\": 6,\n        \"min\": 19,\n        \"max\": 60,\n        \"num_unique_values\": 41,\n        \"samples\": [\n          22,\n          38\n        ],\n        \"semantic_type\": \"\",\n        \"description\": \"\"\n      }\n    },\n    {\n      \"column\": \"head_employee_id\",\n      \"properties\": {\n        \"dtype\": \"category\",\n        \"num_unique_values\": 132,\n        \"samples\": [\n          \"93db85ed-909c-1383-8ff9-5ccfa94cebd9\",\n          \"ec5decca-5ed3-d6b8-079e-2e7e7bacc9f2\"\n        ],\n        \"semantic_type\": \"\",\n        \"description\": \"\"\n      }\n    },\n    {\n      \"column\": \"exp_days\",\n      \"properties\": {\n        \"dtype\": \"number\",\n        \"std\": 374,\n        \"min\": 0,\n        \"max\": 2424,\n        \"num_unique_values\": 1005,\n        \"samples\": [\n          474,\n          200\n        ],\n        \"semantic_type\": \"\",\n        \"description\": \"\"\n      }\n    },\n    {\n      \"column\": \"edu_degree\",\n      \"properties\": {\n        \"dtype\": \"number\",\n        \"std\": 0,\n        \"min\": 0,\n        \"max\": 2,\n        \"num_unique_values\": 3,\n        \"samples\": [\n          2,\n          1\n        ],\n        \"semantic_type\": \"\",\n        \"description\": \"\"\n      }\n    },\n    {\n      \"column\": \"department_id\",\n      \"properties\": {\n        \"dtype\": \"number\",\n        \"std\": 0,\n        \"min\": 0,\n        \"max\": 2,\n        \"num_unique_values\": 3,\n        \"samples\": [\n          1,\n          2\n        ],\n        \"semantic_type\": \"\",\n        \"description\": \"\"\n      }\n    },\n    {\n      \"column\": \"work_online_flg\",\n      \"properties\": {\n        \"dtype\": \"number\",\n        \"std\": 0,\n        \"min\": 0,\n        \"max\": 1,\n        \"num_unique_values\": 2,\n        \"samples\": [\n          0,\n          1\n        ],\n        \"semantic_type\": \"\",\n        \"description\": \"\"\n      }\n    },\n    {\n      \"column\": \"group\",\n      \"properties\": {\n        \"dtype\": \"category\",\n        \"num_unique_values\": 2,\n        \"samples\": [\n          \"A\",\n          \"B\"\n        ],\n        \"semantic_type\": \"\",\n        \"description\": \"\"\n      }\n    }\n  ]\n}",
              "type": "dataframe",
              "variable_name": "df_empoyees_agg"
            },
            "text/html": [
              "\n",
              "  <div id=\"df-b6123fac-551c-4fda-a5bc-c2771a84f071\" class=\"colab-df-container\">\n",
              "    <div>\n",
              "<style scoped>\n",
              "    .dataframe tbody tr th:only-of-type {\n",
              "        vertical-align: middle;\n",
              "    }\n",
              "\n",
              "    .dataframe tbody tr th {\n",
              "        vertical-align: top;\n",
              "    }\n",
              "\n",
              "    .dataframe thead th {\n",
              "        text-align: right;\n",
              "    }\n",
              "</style>\n",
              "<table border=\"1\" class=\"dataframe\">\n",
              "  <thead>\n",
              "    <tr style=\"text-align: right;\">\n",
              "      <th></th>\n",
              "      <th>communication_score_mean</th>\n",
              "      <th>util_flg_mean</th>\n",
              "      <th>sex</th>\n",
              "      <th>region</th>\n",
              "      <th>age</th>\n",
              "      <th>head_employee_id</th>\n",
              "      <th>exp_days</th>\n",
              "      <th>edu_degree</th>\n",
              "      <th>department_id</th>\n",
              "      <th>work_online_flg</th>\n",
              "      <th>group</th>\n",
              "    </tr>\n",
              "    <tr>\n",
              "      <th>employee_id</th>\n",
              "      <th></th>\n",
              "      <th></th>\n",
              "      <th></th>\n",
              "      <th></th>\n",
              "      <th></th>\n",
              "      <th></th>\n",
              "      <th></th>\n",
              "      <th></th>\n",
              "      <th></th>\n",
              "      <th></th>\n",
              "      <th></th>\n",
              "    </tr>\n",
              "  </thead>\n",
              "  <tbody>\n",
              "    <tr>\n",
              "      <th>98d6f58a-b0da-fbb8-6b08-3a001561bb34</th>\n",
              "      <td>58.015216</td>\n",
              "      <td>0.747253</td>\n",
              "      <td>M</td>\n",
              "      <td>2</td>\n",
              "      <td>36</td>\n",
              "      <td>698d51a1-9d8a-121c-e581-499d7b701668</td>\n",
              "      <td>1235</td>\n",
              "      <td>2</td>\n",
              "      <td>1</td>\n",
              "      <td>1</td>\n",
              "      <td>B</td>\n",
              "    </tr>\n",
              "    <tr>\n",
              "      <th>7437d136-770f-5b35-194c-b46c1653efaa</th>\n",
              "      <td>59.159186</td>\n",
              "      <td>0.767745</td>\n",
              "      <td>M</td>\n",
              "      <td>5</td>\n",
              "      <td>35</td>\n",
              "      <td>6f4922f4-5568-161a-8cdf-4ad2299f6d23</td>\n",
              "      <td>283</td>\n",
              "      <td>2</td>\n",
              "      <td>2</td>\n",
              "      <td>0</td>\n",
              "      <td>B</td>\n",
              "    </tr>\n",
              "    <tr>\n",
              "      <th>95151403-b0db-4f75-bfd8-da0b393af853</th>\n",
              "      <td>60.420846</td>\n",
              "      <td>0.781219</td>\n",
              "      <td>F</td>\n",
              "      <td>4</td>\n",
              "      <td>29</td>\n",
              "      <td>e4da3b7f-bbce-2345-d777-2b0674a318d5</td>\n",
              "      <td>233</td>\n",
              "      <td>2</td>\n",
              "      <td>1</td>\n",
              "      <td>1</td>\n",
              "      <td>B</td>\n",
              "    </tr>\n",
              "    <tr>\n",
              "      <th>d8d31bd7-78da-8bdd-5361-87c36e48892b</th>\n",
              "      <td>58.365013</td>\n",
              "      <td>0.755091</td>\n",
              "      <td>F</td>\n",
              "      <td>5</td>\n",
              "      <td>33</td>\n",
              "      <td>28dd2c79-55ce-9264-5624-0b2ff0100bde</td>\n",
              "      <td>955</td>\n",
              "      <td>2</td>\n",
              "      <td>0</td>\n",
              "      <td>0</td>\n",
              "      <td>B</td>\n",
              "    </tr>\n",
              "    <tr>\n",
              "      <th>7895fc13-088e-e37f-5119-13bac71fa66f</th>\n",
              "      <td>57.968012</td>\n",
              "      <td>0.750984</td>\n",
              "      <td>F</td>\n",
              "      <td>0</td>\n",
              "      <td>33</td>\n",
              "      <td>d09bf415-44a3-365a-46c9-077ebb5e35c3</td>\n",
              "      <td>181</td>\n",
              "      <td>2</td>\n",
              "      <td>2</td>\n",
              "      <td>0</td>\n",
              "      <td>A</td>\n",
              "    </tr>\n",
              "  </tbody>\n",
              "</table>\n",
              "</div>\n",
              "    <div class=\"colab-df-buttons\">\n",
              "\n",
              "  <div class=\"colab-df-container\">\n",
              "    <button class=\"colab-df-convert\" onclick=\"convertToInteractive('df-b6123fac-551c-4fda-a5bc-c2771a84f071')\"\n",
              "            title=\"Convert this dataframe to an interactive table.\"\n",
              "            style=\"display:none;\">\n",
              "\n",
              "  <svg xmlns=\"http://www.w3.org/2000/svg\" height=\"24px\" viewBox=\"0 -960 960 960\">\n",
              "    <path d=\"M120-120v-720h720v720H120Zm60-500h600v-160H180v160Zm220 220h160v-160H400v160Zm0 220h160v-160H400v160ZM180-400h160v-160H180v160Zm440 0h160v-160H620v160ZM180-180h160v-160H180v160Zm440 0h160v-160H620v160Z\"/>\n",
              "  </svg>\n",
              "    </button>\n",
              "\n",
              "  <style>\n",
              "    .colab-df-container {\n",
              "      display:flex;\n",
              "      gap: 12px;\n",
              "    }\n",
              "\n",
              "    .colab-df-convert {\n",
              "      background-color: #E8F0FE;\n",
              "      border: none;\n",
              "      border-radius: 50%;\n",
              "      cursor: pointer;\n",
              "      display: none;\n",
              "      fill: #1967D2;\n",
              "      height: 32px;\n",
              "      padding: 0 0 0 0;\n",
              "      width: 32px;\n",
              "    }\n",
              "\n",
              "    .colab-df-convert:hover {\n",
              "      background-color: #E2EBFA;\n",
              "      box-shadow: 0px 1px 2px rgba(60, 64, 67, 0.3), 0px 1px 3px 1px rgba(60, 64, 67, 0.15);\n",
              "      fill: #174EA6;\n",
              "    }\n",
              "\n",
              "    .colab-df-buttons div {\n",
              "      margin-bottom: 4px;\n",
              "    }\n",
              "\n",
              "    [theme=dark] .colab-df-convert {\n",
              "      background-color: #3B4455;\n",
              "      fill: #D2E3FC;\n",
              "    }\n",
              "\n",
              "    [theme=dark] .colab-df-convert:hover {\n",
              "      background-color: #434B5C;\n",
              "      box-shadow: 0px 1px 3px 1px rgba(0, 0, 0, 0.15);\n",
              "      filter: drop-shadow(0px 1px 2px rgba(0, 0, 0, 0.3));\n",
              "      fill: #FFFFFF;\n",
              "    }\n",
              "  </style>\n",
              "\n",
              "    <script>\n",
              "      const buttonEl =\n",
              "        document.querySelector('#df-b6123fac-551c-4fda-a5bc-c2771a84f071 button.colab-df-convert');\n",
              "      buttonEl.style.display =\n",
              "        google.colab.kernel.accessAllowed ? 'block' : 'none';\n",
              "\n",
              "      async function convertToInteractive(key) {\n",
              "        const element = document.querySelector('#df-b6123fac-551c-4fda-a5bc-c2771a84f071');\n",
              "        const dataTable =\n",
              "          await google.colab.kernel.invokeFunction('convertToInteractive',\n",
              "                                                    [key], {});\n",
              "        if (!dataTable) return;\n",
              "\n",
              "        const docLinkHtml = 'Like what you see? Visit the ' +\n",
              "          '<a target=\"_blank\" href=https://colab.research.google.com/notebooks/data_table.ipynb>data table notebook</a>'\n",
              "          + ' to learn more about interactive tables.';\n",
              "        element.innerHTML = '';\n",
              "        dataTable['output_type'] = 'display_data';\n",
              "        await google.colab.output.renderOutput(dataTable, element);\n",
              "        const docLink = document.createElement('div');\n",
              "        docLink.innerHTML = docLinkHtml;\n",
              "        element.appendChild(docLink);\n",
              "      }\n",
              "    </script>\n",
              "  </div>\n",
              "\n",
              "\n",
              "<div id=\"df-175b545b-8305-4d95-a5e8-b1773a252ef6\">\n",
              "  <button class=\"colab-df-quickchart\" onclick=\"quickchart('df-175b545b-8305-4d95-a5e8-b1773a252ef6')\"\n",
              "            title=\"Suggest charts\"\n",
              "            style=\"display:none;\">\n",
              "\n",
              "<svg xmlns=\"http://www.w3.org/2000/svg\" height=\"24px\"viewBox=\"0 0 24 24\"\n",
              "     width=\"24px\">\n",
              "    <g>\n",
              "        <path d=\"M19 3H5c-1.1 0-2 .9-2 2v14c0 1.1.9 2 2 2h14c1.1 0 2-.9 2-2V5c0-1.1-.9-2-2-2zM9 17H7v-7h2v7zm4 0h-2V7h2v10zm4 0h-2v-4h2v4z\"/>\n",
              "    </g>\n",
              "</svg>\n",
              "  </button>\n",
              "\n",
              "<style>\n",
              "  .colab-df-quickchart {\n",
              "      --bg-color: #E8F0FE;\n",
              "      --fill-color: #1967D2;\n",
              "      --hover-bg-color: #E2EBFA;\n",
              "      --hover-fill-color: #174EA6;\n",
              "      --disabled-fill-color: #AAA;\n",
              "      --disabled-bg-color: #DDD;\n",
              "  }\n",
              "\n",
              "  [theme=dark] .colab-df-quickchart {\n",
              "      --bg-color: #3B4455;\n",
              "      --fill-color: #D2E3FC;\n",
              "      --hover-bg-color: #434B5C;\n",
              "      --hover-fill-color: #FFFFFF;\n",
              "      --disabled-bg-color: #3B4455;\n",
              "      --disabled-fill-color: #666;\n",
              "  }\n",
              "\n",
              "  .colab-df-quickchart {\n",
              "    background-color: var(--bg-color);\n",
              "    border: none;\n",
              "    border-radius: 50%;\n",
              "    cursor: pointer;\n",
              "    display: none;\n",
              "    fill: var(--fill-color);\n",
              "    height: 32px;\n",
              "    padding: 0;\n",
              "    width: 32px;\n",
              "  }\n",
              "\n",
              "  .colab-df-quickchart:hover {\n",
              "    background-color: var(--hover-bg-color);\n",
              "    box-shadow: 0 1px 2px rgba(60, 64, 67, 0.3), 0 1px 3px 1px rgba(60, 64, 67, 0.15);\n",
              "    fill: var(--button-hover-fill-color);\n",
              "  }\n",
              "\n",
              "  .colab-df-quickchart-complete:disabled,\n",
              "  .colab-df-quickchart-complete:disabled:hover {\n",
              "    background-color: var(--disabled-bg-color);\n",
              "    fill: var(--disabled-fill-color);\n",
              "    box-shadow: none;\n",
              "  }\n",
              "\n",
              "  .colab-df-spinner {\n",
              "    border: 2px solid var(--fill-color);\n",
              "    border-color: transparent;\n",
              "    border-bottom-color: var(--fill-color);\n",
              "    animation:\n",
              "      spin 1s steps(1) infinite;\n",
              "  }\n",
              "\n",
              "  @keyframes spin {\n",
              "    0% {\n",
              "      border-color: transparent;\n",
              "      border-bottom-color: var(--fill-color);\n",
              "      border-left-color: var(--fill-color);\n",
              "    }\n",
              "    20% {\n",
              "      border-color: transparent;\n",
              "      border-left-color: var(--fill-color);\n",
              "      border-top-color: var(--fill-color);\n",
              "    }\n",
              "    30% {\n",
              "      border-color: transparent;\n",
              "      border-left-color: var(--fill-color);\n",
              "      border-top-color: var(--fill-color);\n",
              "      border-right-color: var(--fill-color);\n",
              "    }\n",
              "    40% {\n",
              "      border-color: transparent;\n",
              "      border-right-color: var(--fill-color);\n",
              "      border-top-color: var(--fill-color);\n",
              "    }\n",
              "    60% {\n",
              "      border-color: transparent;\n",
              "      border-right-color: var(--fill-color);\n",
              "    }\n",
              "    80% {\n",
              "      border-color: transparent;\n",
              "      border-right-color: var(--fill-color);\n",
              "      border-bottom-color: var(--fill-color);\n",
              "    }\n",
              "    90% {\n",
              "      border-color: transparent;\n",
              "      border-bottom-color: var(--fill-color);\n",
              "    }\n",
              "  }\n",
              "</style>\n",
              "\n",
              "  <script>\n",
              "    async function quickchart(key) {\n",
              "      const quickchartButtonEl =\n",
              "        document.querySelector('#' + key + ' button');\n",
              "      quickchartButtonEl.disabled = true;  // To prevent multiple clicks.\n",
              "      quickchartButtonEl.classList.add('colab-df-spinner');\n",
              "      try {\n",
              "        const charts = await google.colab.kernel.invokeFunction(\n",
              "            'suggestCharts', [key], {});\n",
              "      } catch (error) {\n",
              "        console.error('Error during call to suggestCharts:', error);\n",
              "      }\n",
              "      quickchartButtonEl.classList.remove('colab-df-spinner');\n",
              "      quickchartButtonEl.classList.add('colab-df-quickchart-complete');\n",
              "    }\n",
              "    (() => {\n",
              "      let quickchartButtonEl =\n",
              "        document.querySelector('#df-175b545b-8305-4d95-a5e8-b1773a252ef6 button');\n",
              "      quickchartButtonEl.style.display =\n",
              "        google.colab.kernel.accessAllowed ? 'block' : 'none';\n",
              "    })();\n",
              "  </script>\n",
              "</div>\n",
              "    </div>\n",
              "  </div>\n"
            ],
            "text/plain": [
              "                                      communication_score_mean  util_flg_mean  \\\n",
              "employee_id                                                                     \n",
              "98d6f58a-b0da-fbb8-6b08-3a001561bb34                 58.015216       0.747253   \n",
              "7437d136-770f-5b35-194c-b46c1653efaa                 59.159186       0.767745   \n",
              "95151403-b0db-4f75-bfd8-da0b393af853                 60.420846       0.781219   \n",
              "d8d31bd7-78da-8bdd-5361-87c36e48892b                 58.365013       0.755091   \n",
              "7895fc13-088e-e37f-5119-13bac71fa66f                 57.968012       0.750984   \n",
              "\n",
              "                                     sex  region  age  \\\n",
              "employee_id                                             \n",
              "98d6f58a-b0da-fbb8-6b08-3a001561bb34   M       2   36   \n",
              "7437d136-770f-5b35-194c-b46c1653efaa   M       5   35   \n",
              "95151403-b0db-4f75-bfd8-da0b393af853   F       4   29   \n",
              "d8d31bd7-78da-8bdd-5361-87c36e48892b   F       5   33   \n",
              "7895fc13-088e-e37f-5119-13bac71fa66f   F       0   33   \n",
              "\n",
              "                                                          head_employee_id  \\\n",
              "employee_id                                                                  \n",
              "98d6f58a-b0da-fbb8-6b08-3a001561bb34  698d51a1-9d8a-121c-e581-499d7b701668   \n",
              "7437d136-770f-5b35-194c-b46c1653efaa  6f4922f4-5568-161a-8cdf-4ad2299f6d23   \n",
              "95151403-b0db-4f75-bfd8-da0b393af853  e4da3b7f-bbce-2345-d777-2b0674a318d5   \n",
              "d8d31bd7-78da-8bdd-5361-87c36e48892b  28dd2c79-55ce-9264-5624-0b2ff0100bde   \n",
              "7895fc13-088e-e37f-5119-13bac71fa66f  d09bf415-44a3-365a-46c9-077ebb5e35c3   \n",
              "\n",
              "                                      exp_days  edu_degree  department_id  \\\n",
              "employee_id                                                                 \n",
              "98d6f58a-b0da-fbb8-6b08-3a001561bb34      1235           2              1   \n",
              "7437d136-770f-5b35-194c-b46c1653efaa       283           2              2   \n",
              "95151403-b0db-4f75-bfd8-da0b393af853       233           2              1   \n",
              "d8d31bd7-78da-8bdd-5361-87c36e48892b       955           2              0   \n",
              "7895fc13-088e-e37f-5119-13bac71fa66f       181           2              2   \n",
              "\n",
              "                                      work_online_flg group  \n",
              "employee_id                                                  \n",
              "98d6f58a-b0da-fbb8-6b08-3a001561bb34                1     B  \n",
              "7437d136-770f-5b35-194c-b46c1653efaa                0     B  \n",
              "95151403-b0db-4f75-bfd8-da0b393af853                1     B  \n",
              "d8d31bd7-78da-8bdd-5361-87c36e48892b                0     B  \n",
              "7895fc13-088e-e37f-5119-13bac71fa66f                0     A  "
            ]
          },
          "execution_count": 46,
          "metadata": {},
          "output_type": "execute_result"
        }
      ],
      "source": [
        "df_empoyees_agg.head()"
      ]
    },
    {
      "cell_type": "code",
      "execution_count": null,
      "metadata": {
        "colab": {
          "base_uri": "https://localhost:8080/"
        },
        "id": "B9nyy0u-aiJV",
        "outputId": "fc2b1ee2-ed27-402f-deb5-38c94f420cac"
      },
      "outputs": [
        {
          "data": {
            "text/plain": [
              "group\n",
              "B    1196\n",
              "A    1184\n",
              "Name: count, dtype: int64"
            ]
          },
          "execution_count": 47,
          "metadata": {},
          "output_type": "execute_result"
        }
      ],
      "source": [
        "#проверим разбиение групп\n",
        "df_empoyees_agg['group'].value_counts()"
      ]
    },
    {
      "cell_type": "code",
      "execution_count": null,
      "metadata": {
        "colab": {
          "base_uri": "https://localhost:8080/",
          "height": 143
        },
        "id": "9DncD3EFQ-5x",
        "outputId": "d379a351-647d-4813-874a-48dff6bd6c40"
      },
      "outputs": [
        {
          "data": {
            "application/vnd.google.colaboratory.intrinsic+json": {
              "summary": "{\n  \"name\": \"group_mean_result_aggregate\",\n  \"rows\": 2,\n  \"fields\": [\n    {\n      \"column\": \"group\",\n      \"properties\": {\n        \"dtype\": \"string\",\n        \"num_unique_values\": 2,\n        \"samples\": [\n          \"B\",\n          \"A\"\n        ],\n        \"semantic_type\": \"\",\n        \"description\": \"\"\n      }\n    },\n    {\n      \"column\": \"communication_score_mean\",\n      \"properties\": {\n        \"dtype\": \"number\",\n        \"std\": 0.047476123615549516,\n        \"min\": 58.515679446640966,\n        \"max\": 58.58282082454698,\n        \"num_unique_values\": 2,\n        \"samples\": [\n          58.58282082454698,\n          58.515679446640966\n        ],\n        \"semantic_type\": \"\",\n        \"description\": \"\"\n      }\n    },\n    {\n      \"column\": \"util_flg_mean\",\n      \"properties\": {\n        \"dtype\": \"number\",\n        \"std\": 0.011277197779361769,\n        \"min\": 75.23148964795735,\n        \"max\": 75.24743801400248,\n        \"num_unique_values\": 2,\n        \"samples\": [\n          75.24743801400248,\n          75.23148964795735\n        ],\n        \"semantic_type\": \"\",\n        \"description\": \"\"\n      }\n    }\n  ]\n}",
              "type": "dataframe",
              "variable_name": "group_mean_result_aggregate"
            },
            "text/html": [
              "\n",
              "  <div id=\"df-94072f4b-2051-48df-a031-b712caeffdf8\" class=\"colab-df-container\">\n",
              "    <div>\n",
              "<style scoped>\n",
              "    .dataframe tbody tr th:only-of-type {\n",
              "        vertical-align: middle;\n",
              "    }\n",
              "\n",
              "    .dataframe tbody tr th {\n",
              "        vertical-align: top;\n",
              "    }\n",
              "\n",
              "    .dataframe thead th {\n",
              "        text-align: right;\n",
              "    }\n",
              "</style>\n",
              "<table border=\"1\" class=\"dataframe\">\n",
              "  <thead>\n",
              "    <tr style=\"text-align: right;\">\n",
              "      <th></th>\n",
              "      <th>communication_score_mean</th>\n",
              "      <th>util_flg_mean</th>\n",
              "    </tr>\n",
              "    <tr>\n",
              "      <th>group</th>\n",
              "      <th></th>\n",
              "      <th></th>\n",
              "    </tr>\n",
              "  </thead>\n",
              "  <tbody>\n",
              "    <tr>\n",
              "      <th>A</th>\n",
              "      <td>58.515679</td>\n",
              "      <td>75.231490</td>\n",
              "    </tr>\n",
              "    <tr>\n",
              "      <th>B</th>\n",
              "      <td>58.582821</td>\n",
              "      <td>75.247438</td>\n",
              "    </tr>\n",
              "  </tbody>\n",
              "</table>\n",
              "</div>\n",
              "    <div class=\"colab-df-buttons\">\n",
              "\n",
              "  <div class=\"colab-df-container\">\n",
              "    <button class=\"colab-df-convert\" onclick=\"convertToInteractive('df-94072f4b-2051-48df-a031-b712caeffdf8')\"\n",
              "            title=\"Convert this dataframe to an interactive table.\"\n",
              "            style=\"display:none;\">\n",
              "\n",
              "  <svg xmlns=\"http://www.w3.org/2000/svg\" height=\"24px\" viewBox=\"0 -960 960 960\">\n",
              "    <path d=\"M120-120v-720h720v720H120Zm60-500h600v-160H180v160Zm220 220h160v-160H400v160Zm0 220h160v-160H400v160ZM180-400h160v-160H180v160Zm440 0h160v-160H620v160ZM180-180h160v-160H180v160Zm440 0h160v-160H620v160Z\"/>\n",
              "  </svg>\n",
              "    </button>\n",
              "\n",
              "  <style>\n",
              "    .colab-df-container {\n",
              "      display:flex;\n",
              "      gap: 12px;\n",
              "    }\n",
              "\n",
              "    .colab-df-convert {\n",
              "      background-color: #E8F0FE;\n",
              "      border: none;\n",
              "      border-radius: 50%;\n",
              "      cursor: pointer;\n",
              "      display: none;\n",
              "      fill: #1967D2;\n",
              "      height: 32px;\n",
              "      padding: 0 0 0 0;\n",
              "      width: 32px;\n",
              "    }\n",
              "\n",
              "    .colab-df-convert:hover {\n",
              "      background-color: #E2EBFA;\n",
              "      box-shadow: 0px 1px 2px rgba(60, 64, 67, 0.3), 0px 1px 3px 1px rgba(60, 64, 67, 0.15);\n",
              "      fill: #174EA6;\n",
              "    }\n",
              "\n",
              "    .colab-df-buttons div {\n",
              "      margin-bottom: 4px;\n",
              "    }\n",
              "\n",
              "    [theme=dark] .colab-df-convert {\n",
              "      background-color: #3B4455;\n",
              "      fill: #D2E3FC;\n",
              "    }\n",
              "\n",
              "    [theme=dark] .colab-df-convert:hover {\n",
              "      background-color: #434B5C;\n",
              "      box-shadow: 0px 1px 3px 1px rgba(0, 0, 0, 0.15);\n",
              "      filter: drop-shadow(0px 1px 2px rgba(0, 0, 0, 0.3));\n",
              "      fill: #FFFFFF;\n",
              "    }\n",
              "  </style>\n",
              "\n",
              "    <script>\n",
              "      const buttonEl =\n",
              "        document.querySelector('#df-94072f4b-2051-48df-a031-b712caeffdf8 button.colab-df-convert');\n",
              "      buttonEl.style.display =\n",
              "        google.colab.kernel.accessAllowed ? 'block' : 'none';\n",
              "\n",
              "      async function convertToInteractive(key) {\n",
              "        const element = document.querySelector('#df-94072f4b-2051-48df-a031-b712caeffdf8');\n",
              "        const dataTable =\n",
              "          await google.colab.kernel.invokeFunction('convertToInteractive',\n",
              "                                                    [key], {});\n",
              "        if (!dataTable) return;\n",
              "\n",
              "        const docLinkHtml = 'Like what you see? Visit the ' +\n",
              "          '<a target=\"_blank\" href=https://colab.research.google.com/notebooks/data_table.ipynb>data table notebook</a>'\n",
              "          + ' to learn more about interactive tables.';\n",
              "        element.innerHTML = '';\n",
              "        dataTable['output_type'] = 'display_data';\n",
              "        await google.colab.output.renderOutput(dataTable, element);\n",
              "        const docLink = document.createElement('div');\n",
              "        docLink.innerHTML = docLinkHtml;\n",
              "        element.appendChild(docLink);\n",
              "      }\n",
              "    </script>\n",
              "  </div>\n",
              "\n",
              "\n",
              "<div id=\"df-867777d7-9484-428b-980a-7c88fedaf4f0\">\n",
              "  <button class=\"colab-df-quickchart\" onclick=\"quickchart('df-867777d7-9484-428b-980a-7c88fedaf4f0')\"\n",
              "            title=\"Suggest charts\"\n",
              "            style=\"display:none;\">\n",
              "\n",
              "<svg xmlns=\"http://www.w3.org/2000/svg\" height=\"24px\"viewBox=\"0 0 24 24\"\n",
              "     width=\"24px\">\n",
              "    <g>\n",
              "        <path d=\"M19 3H5c-1.1 0-2 .9-2 2v14c0 1.1.9 2 2 2h14c1.1 0 2-.9 2-2V5c0-1.1-.9-2-2-2zM9 17H7v-7h2v7zm4 0h-2V7h2v10zm4 0h-2v-4h2v4z\"/>\n",
              "    </g>\n",
              "</svg>\n",
              "  </button>\n",
              "\n",
              "<style>\n",
              "  .colab-df-quickchart {\n",
              "      --bg-color: #E8F0FE;\n",
              "      --fill-color: #1967D2;\n",
              "      --hover-bg-color: #E2EBFA;\n",
              "      --hover-fill-color: #174EA6;\n",
              "      --disabled-fill-color: #AAA;\n",
              "      --disabled-bg-color: #DDD;\n",
              "  }\n",
              "\n",
              "  [theme=dark] .colab-df-quickchart {\n",
              "      --bg-color: #3B4455;\n",
              "      --fill-color: #D2E3FC;\n",
              "      --hover-bg-color: #434B5C;\n",
              "      --hover-fill-color: #FFFFFF;\n",
              "      --disabled-bg-color: #3B4455;\n",
              "      --disabled-fill-color: #666;\n",
              "  }\n",
              "\n",
              "  .colab-df-quickchart {\n",
              "    background-color: var(--bg-color);\n",
              "    border: none;\n",
              "    border-radius: 50%;\n",
              "    cursor: pointer;\n",
              "    display: none;\n",
              "    fill: var(--fill-color);\n",
              "    height: 32px;\n",
              "    padding: 0;\n",
              "    width: 32px;\n",
              "  }\n",
              "\n",
              "  .colab-df-quickchart:hover {\n",
              "    background-color: var(--hover-bg-color);\n",
              "    box-shadow: 0 1px 2px rgba(60, 64, 67, 0.3), 0 1px 3px 1px rgba(60, 64, 67, 0.15);\n",
              "    fill: var(--button-hover-fill-color);\n",
              "  }\n",
              "\n",
              "  .colab-df-quickchart-complete:disabled,\n",
              "  .colab-df-quickchart-complete:disabled:hover {\n",
              "    background-color: var(--disabled-bg-color);\n",
              "    fill: var(--disabled-fill-color);\n",
              "    box-shadow: none;\n",
              "  }\n",
              "\n",
              "  .colab-df-spinner {\n",
              "    border: 2px solid var(--fill-color);\n",
              "    border-color: transparent;\n",
              "    border-bottom-color: var(--fill-color);\n",
              "    animation:\n",
              "      spin 1s steps(1) infinite;\n",
              "  }\n",
              "\n",
              "  @keyframes spin {\n",
              "    0% {\n",
              "      border-color: transparent;\n",
              "      border-bottom-color: var(--fill-color);\n",
              "      border-left-color: var(--fill-color);\n",
              "    }\n",
              "    20% {\n",
              "      border-color: transparent;\n",
              "      border-left-color: var(--fill-color);\n",
              "      border-top-color: var(--fill-color);\n",
              "    }\n",
              "    30% {\n",
              "      border-color: transparent;\n",
              "      border-left-color: var(--fill-color);\n",
              "      border-top-color: var(--fill-color);\n",
              "      border-right-color: var(--fill-color);\n",
              "    }\n",
              "    40% {\n",
              "      border-color: transparent;\n",
              "      border-right-color: var(--fill-color);\n",
              "      border-top-color: var(--fill-color);\n",
              "    }\n",
              "    60% {\n",
              "      border-color: transparent;\n",
              "      border-right-color: var(--fill-color);\n",
              "    }\n",
              "    80% {\n",
              "      border-color: transparent;\n",
              "      border-right-color: var(--fill-color);\n",
              "      border-bottom-color: var(--fill-color);\n",
              "    }\n",
              "    90% {\n",
              "      border-color: transparent;\n",
              "      border-bottom-color: var(--fill-color);\n",
              "    }\n",
              "  }\n",
              "</style>\n",
              "\n",
              "  <script>\n",
              "    async function quickchart(key) {\n",
              "      const quickchartButtonEl =\n",
              "        document.querySelector('#' + key + ' button');\n",
              "      quickchartButtonEl.disabled = true;  // To prevent multiple clicks.\n",
              "      quickchartButtonEl.classList.add('colab-df-spinner');\n",
              "      try {\n",
              "        const charts = await google.colab.kernel.invokeFunction(\n",
              "            'suggestCharts', [key], {});\n",
              "      } catch (error) {\n",
              "        console.error('Error during call to suggestCharts:', error);\n",
              "      }\n",
              "      quickchartButtonEl.classList.remove('colab-df-spinner');\n",
              "      quickchartButtonEl.classList.add('colab-df-quickchart-complete');\n",
              "    }\n",
              "    (() => {\n",
              "      let quickchartButtonEl =\n",
              "        document.querySelector('#df-867777d7-9484-428b-980a-7c88fedaf4f0 button');\n",
              "      quickchartButtonEl.style.display =\n",
              "        google.colab.kernel.accessAllowed ? 'block' : 'none';\n",
              "    })();\n",
              "  </script>\n",
              "</div>\n",
              "    </div>\n",
              "  </div>\n"
            ],
            "text/plain": [
              "       communication_score_mean  util_flg_mean\n",
              "group                                         \n",
              "A                     58.515679      75.231490\n",
              "B                     58.582821      75.247438"
            ]
          },
          "execution_count": 48,
          "metadata": {},
          "output_type": "execute_result"
        }
      ],
      "source": [
        "#средняя эффективность работников по группам А и B\n",
        "group_mean_result_aggregate = df_empoyees_agg.groupby('group')[['communication_score_mean', 'util_flg_mean']].mean()\n",
        "#приведем метрики к одному масштабу\n",
        "group_mean_result_aggregate['util_flg_mean'] = group_mean_result_aggregate['util_flg_mean'] * 100\n",
        "group_mean_result_aggregate"
      ]
    },
    {
      "cell_type": "markdown",
      "metadata": {
        "id": "jG_o-HNMRjh5"
      },
      "source": [
        "## 1. Формулируем гипотезу\n",
        "### В основе любого A/B теста лежит проблема (ситуация), которую нам надо решить (разрешить) или некое поведение пользователя, которое нам нужно изменить или, наоборот, закрепить. Выявив проблему, продакт менеджер формулирует гипотезу — предположение, которое либо подтверждается, либо опровергается в результате эксперимента.\n",
        "\n",
        "### Для правильной оценки результатов выделяют два типа гипотез:\n",
        "\n",
        "### Нулевая. Изменения ни к чему не приведут, конверсия остается прежней (задача — опровергнуть гипотезу).\n",
        "\n",
        "### Альтернативная. Изменения приведут к повышению метрики конверсии на 5% или более или качеству общения с клиентами на 5%![MDE.png](data:image/png;base64,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![MDE_min.png](data:image/png;base64,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)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)% или более."
      ]
    },
    {
      "cell_type": "markdown",
      "metadata": {
        "id": "x1RwZ56wUARJ"
      },
      "source": [
        "## 2. Выбираем целевую, прокси и контр-метрики.\n",
        "### - Целевая метрика - конверсия.\n",
        "######Целевая метрика — метрика, на которую вы намерены позитивно повлиять.\n",
        "### - Прокси метрика - качество разговоров.\n",
        "#####Прокси метрика — это косвенная мера целевой метрики, с которой она сильно коррелирует.\n",
        "### - Контр метрики - количество рабочих часов сотрудников для работы с клиентами, а также количество времени, потраченное на одного клиента.\n",
        "#####Контр метрики — те метрики, которые вы можете подвергнуть падению в вашем АВ тесте."
      ]
    },
    {
      "cell_type": "markdown",
      "metadata": {
        "id": "rpj_S8Irbxe9"
      },
      "source": [
        "## 3. Способ тестирования гипотезы.\n",
        "### Сотрудники из выборки А обучаются в прежнем режиме, сотрудники из выборки Б проходят курсы с соответствие с новой системой рекомендаций."
      ]
    },
    {
      "cell_type": "markdown",
      "metadata": {
        "id": "yGeGwguOeZg-"
      },
      "source": [
        "## 4. Определяем допустимый уровень значимости\n",
        "###Допустимый уровень значимости (α - Альфа) - это вероятность того, что мы ошибочно отклоняем нулевую гипотезу, то есть гипотезу о том, что между двумя группами не существует статистически значимых различий. Обычно допустимый уровень значимости для А/В тестирования составляет 0,05 (или 5%). Это означает, что если у нас есть статистически значимый результат с уровнем значимости 0,05, то вероятность того, что мы сделали ошибку и нулевая гипотеза на самом деле верна, составляет 5%.\n",
        "\n"
      ]
    },
    {
      "cell_type": "markdown",
      "metadata": {
        "id": "ycC_CFYXfCLC"
      },
      "source": [
        "## 5.Считаем Minimum Detectable Effect\n",
        "### MDE (Minimum Detectable Effect) - это минимальный обнаруживаемый эффект, т.е. минимальное изменение метрики, которое вы сможете обнаружить с заданной вероятностью и статистической значимостью в А/В тесте.\n",
        "\n",
        "## При текущем размере выборки - 2381 человек - минимально обнаруживаемый эффект составляет около 5%. Расчет можно произвести в онлайн калькуляторе ниже. В противном случае резко возрастает продолжительность АБ теста."
      ]
    },
    {
      "cell_type": "code",
      "execution_count": null,
      "metadata": {
        "colab": {
          "base_uri": "https://localhost:8080/",
          "height": 35
        },
        "id": "qqe4Iap_jAO3",
        "outputId": "2d584f67-615b-4455-9c81-15d7ae7edb84"
      },
      "outputs": [
        {
          "data": {
            "application/vnd.google.colaboratory.intrinsic+json": {
              "type": "string"
            },
            "text/plain": [
              "'https://www.evanmiller.org/ab-testing/sample-size.html'"
            ]
          },
          "execution_count": 49,
          "metadata": {},
          "output_type": "execute_result"
        }
      ],
      "source": [
        "#Сайт для расчета выборки\n",
        "'https://www.evanmiller.org/ab-testing/sample-size.html'"
      ]
    },
    {
      "cell_type": "markdown",
      "metadata": {
        "id": "ZOpTZzaiiG_N"
      },
      "source": [
        "## Примем мощность АB теста 0.8 (вероятность увидеть различия там, где они действительно есть), p_value 0.05 и исходя их этого вычислим минимальное количество наблюдений для теста по методу Хи квадрат."
      ]
    },
    {
      "cell_type": "code",
      "execution_count": null,
      "metadata": {
        "id": "1GStHDu6FNmu"
      },
      "outputs": [],
      "source": [
        "#параментры расчета продолжительности теста\n",
        "power = 0.8\n",
        "pval = 0.05\n",
        "group_count = 1180"
      ]
    },
    {
      "cell_type": "code",
      "execution_count": null,
      "metadata": {
        "id": "gwi4xrnaFm-K"
      },
      "outputs": [],
      "source": [
        "#Воспользуемся критирием Хи квадрат\n",
        "import statsmodels.stats.power as smp\n",
        "chipower = smp.GofChisquarePower()"
      ]
    },
    {
      "cell_type": "code",
      "execution_count": null,
      "metadata": {
        "id": "VDYF_XzXUygH"
      },
      "outputs": [],
      "source": [
        "#ф-ция расчета параметра effect_size для ф-ции chipower.solve_power(), где p0 - метрика контрольной группы, а р1 - тестовой\n",
        "def chi2_effect_size(p0:float, p1:float):\n",
        "    return np.sqrt((p0 - p1)**2/p0)"
      ]
    },
    {
      "cell_type": "code",
      "execution_count": null,
      "metadata": {
        "id": "_jWBnSHNWjE2"
      },
      "outputs": [],
      "source": [
        "# средние метрики по коммуникации\n",
        "p0_communication_score_mean, p1_communication_score_mean = group_mean_result_aggregate['communication_score_mean'].values\n",
        "# средние метрики по коммуникации\n",
        "p0_util_flg_mean, p1_util_flg_mean = group_mean_result_aggregate['util_flg_mean'].values"
      ]
    },
    {
      "cell_type": "code",
      "execution_count": null,
      "metadata": {
        "colab": {
          "base_uri": "https://localhost:8080/"
        },
        "id": "_N_hGAAwGMZL",
        "outputId": "7c1c4898-04c2-4779-a890-3b11cbbc9ff4"
      },
      "outputs": [
        {
          "data": {
            "text/plain": [
              "101882"
            ]
          },
          "execution_count": 54,
          "metadata": {},
          "output_type": "execute_result"
        }
      ],
      "source": [
        "# найдем число наблюдений для определения изменения уровня коммуникации\n",
        "count_nobs_for_communication = round(chipower.solve_power(effect_size =chi2_effect_size(p0_communication_score_mean, p1_communication_score_mean), nobs=None, alpha = pval, power=power))\n",
        "count_nobs_for_communication"
      ]
    },
    {
      "cell_type": "code",
      "execution_count": null,
      "metadata": {
        "colab": {
          "base_uri": "https://localhost:8080/"
        },
        "id": "8L3koVOyX19V",
        "outputId": "21ac0f8c-a916-44b7-9c51-cd73cb77828f"
      },
      "outputs": [
        {
          "data": {
            "text/plain": [
              "2321528"
            ]
          },
          "execution_count": 55,
          "metadata": {},
          "output_type": "execute_result"
        }
      ],
      "source": [
        "# найдем число наблюдений для определения изменения уровня конверсии\n",
        "count_nob_sutil_flg_mean = round(chipower.solve_power(effect_size =chi2_effect_size(p0_util_flg_mean, p1_util_flg_mean), nobs=None, alpha = pval, power=power))\n",
        "count_nob_sutil_flg_mean"
      ]
    },
    {
      "cell_type": "markdown",
      "metadata": {
        "id": "OKoBU5r5TrNE"
      },
      "source": [
        "### Т.к. среднее количество коммуникаций за день на сотрудника - 10, в группах по 1180 человек, то исходя из расчитанных параметров count_nobs_for_communication (число наблюдений по коммуникациям) и count_nob_sutil_flg_mean (числов наблюдений для конверции) получаем:"
      ]
    },
    {
      "cell_type": "code",
      "execution_count": null,
      "metadata": {
        "colab": {
          "base_uri": "https://localhost:8080/"
        },
        "id": "zSMThWSDaCxn",
        "outputId": "cfde95e1-ba52-4c2f-a0ef-1e5aadac28da"
      },
      "outputs": [
        {
          "data": {
            "text/plain": [
              "17"
            ]
          },
          "execution_count": 56,
          "metadata": {},
          "output_type": "execute_result"
        }
      ],
      "source": [
        "#минимальное число дней для АБ теста по уровню коммуникаций\n",
        "AB_test_days_for_communication = round(count_nobs_for_communication*2/group_count/nobs_per_emp)\n",
        "# т.к. групп 2, умножаем число наблюдений на 2 выше\n",
        "AB_test_days_for_communication"
      ]
    },
    {
      "cell_type": "code",
      "execution_count": null,
      "metadata": {
        "colab": {
          "base_uri": "https://localhost:8080/"
        },
        "id": "IO68kgc4ayGi",
        "outputId": "32947331-a970-4dbf-ff7d-3f86950cac66"
      },
      "outputs": [
        {
          "data": {
            "text/plain": [
              "393"
            ]
          },
          "execution_count": 57,
          "metadata": {},
          "output_type": "execute_result"
        }
      ],
      "source": [
        "#минимальное число дней для АБ теста по уровню конверсии\n",
        "AB_test_days_for_util_flg_mean = round(count_nob_sutil_flg_mean*2/group_count/nobs_per_emp)\n",
        "# т.к. групп 2, умножаем число наблюдений на 2 выше\n",
        "AB_test_days_for_util_flg_mean"
      ]
    },
    {
      "cell_type": "markdown",
      "metadata": {
        "id": "DVy5CNt3gyTp"
      },
      "source": [
        "## 6.Определяем продолжительность тестирования.\n",
        "## Для получения достоверных результатов по уровню коммуникации рекомендуется проводить тестирование минимум 17 дней, для определения уровня разности по конверсии - 393 дня."
      ]
    },
    {
      "cell_type": "markdown",
      "metadata": {
        "id": "WAdw4wkkT2nF"
      },
      "source": [
        "## 7. Определяем сегмент АВ теста"
      ]
    },
    {
      "cell_type": "markdown",
      "metadata": {
        "id": "OxFNYC4rVVm0"
      },
      "source": [
        "## В нашем исследовании принимают участие 2381 сотрудник."
      ]
    },
    {
      "cell_type": "markdown",
      "metadata": {
        "id": "E0Y6fpvaiQth"
      },
      "source": [
        "## Пусть А - контрольная группа, B - тестовая группа."
      ]
    },
    {
      "cell_type": "markdown",
      "metadata": {
        "id": "uZTFxMzx-9j7"
      },
      "source": [
        "## Проверим распределения группы А и группы Б."
      ]
    },
    {
      "cell_type": "markdown",
      "metadata": {
        "id": "VFgxb3WliAzP"
      },
      "source": [
        "## Сравним выборки по возрасту"
      ]
    },
    {
      "cell_type": "code",
      "execution_count": null,
      "metadata": {
        "colab": {
          "base_uri": "https://localhost:8080/",
          "height": 450
        },
        "id": "RkAuWsc2EoJY",
        "outputId": "02260681-f49c-4ed4-a708-ae7ca49401d4"
      },
      "outputs": [
        {
          "data": {
            "text/plain": [
              "Text(0.5, 1.0, 'Boxplot: возраст в группах А и Б')"
            ]
          },
          "execution_count": 58,
          "metadata": {},
          "output_type": "execute_result"
        },
        {
          "data": {
            "image/png": "[encoded data removed]",
            "text/plain": [
              "<Figure size 640x480 with 1 Axes>"
            ]
          },
          "metadata": {},
          "output_type": "display_data"
        }
      ],
      "source": [
        "sns.boxplot(data=df_empoyees_agg, hue='group', y='age');\n",
        "plt.title(\"Boxplot: возраст в группах А и Б\")"
      ]
    },
    {
      "cell_type": "code",
      "execution_count": null,
      "metadata": {
        "colab": {
          "base_uri": "https://localhost:8080/",
          "height": 472
        },
        "id": "2PCkyoZwiSwY",
        "outputId": "aecec2c1-9821-4191-cda2-66fc658800ac"
      },
      "outputs": [
        {
          "data": {
            "image/png": "[encoded data removed]",
            "text/plain": [
              "<Figure size 640x480 with 1 Axes>"
            ]
          },
          "metadata": {},
          "output_type": "display_data"
        }
      ],
      "source": [
        "sns.histplot(data=df_empoyees_agg, hue='group', x='age', bins=50);\n",
        "plt.title(\"Гистограмма - возраст в группах А и Б\");"
      ]
    },
    {
      "cell_type": "code",
      "execution_count": null,
      "metadata": {
        "colab": {
          "base_uri": "https://localhost:8080/",
          "height": 472
        },
        "id": "2i3g0Htxj_eV",
        "outputId": "5d7c9604-e5f9-4bdc-f8cc-047ed4747c1e"
      },
      "outputs": [
        {
          "data": {
            "image/png": "[encoded data removed]",
            "text/plain": [
              "<Figure size 640x480 with 1 Axes>"
            ]
          },
          "metadata": {},
          "output_type": "display_data"
        }
      ],
      "source": [
        "sns.kdeplot(x='age', data=df_empoyees_agg, hue='group', common_norm=False);\n",
        "plt.title(\"Kernel Density Function - возраст в группах А и Б\");"
      ]
    },
    {
      "cell_type": "markdown",
      "metadata": {
        "id": "Dn2PesIMjS5n"
      },
      "source": [
        "## Сравним выборки по опыту работы"
      ]
    },
    {
      "cell_type": "code",
      "execution_count": null,
      "metadata": {
        "colab": {
          "base_uri": "https://localhost:8080/",
          "height": 450
        },
        "id": "-tVrN1ymFZIA",
        "outputId": "83bed38d-3227-49b4-9791-b3c1625d6737"
      },
      "outputs": [
        {
          "data": {
            "text/plain": [
              "Text(0.5, 1.0, 'Boxplot: опыт в группах А и Б')"
            ]
          },
          "execution_count": 61,
          "metadata": {},
          "output_type": "execute_result"
        },
        {
          "data": {
            "image/png": "[encoded data removed]",
            "text/plain": [
              "<Figure size 640x480 with 1 Axes>"
            ]
          },
          "metadata": {},
          "output_type": "display_data"
        }
      ],
      "source": [
        "sns.boxplot(data=df_empoyees_agg, hue='group', y='exp_days');\n",
        "plt.title(\"Boxplot: опыт в группах А и Б\")"
      ]
    },
    {
      "cell_type": "code",
      "execution_count": null,
      "metadata": {
        "colab": {
          "base_uri": "https://localhost:8080/",
          "height": 472
        },
        "id": "HOXcb9l1FjCC",
        "outputId": "bdc0e59e-9778-46e4-be88-aed712e90e36"
      },
      "outputs": [
        {
          "data": {
            "image/png": "[encoded data removed]",
            "text/plain": [
              "<Figure size 640x480 with 1 Axes>"
            ]
          },
          "metadata": {},
          "output_type": "display_data"
        }
      ],
      "source": [
        "sns.histplot(data=df_empoyees_agg, hue='group', x='exp_days', bins=50);\n",
        "plt.title(\"Гистограмма - возраст в группах А и Б\");"
      ]
    },
    {
      "cell_type": "code",
      "execution_count": null,
      "metadata": {
        "colab": {
          "base_uri": "https://localhost:8080/",
          "height": 472
        },
        "id": "rDXiQKJekhOE",
        "outputId": "155115fb-8e82-43a0-d373-7f9f5ac17477"
      },
      "outputs": [
        {
          "data": {
            "image/png": "[encoded data removed]",
            "text/plain": [
              "<Figure size 640x480 with 1 Axes>"
            ]
          },
          "metadata": {},
          "output_type": "display_data"
        }
      ],
      "source": [
        "sns.kdeplot(x='exp_days', data=df_empoyees_agg, hue='group', common_norm=False);\n",
        "plt.title(\"Kernel Density Function - возраст в группах А и Б\");"
      ]
    },
    {
      "cell_type": "markdown",
      "metadata": {
        "id": "3DgEJjnwlP_d"
      },
      "source": [
        "## Сравним распределение выборок А и Б по полу"
      ]
    },
    {
      "cell_type": "code",
      "execution_count": null,
      "metadata": {
        "colab": {
          "base_uri": "https://localhost:8080/",
          "height": 466
        },
        "id": "YJPZwIrRlZMn",
        "outputId": "79578fd7-2963-4956-d37d-6697ffbc411a"
      },
      "outputs": [
        {
          "data": {
            "text/plain": [
              "<Axes: xlabel='sex', ylabel='count'>"
            ]
          },
          "execution_count": 64,
          "metadata": {},
          "output_type": "execute_result"
        },
        {
          "data": {
            "image/png": "[encoded data removed]",
            "text/plain": [
              "<Figure size 640x480 with 1 Axes>"
            ]
          },
          "metadata": {},
          "output_type": "display_data"
        }
      ],
      "source": [
        "sns.countplot(x ='sex', data=df_empoyees_agg, hue='group')"
      ]
    },
    {
      "cell_type": "markdown",
      "metadata": {
        "id": "4qkCflPRpYBF"
      },
      "source": [
        "## Сравним распределение выборок А и Б по региону"
      ]
    },
    {
      "cell_type": "code",
      "execution_count": null,
      "metadata": {
        "colab": {
          "base_uri": "https://localhost:8080/",
          "height": 466
        },
        "id": "N60HAsfYpg_y",
        "outputId": "fad5ae17-86c7-447b-aa23-534eae932c09"
      },
      "outputs": [
        {
          "data": {
            "text/plain": [
              "<Axes: xlabel='region', ylabel='count'>"
            ]
          },
          "execution_count": 65,
          "metadata": {},
          "output_type": "execute_result"
        },
        {
          "data": {
            "image/png": "[encoded data removed]",
            "text/plain": [
              "<Figure size 640x480 with 1 Axes>"
            ]
          },
          "metadata": {},
          "output_type": "display_data"
        }
      ],
      "source": [
        "sns.countplot(x ='region', data=df_empoyees_agg, hue='group')"
      ]
    },
    {
      "cell_type": "markdown",
      "metadata": {
        "id": "2OjQdI-qp7O1"
      },
      "source": [
        "## Сравним распределение выборок А и Б по департаменту"
      ]
    },
    {
      "cell_type": "code",
      "execution_count": null,
      "metadata": {
        "colab": {
          "base_uri": "https://localhost:8080/",
          "height": 467
        },
        "id": "7IHH7MN7qCdB",
        "outputId": "d9f4d794-0d4d-41a7-cba2-d7d2ded06b69"
      },
      "outputs": [
        {
          "data": {
            "text/plain": [
              "<Axes: xlabel='department_id', ylabel='count'>"
            ]
          },
          "execution_count": 66,
          "metadata": {},
          "output_type": "execute_result"
        },
        {
          "data": {
            "image/png": "[encoded data removed]",
            "text/plain": [
              "<Figure size 640x480 with 1 Axes>"
            ]
          },
          "metadata": {},
          "output_type": "display_data"
        }
      ],
      "source": [
        "sns.countplot(x ='department_id', data=df_empoyees_agg, hue='group')"
      ]
    },
    {
      "cell_type": "markdown",
      "metadata": {
        "id": "DAxv1RvAqL--"
      },
      "source": [
        "## Сравним распределение выборок А и Б по образованию"
      ]
    },
    {
      "cell_type": "code",
      "execution_count": null,
      "metadata": {
        "colab": {
          "base_uri": "https://localhost:8080/",
          "height": 467
        },
        "id": "G5BmOX8VqPkI",
        "outputId": "595f5040-9648-4bce-cdf2-aa00ba5c8959"
      },
      "outputs": [
        {
          "data": {
            "text/plain": [
              "<Axes: xlabel='edu_degree', ylabel='count'>"
            ]
          },
          "execution_count": 67,
          "metadata": {},
          "output_type": "execute_result"
        },
        {
          "data": {
            "image/png": "[encoded data removed]",
            "text/plain": [
              "<Figure size 640x480 with 1 Axes>"
            ]
          },
          "metadata": {},
          "output_type": "display_data"
        }
      ],
      "source": [
        "sns.countplot(x ='edu_degree', data=df_empoyees_agg, hue='group')"
      ]
    },
    {
      "cell_type": "markdown",
      "metadata": {
        "id": "Ny78o6Boq0nC"
      },
      "source": [
        "## Сравним распределение выборок А и Б по форматы работы: (офис, удаленно)"
      ]
    },
    {
      "cell_type": "code",
      "execution_count": null,
      "metadata": {
        "colab": {
          "base_uri": "https://localhost:8080/",
          "height": 467
        },
        "id": "UwilTzqLq7DO",
        "outputId": "cb8d2161-6cdb-4678-bcbe-201625a06ac4"
      },
      "outputs": [
        {
          "data": {
            "text/plain": [
              "<Axes: xlabel='work_online_flg', ylabel='count'>"
            ]
          },
          "execution_count": 68,
          "metadata": {},
          "output_type": "execute_result"
        },
        {
          "data": {
            "image/png": "[encoded data removed]",
            "text/plain": [
              "<Figure size 640x480 with 1 Axes>"
            ]
          },
          "metadata": {},
          "output_type": "display_data"
        }
      ],
      "source": [
        "sns.countplot(x ='work_online_flg', data=df_empoyees_agg, hue='group')"
      ]
    },
    {
      "cell_type": "markdown",
      "metadata": {
        "id": "zbrISk9nwZoA"
      },
      "source": [
        "## U-критерий Манна — Уитни\n",
        "U-критерий Манна — Уитни, который сравнивает медиану двух распределений. В частности, нулевая гипотеза для этого теста состоит в том, что две группы имеют одинаковое распределение, тогда как альтернативная гипотеза — в том, что одна группа имеет большие (или меньшие) значения, чем другая.\n",
        "U-критерий Манна — Уитни не зависит от выбросов и концентрируется на центре распределения.\n",
        "\n",
        "И вот процедура расчёта критерия:\n",
        "\n",
        "Объедините все точки данных и ранжируйте их в порядке возрастания или убывания.\n",
        "\n",
        "Вычислите U₁ = R₁ − n₁(n₁ + 1)/2, где R₁ — сумма рангов точек данных в первой группе, а n₁ — количество точек в первой группе.\n",
        "\n",
        "Аналогично вычислите U₂ для второй группы.\n",
        "\n",
        "Тестовая статистика рассчитывается как stat = min(U₁, U₂).\n",
        "\n",
        "При нулевой гипотезе об отсутствии систематических ранговых различий между двумя распределениями (т. е. об одинаковой медиане) тестовая статистика имеет асимптотическое нормальное распределение с известным средним значением и дисперсией.\n",
        "\n",
        "Логика за вычислением R и U такова: если все значения в первой выборке больше, чем значения во второй выборке, то R₁ = n₁(n₁ + 1)/2 и, как следствие, U₁ будет тогда равным нулю (минимально достижимое значение). В противном случае, если бы две выборки были похожи, U₁ и U₂ были бы очень близки к n₁ n₂/2 (максимально достижимое значение).\n",
        "\n",
        "Мы проводим тест при помощи mannwhitneyu из scipy:"
      ]
    },
    {
      "cell_type": "markdown",
      "metadata": {
        "id": "huabtOo_xdJS"
      },
      "source": [
        "## U-критерий Манна — Уитни: возраст групп А и Б"
      ]
    },
    {
      "cell_type": "code",
      "execution_count": null,
      "metadata": {
        "colab": {
          "base_uri": "https://localhost:8080/"
        },
        "id": "tS6OtW_Fw5yg",
        "outputId": "d047b114-40cb-479e-e402-8e7fda6c9714"
      },
      "outputs": [
        {
          "name": "stdout",
          "output_type": "stream",
          "text": [
            " Mann–Whitney U Test: statistic=717361.5000, p-value=0.5774\n"
          ]
        }
      ],
      "source": [
        "from scipy.stats import mannwhitneyu\n",
        "\n",
        "age_A = df_empoyees_agg['age'].loc[df_empoyees_agg['group'] == 'A']\n",
        "age_B = df_empoyees_agg['age'].loc[df_empoyees_agg['group'] == 'B']\n",
        "stat, p_value = mannwhitneyu(age_A, age_B)\n",
        "\n",
        "print(f\" Mann–Whitney U Test: statistic={stat:.4f}, p-value={p_value:.4f}\")"
      ]
    },
    {
      "cell_type": "markdown",
      "metadata": {
        "id": "e2eUtJNGxTlX"
      },
      "source": [
        "### p-значение составляет 0.58, поэтому не отвергаем нулевую гипотезу об отсутствии различий в средних значениях в обеих группах."
      ]
    },
    {
      "cell_type": "markdown",
      "metadata": {
        "id": "T0UblXQhxjXm"
      },
      "source": [
        "## U-критерий Манна — Уитни: опыт работы групп А и Б"
      ]
    },
    {
      "cell_type": "code",
      "execution_count": null,
      "metadata": {
        "colab": {
          "base_uri": "https://localhost:8080/"
        },
        "id": "dSgLGcIxxqvR",
        "outputId": "f674856f-86a0-44e1-bcb4-c03a5441ba45"
      },
      "outputs": [
        {
          "name": "stdout",
          "output_type": "stream",
          "text": [
            " Mann–Whitney U Test: statistic=719101.5000, p-value=0.5090\n"
          ]
        }
      ],
      "source": [
        "from scipy.stats import mannwhitneyu\n",
        "\n",
        "exp_A = df_empoyees_agg['exp_days'].loc[df_empoyees_agg['group'] == 'A']\n",
        "exp_B = df_empoyees_agg['exp_days'].loc[df_empoyees_agg['group'] == 'B']\n",
        "stat, p_value = mannwhitneyu(exp_A, exp_B)\n",
        "\n",
        "print(f\" Mann–Whitney U Test: statistic={stat:.4f}, p-value={p_value:.4f}\")"
      ]
    },
    {
      "cell_type": "markdown",
      "metadata": {
        "id": "5mfhReWfx2WB"
      },
      "source": [
        "### p-значение составляет 0.51, поэтому не отвергаем нулевую гипотезу об отсутствии различий в средних значениях в обеих группах."
      ]
    },
    {
      "cell_type": "markdown",
      "metadata": {
        "id": "NT0mm9597k2N"
      },
      "source": [
        "## Для определения гомогенности категориальных переменных групп А и B используем тест Хи Квадрат"
      ]
    },
    {
      "cell_type": "markdown",
      "metadata": {
        "id": "u1MjjjVX-0dL"
      },
      "source": [
        "### Тест на гомогенность (test of homogeneity, он же goodness of fit) — непараметрический, одновыборочный тест, который проверяет соответствие наблюдаемого распределения категориальной случайной величины некоторому эталонному распределению. В Python реализован функцией scipy.stats.chisquare."
      ]
    },
    {
      "cell_type": "markdown",
      "metadata": {
        "id": "x1kvivwd-FzF"
      },
      "source": [
        "## Хи Квадрат: гендерный состав групп А и B"
      ]
    },
    {
      "cell_type": "markdown",
      "metadata": {
        "id": "y-ALNgiDKmaq"
      },
      "source": [
        "### Гендерный состав группы А и генеральной совокупности"
      ]
    },
    {
      "cell_type": "code",
      "execution_count": null,
      "metadata": {
        "colab": {
          "base_uri": "https://localhost:8080/"
        },
        "id": "7dk9xi3p70KM",
        "outputId": "487022d2-6077-4565-e21f-28dd0b7657ad"
      },
      "outputs": [
        {
          "name": "stdout",
          "output_type": "stream",
          "text": [
            "Chi-squared Test: statistic=0.0000, p-value=0.9978\n"
          ]
        }
      ],
      "source": [
        "from scipy.stats import chisquare\n",
        "\n",
        "sex_A = df_empoyees_agg['sex'].loc[df_empoyees_agg['group'] == 'A'].value_counts(normalize=True)\n",
        "sex_gen = df_empoyees_agg['sex'].value_counts(normalize=True)\n",
        "\n",
        "stat, p_value = chisquare(sex_A, sex_gen)\n",
        "print(f\"Chi-squared Test: statistic={stat:.4f}, p-value={p_value:.4f}\")"
      ]
    },
    {
      "cell_type": "markdown",
      "metadata": {
        "id": "ayJrCgJK-QB5"
      },
      "source": [
        "### p-значение составляет 0.99, поэтому не отвергаем нулевую гипотезу об отсутствии различий в средних значениях в группе А и генеральной совокупности."
      ]
    },
    {
      "cell_type": "markdown",
      "metadata": {
        "id": "-XcSFVPmKxCb"
      },
      "source": [
        "### Гендерный состав группы B и генеральной совокупности\n",
        "\n"
      ]
    },
    {
      "cell_type": "code",
      "execution_count": null,
      "metadata": {
        "colab": {
          "base_uri": "https://localhost:8080/"
        },
        "id": "RYWSnVvgLBAA",
        "outputId": "830d9190-dbd6-4322-cf75-c0a806ae7811"
      },
      "outputs": [
        {
          "name": "stdout",
          "output_type": "stream",
          "text": [
            "Chi-squared Test: statistic=0.0000, p-value=0.9978\n"
          ]
        }
      ],
      "source": [
        "from scipy.stats import chisquare\n",
        "\n",
        "sex_B = df_empoyees_agg['sex'].loc[df_empoyees_agg['group'] == 'B'].value_counts(normalize=True)\n",
        "sex_gen = df_empoyees_agg['sex'].value_counts(normalize=True)\n",
        "\n",
        "stat, p_value = chisquare(sex_B, sex_gen)\n",
        "print(f\"Chi-squared Test: statistic={stat:.4f}, p-value={p_value:.4f}\")"
      ]
    },
    {
      "cell_type": "markdown",
      "metadata": {
        "id": "OP7ipcboLT85"
      },
      "source": [
        "### p-значение составляет 0.99, поэтому не отвергаем нулевую гипотезу об отсутствии различий в средних значениях в группе А и генеральной совокупности."
      ]
    },
    {
      "cell_type": "markdown",
      "metadata": {
        "id": "L0hQ-bfHKbyD"
      },
      "source": [
        "## Хи Квадрат: региональный состав групп А и B"
      ]
    },
    {
      "cell_type": "markdown",
      "metadata": {
        "id": "3NyK-4abLrxr"
      },
      "source": [
        "### Региональный состав группы А и генеральной совокупности"
      ]
    },
    {
      "cell_type": "code",
      "execution_count": null,
      "metadata": {
        "colab": {
          "base_uri": "https://localhost:8080/"
        },
        "id": "G274cHNjLbHN",
        "outputId": "a22f776d-6abf-43f5-c40d-ba8ac9b93fd9"
      },
      "outputs": [
        {
          "name": "stdout",
          "output_type": "stream",
          "text": [
            "Chi-squared Test: statistic=0.0050, p-value=1.0000\n"
          ]
        }
      ],
      "source": [
        "from scipy.stats import chisquare\n",
        "\n",
        "region_A = df_empoyees_agg['region'].loc[df_empoyees_agg['group'] == 'A'].value_counts(normalize=True)\n",
        "region_gen = df_empoyees_agg['region'].value_counts(normalize=True)\n",
        "\n",
        "stat, p_value = chisquare(region_A, region_gen)\n",
        "print(f\"Chi-squared Test: statistic={stat:.4f}, p-value={p_value:.4f}\")"
      ]
    },
    {
      "cell_type": "markdown",
      "metadata": {
        "id": "nQxJXpzaLjwf"
      },
      "source": [
        "### p-значение составляет 1, поэтому не отвергаем нулевую гипотезу об отсутствии различий в средних значениях в группе А и генеральной совокупности."
      ]
    },
    {
      "cell_type": "markdown",
      "metadata": {
        "id": "IXR2ccx1LxBj"
      },
      "source": [
        "### Региональный состав группы B и генеральной совокупности\n",
        "\n",
        "\n"
      ]
    },
    {
      "cell_type": "code",
      "execution_count": null,
      "metadata": {
        "colab": {
          "base_uri": "https://localhost:8080/"
        },
        "id": "g5O2EkDELbI8",
        "outputId": "0ad26782-bb88-4283-9940-5d78f3fb8395"
      },
      "outputs": [
        {
          "name": "stdout",
          "output_type": "stream",
          "text": [
            "Chi-squared Test: statistic=0.0038, p-value=1.0000\n"
          ]
        }
      ],
      "source": [
        "from scipy.stats import chisquare\n",
        "\n",
        "region_B = df_empoyees_agg['region'].loc[df_empoyees_agg['group'] == 'B'].value_counts(normalize=True)\n",
        "region_gen = df_empoyees_agg['region'].value_counts(normalize=True)\n",
        "\n",
        "stat, p_value = chisquare(region_B, region_gen)\n",
        "print(f\"Chi-squared Test: statistic={stat:.4f}, p-value={p_value:.4f}\")"
      ]
    },
    {
      "cell_type": "markdown",
      "metadata": {
        "id": "6WDXsxdxMH3s"
      },
      "source": [
        "### p-значение составляет 1, поэтому не отвергаем нулевую гипотезу об отсутствии различий в средних значениях в группе B и генеральной совокупности."
      ]
    },
    {
      "cell_type": "markdown",
      "metadata": {
        "id": "K30Ml-kQMbF0"
      },
      "source": [
        "## Хи Квадрат: уровень образования групп А и B"
      ]
    },
    {
      "cell_type": "markdown",
      "metadata": {
        "id": "P4P6ORCMMprd"
      },
      "source": [
        "### Уровень образования группы А и генеральной совокупности"
      ]
    },
    {
      "cell_type": "code",
      "execution_count": null,
      "metadata": {
        "colab": {
          "base_uri": "https://localhost:8080/"
        },
        "id": "aLDePq6wMveN",
        "outputId": "cff52318-7e7c-48e9-9160-a4f452ca852c"
      },
      "outputs": [
        {
          "name": "stdout",
          "output_type": "stream",
          "text": [
            "Chi-squared Test: statistic=0.0003, p-value=0.9998\n"
          ]
        }
      ],
      "source": [
        "from scipy.stats import chisquare\n",
        "\n",
        "edu_A = df_empoyees_agg['edu_degree'].loc[df_empoyees_agg['group'] == 'A'].value_counts(normalize=True)\n",
        "edu_gen = df_empoyees_agg['edu_degree'].value_counts(normalize=True)\n",
        "\n",
        "stat, p_value = chisquare(edu_A, edu_gen)\n",
        "print(f\"Chi-squared Test: statistic={stat:.4f}, p-value={p_value:.4f}\")"
      ]
    },
    {
      "cell_type": "markdown",
      "metadata": {
        "id": "M_o_WKY4NeAW"
      },
      "source": [
        "### p-значение составляет 0.99, поэтому не отвергаем нулевую гипотезу об отсутствии различий в средних значениях в группе A и генеральной совокупности."
      ]
    },
    {
      "cell_type": "markdown",
      "metadata": {
        "id": "Q7D3OT2PNoAe"
      },
      "source": [
        "### Уровень образования группы B и генеральной совокупности"
      ]
    },
    {
      "cell_type": "code",
      "execution_count": null,
      "metadata": {
        "colab": {
          "base_uri": "https://localhost:8080/"
        },
        "id": "0mnrHtRYNsRt",
        "outputId": "1ef905f2-44ca-4df4-bc4e-d2d2d472fa8f"
      },
      "outputs": [
        {
          "name": "stdout",
          "output_type": "stream",
          "text": [
            "Chi-squared Test: statistic=0.0003, p-value=0.9998\n"
          ]
        }
      ],
      "source": [
        "from scipy.stats import chisquare\n",
        "\n",
        "edu_B = df_empoyees_agg['edu_degree'].loc[df_empoyees_agg['group'] == 'B'].value_counts(normalize=True)\n",
        "edu_gen = df_empoyees_agg['edu_degree'].value_counts(normalize=True)\n",
        "\n",
        "stat, p_value = chisquare(edu_B, edu_gen)\n",
        "print(f\"Chi-squared Test: statistic={stat:.4f}, p-value={p_value:.4f}\")"
      ]
    },
    {
      "cell_type": "markdown",
      "metadata": {
        "id": "dH5xNt-XN5Nv"
      },
      "source": [
        "### p-значение составляет 0.99, поэтому не отвергаем нулевую гипотезу об отсутствии различий в средних значениях в группе B и генеральной совокупности."
      ]
    },
    {
      "cell_type": "markdown",
      "metadata": {
        "id": "FoT7dpbYOHwe"
      },
      "source": [
        "## Хи Квадрат: департаменты групп А и B"
      ]
    },
    {
      "cell_type": "markdown",
      "metadata": {
        "id": "XU81gy7zOTR-"
      },
      "source": [
        "### Распределение департаментов группы А и генеральной совокупности"
      ]
    },
    {
      "cell_type": "code",
      "execution_count": null,
      "metadata": {
        "colab": {
          "base_uri": "https://localhost:8080/"
        },
        "id": "LameX6QGObyb",
        "outputId": "4c4a545d-b90b-4d5a-e6ca-4013377ec1fc"
      },
      "outputs": [
        {
          "name": "stdout",
          "output_type": "stream",
          "text": [
            "Chi-squared Test: statistic=0.0020, p-value=0.9990\n"
          ]
        }
      ],
      "source": [
        "from scipy.stats import chisquare\n",
        "\n",
        "dep_A = df_empoyees_agg['department_id'].loc[df_empoyees_agg['group'] == 'A'].value_counts(normalize=True)\n",
        "dep_gen = df_empoyees_agg['department_id'].value_counts(normalize=True)\n",
        "\n",
        "stat, p_value = chisquare(dep_A, dep_gen)\n",
        "print(f\"Chi-squared Test: statistic={stat:.4f}, p-value={p_value:.4f}\")"
      ]
    },
    {
      "cell_type": "markdown",
      "metadata": {
        "id": "_pi69TrnOy9f"
      },
      "source": [
        "### p-значение составляет 0.99, поэтому не отвергаем нулевую гипотезу об отсутствии различий в средних значениях в группе A и генеральной совокупности.\n",
        "\n",
        "\n",
        "\n"
      ]
    },
    {
      "cell_type": "markdown",
      "metadata": {
        "id": "VOCXhPsQPAdf"
      },
      "source": [
        "### Распределение департаментов группы B и генеральной совокупности"
      ]
    },
    {
      "cell_type": "code",
      "execution_count": null,
      "metadata": {
        "colab": {
          "base_uri": "https://localhost:8080/"
        },
        "id": "ROyiUN-XPE7I",
        "outputId": "4a419817-c97b-4cd6-ad90-5b3f0ed6bf7b"
      },
      "outputs": [
        {
          "name": "stdout",
          "output_type": "stream",
          "text": [
            "Chi-squared Test: statistic=0.0019, p-value=0.9990\n"
          ]
        }
      ],
      "source": [
        "from scipy.stats import chisquare\n",
        "\n",
        "dep_B = df_empoyees_agg['department_id'].loc[df_empoyees_agg['group'] == 'B'].value_counts(normalize=True)\n",
        "dep_gen = df_empoyees_agg['department_id'].value_counts(normalize=True)\n",
        "\n",
        "stat, p_value = chisquare(dep_B, dep_gen)\n",
        "print(f\"Chi-squared Test: statistic={stat:.4f}, p-value={p_value:.4f}\")"
      ]
    },
    {
      "cell_type": "markdown",
      "metadata": {
        "id": "APIn1QmNPNio"
      },
      "source": [
        "### p-значение составляет 0.99, поэтому не отвергаем нулевую гипотезу об отсутствии различий в средних значениях в группе B и генеральной совокупности.\n",
        "\n",
        "\n",
        "\n"
      ]
    },
    {
      "cell_type": "markdown",
      "metadata": {
        "id": "AbcxfQD8PUt3"
      },
      "source": [
        "## Хи Квадрат: режим работы групп А и B"
      ]
    },
    {
      "cell_type": "markdown",
      "metadata": {
        "id": "AV-XOpgdP-Mj"
      },
      "source": [
        "### Распределение режима работы группы А и генеральной совокупности"
      ]
    },
    {
      "cell_type": "code",
      "execution_count": null,
      "metadata": {
        "colab": {
          "base_uri": "https://localhost:8080/"
        },
        "id": "OChE2YxWPc00",
        "outputId": "bfbd81be-b0e6-4e91-89df-c1ea423a8b49"
      },
      "outputs": [
        {
          "name": "stdout",
          "output_type": "stream",
          "text": [
            "Chi-squared Test: statistic=0.0013, p-value=0.9709\n"
          ]
        }
      ],
      "source": [
        "from scipy.stats import chisquare\n",
        "\n",
        "work_online_flg_A = df_empoyees_agg['work_online_flg'].loc[df_empoyees_agg['group'] == 'A'].value_counts(normalize=True)\n",
        "work_online_flg_gen = df_empoyees_agg['work_online_flg'].value_counts(normalize=True)\n",
        "\n",
        "stat, p_value = chisquare(work_online_flg_A, work_online_flg_gen)\n",
        "print(f\"Chi-squared Test: statistic={stat:.4f}, p-value={p_value:.4f}\")"
      ]
    },
    {
      "cell_type": "markdown",
      "metadata": {
        "id": "TFn7vlmVPxaV"
      },
      "source": [
        "### p-значение составляет 0.97, поэтому не отвергаем нулевую гипотезу об отсутствии различий в средних значениях в группе А и генеральной совокупности.\n",
        "\n",
        "\n",
        "\n"
      ]
    },
    {
      "cell_type": "markdown",
      "metadata": {
        "id": "ofH51ESUQRzh"
      },
      "source": [
        "### Распределение режима работы группы B и генеральной совокупности\n",
        "\n",
        "---\n",
        "\n"
      ]
    },
    {
      "cell_type": "code",
      "execution_count": null,
      "metadata": {
        "colab": {
          "base_uri": "https://localhost:8080/"
        },
        "id": "ckM5KWXcQU8u",
        "outputId": "21a8a3f4-f929-4846-fac3-f5991ab8e5c1"
      },
      "outputs": [
        {
          "name": "stdout",
          "output_type": "stream",
          "text": [
            "Chi-squared Test: statistic=0.0013, p-value=0.9712\n"
          ]
        }
      ],
      "source": [
        "from scipy.stats import chisquare\n",
        "\n",
        "work_online_flg_B = df_empoyees_agg['work_online_flg'].loc[df_empoyees_agg['group'] == 'B'].value_counts(normalize=True)\n",
        "work_online_flg_gen = df_empoyees_agg['work_online_flg'].value_counts(normalize=True)\n",
        "\n",
        "stat, p_value = chisquare(work_online_flg_B, work_online_flg_gen)\n",
        "print(f\"Chi-squared Test: statistic={stat:.4f}, p-value={p_value:.4f}\")"
      ]
    },
    {
      "cell_type": "markdown",
      "metadata": {
        "id": "JitaHWZxQbSK"
      },
      "source": [
        "### p-значение составляет 0.97, поэтому не отвергаем нулевую гипотезу об отсутствии различий в средних значениях в группе А и генеральной совокупности.\n",
        "\n",
        "\n",
        "\n"
      ]
    },
    {
      "cell_type": "markdown",
      "metadata": {
        "id": "Ek5gFY9zWpin"
      },
      "source": [
        "# Проверка результатов эксперимента"
      ]
    },
    {
      "cell_type": "markdown",
      "metadata": {
        "id": "8nOIh7-BW3MV"
      },
      "source": [
        "### Для проверки метрик после окончания эксперимента можно проверить статистическое различие в медианах 2 групп черех U-критерий Манна — Уитни (пример проверки выше), различие в частотах распределения метрики через Тест хи-квадрат (пример проверки выше), сравнить кумулятивные распределения двух групп через тест Колмагорова - Смирнова, дисперсию в двух группах (провести дисперсионный анализ) через F тест.\n",
        "\n",
        "Одно из применений критерия хи-квадрат — проверка сходства между двумя распределениями. Идея здесь — объединить наблюдения двух групп. Если бы два распределения были одинаковыми, можно было бы ожидать одинаковую частоту наблюдений в каждом бине. Важно отметить: чтобы тест был действительным, в каждом бине необходимо достаточное количество наблюдений."
      ]
    },
    {
      "cell_type": "markdown",
      "metadata": {
        "id": "pLlsQvzM8xsY"
      },
      "source": [
        "## В качестве альтернативы можно использовать Bootstrap на 10000 итераций, т.е. сравнить насколько разница данных в группах теста отличается от разницы между группами случайно семплированными 10 000 раз."
      ]
    }
  ],
  "metadata": {
    "colab": {
      "provenance": []
    },
    "kernelspec": {
      "display_name": "Python 3",
      "name": "python3"
    },
    "language_info": {
      "name": "python"
    }
  },
  "nbformat": 4,
  "nbformat_minor": 0
}
