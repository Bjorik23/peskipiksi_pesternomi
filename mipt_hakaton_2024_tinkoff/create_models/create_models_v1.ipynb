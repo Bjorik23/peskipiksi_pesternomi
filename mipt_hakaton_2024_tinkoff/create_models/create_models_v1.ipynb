{
  "cells": [
    {
      "cell_type": "markdown",
      "metadata": {
        "id": "zAAs2ggm8fwU"
      },
      "source": [
        "# **Создание моделb рекомендательной системы**\n",
        "\n",
        "**Задача**\n",
        "\n",
        "В группе компаний Тинькофф есть команда edTech, создающая платформу для обучающих курсов.\n",
        "У команды edTech возникает вопрос, а какие курсы сильнее всего влияют на рабочие показатели сотрудников в колл-центре.\n",
        "Помогите составить рекомендации, какие обучающие курсы стоит проходить сотрудникам, а какие курсы стоит убрать с edTech платформы.\n",
        "Решение может быть как рекомендательной моделью для каждого из сотрудников, так и основано на бизнес-правилах и статистическом анализе (например, выделить для каждого департамента полезные курсы).\n",
        "\n",
        "**Потенциальное решение**\n",
        "\n",
        "Предполагается, что решение будет выполнено на Python, будет итоговая презентация. Решение может содержать блоки: эксплораторный анализ, Causal Inference методы, рекомендательную модель.\n",
        "Ограничений на подход к решению нет, но для определения важности курсов советуем использовать методы анализа причинности. Подробнее можно почитать о них [здесь,](https://koch-kir.medium.com/causal-inference-from-observational-data-%D0%B8%D0%BB%D0%B8-%D0%BA%D0%B0%D0%BA-%D0%BF%D1%80%D0%BE%D0%B2%D0%B5%D1%81%D1%82%D0%B8-%D0%B0-%D0%B2-%D1%82%D0%B5%D1%81%D1%82-%D0%B1%D0%B5%D0%B7-%D0%B0-%D0%B2-%D1%82%D0%B5%D1%81%D1%82%D0%B0-afb84f2579f2) а также возможна консультация со стороны организаторов.\n",
        "\n",
        "# **Описание таблиц**\n",
        "\n",
        "**employees**\n",
        "\n",
        "Информация о сотрудниках колл-центра\n",
        "Поля:\n",
        "- employee_id - идентификатор сотрудника\n",
        "- sex – пол\n",
        "- region - идентификатор федерального округа\n",
        "- age – возраст\n",
        "- head_employee_id – идентификатор руководителя\n",
        "- exp_days – опыт в днях\n",
        "- edu_degree – уровень образования\n",
        "- department_id – индентификатор департамента, в котором работает сотрудник\n",
        "- work_online_flg – флаг работы на удалённом режиме\n",
        "\n",
        "**communications**\n",
        "\n",
        "Информация о рабочих показателях сотрудников. Рассматривались рабочие коммункации операторов колл-центра\n",
        "Поля:\n",
        "- communication_id – идентификатор коммуникации\n",
        "- communication_dt – дата коммуникации\n",
        "- employee_id - идентификатор сотрудника\n",
        "- communication_score – оценка качества коммуникации\n",
        "- util_flg – флаг того, что клиент воспользовался банковским продуктом в течение 2 недель\n",
        "\n",
        "**courses_passing**\n",
        "\n",
        "Статиситка прохождения обучающих курсов сотрудниками\n",
        "- course_id – идентификатор курса\n",
        "- employee_id - идентификатор сотрудника\n",
        "- pass_frac – доля прохождения курса\n",
        "- start_dt – дата начала прохождения\n",
        "- last_activity_dt – последняя активность сотрудника в обучающем курсе\n",
        "- end_dt – дата окончания обучения. Если обучение пройдено не полностью, то NaN\n",
        "- educ_duration_days – длительность полного обучения в днях. Если обучение пройдено не полностью, то NaN\n",
        "\n",
        "**courses_info**\n",
        "\n",
        "Информация о курсах\n",
        "- course_id – идентификатор курса\n",
        "- course_nm – название курса\n",
        "\n",
        "**course_employee_sms**\n",
        "\n",
        "Сводная таблица с нотификациями сотрудникам с предложением пройти обучение. Нотификации рассылались случайным образом\n",
        "Поля:\n",
        "- employee_id - идентификатор сотрудника\n",
        "- course_i – флаг наличия нотификации"
      ]
    },
    {
      "cell_type": "code",
      "execution_count": 93,
      "metadata": {
        "id": "20JanA416tWP"
      },
      "outputs": [],
      "source": [
        "# импортируем необходимые библиотеки\n",
        "import pandas as pd\n",
        "import numpy as np\n",
        "\n",
        "import matplotlib.pyplot as plt\n",
        "\n",
        "from sklearn.cluster import KMeans\n",
        "from sklearn.preprocessing import StandardScaler\n",
        "\n",
        "from sklearn.model_selection import train_test_split\n",
        "from sklearn.utils import resample\n",
        "\n",
        "import torch\n",
        "import torch.nn as nn\n",
        "import torch.optim as optim\n",
        "from torch.utils.data import DataLoader, Dataset\n",
        "from sklearn.preprocessing import LabelEncoder\n",
        "\n",
        "import warnings"
      ]
    },
    {
      "cell_type": "code",
      "execution_count": 3,
      "metadata": {},
      "outputs": [],
      "source": [
        "warnings.filterwarnings('ignore')"
      ]
    },
    {
      "cell_type": "code",
      "execution_count": 4,
      "metadata": {},
      "outputs": [],
      "source": [
        "# Установка опции для отображения нормальных чисел\n",
        "pd.set_option('display.float_format', lambda x: '%.2f' % x)"
      ]
    },
    {
      "cell_type": "markdown",
      "metadata": {
        "id": "CNIJT2a0F9f2"
      },
      "source": [
        "## Объединие таблиц в один датасет"
      ]
    },
    {
      "cell_type": "markdown",
      "metadata": {
        "id": "DFHgvU8zud19"
      },
      "source": [
        "Решили оставить создание итогового датасета, так как его загрузка и сохранение занмиает значительное количество времени. \n",
        "Сохраним все этапы создания `full_data.csv`.\n",
        "\n",
        "Загризим все датасеты"
      ]
    },
    {
      "cell_type": "code",
      "execution_count": 5,
      "metadata": {},
      "outputs": [],
      "source": [
        "# Загрузим датасет\n",
        "communications = pd.read_csv('../data/src/communications.csv', sep=';', dtype={'employee_id': 'category'})\n",
        "courses_passing = pd.read_csv('../data/src/courses_passing.csv', sep=';',  dtype={'employee_id': 'category'})\n",
        "employees = pd.read_csv('../data/src/employees.csv', sep=';', dtype={'employee_id': 'category', 'head_employee_id': 'category', 'sex': 'category'})\n",
        "course_employee_sms = pd.read_csv('../data/src/course_employee_sms.csv', sep=';')\n",
        "courses_info = pd.read_csv('../data/src/courses_info.csv', sep=';')"
      ]
    },
    {
      "cell_type": "code",
      "execution_count": 6,
      "metadata": {},
      "outputs": [],
      "source": [
        "# Измененим типов данных некоторых столбцов\n",
        "communications['communication_dt'] = pd.to_datetime(communications['communication_dt'])"
      ]
    },
    {
      "cell_type": "markdown",
      "metadata": {},
      "source": [
        "Начнем с объединения таблиц `employees` и `communications`. В качестве ключа используем `employee_id` "
      ]
    },
    {
      "cell_type": "code",
      "execution_count": 7,
      "metadata": {},
      "outputs": [],
      "source": [
        "# Объединение данных\n",
        "combined_data = pd.merge(employees, communications, on='employee_id', how='inner')"
      ]
    },
    {
      "cell_type": "markdown",
      "metadata": {},
      "source": [
        "Тут надо скорректировать типы данных:"
      ]
    },
    {
      "cell_type": "code",
      "execution_count": 12,
      "metadata": {},
      "outputs": [],
      "source": [
        "# Преобразование pass_frac в булев тип\n",
        "courses_passing['pass_frac'] = courses_passing['pass_frac'] > 0"
      ]
    },
    {
      "cell_type": "code",
      "execution_count": 13,
      "metadata": {},
      "outputs": [],
      "source": [
        "# Сначала заменим NaN на 0, затем преобразуем в int\n",
        "courses_passing['educ_duration_days'] = courses_passing['educ_duration_days'].fillna(0).astype(int)"
      ]
    },
    {
      "cell_type": "code",
      "execution_count": 14,
      "metadata": {},
      "outputs": [],
      "source": [
        "# Преобразование строковых дат в datetime формат\n",
        "courses_passing['start_dt'] = pd.to_datetime(courses_passing['start_dt'])\n",
        "courses_passing['last_activity_dt'] = pd.to_datetime(courses_passing['last_activity_dt'])\n",
        "courses_passing['end_dt'] = pd.to_datetime(courses_passing['end_dt'])"
      ]
    },
    {
      "cell_type": "markdown",
      "metadata": {},
      "source": [
        "Теперь объединим таблицы `combined_data` и `courses_passing`"
      ]
    },
    {
      "cell_type": "code",
      "execution_count": 16,
      "metadata": {},
      "outputs": [],
      "source": [
        "# Объединение combined_data с информацией о курсах\n",
        "full_data = pd.merge(combined_data, courses_passing, on='employee_id', how='left')"
      ]
    },
    {
      "cell_type": "code",
      "execution_count": 18,
      "metadata": {},
      "outputs": [],
      "source": [
        "del combined_data"
      ]
    },
    {
      "cell_type": "markdown",
      "metadata": {},
      "source": [
        "## Обработка полученного датасета"
      ]
    },
    {
      "cell_type": "markdown",
      "metadata": {},
      "source": [
        "Обработаем пропуски в датасете `full_data`"
      ]
    },
    {
      "cell_type": "code",
      "execution_count": 20,
      "metadata": {},
      "outputs": [],
      "source": [
        "# Замена NaN в 'end_dt' и 'educ_duration_days'\n",
        "full_data['end_dt'] = pd.to_datetime(full_data['end_dt'], errors='coerce')  # Преобразование в datetime, невалидные значения станут NaT\n",
        "full_data['educ_duration_days'] = full_data['educ_duration_days'].fillna(0).astype(int)  # Замена NaN на 0 и преобразование в int"
      ]
    },
    {
      "cell_type": "markdown",
      "metadata": {},
      "source": [
        "Теперь проверим нормализацию дат"
      ]
    },
    {
      "cell_type": "code",
      "execution_count": 21,
      "metadata": {},
      "outputs": [],
      "source": [
        "# Убедимся, что все столбцы с датами имеют тип datetime\n",
        "date_columns = ['communication_dt', 'start_dt', 'last_activity_dt', 'end_dt']\n",
        "for col in date_columns:\n",
        "    full_data[col] = pd.to_datetime(full_data[col], errors='coerce')  # Преобразование в datetime, невалидные значения станут NaT"
      ]
    },
    {
      "cell_type": "code",
      "execution_count": 22,
      "metadata": {},
      "outputs": [
        {
          "name": "stdout",
          "output_type": "stream",
          "text": [
            "<class 'pandas.core.frame.DataFrame'>\n",
            "RangeIndex: 26020279 entries, 0 to 26020278\n",
            "Data columns (total 4 columns):\n",
            " #   Column            Dtype         \n",
            "---  ------            -----         \n",
            " 0   communication_dt  datetime64[ns]\n",
            " 1   start_dt          datetime64[ns]\n",
            " 2   last_activity_dt  datetime64[ns]\n",
            " 3   end_dt            datetime64[ns]\n",
            "dtypes: datetime64[ns](4)\n",
            "memory usage: 794.1 MB\n",
            "None\n"
          ]
        }
      ],
      "source": [
        "# Проверка результатов\n",
        "print(full_data[date_columns].info())"
      ]
    },
    {
      "cell_type": "markdown",
      "metadata": {},
      "source": [
        "`Обработка пропущенных значений:` В `educ_duration_days` пропущенные значения заменяются на 0, что может быть интерпретировано как отсутствие завершения курса. В `end_dt` используется pd.to_datetime с errors='coerce', что преобразует некорректные или отсутствующие значения в NaT (Not a Time), что является аналогом NaN для временных данных.\n",
        "\n",
        "`Нормализация дат:` Для каждого столбца с датами применяется pd.to_datetime для гарантии того, что все данные в этих столбцах будут иметь тип datetime64[ns], что обеспечивает унификацию формата и упрощает последующий анализ."
      ]
    },
    {
      "cell_type": "code",
      "execution_count": 23,
      "metadata": {},
      "outputs": [],
      "source": [
        "# Создание временных признаков\n",
        "full_data['time_since_last_activity'] = (full_data['communication_dt'] - full_data['last_activity_dt']).dt.days\n",
        "full_data['time_since_end'] = (full_data['communication_dt'] - full_data['end_dt']).dt.days.fillna(0)"
      ]
    },
    {
      "cell_type": "code",
      "execution_count": 24,
      "metadata": {},
      "outputs": [
        {
          "name": "stdout",
          "output_type": "stream",
          "text": [
            "<class 'pandas.core.frame.DataFrame'>\n",
            "RangeIndex: 26020279 entries, 0 to 26020278\n",
            "Data columns (total 21 columns):\n",
            " #   Column                    Dtype         \n",
            "---  ------                    -----         \n",
            " 0   employee_id               object        \n",
            " 1   sex                       category      \n",
            " 2   region                    int64         \n",
            " 3   age                       int64         \n",
            " 4   head_employee_id          category      \n",
            " 5   exp_days                  int64         \n",
            " 6   edu_degree                int64         \n",
            " 7   department_id             int64         \n",
            " 8   work_online_flg           int64         \n",
            " 9   communication_id          int64         \n",
            " 10  communication_dt          datetime64[ns]\n",
            " 11  communication_score       int64         \n",
            " 12  util_flg                  int64         \n",
            " 13  course_id                 float64       \n",
            " 14  pass_frac                 object        \n",
            " 15  start_dt                  datetime64[ns]\n",
            " 16  last_activity_dt          datetime64[ns]\n",
            " 17  end_dt                    datetime64[ns]\n",
            " 18  educ_duration_days        int32         \n",
            " 19  time_since_last_activity  float64       \n",
            " 20  time_since_end            float64       \n",
            "dtypes: category(2), datetime64[ns](4), float64(3), int32(1), int64(9), object(2)\n",
            "memory usage: 3.7+ GB\n"
          ]
        }
      ],
      "source": [
        "full_data.info()"
      ]
    },
    {
      "cell_type": "markdown",
      "metadata": {},
      "source": [
        "Отсортируем по дате и удалим пропуски по столбцу `course_id`"
      ]
    },
    {
      "cell_type": "code",
      "execution_count": 27,
      "metadata": {},
      "outputs": [],
      "source": [
        "# Отсортируем данные\n",
        "full_data_sorted = full_data.sort_values(by=['communication_dt', 'start_dt'])"
      ]
    },
    {
      "cell_type": "code",
      "execution_count": 28,
      "metadata": {},
      "outputs": [
        {
          "data": {
            "text/plain": [
              "employee_id                       0\n",
              "sex                               0\n",
              "region                            0\n",
              "age                               0\n",
              "head_employee_id                  0\n",
              "exp_days                          0\n",
              "edu_degree                        0\n",
              "department_id                     0\n",
              "work_online_flg                   0\n",
              "communication_id                  0\n",
              "communication_dt                  0\n",
              "communication_score               0\n",
              "util_flg                          0\n",
              "course_id                   1395481\n",
              "pass_frac                   1395481\n",
              "start_dt                    1395481\n",
              "last_activity_dt            1395481\n",
              "end_dt                      6890619\n",
              "educ_duration_days                0\n",
              "time_since_last_activity    1395481\n",
              "time_since_end                    0\n",
              "dtype: int64"
            ]
          },
          "execution_count": 28,
          "metadata": {},
          "output_type": "execute_result"
        }
      ],
      "source": [
        "# Посмотрим количество пропусков\n",
        "full_data_sorted.isna().sum()"
      ]
    },
    {
      "cell_type": "code",
      "execution_count": 32,
      "metadata": {},
      "outputs": [],
      "source": [
        "# Удаляем строки с пропусками в столбце 'course_id'\n",
        "full_data_sorted = full_data_sorted.dropna(subset=['course_id'])"
      ]
    },
    {
      "cell_type": "markdown",
      "metadata": {},
      "source": [
        "Обработаем пропуски еще в столбце `end_dt` заполнив их текущей датой"
      ]
    },
    {
      "cell_type": "code",
      "execution_count": 34,
      "metadata": {},
      "outputs": [
        {
          "name": "stdout",
          "output_type": "stream",
          "text": [
            "employee_id                 0\n",
            "sex                         0\n",
            "region                      0\n",
            "age                         0\n",
            "head_employee_id            0\n",
            "exp_days                    0\n",
            "edu_degree                  0\n",
            "department_id               0\n",
            "work_online_flg             0\n",
            "communication_id            0\n",
            "communication_dt            0\n",
            "communication_score         0\n",
            "util_flg                    0\n",
            "course_id                   0\n",
            "pass_frac                   0\n",
            "start_dt                    0\n",
            "last_activity_dt            0\n",
            "end_dt                      0\n",
            "educ_duration_days          0\n",
            "time_since_last_activity    0\n",
            "time_since_end              0\n",
            "dtype: int64\n"
          ]
        }
      ],
      "source": [
        "# Заполнение пропусков в course_id специальным значением, например -1\n",
        "#full_data_sorted['course_id'].fillna(-1, inplace=True)\n",
        "\n",
        "# Заполнение пропусков в pass_frac нулем\n",
        "#full_data_sorted['pass_frac'].fillna(0, inplace=True)\n",
        "\n",
        "# Заполнение пропусков в start_dt и last_activity_dt текущей датой или другой логичной датой\n",
        "# Важно убедиться, что это логично для вашей задачи\n",
        "current_date = pd.Timestamp('today')\n",
        "#full_data_sorted['start_dt'].fillna(current_date, inplace=True)\n",
        "#full_data_sorted['last_activity_dt'].fillna(current_date, inplace=True)\n",
        "\n",
        "# Если end_dt должно указывать на продолжающееся обучение, можно использовать текущую дату\n",
        "full_data_sorted['end_dt'].fillna(current_date, inplace=True)\n",
        "\n",
        "# Если есть логика заполнения time_since_last_activity, например разницей между текущей датой и last_activity_dt\n",
        "#full_data_sorted['time_since_last_activity'] = full_data_sorted['time_since_last_activity'].fillna(\n",
        "#    (current_date - full_data_sorted['last_activity_dt']).dt.days\n",
        "#)\n",
        "\n",
        "# Вывод количества пропущенных значений после обработки\n",
        "print(full_data_sorted.isna().sum())"
      ]
    },
    {
      "cell_type": "markdown",
      "metadata": {},
      "source": [
        "Видим что теперь пропусков теперь нет.\n",
        "\n",
        "Теперь разделим датасет на два периода и закодируем столбцы `employee_id`, `course_id`"
      ]
    },
    {
      "cell_type": "code",
      "execution_count": 36,
      "metadata": {},
      "outputs": [],
      "source": [
        "# Определение точки разделения (например, 80% данных для обучения)\n",
        "split_index = int(len(full_data_sorted) * 0.8)\n",
        "\n",
        "# Создание тренировочного и тестового наборов\n",
        "train_data = full_data_sorted.iloc[:split_index]\n",
        "test_data = full_data_sorted.iloc[split_index:]"
      ]
    },
    {
      "cell_type": "code",
      "execution_count": 37,
      "metadata": {},
      "outputs": [],
      "source": [
        "# Создание экземпляра LabelEncoder\n",
        "user_encoder = LabelEncoder()\n",
        "item_encoder = LabelEncoder()\n",
        "\n",
        "# Кодирование пользовательских и курсовых ID в непрерывные целочисленные значения\n",
        "train_data['encoded_employee_id'] = user_encoder.fit_transform(train_data['employee_id'])\n",
        "train_data['encoded_course_id'] = item_encoder.fit_transform(train_data['course_id'])\n",
        "\n",
        "# Повторите эти шаги для тестовых данных, используя те же кодировщики (fit не нужен)\n",
        "test_data['encoded_employee_id'] = user_encoder.transform(test_data['employee_id'])\n",
        "test_data['encoded_course_id'] = item_encoder.transform(test_data['course_id'])"
      ]
    },
    {
      "cell_type": "markdown",
      "metadata": {},
      "source": [
        "## Создание модели с коллаборативной фильтрацией"
      ]
    },
    {
      "cell_type": "markdown",
      "metadata": {},
      "source": [
        "Для коллаборативной фильтрации можно использовать оценки сотрудников, например, `communication_score` и учет прохождения курсов, чтобы рекомендовать курсы, которые проходили сотрудники с похожими рабочими результатами. Попробуем обучить модель с помощью GPU  с помощью PyTorch:"
      ]
    },
    {
      "cell_type": "code",
      "execution_count": 38,
      "metadata": {},
      "outputs": [],
      "source": [
        "class CFData(Dataset):\n",
        "    def __init__(self, dataframe):\n",
        "        \"\"\"\n",
        "        Конструктор класса CFData.\n",
        "        \n",
        "        Args:\n",
        "            dataframe (DataFrame): Входной DataFrame с данными.\n",
        "        \"\"\"\n",
        "        # Создаем тензоры для пользователей, элементов и рейтингов из DataFrame\n",
        "        self.users = torch.tensor(dataframe['encoded_employee_id'].values, dtype=torch.int64)\n",
        "        self.items = torch.tensor(dataframe['encoded_course_id'].values, dtype=torch.int64)\n",
        "        self.ratings = torch.tensor(dataframe['communication_score'].values, dtype=torch.float32)\n",
        "\n",
        "    def __len__(self):\n",
        "        \"\"\"\n",
        "        Возвращает общее количество элементов в наборе данных.\n",
        "        \n",
        "        Returns:\n",
        "            int: Общее количество элементов.\n",
        "        \"\"\"\n",
        "        return len(self.ratings)\n",
        "\n",
        "    def __getitem__(self, idx):\n",
        "        \"\"\"\n",
        "        Получает элементы из набора данных по заданному индексу.\n",
        "        \n",
        "        Args:\n",
        "            idx (int): Индекс элемента.\n",
        "        \n",
        "        Returns:\n",
        "            tuple: Кортеж, содержащий данные о пользователе, элементе и рейтинге.\n",
        "        \"\"\"\n",
        "        # Получаем данные о пользователе, элементе и рейтинге по заданному индексу\n",
        "        return self.users[idx], self.items[idx], self.ratings[idx]"
      ]
    },
    {
      "cell_type": "code",
      "execution_count": 39,
      "metadata": {},
      "outputs": [],
      "source": [
        "# Создание экземпляра PyTorch Dataset для обучающих данных\n",
        "train_dataset = CFData(train_data)\n",
        "\n",
        "# Создание DataLoader для обучающего набора данных\n",
        "# batch_size - количество элементов в одном батче\n",
        "# shuffle - указывает, следует ли перемешивать данные перед каждой эпохой\n",
        "train_loader = DataLoader(train_dataset, batch_size=512, shuffle=True)"
      ]
    },
    {
      "cell_type": "code",
      "execution_count": 40,
      "metadata": {},
      "outputs": [],
      "source": [
        "# Определение модели SVD (Singular Value Decomposition)\n",
        "class SVDModel(nn.Module):\n",
        "    def __init__(self, n_users, n_items, n_factors=100):\n",
        "        \"\"\"\n",
        "        Конструктор класса SVDModel.\n",
        "        \n",
        "        Args:\n",
        "            n_users (int): Количество пользователей.\n",
        "            n_items (int): Количество элементов.\n",
        "            n_factors (int, optional): Количество скрытых факторов.\n",
        "        \"\"\"\n",
        "        super(SVDModel, self).__init__()\n",
        "        \n",
        "        # Определение вложений (embeddings) для пользователей и элементов\n",
        "        self.user_factors = nn.Embedding(n_users, n_factors)\n",
        "        self.item_factors = nn.Embedding(n_items, n_factors)\n",
        "\n",
        "    def forward(self, user, item):\n",
        "        \"\"\"\n",
        "        Прямой проход модели.\n",
        "        \n",
        "        Args:\n",
        "            user (Tensor): Идентификаторы пользователей.\n",
        "            item (Tensor): Идентификаторы элементов.\n",
        "        \n",
        "        Returns:\n",
        "            Tensor: Прогнозы модели.\n",
        "        \"\"\"\n",
        "        # Получаем вложения для пользователей и элементов\n",
        "        user_embedding = self.user_factors(user)\n",
        "        item_embedding = self.item_factors(item)\n",
        "        \n",
        "        # Произведение поэлементное, затем суммируем по второй оси (оси скрытых факторов)\n",
        "        dot_product = (user_embedding * item_embedding).sum(1)\n",
        "        return dot_product"
      ]
    },
    {
      "cell_type": "code",
      "execution_count": 41,
      "metadata": {},
      "outputs": [],
      "source": [
        "# Инициализация модели\n",
        "n_users = full_data_sorted['employee_id'].nunique()\n",
        "n_items = full_data_sorted['course_id'].nunique()\n",
        "# Создание экземпляра модели SVD и перенос его на GPU\n",
        "model = SVDModel(n_users, n_items).to('cuda') "
      ]
    },
    {
      "cell_type": "code",
      "execution_count": 42,
      "metadata": {},
      "outputs": [],
      "source": [
        "# Определение оптимизатора и функции потерь\n",
        "optimizer = optim.Adam(model.parameters(), lr=0.01)  # Оптимизатор Adam с коэффициентом скорости обучения 0.01\n",
        "criterion = nn.MSELoss()  # Функция потерь Mean Squared Error (MSE)"
      ]
    },
    {
      "cell_type": "code",
      "execution_count": 43,
      "metadata": {},
      "outputs": [
        {
          "name": "stdout",
          "output_type": "stream",
          "text": [
            "Max user ID: 1757, Number of users: 1758\n",
            "Max course ID: 91, Number of courses: 92\n"
          ]
        }
      ],
      "source": [
        "print(f'Максимальный user ID: {train_data.encoded_employee_id.max()}, Количество of users: {n_users}')\n",
        "print(f'Максимальный course ID: {train_data.encoded_course_id.max()}, Количество of courses: {n_items}')"
      ]
    },
    {
      "cell_type": "code",
      "execution_count": 45,
      "metadata": {},
      "outputs": [
        {
          "name": "stdout",
          "output_type": "stream",
          "text": [
            "Epoch 1, Loss: 1551.53759765625\n",
            "Epoch 2, Loss: 1394.34619140625\n",
            "Epoch 3, Loss: 1146.2396240234375\n",
            "Epoch 4, Loss: 1415.2205810546875\n",
            "Epoch 5, Loss: 1424.6312255859375\n",
            "Epoch 6, Loss: 1502.3935546875\n",
            "Epoch 7, Loss: 1401.58740234375\n",
            "Epoch 8, Loss: 1282.0626220703125\n",
            "Epoch 9, Loss: 1315.2083740234375\n",
            "Epoch 10, Loss: 1542.8050537109375\n"
          ]
        }
      ],
      "source": [
        "model.train()  # Установка модели в режим обучения\n",
        "for epoch in range(10):\n",
        "    for users, items, ratings in train_loader:\n",
        "        users, items, ratings = users.to('cuda'), items.to('cuda'), ratings.to('cuda')  # Перенос данных на GPU\n",
        "        optimizer.zero_grad()  # Обнуление градиентов\n",
        "        outputs = model(users, items)  # Получение выходных данных модели\n",
        "        loss = criterion(outputs, ratings)  # Вычисление потерь\n",
        "        loss.backward()  # Обратное распространение ошибки\n",
        "        optimizer.step()  # Обновление параметров модели\n",
        "    print(f'Epoch {epoch+1}, Loss: {loss.item()}') "
      ]
    },
    {
      "cell_type": "code",
      "execution_count": 49,
      "metadata": {},
      "outputs": [],
      "source": [
        "# Сохранение модели\n",
        "torch.save(model, '..\\models\\model_v1.pth')"
      ]
    },
    {
      "cell_type": "code",
      "execution_count": 50,
      "metadata": {},
      "outputs": [],
      "source": [
        "# Загрузка модели\n",
        "model = torch.load('..\\models\\model_v1.pth')\n",
        "model.eval()"
      ]
    },
    {
      "cell_type": "code",
      "execution_count": 51,
      "metadata": {},
      "outputs": [],
      "source": [
        "# Проверим прогнозирование рекомендаций на тестовых данных\n",
        "predict_dataset = CFData(test_data)\n",
        "predict_loader = DataLoader(predict_dataset, batch_size=512, shuffle=False)"
      ]
    },
    {
      "cell_type": "code",
      "execution_count": 52,
      "metadata": {},
      "outputs": [],
      "source": [
        "# Перевод модели в режим оценки\n",
        "model.eval()\n",
        "\n",
        "# Список для хранения предсказаний\n",
        "predictions = []\n",
        "\n",
        "with torch.no_grad():  # Выключение расчета градиентов для ускорения\n",
        "    for users, items, _ in predict_loader:\n",
        "        users, items = users.to('cuda'), items.to('cuda')\n",
        "        outputs = model(users, items)\n",
        "        predictions.extend(outputs.cpu().numpy())  # Перемещение предсказаний на CPU и преобразование в numpy array\n",
        "\n",
        "# Сохранение предсказаний обратно в DataFrame\n",
        "test_data['predicted_score'] = predictions"
      ]
    },
    {
      "cell_type": "code",
      "execution_count": 85,
      "metadata": {},
      "outputs": [],
      "source": [
        "# Удалим дубликаты\n",
        "top_n_recommendations = test_data.drop_duplicates(subset=['employee_id', 'course_id'])\n",
        "\n",
        "# Объединение DataFrame с информацией о рекомендациях и курсах\n",
        "final_recommendations = top_n_recommendations.merge(courses_info, on='course_id', how='left')"
      ]
    },
    {
      "cell_type": "code",
      "execution_count": 107,
      "metadata": {},
      "outputs": [
        {
          "data": {
            "text/html": [
              "<div>\n",
              "<style scoped>\n",
              "    .dataframe tbody tr th:only-of-type {\n",
              "        vertical-align: middle;\n",
              "    }\n",
              "\n",
              "    .dataframe tbody tr th {\n",
              "        vertical-align: top;\n",
              "    }\n",
              "\n",
              "    .dataframe thead th {\n",
              "        text-align: right;\n",
              "    }\n",
              "</style>\n",
              "<table border=\"1\" class=\"dataframe\">\n",
              "  <thead>\n",
              "    <tr style=\"text-align: right;\">\n",
              "      <th></th>\n",
              "      <th>employee_id</th>\n",
              "      <th>course_id</th>\n",
              "      <th>course_nm</th>\n",
              "      <th>predicted_score</th>\n",
              "    </tr>\n",
              "  </thead>\n",
              "  <tbody>\n",
              "    <tr>\n",
              "      <th>10539</th>\n",
              "      <td>00411460-f7c9-2d21-24a6-7ea0f4cb5f85</td>\n",
              "      <td>50.00</td>\n",
              "      <td>Эффективное планирование и организация работы ...</td>\n",
              "      <td>61.00</td>\n",
              "    </tr>\n",
              "    <tr>\n",
              "      <th>10294</th>\n",
              "      <td>00411460-f7c9-2d21-24a6-7ea0f4cb5f85</td>\n",
              "      <td>20.00</td>\n",
              "      <td>Основы психологии клиентского обслуживания</td>\n",
              "      <td>59.39</td>\n",
              "    </tr>\n",
              "    <tr>\n",
              "      <th>9780</th>\n",
              "      <td>00411460-f7c9-2d21-24a6-7ea0f4cb5f85</td>\n",
              "      <td>7.00</td>\n",
              "      <td>Построение долгосрочных отношений с клиентами:...</td>\n",
              "      <td>59.19</td>\n",
              "    </tr>\n",
              "    <tr>\n",
              "      <th>10407</th>\n",
              "      <td>00411460-f7c9-2d21-24a6-7ea0f4cb5f85</td>\n",
              "      <td>8.00</td>\n",
              "      <td>Развитие навыков эмпатии в клиентском обслужив...</td>\n",
              "      <td>57.03</td>\n",
              "    </tr>\n",
              "    <tr>\n",
              "      <th>10274</th>\n",
              "      <td>00411460-f7c9-2d21-24a6-7ea0f4cb5f85</td>\n",
              "      <td>29.00</td>\n",
              "      <td>Использование эмоционального интеллекта в обще...</td>\n",
              "      <td>55.06</td>\n",
              "    </tr>\n",
              "    <tr>\n",
              "      <th>6657</th>\n",
              "      <td>006f52e9-102a-8d3b-e2fe-5614f42ba989</td>\n",
              "      <td>68.00</td>\n",
              "      <td>Продвинутые методы анализа клиентской удовлетв...</td>\n",
              "      <td>64.71</td>\n",
              "    </tr>\n",
              "    <tr>\n",
              "      <th>2438</th>\n",
              "      <td>006f52e9-102a-8d3b-e2fe-5614f42ba989</td>\n",
              "      <td>87.00</td>\n",
              "      <td>Эффективное проведение клиентских опросов и ис...</td>\n",
              "      <td>64.37</td>\n",
              "    </tr>\n",
              "    <tr>\n",
              "      <th>6799</th>\n",
              "      <td>006f52e9-102a-8d3b-e2fe-5614f42ba989</td>\n",
              "      <td>79.00</td>\n",
              "      <td>Использование техник активного слушания в обще...</td>\n",
              "      <td>64.01</td>\n",
              "    </tr>\n",
              "    <tr>\n",
              "      <th>6152</th>\n",
              "      <td>006f52e9-102a-8d3b-e2fe-5614f42ba989</td>\n",
              "      <td>74.00</td>\n",
              "      <td>Проектирование и внедрение программ лояльности...</td>\n",
              "      <td>63.74</td>\n",
              "    </tr>\n",
              "    <tr>\n",
              "      <th>2575</th>\n",
              "      <td>006f52e9-102a-8d3b-e2fe-5614f42ba989</td>\n",
              "      <td>17.00</td>\n",
              "      <td>Креативные подходы к решению сложных ситуаций ...</td>\n",
              "      <td>63.52</td>\n",
              "    </tr>\n",
              "    <tr>\n",
              "      <th>8302</th>\n",
              "      <td>008bd5ad-93b7-54d5-0033-8c253d9c1770</td>\n",
              "      <td>39.00</td>\n",
              "      <td>Развитие навыков активного прослушивания в кли...</td>\n",
              "      <td>60.70</td>\n",
              "    </tr>\n",
              "    <tr>\n",
              "      <th>8893</th>\n",
              "      <td>008bd5ad-93b7-54d5-0033-8c253d9c1770</td>\n",
              "      <td>43.00</td>\n",
              "      <td>Управление ожиданиями и эмоциями клиентов в ус...</td>\n",
              "      <td>54.97</td>\n",
              "    </tr>\n",
              "    <tr>\n",
              "      <th>7659</th>\n",
              "      <td>008bd5ad-93b7-54d5-0033-8c253d9c1770</td>\n",
              "      <td>89.00</td>\n",
              "      <td>Развитие навыков адаптации к различным типам к...</td>\n",
              "      <td>53.53</td>\n",
              "    </tr>\n",
              "    <tr>\n",
              "      <th>10491</th>\n",
              "      <td>00a03ec6-533c-a7f5-c644-d198d815329c</td>\n",
              "      <td>62.00</td>\n",
              "      <td>Эффективное управление стрессом в клиентском с...</td>\n",
              "      <td>69.44</td>\n",
              "    </tr>\n",
              "    <tr>\n",
              "      <th>10273</th>\n",
              "      <td>00a03ec6-533c-a7f5-c644-d198d815329c</td>\n",
              "      <td>72.00</td>\n",
              "      <td>Управление ожиданиями клиентов в условиях дина...</td>\n",
              "      <td>67.57</td>\n",
              "    </tr>\n",
              "    <tr>\n",
              "      <th>10453</th>\n",
              "      <td>00a03ec6-533c-a7f5-c644-d198d815329c</td>\n",
              "      <td>45.00</td>\n",
              "      <td>Развитие коммуникативных навыков в клиентском ...</td>\n",
              "      <td>65.27</td>\n",
              "    </tr>\n",
              "    <tr>\n",
              "      <th>10356</th>\n",
              "      <td>00a03ec6-533c-a7f5-c644-d198d815329c</td>\n",
              "      <td>19.00</td>\n",
              "      <td>Современные тенденции в клиентском сервисе: Ан...</td>\n",
              "      <td>64.72</td>\n",
              "    </tr>\n",
              "    <tr>\n",
              "      <th>9882</th>\n",
              "      <td>00a03ec6-533c-a7f5-c644-d198d815329c</td>\n",
              "      <td>74.00</td>\n",
              "      <td>Проектирование и внедрение программ лояльности...</td>\n",
              "      <td>63.22</td>\n",
              "    </tr>\n",
              "    <tr>\n",
              "      <th>9730</th>\n",
              "      <td>00ac8ed3-b432-7bdd-4ebb-ebcb2ba10a00</td>\n",
              "      <td>4.00</td>\n",
              "      <td>Искусство управления жалобами и конфликтами с ...</td>\n",
              "      <td>65.40</td>\n",
              "    </tr>\n",
              "    <tr>\n",
              "      <th>7425</th>\n",
              "      <td>00ac8ed3-b432-7bdd-4ebb-ebcb2ba10a00</td>\n",
              "      <td>84.00</td>\n",
              "      <td>Управление клиентским опытом: Интеграция проце...</td>\n",
              "      <td>65.39</td>\n",
              "    </tr>\n",
              "    <tr>\n",
              "      <th>8806</th>\n",
              "      <td>00ac8ed3-b432-7bdd-4ebb-ebcb2ba10a00</td>\n",
              "      <td>56.00</td>\n",
              "      <td>Создание позитивного рабочего окружения в клие...</td>\n",
              "      <td>64.16</td>\n",
              "    </tr>\n",
              "    <tr>\n",
              "      <th>8400</th>\n",
              "      <td>00ac8ed3-b432-7bdd-4ebb-ebcb2ba10a00</td>\n",
              "      <td>27.00</td>\n",
              "      <td>Стратегии персонализации обслуживания для разн...</td>\n",
              "      <td>62.76</td>\n",
              "    </tr>\n",
              "    <tr>\n",
              "      <th>9722</th>\n",
              "      <td>00ac8ed3-b432-7bdd-4ebb-ebcb2ba10a00</td>\n",
              "      <td>29.00</td>\n",
              "      <td>Использование эмоционального интеллекта в обще...</td>\n",
              "      <td>60.87</td>\n",
              "    </tr>\n",
              "    <tr>\n",
              "      <th>2509</th>\n",
              "      <td>00e26af6-ac3b-1c1c-49d7-c3d79c60d000</td>\n",
              "      <td>66.00</td>\n",
              "      <td>Использование storytelling в клиентском обслуж...</td>\n",
              "      <td>58.69</td>\n",
              "    </tr>\n",
              "    <tr>\n",
              "      <th>262</th>\n",
              "      <td>00e26af6-ac3b-1c1c-49d7-c3d79c60d000</td>\n",
              "      <td>32.00</td>\n",
              "      <td>Техники переговоров и урегулирования спорных в...</td>\n",
              "      <td>58.63</td>\n",
              "    </tr>\n",
              "    <tr>\n",
              "      <th>865</th>\n",
              "      <td>00e26af6-ac3b-1c1c-49d7-c3d79c60d000</td>\n",
              "      <td>29.00</td>\n",
              "      <td>Использование эмоционального интеллекта в обще...</td>\n",
              "      <td>58.21</td>\n",
              "    </tr>\n",
              "    <tr>\n",
              "      <th>3379</th>\n",
              "      <td>00e26af6-ac3b-1c1c-49d7-c3d79c60d000</td>\n",
              "      <td>16.00</td>\n",
              "      <td>Управление клиентскими ожиданиями: Ключевые ас...</td>\n",
              "      <td>56.23</td>\n",
              "    </tr>\n",
              "    <tr>\n",
              "      <th>7097</th>\n",
              "      <td>00e26af6-ac3b-1c1c-49d7-c3d79c60d000</td>\n",
              "      <td>43.00</td>\n",
              "      <td>Управление ожиданиями и эмоциями клиентов в ус...</td>\n",
              "      <td>55.28</td>\n",
              "    </tr>\n",
              "    <tr>\n",
              "      <th>8847</th>\n",
              "      <td>00ec53c4-682d-36f5-c435-9f4ae7bd7ba1</td>\n",
              "      <td>14.00</td>\n",
              "      <td>Повышение лояльности клиентов через качественн...</td>\n",
              "      <td>59.08</td>\n",
              "    </tr>\n",
              "    <tr>\n",
              "      <th>7767</th>\n",
              "      <td>00ec53c4-682d-36f5-c435-9f4ae7bd7ba1</td>\n",
              "      <td>68.00</td>\n",
              "      <td>Продвинутые методы анализа клиентской удовлетв...</td>\n",
              "      <td>57.66</td>\n",
              "    </tr>\n",
              "  </tbody>\n",
              "</table>\n",
              "</div>"
            ],
            "text/plain": [
              "                                employee_id  course_id  \\\n",
              "10539  00411460-f7c9-2d21-24a6-7ea0f4cb5f85      50.00   \n",
              "10294  00411460-f7c9-2d21-24a6-7ea0f4cb5f85      20.00   \n",
              "9780   00411460-f7c9-2d21-24a6-7ea0f4cb5f85       7.00   \n",
              "10407  00411460-f7c9-2d21-24a6-7ea0f4cb5f85       8.00   \n",
              "10274  00411460-f7c9-2d21-24a6-7ea0f4cb5f85      29.00   \n",
              "6657   006f52e9-102a-8d3b-e2fe-5614f42ba989      68.00   \n",
              "2438   006f52e9-102a-8d3b-e2fe-5614f42ba989      87.00   \n",
              "6799   006f52e9-102a-8d3b-e2fe-5614f42ba989      79.00   \n",
              "6152   006f52e9-102a-8d3b-e2fe-5614f42ba989      74.00   \n",
              "2575   006f52e9-102a-8d3b-e2fe-5614f42ba989      17.00   \n",
              "8302   008bd5ad-93b7-54d5-0033-8c253d9c1770      39.00   \n",
              "8893   008bd5ad-93b7-54d5-0033-8c253d9c1770      43.00   \n",
              "7659   008bd5ad-93b7-54d5-0033-8c253d9c1770      89.00   \n",
              "10491  00a03ec6-533c-a7f5-c644-d198d815329c      62.00   \n",
              "10273  00a03ec6-533c-a7f5-c644-d198d815329c      72.00   \n",
              "10453  00a03ec6-533c-a7f5-c644-d198d815329c      45.00   \n",
              "10356  00a03ec6-533c-a7f5-c644-d198d815329c      19.00   \n",
              "9882   00a03ec6-533c-a7f5-c644-d198d815329c      74.00   \n",
              "9730   00ac8ed3-b432-7bdd-4ebb-ebcb2ba10a00       4.00   \n",
              "7425   00ac8ed3-b432-7bdd-4ebb-ebcb2ba10a00      84.00   \n",
              "8806   00ac8ed3-b432-7bdd-4ebb-ebcb2ba10a00      56.00   \n",
              "8400   00ac8ed3-b432-7bdd-4ebb-ebcb2ba10a00      27.00   \n",
              "9722   00ac8ed3-b432-7bdd-4ebb-ebcb2ba10a00      29.00   \n",
              "2509   00e26af6-ac3b-1c1c-49d7-c3d79c60d000      66.00   \n",
              "262    00e26af6-ac3b-1c1c-49d7-c3d79c60d000      32.00   \n",
              "865    00e26af6-ac3b-1c1c-49d7-c3d79c60d000      29.00   \n",
              "3379   00e26af6-ac3b-1c1c-49d7-c3d79c60d000      16.00   \n",
              "7097   00e26af6-ac3b-1c1c-49d7-c3d79c60d000      43.00   \n",
              "8847   00ec53c4-682d-36f5-c435-9f4ae7bd7ba1      14.00   \n",
              "7767   00ec53c4-682d-36f5-c435-9f4ae7bd7ba1      68.00   \n",
              "\n",
              "                                               course_nm  predicted_score  \n",
              "10539  Эффективное планирование и организация работы ...            61.00  \n",
              "10294         Основы психологии клиентского обслуживания            59.39  \n",
              "9780   Построение долгосрочных отношений с клиентами:...            59.19  \n",
              "10407  Развитие навыков эмпатии в клиентском обслужив...            57.03  \n",
              "10274  Использование эмоционального интеллекта в обще...            55.06  \n",
              "6657   Продвинутые методы анализа клиентской удовлетв...            64.71  \n",
              "2438   Эффективное проведение клиентских опросов и ис...            64.37  \n",
              "6799   Использование техник активного слушания в обще...            64.01  \n",
              "6152   Проектирование и внедрение программ лояльности...            63.74  \n",
              "2575   Креативные подходы к решению сложных ситуаций ...            63.52  \n",
              "8302   Развитие навыков активного прослушивания в кли...            60.70  \n",
              "8893   Управление ожиданиями и эмоциями клиентов в ус...            54.97  \n",
              "7659   Развитие навыков адаптации к различным типам к...            53.53  \n",
              "10491  Эффективное управление стрессом в клиентском с...            69.44  \n",
              "10273  Управление ожиданиями клиентов в условиях дина...            67.57  \n",
              "10453  Развитие коммуникативных навыков в клиентском ...            65.27  \n",
              "10356  Современные тенденции в клиентском сервисе: Ан...            64.72  \n",
              "9882   Проектирование и внедрение программ лояльности...            63.22  \n",
              "9730   Искусство управления жалобами и конфликтами с ...            65.40  \n",
              "7425   Управление клиентским опытом: Интеграция проце...            65.39  \n",
              "8806   Создание позитивного рабочего окружения в клие...            64.16  \n",
              "8400   Стратегии персонализации обслуживания для разн...            62.76  \n",
              "9722   Использование эмоционального интеллекта в обще...            60.87  \n",
              "2509   Использование storytelling в клиентском обслуж...            58.69  \n",
              "262    Техники переговоров и урегулирования спорных в...            58.63  \n",
              "865    Использование эмоционального интеллекта в обще...            58.21  \n",
              "3379   Управление клиентскими ожиданиями: Ключевые ас...            56.23  \n",
              "7097   Управление ожиданиями и эмоциями клиентов в ус...            55.28  \n",
              "8847   Повышение лояльности клиентов через качественн...            59.08  \n",
              "7767   Продвинутые методы анализа клиентской удовлетв...            57.66  "
            ]
          },
          "execution_count": 107,
          "metadata": {},
          "output_type": "execute_result"
        }
      ],
      "source": [
        "# Выбор топ-5 уникальных курсов для каждого сотрудника\n",
        "top_n_recommendations = final_recommendations.sort_values(by=['employee_id', 'predicted_score'], ascending=[True, False]).groupby('employee_id').head(5)\n",
        "\n",
        "# Показать результаты\n",
        "top_n_recommendations[['employee_id', 'course_id', 'course_nm', 'predicted_score']].head(30)"
      ]
    },
    {
      "cell_type": "code",
      "execution_count": 89,
      "metadata": {},
      "outputs": [],
      "source": [
        "# Сохраним данные\n",
        "top_n_recommendations.to_csv('top_n_recommendations.csv')"
      ]
    },
    {
      "cell_type": "markdown",
      "metadata": {},
      "source": [
        "## Анализ полученных результатов"
      ]
    },
    {
      "cell_type": "markdown",
      "metadata": {},
      "source": [
        "Проанализируем полученные результаты следующим образом:\n",
        "1. **Анализ Распределения Оценок** - это поможет нам увидеть, как распределены предсказанные оценки среди рекомендованных курсов. Мы можем построить гистограмму, чтобы визуализировать это распределение.\n",
        "2. **Анализ Частоты Рекомендаций Курсов**. Мы можем проверить, какие курсы рекомендуются чаще всего. Это поможет выявить, есть ли курсы, которые чрезмерно предпочтительны моделью."
      ]
    },
    {
      "cell_type": "code",
      "execution_count": 95,
      "metadata": {},
      "outputs": [],
      "source": [
        "# Загрузим датасет\n",
        "recommendations_df = pd.read_csv('top_n_recommendations.csv')"
      ]
    },
    {
      "cell_type": "code",
      "execution_count": 97,
      "metadata": {},
      "outputs": [
        {
          "data": {
            "image/png": "[encoded data removed]",
            "text/plain": [
              "<Figure size 1000x600 with 1 Axes>"
            ]
          },
          "metadata": {},
          "output_type": "display_data"
        }
      ],
      "source": [
        "# Анализ распределения оценок\n",
        "plt.figure(figsize=(10, 6))\n",
        "recommendations_df['predicted_score'].hist(bins=20)\n",
        "plt.title('Распределение предсказанных оценок')\n",
        "plt.xlabel('Оценка')\n",
        "plt.ylabel('Количество рекомендаций')\n",
        "plt.show()"
      ]
    },
    {
      "cell_type": "markdown",
      "metadata": {},
      "source": [
        "По графику:\n",
        "- Нормальное распределение: Оценки приближаются к нормальному распределению, сосредотачиваясь вокруг среднего значения. Это может указывать на то, что модель дает умеренные предсказания без чрезмерных крайностей в оценках. Данный график вообще не похож на распределение в разведовательном анализе, где было два пика по краям.\n",
        "- Центр тяжести: Большинство предсказанных оценок сконцентрированы в диапазоне примерно от 50 до 70, что может свидетельствовать о том, что модель в целом не склонна к выдаче крайне высоких или низких оценок.\n",
        "- Пик распределения: Пиковые значения гистограммы, кажется, находятся в районе 55-65, что предполагает наиболее часто предсказываемую оценку моделью.\n",
        "- Отсутствие крайних значений: На графике видно, что мало оценок выше 70 и ниже 40, что может свидетельствовать о некотором сжатии предсказаний (отсутствие большой вариабельности)."
      ]
    },
    {
      "cell_type": "code",
      "execution_count": 106,
      "metadata": {},
      "outputs": [
        {
          "name": "stdout",
          "output_type": "stream",
          "text": [
            "Топ-20 наиболее высоко оцененных курсов:\n",
            "course_id  course_nm                                                                 \n",
            "45.00      Развитие коммуникативных навыков в клиентском обслуживании                    95\n",
            "84.00      Управление клиентским опытом: Интеграция процессов и технологий               89\n",
            "34.00      Создание эффективных обучающих материалов для клиентов                        82\n",
            "20.00      Основы психологии клиентского обслуживания                                    78\n",
            "43.00      Управление ожиданиями и эмоциями клиентов в условиях кризиса                  63\n",
            "7.00       Построение долгосрочных отношений с клиентами: Техники и методы               63\n",
            "10.00      Использование технологий в клиентском обслуживании: Лучшие практики           62\n",
            "88.00      Создание индивидуальных планов обслуживания для ключевых клиентов             55\n",
            "39.00      Развитие навыков активного прослушивания в клиентском сервисе                 45\n",
            "1.00       Эффективное взаимодействие с клиентами: Техники и стратегии                   44\n",
            "56.00      Создание позитивного рабочего окружения в клиентском сервисе                  41\n",
            "8.00       Развитие навыков эмпатии в клиентском обслуживании                            40\n",
            "83.00      Создание клиентоцентричной культуры в компании                                37\n",
            "66.00      Использование storytelling в клиентском обслуживании: Привлечение внимания    35\n",
            "62.00      Эффективное управление стрессом в клиентском сервисе                          34\n",
            "16.00      Управление клиентскими ожиданиями: Ключевые аспекты                           34\n",
            "55.00      Этика и профессиональное поведение в клиентском обслуживании                  33\n",
            "67.00      Эффективное управление жалобами и конфликтами с клиентами                     32\n",
            "14.00      Повышение лояльности клиентов через качественное обслуживание                 28\n",
            "79.00      Использование техник активного слушания в общении с клиентами                 27\n",
            "Name: count, dtype: int64\n"
          ]
        }
      ],
      "source": [
        "# Находим топ рекомендацию для каждого сотрудника\n",
        "top_recommendations_by_employee = recommendations_df.loc[recommendations_df.groupby('employee_id')['predicted_score'].idxmax()]\n",
        "\n",
        "# Подсчет частоты встречаемости каждого курса среди топ рекомендаций\n",
        "top_course_counts = top_recommendations_by_employee[['course_id','course_nm']].value_counts()\n",
        "\n",
        "# Вывод топ-10 курсов\n",
        "print(\"Топ-20 наиболее высоко оцененных курсов:\")\n",
        "print(top_course_counts.head(20))"
      ]
    },
    {
      "cell_type": "markdown",
      "metadata": {},
      "source": [
        "**Выводы:**\n",
        "\n",
        "- Соответствие с анализом важности курсов: В топе рекомендаций есть курсы, соответствующие самым важным направлениям, упомянутым в анализе: \n",
        "    - Коммуникативные навыки и этика: Курсы, такие как \"Развитие коммуникативных навыков в клиентском обслуживании\" и \"Этика и профессиональное поведение в клиентском обслуживании\", находятся в топе рекомендаций, что соответствует акценту на важность этих навыков в анализе.\n",
        "\n",
        "- Профессиональное поведение и управление клиентским опытом: Курсы по управлению клиентским опытом и кризисам также присутствуют в списке, что отражает стремление улучшить взаимодействие с клиентами и управление ожиданиями.\n",
        "\n",
        "- Тренды и новые технологии: Темы, связанные с интеграцией процессов и технологий, например, \"Управление клиентским опытом: Интеграция процессов и технологий\", выделяются в рекомендациях, что указывает на важность адаптации к новым трендам и технологиям в сфере обслуживания клиентов.\n",
        "\n",
        "- Разнообразие предложений: Список топ-20 рекомендаций включает разнообразные темы, что может свидетельствовать о попытке модели обеспечить комплексный подход к обучению сотрудников, покрывающий широкий спектр компетенций.\n",
        "\n",
        "- Недостаток персонализации: Наличие повторяющихся курсов для разных сотрудников может указывать на недостаток персонализации в рекомендациях. Это может быть связано с моделью, которая склонна предпочитать определенные курсы независимо от индивидуальных характеристик сотрудников.\n",
        "\n",
        "\n",
        "В дальнейшем возможно лучше сосредоточиться на двух направлениях:\n",
        "- Повышение точности предсказания рекомендаций\n",
        "\n",
        "- Персонализация: надо попробовать поискать способы улучшения персонализации модели, чтобы удостовериться, что рекомендации соответствуют индивидуальным потребностям и интересам каждого сотрудника.\n",
        "\n",
        "- Баланс тем: возможно надо стремиться к балансу между фундаментальными навыками и новыми технологиями, чтобы обеспечить сотрудникам комплексное и актуальное образование."
      ]
    },
    {
      "cell_type": "markdown",
      "metadata": {},
      "source": []
    }
  ],
  "metadata": {
    "colab": {
      "provenance": []
    },
    "kernelspec": {
      "display_name": "Python 3",
      "name": "python3"
    },
    "language_info": {
      "codemirror_mode": {
        "name": "ipython",
        "version": 3
      },
      "file_extension": ".py",
      "mimetype": "text/x-python",
      "name": "python",
      "nbconvert_exporter": "python",
      "pygments_lexer": "ipython3",
      "version": "3.9.12"
    }
  },
  "nbformat": 4,
  "nbformat_minor": 0
}
