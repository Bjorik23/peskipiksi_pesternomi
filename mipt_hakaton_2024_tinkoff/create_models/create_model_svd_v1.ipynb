{
 "cells": [
  {
   "cell_type": "markdown",
   "metadata": {},
   "source": [
    "# Подготовка данных и обучение"
   ]
  },
  {
   "cell_type": "code",
   "execution_count": 1,
   "metadata": {},
   "outputs": [],
   "source": [
    "# Импортируем библиотеки\n",
    "import pandas as pd\n",
    "import numpy as np"
   ]
  },
  {
   "cell_type": "markdown",
   "metadata": {},
   "source": [
    "### Использовать буду только самые необходимые признаки.\n",
    "1. Оценка разговора + флаг использования продукта из таблицы communications\n",
    "2. Прохождение курсов пользователями из таблицы courses_passing"
   ]
  },
  {
   "cell_type": "code",
   "execution_count": 2,
   "metadata": {},
   "outputs": [],
   "source": [
    "# Загружаем два датасета\n",
    "communications = pd.read_csv(\n",
    "    \"data/communications.csv\", \\\n",
    "        sep=';', dtype={'employee_id': 'category'}, parse_dates=['communication_dt'])\n",
    "courses_passing = pd.read_csv(\n",
    "    \"data/courses_passing.csv\", \\\n",
    "        sep=';', dtype={'employee_id': 'category'}, parse_dates=['start_dt', 'end_dt'])"
   ]
  },
  {
   "cell_type": "markdown",
   "metadata": {},
   "source": [
    "### Идея заключается в следующем.\n",
    "1. Отберём тех пользователей, которые курс окончили.\n",
    "2. Зададим промежуток времени до курса и после курса.\n",
    "3. Создадим взвешенную меру эффективности курса.\n",
    "4. Разделим датасет по мере эффективности каждого курса <br>для каждого человека на \"до\" и \"после\"\n",
    "5. Посчитаем разницу\n",
    "6. Составим матрицу оценок\n",
    "7. Обучим SVD"
   ]
  },
  {
   "cell_type": "code",
   "execution_count": 3,
   "metadata": {},
   "outputs": [],
   "source": [
    "# Предлагаю считать только тех, кто курсы окончил\n",
    "courses_passed = courses_passing[~courses_passing['end_dt'].isnull()]\n",
    "cols_to_include = ['start_dt', 'course_id', 'employee_id', 'end_dt']\n",
    "courses_passed = courses_passed.loc[:, cols_to_include]"
   ]
  },
  {
   "cell_type": "code",
   "execution_count": 4,
   "metadata": {},
   "outputs": [],
   "source": [
    "# Создаём промежуток размером в месяц до начала курса\n",
    "courses_passed['month_before'] = courses_passed['start_dt'] \\\n",
    "    - pd.DateOffset(days=30)\n",
    "# Создаём промежуток размером в месяц после окончания курса\n",
    "courses_passed['month_after'] = courses_passed['end_dt'] \\\n",
    "    + pd.DateOffset(days=30)"
   ]
  },
  {
   "cell_type": "code",
   "execution_count": 5,
   "metadata": {},
   "outputs": [],
   "source": [
    "# Удаляем неинформативный атрибут\n",
    "communications = communications.drop('communication_id', axis=1)"
   ]
  },
  {
   "cell_type": "code",
   "execution_count": 6,
   "metadata": {},
   "outputs": [],
   "source": [
    "# Предлагаю считать оценку разговора по следующей формуле\n",
    "communications['weighted_mark'] = \\\n",
    "    communications['util_flg'] * 100 * 0.5 \\\n",
    "    + communications['communication_score'] * 0.5\n",
    "# Так мы учтём влияние прихода клиента в общей оценке,\n",
    "# как немаловажный показатель эффективности труда."
   ]
  },
  {
   "cell_type": "code",
   "execution_count": 7,
   "metadata": {},
   "outputs": [],
   "source": [
    "# Объединяем две таблицы. Получаем для каждой оценки интервалы\n",
    "# которые сможем использовать как \"ДО\" и \"ПОСЛЕ\"\n",
    "merged = communications \\\n",
    "    .merge(courses_passed, how='inner', on='employee_id')"
   ]
  },
  {
   "cell_type": "code",
   "execution_count": 8,
   "metadata": {},
   "outputs": [],
   "source": [
    "# Удалим ненужное\n",
    "del communications, courses_passed"
   ]
  },
  {
   "cell_type": "code",
   "execution_count": 9,
   "metadata": {},
   "outputs": [
    {
     "data": {
      "text/html": [
       "<div>\n",
       "<style scoped>\n",
       "    .dataframe tbody tr th:only-of-type {\n",
       "        vertical-align: middle;\n",
       "    }\n",
       "\n",
       "    .dataframe tbody tr th {\n",
       "        vertical-align: top;\n",
       "    }\n",
       "\n",
       "    .dataframe thead th {\n",
       "        text-align: right;\n",
       "    }\n",
       "</style>\n",
       "<table border=\"1\" class=\"dataframe\">\n",
       "  <thead>\n",
       "    <tr style=\"text-align: right;\">\n",
       "      <th></th>\n",
       "      <th>communication_dt</th>\n",
       "      <th>employee_id</th>\n",
       "      <th>weighted_mark</th>\n",
       "      <th>start_dt</th>\n",
       "      <th>course_id</th>\n",
       "      <th>end_dt</th>\n",
       "      <th>month_before</th>\n",
       "      <th>month_after</th>\n",
       "    </tr>\n",
       "  </thead>\n",
       "  <tbody>\n",
       "    <tr>\n",
       "      <th>0</th>\n",
       "      <td>2023-02-07</td>\n",
       "      <td>269d837a-fada-308d-d4ae-ab28ca2d57e4</td>\n",
       "      <td>42.5</td>\n",
       "      <td>2023-06-25</td>\n",
       "      <td>79</td>\n",
       "      <td>2023-07-05</td>\n",
       "      <td>2023-05-26</td>\n",
       "      <td>2023-08-04</td>\n",
       "    </tr>\n",
       "    <tr>\n",
       "      <th>1</th>\n",
       "      <td>2023-02-07</td>\n",
       "      <td>269d837a-fada-308d-d4ae-ab28ca2d57e4</td>\n",
       "      <td>42.5</td>\n",
       "      <td>2023-07-06</td>\n",
       "      <td>74</td>\n",
       "      <td>2023-07-15</td>\n",
       "      <td>2023-06-06</td>\n",
       "      <td>2023-08-14</td>\n",
       "    </tr>\n",
       "    <tr>\n",
       "      <th>2</th>\n",
       "      <td>2023-02-07</td>\n",
       "      <td>269d837a-fada-308d-d4ae-ab28ca2d57e4</td>\n",
       "      <td>42.5</td>\n",
       "      <td>2023-06-03</td>\n",
       "      <td>16</td>\n",
       "      <td>2023-06-09</td>\n",
       "      <td>2023-05-04</td>\n",
       "      <td>2023-07-09</td>\n",
       "    </tr>\n",
       "    <tr>\n",
       "      <th>3</th>\n",
       "      <td>2023-02-07</td>\n",
       "      <td>269d837a-fada-308d-d4ae-ab28ca2d57e4</td>\n",
       "      <td>42.5</td>\n",
       "      <td>2023-07-13</td>\n",
       "      <td>8</td>\n",
       "      <td>2023-07-20</td>\n",
       "      <td>2023-06-13</td>\n",
       "      <td>2023-08-19</td>\n",
       "    </tr>\n",
       "    <tr>\n",
       "      <th>4</th>\n",
       "      <td>2023-02-07</td>\n",
       "      <td>269d837a-fada-308d-d4ae-ab28ca2d57e4</td>\n",
       "      <td>42.5</td>\n",
       "      <td>2023-04-09</td>\n",
       "      <td>42</td>\n",
       "      <td>2023-04-15</td>\n",
       "      <td>2023-03-10</td>\n",
       "      <td>2023-05-15</td>\n",
       "    </tr>\n",
       "  </tbody>\n",
       "</table>\n",
       "</div>"
      ],
      "text/plain": [
       "  communication_dt                           employee_id  weighted_mark  \\\n",
       "0       2023-02-07  269d837a-fada-308d-d4ae-ab28ca2d57e4           42.5   \n",
       "1       2023-02-07  269d837a-fada-308d-d4ae-ab28ca2d57e4           42.5   \n",
       "2       2023-02-07  269d837a-fada-308d-d4ae-ab28ca2d57e4           42.5   \n",
       "3       2023-02-07  269d837a-fada-308d-d4ae-ab28ca2d57e4           42.5   \n",
       "4       2023-02-07  269d837a-fada-308d-d4ae-ab28ca2d57e4           42.5   \n",
       "\n",
       "    start_dt  course_id     end_dt month_before month_after  \n",
       "0 2023-06-25         79 2023-07-05   2023-05-26  2023-08-04  \n",
       "1 2023-07-06         74 2023-07-15   2023-06-06  2023-08-14  \n",
       "2 2023-06-03         16 2023-06-09   2023-05-04  2023-07-09  \n",
       "3 2023-07-13          8 2023-07-20   2023-06-13  2023-08-19  \n",
       "4 2023-04-09         42 2023-04-15   2023-03-10  2023-05-15  "
      ]
     },
     "execution_count": 9,
     "metadata": {},
     "output_type": "execute_result"
    }
   ],
   "source": [
    "# Удалим более ненужные признаки\n",
    "merged = merged \\\n",
    "    .drop(['communication_score', 'util_flg'], axis=1)\n",
    "# Просмотр первых нескольких строк объединенной таблицы\n",
    "merged.head()"
   ]
  },
  {
   "cell_type": "code",
   "execution_count": 10,
   "metadata": {},
   "outputs": [],
   "source": [
    "# Коммуникации, которые были после курса и в пределах месяца\n",
    "# следующего как контрольный после конца курса.\n",
    "is_after = (merged['communication_dt'] > merged['end_dt'])\\\n",
    "    & (merged['communication_dt'] < merged['month_after'])\n",
    "    \n",
    "# Коммуникации, которые были до курса и в пределах месяца\n",
    "# следующего как контрольный до начала курса.\n",
    "is_before = (merged['communication_dt'] < merged['start_dt']) \\\n",
    "    & (merged['communication_dt'] > merged['month_before'])"
   ]
  },
  {
   "cell_type": "code",
   "execution_count": 11,
   "metadata": {},
   "outputs": [],
   "source": [
    "# Считаем среднюю оценку до курса и после\n",
    "mark_after_course = merged[is_after] \\\n",
    "    .groupby(['employee_id', 'course_id'])['weighted_mark'] \\\n",
    "        .agg('mean')\n",
    "mark_before_course = merged[is_before] \\\n",
    "    .groupby(['employee_id', 'course_id'])['weighted_mark'] \\\n",
    "        .agg('mean')"
   ]
  },
  {
   "cell_type": "code",
   "execution_count": 12,
   "metadata": {},
   "outputs": [
    {
     "data": {
      "text/html": [
       "<div>\n",
       "<style scoped>\n",
       "    .dataframe tbody tr th:only-of-type {\n",
       "        vertical-align: middle;\n",
       "    }\n",
       "\n",
       "    .dataframe tbody tr th {\n",
       "        vertical-align: top;\n",
       "    }\n",
       "\n",
       "    .dataframe thead th {\n",
       "        text-align: right;\n",
       "    }\n",
       "</style>\n",
       "<table border=\"1\" class=\"dataframe\">\n",
       "  <thead>\n",
       "    <tr style=\"text-align: right;\">\n",
       "      <th>course_id</th>\n",
       "      <th>0</th>\n",
       "      <th>1</th>\n",
       "      <th>2</th>\n",
       "      <th>3</th>\n",
       "      <th>4</th>\n",
       "      <th>5</th>\n",
       "      <th>6</th>\n",
       "      <th>7</th>\n",
       "      <th>8</th>\n",
       "      <th>9</th>\n",
       "      <th>...</th>\n",
       "      <th>82</th>\n",
       "      <th>83</th>\n",
       "      <th>84</th>\n",
       "      <th>85</th>\n",
       "      <th>86</th>\n",
       "      <th>87</th>\n",
       "      <th>88</th>\n",
       "      <th>89</th>\n",
       "      <th>90</th>\n",
       "      <th>91</th>\n",
       "    </tr>\n",
       "    <tr>\n",
       "      <th>employee_id</th>\n",
       "      <th></th>\n",
       "      <th></th>\n",
       "      <th></th>\n",
       "      <th></th>\n",
       "      <th></th>\n",
       "      <th></th>\n",
       "      <th></th>\n",
       "      <th></th>\n",
       "      <th></th>\n",
       "      <th></th>\n",
       "      <th></th>\n",
       "      <th></th>\n",
       "      <th></th>\n",
       "      <th></th>\n",
       "      <th></th>\n",
       "      <th></th>\n",
       "      <th></th>\n",
       "      <th></th>\n",
       "      <th></th>\n",
       "      <th></th>\n",
       "      <th></th>\n",
       "    </tr>\n",
       "  </thead>\n",
       "  <tbody>\n",
       "    <tr>\n",
       "      <th>00411460-f7c9-2d21-24a6-7ea0f4cb5f85</th>\n",
       "      <td>NaN</td>\n",
       "      <td>NaN</td>\n",
       "      <td>NaN</td>\n",
       "      <td>NaN</td>\n",
       "      <td>NaN</td>\n",
       "      <td>NaN</td>\n",
       "      <td>NaN</td>\n",
       "      <td>-0.593618</td>\n",
       "      <td>-0.60589</td>\n",
       "      <td>NaN</td>\n",
       "      <td>...</td>\n",
       "      <td>NaN</td>\n",
       "      <td>NaN</td>\n",
       "      <td>NaN</td>\n",
       "      <td>NaN</td>\n",
       "      <td>NaN</td>\n",
       "      <td>NaN</td>\n",
       "      <td>NaN</td>\n",
       "      <td>NaN</td>\n",
       "      <td>NaN</td>\n",
       "      <td>NaN</td>\n",
       "    </tr>\n",
       "    <tr>\n",
       "      <th>006f52e9-102a-8d3b-e2fe-5614f42ba989</th>\n",
       "      <td>NaN</td>\n",
       "      <td>NaN</td>\n",
       "      <td>NaN</td>\n",
       "      <td>NaN</td>\n",
       "      <td>NaN</td>\n",
       "      <td>NaN</td>\n",
       "      <td>NaN</td>\n",
       "      <td>NaN</td>\n",
       "      <td>NaN</td>\n",
       "      <td>NaN</td>\n",
       "      <td>...</td>\n",
       "      <td>NaN</td>\n",
       "      <td>NaN</td>\n",
       "      <td>NaN</td>\n",
       "      <td>NaN</td>\n",
       "      <td>NaN</td>\n",
       "      <td>1.588911</td>\n",
       "      <td>NaN</td>\n",
       "      <td>NaN</td>\n",
       "      <td>NaN</td>\n",
       "      <td>NaN</td>\n",
       "    </tr>\n",
       "    <tr>\n",
       "      <th>00a03ec6-533c-a7f5-c644-d198d815329c</th>\n",
       "      <td>NaN</td>\n",
       "      <td>NaN</td>\n",
       "      <td>NaN</td>\n",
       "      <td>NaN</td>\n",
       "      <td>NaN</td>\n",
       "      <td>NaN</td>\n",
       "      <td>NaN</td>\n",
       "      <td>NaN</td>\n",
       "      <td>NaN</td>\n",
       "      <td>NaN</td>\n",
       "      <td>...</td>\n",
       "      <td>NaN</td>\n",
       "      <td>-5.523111</td>\n",
       "      <td>NaN</td>\n",
       "      <td>NaN</td>\n",
       "      <td>NaN</td>\n",
       "      <td>NaN</td>\n",
       "      <td>NaN</td>\n",
       "      <td>7.075201</td>\n",
       "      <td>NaN</td>\n",
       "      <td>NaN</td>\n",
       "    </tr>\n",
       "    <tr>\n",
       "      <th>00ac8ed3-b432-7bdd-4ebb-ebcb2ba10a00</th>\n",
       "      <td>NaN</td>\n",
       "      <td>NaN</td>\n",
       "      <td>NaN</td>\n",
       "      <td>NaN</td>\n",
       "      <td>NaN</td>\n",
       "      <td>NaN</td>\n",
       "      <td>NaN</td>\n",
       "      <td>NaN</td>\n",
       "      <td>NaN</td>\n",
       "      <td>NaN</td>\n",
       "      <td>...</td>\n",
       "      <td>NaN</td>\n",
       "      <td>NaN</td>\n",
       "      <td>NaN</td>\n",
       "      <td>NaN</td>\n",
       "      <td>NaN</td>\n",
       "      <td>NaN</td>\n",
       "      <td>NaN</td>\n",
       "      <td>NaN</td>\n",
       "      <td>NaN</td>\n",
       "      <td>NaN</td>\n",
       "    </tr>\n",
       "    <tr>\n",
       "      <th>00e26af6-ac3b-1c1c-49d7-c3d79c60d000</th>\n",
       "      <td>NaN</td>\n",
       "      <td>NaN</td>\n",
       "      <td>NaN</td>\n",
       "      <td>NaN</td>\n",
       "      <td>NaN</td>\n",
       "      <td>NaN</td>\n",
       "      <td>NaN</td>\n",
       "      <td>NaN</td>\n",
       "      <td>NaN</td>\n",
       "      <td>NaN</td>\n",
       "      <td>...</td>\n",
       "      <td>NaN</td>\n",
       "      <td>0.128442</td>\n",
       "      <td>NaN</td>\n",
       "      <td>NaN</td>\n",
       "      <td>NaN</td>\n",
       "      <td>NaN</td>\n",
       "      <td>NaN</td>\n",
       "      <td>NaN</td>\n",
       "      <td>NaN</td>\n",
       "      <td>NaN</td>\n",
       "    </tr>\n",
       "  </tbody>\n",
       "</table>\n",
       "<p>5 rows × 92 columns</p>\n",
       "</div>"
      ],
      "text/plain": [
       "course_id                             0   1   2   3   4   5   6         7   \\\n",
       "employee_id                                                                  \n",
       "00411460-f7c9-2d21-24a6-7ea0f4cb5f85 NaN NaN NaN NaN NaN NaN NaN -0.593618   \n",
       "006f52e9-102a-8d3b-e2fe-5614f42ba989 NaN NaN NaN NaN NaN NaN NaN       NaN   \n",
       "00a03ec6-533c-a7f5-c644-d198d815329c NaN NaN NaN NaN NaN NaN NaN       NaN   \n",
       "00ac8ed3-b432-7bdd-4ebb-ebcb2ba10a00 NaN NaN NaN NaN NaN NaN NaN       NaN   \n",
       "00e26af6-ac3b-1c1c-49d7-c3d79c60d000 NaN NaN NaN NaN NaN NaN NaN       NaN   \n",
       "\n",
       "course_id                                  8   9   ...  82        83  84  85  \\\n",
       "employee_id                                        ...                         \n",
       "00411460-f7c9-2d21-24a6-7ea0f4cb5f85 -0.60589 NaN  ... NaN       NaN NaN NaN   \n",
       "006f52e9-102a-8d3b-e2fe-5614f42ba989      NaN NaN  ... NaN       NaN NaN NaN   \n",
       "00a03ec6-533c-a7f5-c644-d198d815329c      NaN NaN  ... NaN -5.523111 NaN NaN   \n",
       "00ac8ed3-b432-7bdd-4ebb-ebcb2ba10a00      NaN NaN  ... NaN       NaN NaN NaN   \n",
       "00e26af6-ac3b-1c1c-49d7-c3d79c60d000      NaN NaN  ... NaN  0.128442 NaN NaN   \n",
       "\n",
       "course_id                             86        87  88        89  90  91  \n",
       "employee_id                                                               \n",
       "00411460-f7c9-2d21-24a6-7ea0f4cb5f85 NaN       NaN NaN       NaN NaN NaN  \n",
       "006f52e9-102a-8d3b-e2fe-5614f42ba989 NaN  1.588911 NaN       NaN NaN NaN  \n",
       "00a03ec6-533c-a7f5-c644-d198d815329c NaN       NaN NaN  7.075201 NaN NaN  \n",
       "00ac8ed3-b432-7bdd-4ebb-ebcb2ba10a00 NaN       NaN NaN       NaN NaN NaN  \n",
       "00e26af6-ac3b-1c1c-49d7-c3d79c60d000 NaN       NaN NaN       NaN NaN NaN  \n",
       "\n",
       "[5 rows x 92 columns]"
      ]
     },
     "execution_count": 12,
     "metadata": {},
     "output_type": "execute_result"
    }
   ],
   "source": [
    "# Считаем разницу\n",
    "diff_df = (mark_after_course - mark_before_course)\n",
    "diff_df = diff_df.unstack()\n",
    "# Смотрим что получилось\n",
    "diff_df.head()"
   ]
  },
  {
   "cell_type": "markdown",
   "metadata": {},
   "source": [
    "### Небольшой subtotal.\n",
    "1. Мы вычислили средние взвешенные оценки разговоров пользователей.\n",
    "2. Посчитали разницу во взвешенных оценках в промежутке \"до\" и \"после\"\n",
    "\n",
    "Теперь будем приводить к единому масштабу."
   ]
  },
  {
   "cell_type": "code",
   "execution_count": 13,
   "metadata": {},
   "outputs": [],
   "source": [
    "def scale_row(row):\n",
    "    min_val = row.min()\n",
    "    max_val = row.max()\n",
    "    if pd.isna(min_val) or pd.isna(max_val) or min_val == max_val:\n",
    "        return row\n",
    "    else:\n",
    "        return (row - min_val) / (max_val - min_val) * 9 + 1\n",
    "\n",
    "\n",
    "# Применяем функцию к каждой строке\n",
    "diff_df = diff_df.apply(scale_row, axis=1)\n",
    "\n",
    "diff_df = diff_df.fillna(0)"
   ]
  },
  {
   "cell_type": "code",
   "execution_count": 14,
   "metadata": {},
   "outputs": [
    {
     "data": {
      "text/plain": [
       "0.0"
      ]
     },
     "execution_count": 14,
     "metadata": {},
     "output_type": "execute_result"
    }
   ],
   "source": [
    "diff_df.iloc[0, :].min()"
   ]
  },
  {
   "cell_type": "code",
   "execution_count": 15,
   "metadata": {},
   "outputs": [],
   "source": [
    "# удалим лишнее из памяти\n",
    "del merged"
   ]
  },
  {
   "cell_type": "code",
   "execution_count": 16,
   "metadata": {},
   "outputs": [
    {
     "data": {
      "text/plain": [
       "array([[-2.82191214e-16,  7.12342463e-16,  3.90789266e-15, ...,\n",
       "        -1.09997792e-15,  3.08067165e-15,  4.22613723e-15],\n",
       "       [ 1.53976973e-15,  5.91474004e-15, -2.70513027e-15, ...,\n",
       "        -3.65419843e-15,  6.96291395e-15, -7.36315288e-15],\n",
       "       [-4.95420108e-15, -5.22600210e-15, -3.57512888e-15, ...,\n",
       "         7.36230940e+00,  2.81300244e-15, -3.19413268e-15],\n",
       "       ...,\n",
       "       [-2.51334263e-15,  6.64569893e-15, -5.04041366e-15, ...,\n",
       "         2.65953792e-15,  1.75578740e-17,  5.83010114e-15],\n",
       "       [ 1.16813338e-16, -1.28810483e-15,  3.60825193e-16, ...,\n",
       "         4.69463394e+00,  4.67574125e-15,  1.45903078e-15],\n",
       "       [ 1.99729998e-15,  1.12278766e-15,  3.66431004e-15, ...,\n",
       "        -1.28184750e-15,  5.51799596e-15, -2.85427817e-15]])"
      ]
     },
     "execution_count": 16,
     "metadata": {},
     "output_type": "execute_result"
    }
   ],
   "source": [
    "# Выполнение SVD разложения\n",
    "U, sigma, Vt = np.linalg.svd(diff_df, full_matrices=False)\n",
    "\n",
    "# Восстановление оценок\n",
    "reconstructed_data = np.dot(U[:, :len(sigma)] * sigma, Vt)\n",
    "reconstructed_data"
   ]
  },
  {
   "cell_type": "code",
   "execution_count": 17,
   "metadata": {},
   "outputs": [],
   "source": [
    "svd_matrix = pd.DataFrame(data=reconstructed_data,\n",
    "             index=diff_df.index, columns=diff_df.columns)"
   ]
  },
  {
   "cell_type": "code",
   "execution_count": 18,
   "metadata": {},
   "outputs": [
    {
     "name": "stdout",
     "output_type": "stream",
     "text": [
      "Mean Squared Error (MSE): 2.453384142948036e-29\n",
      "Mean Absolute Error (MAE): 2.4874131864290465e-15\n"
     ]
    }
   ],
   "source": [
    "from sklearn.metrics import mean_squared_error, mean_absolute_error\n",
    "# Вычисление среднеквадратичной ошибки\n",
    "mse = mean_squared_error(diff_df, reconstructed_data)\n",
    "print(\"Mean Squared Error (MSE):\", mse)\n",
    "\n",
    "# Вычисление средней абсолютной ошибки\n",
    "mae = mean_absolute_error(diff_df, reconstructed_data)\n",
    "print(\"Mean Absolute Error (MAE):\", mae)"
   ]
  },
  {
   "cell_type": "markdown",
   "metadata": {},
   "source": [
    "#### Обе метрики близки к нулю, поэтому модель довольно хорошо реконструировала исходные данные, а значит может быть использована в качестве рекомендаций"
   ]
  },
  {
   "cell_type": "code",
   "execution_count": 19,
   "metadata": {},
   "outputs": [
    {
     "data": {
      "text/plain": [
       "course_id\n",
       "75    91\n",
       "69    90\n",
       "22    89\n",
       "9     88\n",
       "24    87\n",
       "      ..\n",
       "71     4\n",
       "53     3\n",
       "72     2\n",
       "37     1\n",
       "28     0\n",
       "Name: 00411460-f7c9-2d21-24a6-7ea0f4cb5f85, Length: 92, dtype: int64"
      ]
     },
     "execution_count": 19,
     "metadata": {},
     "output_type": "execute_result"
    }
   ],
   "source": [
    "# Рекомендации топ рекомендаций для первого пользователя\n",
    "svd_matrix.iloc[0, :].argsort().sort_values(ascending=False)"
   ]
  },
  {
   "cell_type": "markdown",
   "metadata": {},
   "source": [
    "### Интерпретация\n",
    "Для пользователя под id \"00411460-f7c9-2d21-24a6-7ea0f4cb5f85\" наиболее рекомендуемый курс под id 75, на втором месте под id 69 и так далее"
   ]
  }
 ],
 "metadata": {
  "kernelspec": {
   "display_name": "Python 3",
   "language": "python",
   "name": "python3"
  },
  "language_info": {
   "codemirror_mode": {
    "name": "ipython",
    "version": 3
   },
   "file_extension": ".py",
   "mimetype": "text/x-python",
   "name": "python",
   "nbconvert_exporter": "python",
   "pygments_lexer": "ipython3",
   "version": "3.12.1"
  }
 },
 "nbformat": 4,
 "nbformat_minor": 2
}
